{
 "cells": [
  {
   "cell_type": "code",
   "execution_count": 1,
   "id": "73a04f95",
   "metadata": {},
   "outputs": [
    {
     "name": "stdout",
     "output_type": "stream",
     "text": [
      "['B', 'C', 'D']\n"
     ]
    },
    {
     "name": "stderr",
     "output_type": "stream",
     "text": [
      "/usr/lib/python3/dist-packages/requests/__init__.py:89: RequestsDependencyWarning: urllib3 (1.26.8) or chardet (3.0.4) doesn't match a supported version!\n",
      "  warnings.warn(\"urllib3 ({}) or chardet ({}) doesn't match a supported \"\n"
     ]
    }
   ],
   "source": [
    "import os\n",
    "from selenium.webdriver.chrome.options import Options\n",
    "from selenium.webdriver.chrome.service import Service\n",
    "from selenium import webdriver\n",
    "import pandas as pd\n",
    "import scrape\n",
    "import time\n",
    "import requests"
   ]
  },
  {
   "cell_type": "code",
   "execution_count": 2,
   "id": "71254ab8",
   "metadata": {},
   "outputs": [],
   "source": [
    "options = Options()\n",
    "options.headless = True\n",
    "service = Service(executable_path=\"chromium.chromedriver\")\n",
    "driver = webdriver.Chrome(options=options, service=service)\n",
    "start_url = \"http://35.226.216.13:5000/Node_1.html\""
   ]
  },
  {
   "cell_type": "code",
   "execution_count": 3,
   "id": "12f15897",
   "metadata": {},
   "outputs": [
    {
     "name": "stdout",
     "output_type": "stream",
     "text": [
      "['http://35.226.216.13:5000/Node_2.html', 'http://35.226.216.13:5000/Node_4.html']\n"
     ]
    }
   ],
   "source": [
    "\n",
    "s = scrape.WebSearcher(driver)\n",
    "print(s.go(start_url))"
   ]
  },
  {
   "cell_type": "code",
   "execution_count": 4,
   "id": "3e40c630",
   "metadata": {},
   "outputs": [
    {
     "name": "stdout",
     "output_type": "stream",
     "text": [
      "['http://35.226.216.13:5000/Node_2.html', 'http://35.226.216.13:5000/Node_4.html']\n"
     ]
    }
   ],
   "source": [
    "print(s.go(start_url))"
   ]
  },
  {
   "cell_type": "code",
   "execution_count": 5,
   "id": "173ddbbc",
   "metadata": {},
   "outputs": [],
   "source": [
    "\n",
    "s.bfs_search(start_url)"
   ]
  },
  {
   "cell_type": "code",
   "execution_count": 6,
   "id": "275a61c9",
   "metadata": {},
   "outputs": [
    {
     "name": "stdout",
     "output_type": "stream",
     "text": [
      "    clue   latitude   longitude                          description\n",
      "0      1  43.089034  -89.416128              Picnic Point in Madison\n",
      "1      7  38.105507  126.910613               Silver Beach in Hawaii\n",
      "2      1  65.044901  -16.712836  Shore of a Volcanic Lake in Iceland\n",
      "3      3  48.860945    2.335773                  The Louvre in Paris\n",
      "4      8  51.180315   -1.829659                 Stonehenge in the UK\n",
      "5      5  37.434183 -122.321990      Redwood forest in San Francisco\n",
      "6      2  27.987586   86.925002                 Mt. Everest in Nepal\n",
      "7      4  34.134117 -118.321495                 Hollywood Sign in LA\n",
      "8      5  38.655100   90.061800                 Cahokia Mounds in IL\n",
      "9      9  40.748400   73.985700          Empire State Building in NY\n",
      "10     4  29.975300   31.137600        Great Sphinx of Giza in Egypt\n",
      "11     1  47.557600   10.749800     Neuschwanstein Castle in Germany\n",
      "12     5  38.624700   90.184800        The Gateway Arch in St. Louis\n",
      "13     3  30.328500   35.444400                      Petra in Jordan\n",
      "14     2  41.480800   82.683400                    Cedar Point in OH\n",
      "15     6  43.070010  -89.409450          Quick Trip on Monroe Street\n"
     ]
    }
   ],
   "source": [
    "print(s.table())"
   ]
  },
  {
   "cell_type": "code",
   "execution_count": 7,
   "id": "645df782",
   "metadata": {},
   "outputs": [
    {
     "data": {
      "text/plain": [
       "'1713852459415326'"
      ]
     },
     "execution_count": 7,
     "metadata": {},
     "output_type": "execute_result"
    }
   ],
   "source": [
    "password = 0\n",
    "s.table()['clue']\n",
    "for num in s.table()['clue']:\n",
    "    password = password * 10 + num \n",
    "password = str(password)\n",
    "password"
   ]
  },
  {
   "cell_type": "code",
   "execution_count": 8,
   "id": "c29a366b",
   "metadata": {},
   "outputs": [
    {
     "data": {
      "text/plain": [
       "<selenium.webdriver.remote.webelement.WebElement (session=\"f919dbc9431424a26089bdd49ae42013\", element=\"5217fe14-3dcc-4815-a1b8-59609625d369\")>"
      ]
     },
     "execution_count": 8,
     "metadata": {},
     "output_type": "execute_result"
    }
   ],
   "source": [
    "start_url = \"http://35.226.216.13:5000\"\n",
    "driver.get(start_url)\n",
    "blank = driver.find_element(by = 'id', value = 'password')\n",
    "blank"
   ]
  },
  {
   "cell_type": "code",
   "execution_count": 9,
   "id": "fcf3e622",
   "metadata": {},
   "outputs": [
    {
     "data": {
      "text/plain": [
       "<selenium.webdriver.remote.webelement.WebElement (session=\"f919dbc9431424a26089bdd49ae42013\", element=\"43899542-f2f6-43bc-b504-9d9c95eb2137\")>"
      ]
     },
     "execution_count": 9,
     "metadata": {},
     "output_type": "execute_result"
    }
   ],
   "source": [
    "blank.send_keys(password)\n",
    "button = driver.find_element(by = 'id', value = 'attempt-button')\n",
    "button"
   ]
  },
  {
   "cell_type": "code",
   "execution_count": 10,
   "id": "e003011f",
   "metadata": {},
   "outputs": [],
   "source": [
    "button.click()\n",
    "time.sleep(1)"
   ]
  },
  {
   "cell_type": "code",
   "execution_count": 11,
   "id": "76ef81ce",
   "metadata": {},
   "outputs": [
    {
     "data": {
      "text/plain": [
       "<selenium.webdriver.remote.webelement.WebElement (session=\"f919dbc9431424a26089bdd49ae42013\", element=\"92981773-42f3-4e0b-b62c-006b10270933\")>"
      ]
     },
     "execution_count": 11,
     "metadata": {},
     "output_type": "execute_result"
    }
   ],
   "source": [
    "button2 = driver.find_element(by = 'id', value = 'securityBtn')\n",
    "button2"
   ]
  },
  {
   "cell_type": "code",
   "execution_count": 12,
   "id": "635f77b9",
   "metadata": {},
   "outputs": [],
   "source": [
    "button2.click()\n",
    "time.sleep(1)"
   ]
  },
  {
   "cell_type": "code",
   "execution_count": 13,
   "id": "cff50b75",
   "metadata": {},
   "outputs": [
    {
     "data": {
      "text/plain": [
       "'BASCOM HALL'"
      ]
     },
     "execution_count": 13,
     "metadata": {},
     "output_type": "execute_result"
    }
   ],
   "source": [
    "location = driver.find_element(by = 'id', value = 'location')\n",
    "location.text"
   ]
  },
  {
   "cell_type": "code",
   "execution_count": 14,
   "id": "b1da79ee",
   "metadata": {},
   "outputs": [
    {
     "data": {
      "text/plain": [
       "<selenium.webdriver.remote.webelement.WebElement (session=\"f919dbc9431424a26089bdd49ae42013\", element=\"e62376f0-d720-4ccd-a715-a08ade8b3f69\")>"
      ]
     },
     "execution_count": 14,
     "metadata": {},
     "output_type": "execute_result"
    }
   ],
   "source": [
    "img = driver.find_element(by = 'id', value = 'image')\n",
    "img"
   ]
  },
  {
   "cell_type": "code",
   "execution_count": 15,
   "id": "707d970e",
   "metadata": {},
   "outputs": [
    {
     "data": {
      "text/plain": [
       "'https://admissions.wisc.edu/wp-content/uploads/sites/462/2020/04/aerial_UW_16mm11_6543-800x533.jpg'"
      ]
     },
     "execution_count": 15,
     "metadata": {},
     "output_type": "execute_result"
    }
   ],
   "source": [
    "src = img.get_attribute('src')\n",
    "src"
   ]
  },
  {
   "cell_type": "code",
   "execution_count": 16,
   "id": "8be2e956",
   "metadata": {},
   "outputs": [
    {
     "data": {
      "text/plain": [
       "99951"
      ]
     },
     "execution_count": 16,
     "metadata": {},
     "output_type": "execute_result"
    }
   ],
   "source": [
    "r = requests.get(src, allow_redirects=True)\n",
    "open('Current_Location.jpg', 'wb').write(r.content)"
   ]
  },
  {
   "cell_type": "code",
   "execution_count": null,
   "id": "9ab96b4c",
   "metadata": {},
   "outputs": [],
   "source": []
  }
 ],
 "metadata": {
  "kernelspec": {
   "display_name": "Python 3 (ipykernel)",
   "language": "python",
   "name": "python3"
  },
  "language_info": {
   "codemirror_mode": {
    "name": "ipython",
    "version": 3
   },
   "file_extension": ".py",
   "mimetype": "text/x-python",
   "name": "python",
   "nbconvert_exporter": "python",
   "pygments_lexer": "ipython3",
   "version": "3.8.10"
  }
 },
 "nbformat": 4,
 "nbformat_minor": 5
}
