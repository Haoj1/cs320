{
 "cells": [
  {
   "cell_type": "code",
   "execution_count": 1,
   "metadata": {},
   "outputs": [],
   "source": [
    "import loans\n",
    "import search\n",
    "# import graphviz\n",
    "import pandas"
   ]
  },
  {
   "cell_type": "code",
   "execution_count": 2,
   "metadata": {},
   "outputs": [
    {
     "data": {
      "text/plain": [
       "2.962962962962963"
      ]
     },
     "execution_count": 2,
     "metadata": {},
     "output_type": "execute_result"
    }
   ],
   "source": [
    "#q1\n",
    "bank = loans.Bank(\"First Home Bank\")\n",
    "avgInterest=0\n",
    "count=0\n",
    "for i in bank:\n",
    "    if i.interest_rate != -1:\n",
    "        count+=1\n",
    "        avgInterest+=i.interest_rate\n",
    "\n",
    "avgInterest=avgInterest/count\n",
    "avgInterest"
   ]
  },
  {
   "cell_type": "code",
   "execution_count": 3,
   "metadata": {},
   "outputs": [
    {
     "data": {
      "text/plain": [
       "1.5777777777777777"
      ]
     },
     "execution_count": 3,
     "metadata": {},
     "output_type": "execute_result"
    }
   ],
   "source": [
    "#q2\n",
    "count=0\n",
    "avgApplicant=0\n",
    "for i in bank:\n",
    "    count+=1\n",
    "    avgApplicant+=len(i.applicants)\n",
    "avgApplicant=avgApplicant/count\n",
    "avgApplicant\n"
   ]
  },
  {
   "cell_type": "code",
   "execution_count": 4,
   "metadata": {},
   "outputs": [
    {
     "data": {
      "text/plain": [
       "{'65-74': 21, '45-54': 21, '>74': 5, '25-34': 4, '35-44': 13, '55-64': 7}"
      ]
     },
     "execution_count": 4,
     "metadata": {},
     "output_type": "execute_result"
    }
   ],
   "source": [
    "#q3\n",
    "ageDict={}\n",
    "for i in bank:\n",
    "    for app in i.applicants:\n",
    "        if app.age not in ageDict:\n",
    "            ageDict[app.age]=0\n",
    "        for a in ageDict:\n",
    "            if app.age==a:\n",
    "                ageDict[a] += 1\n",
    "ageDict"
   ]
  },
  {
   "cell_type": "code",
   "execution_count": 5,
   "metadata": {},
   "outputs": [
    {
     "data": {
      "text/plain": [
       "18"
      ]
     },
     "execution_count": 5,
     "metadata": {},
     "output_type": "execute_result"
    }
   ],
   "source": [
    "#q4\n",
    "loanTree=search.BST()\n",
    "for i in bank:\n",
    "    loanTree.add(i.interest_rate, i)\n",
    "\n",
    "len(loanTree[-1])\n",
    "\n"
   ]
  },
  {
   "cell_type": "code",
   "execution_count": 6,
   "metadata": {},
   "outputs": [
    {
     "data": {
      "text/plain": [
       "9"
      ]
     },
     "execution_count": 6,
     "metadata": {},
     "output_type": "execute_result"
    }
   ],
   "source": [
    "#q5\n",
    "def height(node):\n",
    "    if node == None:\n",
    "        return 0\n",
    "    return max(height(node.left), height(node.right)) + 1\n",
    "height(loanTree.root)\n"
   ]
  },
  {
   "cell_type": "code",
   "execution_count": 7,
   "metadata": {},
   "outputs": [
    {
     "data": {
      "image/png": "[encoded data removed]",
      "text/plain": [
       "<Figure size 432x288 with 1 Axes>"
      ]
     },
     "metadata": {
      "needs_background": "light"
     },
     "output_type": "display_data"
    }
   ],
   "source": [
    "#q6\n",
    "import time\n",
    "import matplotlib.pyplot as plt\n",
    "\n",
    "bank2 = loans.Bank(\"University of Wisconsin Credit Union\")\n",
    "nodes = []\n",
    "sec = []\n",
    "tree = search.BST()\n",
    "counts=0\n",
    "t0 = time.time()\n",
    "for i in bank:\n",
    "    counts+=1\n",
    "    nodes.append(counts)\n",
    "    tree.add(str(i.interest_rate), i)\n",
    "    t1 = time.time()\n",
    "    sec.append((t1 - t0) * 1000)\n",
    "\n",
    "plt.plot(nodes, sec)\n",
    "plt.xlabel('BST Adds')\n",
    "plt.ylabel('Total Elapsed Milliseconds')\n",
    "plt.show()"
   ]
  },
  {
   "cell_type": "code",
   "execution_count": 8,
   "metadata": {},
   "outputs": [
    {
     "data": {
      "image/png": "[encoded data removed]",
      "text/plain": [
       "<Figure size 432x288 with 1 Axes>"
      ]
     },
     "metadata": {
      "needs_background": "light"
     },
     "output_type": "display_data"
    }
   ],
   "source": [
    "#q7\n",
    "import numpy as np\n",
    "\n",
    "length = 0\n",
    "t0 = time.time()\n",
    "for i in bank:\n",
    "    if i.interest_rate == -1:\n",
    "        length += 1\n",
    "t1 = time.time()\n",
    "loop = (t1 - t0) * 1000\n",
    "\n",
    "t0 = time.time()\n",
    "tree[\"-1\"]\n",
    "t1 = time.time()\n",
    "bst = (t1 - t0) * 1000\n",
    "\n",
    "plt.bar(np.array([\"Loop\", \"BST\"]), np.array([loop, bst]))\n",
    "plt.ylabel('Milliseconds')\n",
    "y = np.arange(0, 10, 2)\n",
    "plt.yticks(y)\n",
    "plt.show()"
   ]
  },
  {
   "cell_type": "code",
   "execution_count": 9,
   "metadata": {},
   "outputs": [
    {
     "data": {
      "image/png": "[encoded data removed]",
      "text/plain": [
       "<Figure size 432x288 with 1 Axes>"
      ]
     },
     "metadata": {
      "needs_background": "light"
     },
     "output_type": "display_data"
    }
   ],
   "source": [
    "#q8\n",
    "value = []\n",
    "amount = []\n",
    "for i in bank:\n",
    "    if i.property_value> 0 and i.property_value < 1000000:\n",
    "        value.append(i.property_value)\n",
    "        amount.append(i.loan_amount)\n",
    "        \n",
    "plt.scatter(value, amount, alpha = 0.01, color = \"black\")\n",
    "y = np.arange(0, 1000000, 200000)\n",
    "plt.yticks(y)\n",
    "plt.xlabel('value')\n",
    "plt.ylabel('amount')\n",
    "plt.show()"
   ]
  },
  {
   "cell_type": "code",
   "execution_count": null,
   "metadata": {},
   "outputs": [],
   "source": [
    "#q9\n",
    "race = {}\n",
    "race[\"2+\"] = 0\n",
    "race[\"unknown\"] = 0\n",
    "for i in bank:\n",
    "    for j in i.applicants:\n",
    "        if len(j.race) == 0:\n",
    "            race[\"unknown\"] += 1\n",
    "        elif len(j.race) >= 2:\n",
    "            race[\"2+\"] += 1\n",
    "        else:\n",
    "            for n in j.race:\n",
    "                if n in race.keys():\n",
    "                    race[n] += 1\n",
    "                else:\n",
    "                    race[n] = 1\n",
    "\n",
    "plt.bar(list(race.keys()), list(race.values()))\n",
    "plt.xticks(rotation = 90)\n",
    "plt.xlabel('Race')\n",
    "plt.ylabel('Number of Applicants')\n",
    "plt.show()"
   ]
  },
  {
   "cell_type": "code",
   "execution_count": null,
   "metadata": {},
   "outputs": [],
   "source": [
    "#q10\n",
    "def total(root):\n",
    "    if root == None:\n",
    "        return 0\n",
    "    return 1 + total(root.right) + total(root.left) \n",
    "total(tree.root)"
   ]
  }
 ],
 "metadata": {
  "interpreter": {
   "hash": "aee8b7b246df8f9039afb4144a1f6fd8d2ca17a180786b69acc140d282b71a49"
  },
  "kernelspec": {
   "display_name": "Python 3 (ipykernel)",
   "language": "python",
   "name": "python3"
  },
  "language_info": {
   "codemirror_mode": {
    "name": "ipython",
    "version": 3
   },
   "file_extension": ".py",
   "mimetype": "text/x-python",
   "name": "python",
   "nbconvert_exporter": "python",
   "pygments_lexer": "ipython3",
   "version": "3.8.10"
  }
 },
 "nbformat": 4,
 "nbformat_minor": 2
}
