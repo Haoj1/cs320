{
 "cells": [
  {
   "cell_type": "code",
   "execution_count": 1,
   "id": "91f16e41",
   "metadata": {},
   "outputs": [
    {
     "name": "stdout",
     "output_type": "stream",
     "text": [
      "2\n",
      "4\n",
      "Fido says bark.\n",
      "meow\n"
     ]
    }
   ],
   "source": [
    "class Dog:\n",
    "    def is_puppy(self):\n",
    "        return self.age < 3\n",
    "    \n",
    "    def speak(self):   # first arg of a method is called a \"receiver\", by covention \"self\"\n",
    "        if self.is_puppy():\n",
    "            print(f\"{self.name} says\" + \" bark!\"*5)\n",
    "        else:\n",
    "            print(f\"{self.name} says bark.\")\n",
    "\n",
    "    # __init__ is a \"constructor\", (__method__ is a special method, it is called automatically)\n",
    "    def __init__(self, name, age):\n",
    "        self.name = name\n",
    "        self.age = age\n",
    "        \n",
    "    def birthday(self, years=1):\n",
    "        self.age += years\n",
    "    \n",
    "class Cat:\n",
    "    def speak(self):\n",
    "        print(\"meow\")\n",
    "        \n",
    "#dog1 = Dog()          # instantiation (creating an object)\n",
    "#dog1.init(\"Fido\", 2)  # initialization (giving the obj attributes)\n",
    "dog1 = Dog(\"Fido\", 2)\n",
    "\n",
    "dog2 = Dog(\"Sam\", 5)\n",
    "\n",
    "cat = Cat()\n",
    "cat.name = \"Nelly\"\n",
    "\n",
    "print(dog1.age)\n",
    "#dog1.birthday(dog1, 2) # shortcut for type(dog1).birthday(dog1, dog1, 2)\n",
    "dog1.birthday(2)\n",
    "print(dog1.age)\n",
    "dog1.speak()\n",
    "\n",
    "Cat.speak(dog1)"
   ]
  },
  {
   "cell_type": "code",
   "execution_count": 2,
   "id": "b1c79cde",
   "metadata": {},
   "outputs": [
    {
     "name": "stdout",
     "output_type": "stream",
     "text": [
      "Fido says bark.\n",
      "Sam says bark.\n",
      "meow\n"
     ]
    }
   ],
   "source": [
    "pets = [dog1, dog2, cat]\n",
    "for pet in pets:\n",
    "    # v1 (bad)\n",
    "#     if type(pet) == Dog:\n",
    "#         Dog.speak(pet)\n",
    "#     elif type(pet) == Cat:\n",
    "#         Cat.speak(pet)\n",
    "        \n",
    "    # v2 (ok)\n",
    "    #type(pet).speak(pet)\n",
    "    \n",
    "    # v3 (good) -- just a shortcut for v2\n",
    "    pet.speak()"
   ]
  },
  {
   "cell_type": "code",
   "execution_count": 3,
   "id": "b467636d",
   "metadata": {},
   "outputs": [
    {
     "data": {
      "text/plain": [
       "__main__.Dog"
      ]
     },
     "execution_count": 3,
     "metadata": {},
     "output_type": "execute_result"
    }
   ],
   "source": [
    "type(dog1)"
   ]
  },
  {
   "cell_type": "code",
   "execution_count": 4,
   "id": "b98fbd19",
   "metadata": {},
   "outputs": [
    {
     "data": {
      "text/plain": [
       "True"
      ]
     },
     "execution_count": 4,
     "metadata": {},
     "output_type": "execute_result"
    }
   ],
   "source": [
    "type(dog1) == Dog"
   ]
  },
  {
   "cell_type": "code",
   "execution_count": 5,
   "id": "05307772",
   "metadata": {},
   "outputs": [
    {
     "data": {
      "text/plain": [
       "True"
      ]
     },
     "execution_count": 5,
     "metadata": {},
     "output_type": "execute_result"
    }
   ],
   "source": [
    "isinstance(dog1, Dog)"
   ]
  }
 ],
 "metadata": {
  "kernelspec": {
   "display_name": "Python 3 (ipykernel)",
   "language": "python",
   "name": "python3"
  },
  "language_info": {
   "codemirror_mode": {
    "name": "ipython",
    "version": 3
   },
   "file_extension": ".py",
   "mimetype": "text/x-python",
   "name": "python",
   "nbconvert_exporter": "python",
   "pygments_lexer": "ipython3",
   "version": "3.8.10"
  }
 },
 "nbformat": 4,
 "nbformat_minor": 5
}
