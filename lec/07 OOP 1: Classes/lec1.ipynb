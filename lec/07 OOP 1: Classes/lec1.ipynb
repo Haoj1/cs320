{
 "cells": [
  {
   "cell_type": "code",
   "execution_count": 1,
   "id": "90f33096",
   "metadata": {},
   "outputs": [
    {
     "name": "stdout",
     "output_type": "stream",
     "text": [
      "1\n",
      "3\n"
     ]
    }
   ],
   "source": [
    "class Dog:\n",
    "    def speak(self):\n",
    "        if self.age < 2: # CRASH HERE\n",
    "            print(f\"{self.name} says\" + \" bark!\"*4)\n",
    "        else:\n",
    "            print(f\"{self.name} says bark.\")\n",
    "\n",
    "    # __init__ is a special method, specifically a \"constructor\"\n",
    "    def __init__(self, name, age): # 1st argument to a method is the \"receiver\"\n",
    "        self.name = name\n",
    "        self.age = age\n",
    "\n",
    "    def birthday(self, years=1):\n",
    "        self.age += years\n",
    "    \n",
    "class Cat:\n",
    "    def speak(self):\n",
    "        print(\"meow!\")\n",
    "\n",
    "#dog1 = Dog()               # instantiation (create a new object)\n",
    "#Dog.init(dog1, \"Fido\", 1)  # initialization (put attriutes in that object)\n",
    "dog1 = Dog(\"Fido\", 1)\n",
    "\n",
    "dog2 = Dog(\"Sam\", 5)\n",
    "\n",
    "c = Cat()\n",
    "\n",
    "print(dog1.age)\n",
    "#dog1.birthday(dog1, 2)  # translate: type(dog1).birthday(dog1, dog1, 2)\n",
    "dog1.birthday(2)\n",
    "print(dog1.age)"
   ]
  },
  {
   "cell_type": "code",
   "execution_count": 2,
   "id": "b1679e0f",
   "metadata": {},
   "outputs": [
    {
     "name": "stdout",
     "output_type": "stream",
     "text": [
      "Fido says bark.\n",
      "Sam says bark.\n",
      "meow!\n"
     ]
    }
   ],
   "source": [
    "pets = [dog1, dog2, c]\n",
    "for pet in pets:\n",
    "    # v1 (bad!)\n",
    "#     if type(pet) == Dog:\n",
    "#         Dog.speak(pet)\n",
    "#     elif type(pet) == Cat:\n",
    "#         Cat.speak(pet)\n",
    "        \n",
    "    # v2 (ok)\n",
    "    #type(pet).speak(pet)\n",
    "\n",
    "    # v3 (good) is just a shortcut for v2\n",
    "    pet.speak()"
   ]
  },
  {
   "cell_type": "code",
   "execution_count": 3,
   "id": "0917989b",
   "metadata": {},
   "outputs": [
    {
     "data": {
      "text/plain": [
       "__main__.Cat"
      ]
     },
     "execution_count": 3,
     "metadata": {},
     "output_type": "execute_result"
    }
   ],
   "source": [
    "type(c)"
   ]
  },
  {
   "cell_type": "code",
   "execution_count": 4,
   "id": "e1811311",
   "metadata": {},
   "outputs": [
    {
     "data": {
      "text/plain": [
       "True"
      ]
     },
     "execution_count": 4,
     "metadata": {},
     "output_type": "execute_result"
    }
   ],
   "source": [
    "type(c) == Cat"
   ]
  },
  {
   "cell_type": "code",
   "execution_count": 5,
   "id": "feec95c8",
   "metadata": {},
   "outputs": [
    {
     "data": {
      "text/plain": [
       "True"
      ]
     },
     "execution_count": 5,
     "metadata": {},
     "output_type": "execute_result"
    }
   ],
   "source": [
    "isinstance(c, Cat)"
   ]
  }
 ],
 "metadata": {
  "kernelspec": {
   "display_name": "Python 3 (ipykernel)",
   "language": "python",
   "name": "python3"
  },
  "language_info": {
   "codemirror_mode": {
    "name": "ipython",
    "version": 3
   },
   "file_extension": ".py",
   "mimetype": "text/x-python",
   "name": "python",
   "nbconvert_exporter": "python",
   "pygments_lexer": "ipython3",
   "version": "3.8.10"
  }
 },
 "nbformat": 4,
 "nbformat_minor": 5
}
