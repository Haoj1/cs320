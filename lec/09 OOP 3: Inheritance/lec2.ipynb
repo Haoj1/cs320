{
 "cells": [
  {
   "cell_type": "markdown",
   "metadata": {},
   "source": [
    "# Inheritance"
   ]
  },
  {
   "cell_type": "code",
   "execution_count": 29,
   "metadata": {},
   "outputs": [
    {
     "name": "stdout",
     "output_type": "stream",
     "text": [
      "Dog Fido\n",
      "TEST!  I am a rabbit\n"
     ]
    }
   ],
   "source": [
    "class NamedAnimal:\n",
    "    def __init__(self, name):\n",
    "        self.name = name\n",
    "\n",
    "    def __str__(self):\n",
    "        return f\"{type(self).__name__} {self.name}\"\n",
    "\n",
    "    def __repr__(self):\n",
    "        return f\"{type(self).__name__}('{self.name}')\"\n",
    "\n",
    "class Rabbit(NamedAnimal):\n",
    "    def __str__(self):\n",
    "        return \"TEST!  I am a rabbit\"\n",
    "\n",
    "class Dog(NamedAnimal):\n",
    "    def __init__(self, name, age):\n",
    "        #NamedAnimal.__init__(self, name)\n",
    "        #super() is like self, but using parent methods\n",
    "        super().__init__(name)\n",
    "\n",
    "        self.age = age\n",
    "    \n",
    "    def speak(self):\n",
    "        print(\"bark\")\n",
    "\n",
    "fido = Dog(\"Fido\", 3)\n",
    "print(fido)\n",
    "\n",
    "ruby = Rabbit(\"Ruby\")\n",
    "print(ruby)"
   ]
  },
  {
   "cell_type": "code",
   "execution_count": 30,
   "metadata": {},
   "outputs": [
    {
     "name": "stdout",
     "output_type": "stream",
     "text": [
      "Fido\n",
      "3\n"
     ]
    }
   ],
   "source": [
    "print(fido.name)\n",
    "print(fido.age)"
   ]
  },
  {
   "cell_type": "code",
   "execution_count": 31,
   "metadata": {},
   "outputs": [
    {
     "data": {
      "text/plain": [
       "(__main__.Rabbit, __main__.NamedAnimal, object)"
      ]
     },
     "execution_count": 31,
     "metadata": {},
     "output_type": "execute_result"
    }
   ],
   "source": [
    "Rabbit.__mro__ # method resolution order"
   ]
  },
  {
   "cell_type": "code",
   "execution_count": 23,
   "metadata": {},
   "outputs": [
    {
     "data": {
      "text/plain": [
       "True"
      ]
     },
     "execution_count": 23,
     "metadata": {},
     "output_type": "execute_result"
    }
   ],
   "source": [
    "class SmartStr(str):\n",
    "    def __eq__(self, other):\n",
    "        return self.lower() == other.lower()\n",
    "        \n",
    "\n",
    "s1 = SmartStr(\"abc\")\n",
    "s2 = SmartStr(\"ABC\")\n",
    "s1 == s2"
   ]
  },
  {
   "cell_type": "markdown",
   "metadata": {},
   "source": [
    "# ABC's\n",
    "\n",
    "https://docs.python.org/3/library/collections.abc.html#collections-abstract-base-classes"
   ]
  },
  {
   "cell_type": "code",
   "execution_count": 2,
   "metadata": {},
   "outputs": [],
   "source": [
    "class Range:\n",
    "    def __init__(self, bound1, bound2=None):\n",
    "        if bound2 != None:\n",
    "            self.lower = bound1\n",
    "            self.upper = bound2\n",
    "        else:\n",
    "            self.lower = 0\n",
    "            self.upper = bound1\n",
    "            \n",
    "    def __len__(self):\n",
    "        return self.upper - self.lower\n",
    "            \n",
    "    def __getitem__(self, lookup):\n",
    "        if not isinstance(lookup, int):\n",
    "            raise NotImplementedError(\"slices not supported\")\n",
    "        if lookup < 0:\n",
    "            raise NotImplementedError(\"negative not supported\")\n",
    "        if lookup >= len(self):\n",
    "            raise IndexError(\"out of bounds\")\n",
    "        return self.lower + lookup"
   ]
  },
  {
   "cell_type": "code",
   "execution_count": 3,
   "metadata": {},
   "outputs": [],
   "source": [
    "r = Range(2,5)"
   ]
  },
  {
   "cell_type": "code",
   "execution_count": 4,
   "metadata": {},
   "outputs": [
    {
     "ename": "AttributeError",
     "evalue": "'Range' object has no attribute 'index'",
     "output_type": "error",
     "traceback": [
      "\u001b[0;31m---------------------------------------------------------------------------\u001b[0m",
      "\u001b[0;31mAttributeError\u001b[0m                            Traceback (most recent call last)",
      "\u001b[0;32m/var/folders/st/k8wrf6bs0v7c873ntgqhr1f40000gn/T/ipykernel_61647/3521274730.py\u001b[0m in \u001b[0;36m<module>\u001b[0;34m\u001b[0m\n\u001b[0;32m----> 1\u001b[0;31m \u001b[0mr\u001b[0m\u001b[0;34m.\u001b[0m\u001b[0mindex\u001b[0m\u001b[0;34m(\u001b[0m\u001b[0;36m3\u001b[0m\u001b[0;34m)\u001b[0m\u001b[0;34m\u001b[0m\u001b[0;34m\u001b[0m\u001b[0m\n\u001b[0m",
      "\u001b[0;31mAttributeError\u001b[0m: 'Range' object has no attribute 'index'"
     ]
    }
   ],
   "source": [
    "r.index(3)"
   ]
  }
 ],
 "metadata": {
  "kernelspec": {
   "display_name": "Python 3 (ipykernel)",
   "language": "python",
   "name": "python3"
  },
  "language_info": {
   "codemirror_mode": {
    "name": "ipython",
    "version": 3
   },
   "file_extension": ".py",
   "mimetype": "text/x-python",
   "name": "python",
   "nbconvert_exporter": "python",
   "pygments_lexer": "ipython3",
   "version": "3.8.10"
  }
 },
 "nbformat": 4,
 "nbformat_minor": 4
}
