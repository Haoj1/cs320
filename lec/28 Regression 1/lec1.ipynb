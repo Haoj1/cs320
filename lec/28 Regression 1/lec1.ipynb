{
 "cells": [
  {
   "cell_type": "code",
   "execution_count": 2,
   "id": "1a2549e7",
   "metadata": {},
   "outputs": [],
   "source": [
    "import geopandas as gpd"
   ]
  },
  {
   "cell_type": "code",
   "execution_count": 5,
   "id": "a1c5c16f",
   "metadata": {},
   "outputs": [],
   "source": [
    "# DO ONCE:\n",
    "#df = gpd.read_file(\"https://opendata.arcgis.com/datasets/559d482bad0643f69cbe1538243e0baa_9.geojson\")\n",
    "#df.to_file(\"lec1download.geojson\")"
   ]
  },
  {
   "cell_type": "code",
   "execution_count": 6,
   "id": "b40ed21e",
   "metadata": {},
   "outputs": [
    {
     "data": {
      "text/html": [
       "<div>\n",
       "<style scoped>\n",
       "    .dataframe tbody tr th:only-of-type {\n",
       "        vertical-align: middle;\n",
       "    }\n",
       "\n",
       "    .dataframe tbody tr th {\n",
       "        vertical-align: top;\n",
       "    }\n",
       "\n",
       "    .dataframe thead th {\n",
       "        text-align: right;\n",
       "    }\n",
       "</style>\n",
       "<table border=\"1\" class=\"dataframe\">\n",
       "  <thead>\n",
       "    <tr style=\"text-align: right;\">\n",
       "      <th></th>\n",
       "      <th>RptDt</th>\n",
       "      <th>GEOID</th>\n",
       "      <th>GEOName</th>\n",
       "      <th>POS_CUM_CP</th>\n",
       "      <th>POS_NEW_CP</th>\n",
       "      <th>POS_7DAYAVG_CP</th>\n",
       "      <th>DTH_CUM_CP</th>\n",
       "      <th>DTH_NEW_CP</th>\n",
       "      <th>DTH_7DAYAVG_CP</th>\n",
       "      <th>DTH_OVER_30DAYS_CP</th>\n",
       "      <th>...</th>\n",
       "      <th>HOSP_NO_CP</th>\n",
       "      <th>HOSP_UNK_CP</th>\n",
       "      <th>Date</th>\n",
       "      <th>POP</th>\n",
       "      <th>POP_MOE</th>\n",
       "      <th>OBJECTID</th>\n",
       "      <th>GEO</th>\n",
       "      <th>ShapeSTArea</th>\n",
       "      <th>ShapeSTLength</th>\n",
       "      <th>geometry</th>\n",
       "    </tr>\n",
       "  </thead>\n",
       "  <tbody>\n",
       "    <tr>\n",
       "      <th>0</th>\n",
       "      <td>2022-04-07T19:00:00+00:00</td>\n",
       "      <td>55079000101</td>\n",
       "      <td>None</td>\n",
       "      <td>1158</td>\n",
       "      <td>0</td>\n",
       "      <td>0.14</td>\n",
       "      <td>24</td>\n",
       "      <td>0</td>\n",
       "      <td>0.0</td>\n",
       "      <td>0</td>\n",
       "      <td>...</td>\n",
       "      <td>511</td>\n",
       "      <td>568</td>\n",
       "      <td>2022-04-06T06:00:00+00:00</td>\n",
       "      <td>4476</td>\n",
       "      <td>437.0</td>\n",
       "      <td>260</td>\n",
       "      <td>Census tract</td>\n",
       "      <td>7.500609e+06</td>\n",
       "      <td>11159.571995</td>\n",
       "      <td>POLYGON ((-87.99418 43.19256, -87.99429 43.192...</td>\n",
       "    </tr>\n",
       "    <tr>\n",
       "      <th>1</th>\n",
       "      <td>2022-04-07T19:00:00+00:00</td>\n",
       "      <td>55079000102</td>\n",
       "      <td>None</td>\n",
       "      <td>1159</td>\n",
       "      <td>1</td>\n",
       "      <td>0.43</td>\n",
       "      <td>19</td>\n",
       "      <td>0</td>\n",
       "      <td>0.0</td>\n",
       "      <td>0</td>\n",
       "      <td>...</td>\n",
       "      <td>561</td>\n",
       "      <td>508</td>\n",
       "      <td>2022-04-06T06:00:00+00:00</td>\n",
       "      <td>3468</td>\n",
       "      <td>404.0</td>\n",
       "      <td>261</td>\n",
       "      <td>Census tract</td>\n",
       "      <td>1.224474e+07</td>\n",
       "      <td>15500.211793</td>\n",
       "      <td>POLYGON ((-87.99449 43.17769, -87.99512 43.177...</td>\n",
       "    </tr>\n",
       "    <tr>\n",
       "      <th>2</th>\n",
       "      <td>2022-04-07T19:00:00+00:00</td>\n",
       "      <td>55079000201</td>\n",
       "      <td>None</td>\n",
       "      <td>1410</td>\n",
       "      <td>0</td>\n",
       "      <td>0.29</td>\n",
       "      <td>10</td>\n",
       "      <td>0</td>\n",
       "      <td>0.0</td>\n",
       "      <td>0</td>\n",
       "      <td>...</td>\n",
       "      <td>722</td>\n",
       "      <td>609</td>\n",
       "      <td>2022-04-06T06:00:00+00:00</td>\n",
       "      <td>5561</td>\n",
       "      <td>699.0</td>\n",
       "      <td>262</td>\n",
       "      <td>Census tract</td>\n",
       "      <td>1.488298e+07</td>\n",
       "      <td>17849.912522</td>\n",
       "      <td>POLYGON ((-88.02435 43.17761, -88.02434 43.177...</td>\n",
       "    </tr>\n",
       "    <tr>\n",
       "      <th>3</th>\n",
       "      <td>2022-04-07T19:00:00+00:00</td>\n",
       "      <td>55079000202</td>\n",
       "      <td>None</td>\n",
       "      <td>1728</td>\n",
       "      <td>0</td>\n",
       "      <td>0.71</td>\n",
       "      <td>11</td>\n",
       "      <td>0</td>\n",
       "      <td>0.0</td>\n",
       "      <td>0</td>\n",
       "      <td>...</td>\n",
       "      <td>913</td>\n",
       "      <td>738</td>\n",
       "      <td>2022-04-06T06:00:00+00:00</td>\n",
       "      <td>6439</td>\n",
       "      <td>621.0</td>\n",
       "      <td>263</td>\n",
       "      <td>Census tract</td>\n",
       "      <td>1.480524e+07</td>\n",
       "      <td>17742.064041</td>\n",
       "      <td>POLYGON ((-88.02435 43.17761, -88.02518 43.177...</td>\n",
       "    </tr>\n",
       "    <tr>\n",
       "      <th>4</th>\n",
       "      <td>2022-04-07T19:00:00+00:00</td>\n",
       "      <td>55079000301</td>\n",
       "      <td>None</td>\n",
       "      <td>411</td>\n",
       "      <td>1</td>\n",
       "      <td>0.14</td>\n",
       "      <td>4</td>\n",
       "      <td>0</td>\n",
       "      <td>0.0</td>\n",
       "      <td>0</td>\n",
       "      <td>...</td>\n",
       "      <td>218</td>\n",
       "      <td>172</td>\n",
       "      <td>2022-04-06T06:00:00+00:00</td>\n",
       "      <td>1485</td>\n",
       "      <td>92.0</td>\n",
       "      <td>264</td>\n",
       "      <td>Census tract</td>\n",
       "      <td>3.733793e+06</td>\n",
       "      <td>9142.114479</td>\n",
       "      <td>POLYGON ((-88.05488 43.14699, -88.05511 43.146...</td>\n",
       "    </tr>\n",
       "  </tbody>\n",
       "</table>\n",
       "<p>5 rows × 90 columns</p>\n",
       "</div>"
      ],
      "text/plain": [
       "                       RptDt        GEOID GEOName  POS_CUM_CP  POS_NEW_CP  \\\n",
       "0  2022-04-07T19:00:00+00:00  55079000101    None        1158           0   \n",
       "1  2022-04-07T19:00:00+00:00  55079000102    None        1159           1   \n",
       "2  2022-04-07T19:00:00+00:00  55079000201    None        1410           0   \n",
       "3  2022-04-07T19:00:00+00:00  55079000202    None        1728           0   \n",
       "4  2022-04-07T19:00:00+00:00  55079000301    None         411           1   \n",
       "\n",
       "   POS_7DAYAVG_CP  DTH_CUM_CP  DTH_NEW_CP  DTH_7DAYAVG_CP  DTH_OVER_30DAYS_CP  \\\n",
       "0            0.14          24           0             0.0                   0   \n",
       "1            0.43          19           0             0.0                   0   \n",
       "2            0.29          10           0             0.0                   0   \n",
       "3            0.71          11           0             0.0                   0   \n",
       "4            0.14           4           0             0.0                   0   \n",
       "\n",
       "   ...  HOSP_NO_CP HOSP_UNK_CP                       Date   POP POP_MOE  \\\n",
       "0  ...         511         568  2022-04-06T06:00:00+00:00  4476   437.0   \n",
       "1  ...         561         508  2022-04-06T06:00:00+00:00  3468   404.0   \n",
       "2  ...         722         609  2022-04-06T06:00:00+00:00  5561   699.0   \n",
       "3  ...         913         738  2022-04-06T06:00:00+00:00  6439   621.0   \n",
       "4  ...         218         172  2022-04-06T06:00:00+00:00  1485    92.0   \n",
       "\n",
       "   OBJECTID           GEO   ShapeSTArea  ShapeSTLength  \\\n",
       "0       260  Census tract  7.500609e+06   11159.571995   \n",
       "1       261  Census tract  1.224474e+07   15500.211793   \n",
       "2       262  Census tract  1.488298e+07   17849.912522   \n",
       "3       263  Census tract  1.480524e+07   17742.064041   \n",
       "4       264  Census tract  3.733793e+06    9142.114479   \n",
       "\n",
       "                                            geometry  \n",
       "0  POLYGON ((-87.99418 43.19256, -87.99429 43.192...  \n",
       "1  POLYGON ((-87.99449 43.17769, -87.99512 43.177...  \n",
       "2  POLYGON ((-88.02435 43.17761, -88.02434 43.177...  \n",
       "3  POLYGON ((-88.02435 43.17761, -88.02518 43.177...  \n",
       "4  POLYGON ((-88.05488 43.14699, -88.05511 43.146...  \n",
       "\n",
       "[5 rows x 90 columns]"
      ]
     },
     "execution_count": 6,
     "metadata": {},
     "output_type": "execute_result"
    }
   ],
   "source": [
    "df = gpd.read_file(\"lec1download.geojson\")\n",
    "df.head()"
   ]
  },
  {
   "cell_type": "code",
   "execution_count": 7,
   "id": "7ade3f4f",
   "metadata": {},
   "outputs": [
    {
     "data": {
      "text/plain": [
       "<AxesSubplot:>"
      ]
     },
     "execution_count": 7,
     "metadata": {},
     "output_type": "execute_result"
    },
    {
     "data": {
      "image/png": "[encoded data removed]",
      "text/plain": [
       "<Figure size 432x288 with 1 Axes>"
      ]
     },
     "metadata": {
      "needs_background": "light"
     },
     "output_type": "display_data"
    }
   ],
   "source": [
    "df.plot()"
   ]
  },
  {
   "cell_type": "code",
   "execution_count": null,
   "id": "09cec218",
   "metadata": {},
   "outputs": [],
   "source": [
    "# How can we get a clean dataset of COVID deaths in WI?"
   ]
  },
  {
   "cell_type": "code",
   "execution_count": 9,
   "id": "08bb6bd8",
   "metadata": {},
   "outputs": [],
   "source": [
    "# cleanup based on documentation\n",
    "# TODO: when sharing results, mention this, and % of times we swapped in value\n",
    "df = df.replace(-999, 2) # -999 means between 0 and 4"
   ]
  },
  {
   "cell_type": "code",
   "execution_count": 10,
   "id": "b75a23d8",
   "metadata": {},
   "outputs": [
    {
     "data": {
      "text/plain": [
       "Index(['RptDt', 'GEOID', 'GEOName', 'POS_CUM_CP', 'POS_NEW_CP',\n",
       "       'POS_7DAYAVG_CP', 'DTH_CUM_CP', 'DTH_NEW_CP', 'DTH_7DAYAVG_CP',\n",
       "       'DTH_OVER_30DAYS_CP', 'DTH_CP_Daily', 'TESTS_POS_CONF',\n",
       "       'TESTS_POS_CONF_NEW', 'TESTS_POS_CONF_7DAYAVG', 'PercentNAATPos',\n",
       "       'TESTS_CUM', 'TESTS_NEW', 'TESTS_7DAYAVG', 'POS_CUM_CONF',\n",
       "       'POS_NEW_CONF', 'POS_7DAYAVG_CONF', 'POS_CUM_PROB', 'POS_NEW_PROB',\n",
       "       'POS_7DAYAVG_PROB', 'DTH_CUM_CONF', 'DTH_NEW_CONF', 'DTH_7DAYAVG_CONF',\n",
       "       'DTH_CONF_Daily', 'DTH_CUM_PROB', 'DTH_NEW_PROB', 'DTH_7DAYAVG_PROB',\n",
       "       'DTH_PROB_Daily', 'POS_MALE_CP', 'POS_FEM_CP', 'POS_OTH_CP',\n",
       "       'POS_0_9_CP', 'POS_10_19_CP', 'POS_20_29_CP', 'POS_30_39_CP',\n",
       "       'POS_40_49_CP', 'POS_50_59_CP', 'POS_60_69_CP', 'POS_70_79_CP',\n",
       "       'POS_80_89_CP', 'POS_90_CP', 'DTHS_FEM_CP', 'DTHS_MALE_CP',\n",
       "       'DTHS_OTH_CP', 'DTHS_0_9_CP', 'DTHS_10_19_CP', 'DTHS_20_29_CP',\n",
       "       'DTHS_30_39_CP', 'DTHS_40_49_CP', 'DTHS_50_59_CP', 'DTHS_60_69_CP',\n",
       "       'DTHS_70_79_CP', 'DTHS_80_89_CP', 'DTHS_90_CP', 'POS_AIAN_CP',\n",
       "       'POS_ASN_CP', 'POS_BLK_CP', 'POS_WHT_CP', 'POS_MLTOTH_CP', 'POS_UNK_CP',\n",
       "       'POS_E_HSP_CP', 'POS_E_NHSP_CP', 'POS_E_UNK_CP', 'DTH_AIAN_CP',\n",
       "       'DTH_ASN_CP', 'DTH_BLK_CP', 'DTH_WHT_CP', 'DTH_MLTOTH_CP', 'DTH_UNK_CP',\n",
       "       'DTH_E_HSP_CP', 'DTH_E_NHSP_CP', 'DTH_E_UNK_CP', 'POS_HC_Y_CP',\n",
       "       'POS_HC_N_CP', 'POS_HC_UNK_CP', 'HOSP_YES_CP', 'HOSP_NO_CP',\n",
       "       'HOSP_UNK_CP', 'Date', 'POP', 'POP_MOE', 'OBJECTID', 'GEO',\n",
       "       'ShapeSTArea', 'ShapeSTLength', 'geometry'],\n",
       "      dtype='object')"
      ]
     },
     "execution_count": 10,
     "metadata": {},
     "output_type": "execute_result"
    }
   ],
   "source": [
    "# POP, POS_CUM_CP, POS_????_CP, DTH_CUM_CP\n",
    "df.columns"
   ]
  },
  {
   "cell_type": "code",
   "execution_count": 11,
   "id": "b1829df6",
   "metadata": {},
   "outputs": [
    {
     "data": {
      "text/plain": [
       "<AxesSubplot:xlabel='POP', ylabel='POS_CUM_CP'>"
      ]
     },
     "execution_count": 11,
     "metadata": {},
     "output_type": "execute_result"
    },
    {
     "data": {
      "image/png": "[encoded data removed]",
      "text/plain": [
       "<Figure size 432x288 with 1 Axes>"
      ]
     },
     "metadata": {
      "needs_background": "light"
     },
     "output_type": "display_data"
    }
   ],
   "source": [
    "df.plot.scatter(x=\"POP\", y=\"POS_CUM_CP\")"
   ]
  },
  {
   "cell_type": "code",
   "execution_count": 14,
   "id": "ec9447a1",
   "metadata": {},
   "outputs": [
    {
     "data": {
      "text/html": [
       "<div>\n",
       "<style scoped>\n",
       "    .dataframe tbody tr th:only-of-type {\n",
       "        vertical-align: middle;\n",
       "    }\n",
       "\n",
       "    .dataframe tbody tr th {\n",
       "        vertical-align: top;\n",
       "    }\n",
       "\n",
       "    .dataframe thead th {\n",
       "        text-align: right;\n",
       "    }\n",
       "</style>\n",
       "<table border=\"1\" class=\"dataframe\">\n",
       "  <thead>\n",
       "    <tr style=\"text-align: right;\">\n",
       "      <th></th>\n",
       "      <th>RptDt</th>\n",
       "      <th>GEOID</th>\n",
       "      <th>GEOName</th>\n",
       "      <th>POS_CUM_CP</th>\n",
       "      <th>POS_NEW_CP</th>\n",
       "      <th>POS_7DAYAVG_CP</th>\n",
       "      <th>DTH_CUM_CP</th>\n",
       "      <th>DTH_NEW_CP</th>\n",
       "      <th>DTH_7DAYAVG_CP</th>\n",
       "      <th>DTH_OVER_30DAYS_CP</th>\n",
       "      <th>...</th>\n",
       "      <th>HOSP_NO_CP</th>\n",
       "      <th>HOSP_UNK_CP</th>\n",
       "      <th>Date</th>\n",
       "      <th>POP</th>\n",
       "      <th>POP_MOE</th>\n",
       "      <th>OBJECTID</th>\n",
       "      <th>GEO</th>\n",
       "      <th>ShapeSTArea</th>\n",
       "      <th>ShapeSTLength</th>\n",
       "      <th>geometry</th>\n",
       "    </tr>\n",
       "  </thead>\n",
       "  <tbody>\n",
       "    <tr>\n",
       "      <th>916</th>\n",
       "      <td>2022-04-07T19:00:00+00:00</td>\n",
       "      <td>TRACT N/A</td>\n",
       "      <td>None</td>\n",
       "      <td>39838</td>\n",
       "      <td>21</td>\n",
       "      <td>12.43</td>\n",
       "      <td>406</td>\n",
       "      <td>0</td>\n",
       "      <td>0.0</td>\n",
       "      <td>0</td>\n",
       "      <td>...</td>\n",
       "      <td>17979</td>\n",
       "      <td>20213</td>\n",
       "      <td>2022-04-06T06:00:00+00:00</td>\n",
       "      <td>0</td>\n",
       "      <td>NaN</td>\n",
       "      <td>2668</td>\n",
       "      <td>Census tract</td>\n",
       "      <td>4.661914e+02</td>\n",
       "      <td>80.071546</td>\n",
       "      <td>POLYGON ((-87.04159 44.13490, -87.04161 44.134...</td>\n",
       "    </tr>\n",
       "    <tr>\n",
       "      <th>241</th>\n",
       "      <td>2022-04-07T19:00:00+00:00</td>\n",
       "      <td>55009940001</td>\n",
       "      <td>None</td>\n",
       "      <td>6549</td>\n",
       "      <td>3</td>\n",
       "      <td>1.86</td>\n",
       "      <td>29</td>\n",
       "      <td>0</td>\n",
       "      <td>0.0</td>\n",
       "      <td>0</td>\n",
       "      <td>...</td>\n",
       "      <td>4691</td>\n",
       "      <td>1688</td>\n",
       "      <td>2022-04-06T06:00:00+00:00</td>\n",
       "      <td>18610</td>\n",
       "      <td>629.0</td>\n",
       "      <td>1201</td>\n",
       "      <td>Census tract</td>\n",
       "      <td>2.763480e+08</td>\n",
       "      <td>106951.691005</td>\n",
       "      <td>POLYGON ((-88.10048 44.54828, -88.10064 44.548...</td>\n",
       "    </tr>\n",
       "    <tr>\n",
       "      <th>1012</th>\n",
       "      <td>2022-04-07T19:00:00+00:00</td>\n",
       "      <td>55027960300</td>\n",
       "      <td>None</td>\n",
       "      <td>3879</td>\n",
       "      <td>0</td>\n",
       "      <td>0.57</td>\n",
       "      <td>29</td>\n",
       "      <td>0</td>\n",
       "      <td>0.0</td>\n",
       "      <td>0</td>\n",
       "      <td>...</td>\n",
       "      <td>1363</td>\n",
       "      <td>2386</td>\n",
       "      <td>2022-04-06T06:00:00+00:00</td>\n",
       "      <td>7928</td>\n",
       "      <td>40.0</td>\n",
       "      <td>2766</td>\n",
       "      <td>Census tract</td>\n",
       "      <td>2.580188e+07</td>\n",
       "      <td>27162.474970</td>\n",
       "      <td>POLYGON ((-88.77561 43.59656, -88.77558 43.596...</td>\n",
       "    </tr>\n",
       "  </tbody>\n",
       "</table>\n",
       "<p>3 rows × 90 columns</p>\n",
       "</div>"
      ],
      "text/plain": [
       "                          RptDt        GEOID GEOName  POS_CUM_CP  POS_NEW_CP  \\\n",
       "916   2022-04-07T19:00:00+00:00    TRACT N/A    None       39838          21   \n",
       "241   2022-04-07T19:00:00+00:00  55009940001    None        6549           3   \n",
       "1012  2022-04-07T19:00:00+00:00  55027960300    None        3879           0   \n",
       "\n",
       "      POS_7DAYAVG_CP  DTH_CUM_CP  DTH_NEW_CP  DTH_7DAYAVG_CP  \\\n",
       "916            12.43         406           0             0.0   \n",
       "241             1.86          29           0             0.0   \n",
       "1012            0.57          29           0             0.0   \n",
       "\n",
       "      DTH_OVER_30DAYS_CP  ...  HOSP_NO_CP HOSP_UNK_CP  \\\n",
       "916                    0  ...       17979       20213   \n",
       "241                    0  ...        4691        1688   \n",
       "1012                   0  ...        1363        2386   \n",
       "\n",
       "                           Date    POP POP_MOE  OBJECTID           GEO  \\\n",
       "916   2022-04-06T06:00:00+00:00      0     NaN      2668  Census tract   \n",
       "241   2022-04-06T06:00:00+00:00  18610   629.0      1201  Census tract   \n",
       "1012  2022-04-06T06:00:00+00:00   7928    40.0      2766  Census tract   \n",
       "\n",
       "       ShapeSTArea  ShapeSTLength  \\\n",
       "916   4.661914e+02      80.071546   \n",
       "241   2.763480e+08  106951.691005   \n",
       "1012  2.580188e+07   27162.474970   \n",
       "\n",
       "                                               geometry  \n",
       "916   POLYGON ((-87.04159 44.13490, -87.04161 44.134...  \n",
       "241   POLYGON ((-88.10048 44.54828, -88.10064 44.548...  \n",
       "1012  POLYGON ((-88.77561 43.59656, -88.77558 43.596...  \n",
       "\n",
       "[3 rows x 90 columns]"
      ]
     },
     "execution_count": 14,
     "metadata": {},
     "output_type": "execute_result"
    }
   ],
   "source": [
    "df.sort_values(by=\"POS_CUM_CP\", ascending=False).head(3)"
   ]
  },
  {
   "cell_type": "code",
   "execution_count": 18,
   "id": "07af703d",
   "metadata": {},
   "outputs": [
    {
     "data": {
      "text/plain": [
       "True    1392\n",
       "Name: GEOID, dtype: int64"
      ]
     },
     "execution_count": 18,
     "metadata": {},
     "output_type": "execute_result"
    }
   ],
   "source": [
    "df[\"GEOID\"].str.fullmatch(r\"\\d+\").value_counts()"
   ]
  },
  {
   "cell_type": "code",
   "execution_count": 19,
   "id": "12ccc2a3",
   "metadata": {},
   "outputs": [
    {
     "data": {
      "text/plain": [
       "<AxesSubplot:xlabel='POP', ylabel='POS_CUM_CP'>"
      ]
     },
     "execution_count": 19,
     "metadata": {},
     "output_type": "execute_result"
    },
    {
     "data": {
      "image/png": "[encoded data removed]",
      "text/plain": [
       "<Figure size 432x288 with 1 Axes>"
      ]
     },
     "metadata": {
      "needs_background": "light"
     },
     "output_type": "display_data"
    }
   ],
   "source": [
    "# cleanup based on browsing the data\n",
    "# TODO: in presentation, state what % of deaths are excluded because we don't know geo\n",
    "df = df[df[\"GEOID\"].str.fullmatch(r\"\\d+\")]\n",
    "df.plot.scatter(x=\"POP\", y=\"POS_CUM_CP\")"
   ]
  },
  {
   "cell_type": "code",
   "execution_count": 20,
   "id": "7e16357d",
   "metadata": {},
   "outputs": [],
   "source": [
    "# How can we train/fit models to known data to predict unknowns?\n",
    "# Population => Deaths, Cases => Deaths, Cases by Age => Deaths\n",
    "\n",
    "# GENERAL PATTERN\n",
    "# model = ????\n",
    "# model.fit(X, y)\n",
    "# y2 = model.predict(X)"
   ]
  },
  {
   "cell_type": "code",
   "execution_count": 25,
   "id": "ac8bd7be",
   "metadata": {},
   "outputs": [
    {
     "data": {
      "text/plain": [
       "0       24\n",
       "1       19\n",
       "2       10\n",
       "3       11\n",
       "4        4\n",
       "        ..\n",
       "1388    15\n",
       "1389    23\n",
       "1390     7\n",
       "1391    22\n",
       "1392    21\n",
       "Name: DTH_CUM_CP, Length: 1392, dtype: int64"
      ]
     },
     "execution_count": 25,
     "metadata": {},
     "output_type": "execute_result"
    }
   ],
   "source": [
    "# for X values, sklearn wants DataFrames\n",
    "# for y values, sklearn wants Series\n",
    "\n",
    "df[[\"POP\"]]\n",
    "df[\"DTH_CUM_CP\"]"
   ]
  },
  {
   "cell_type": "code",
   "execution_count": null,
   "id": "e49d1025",
   "metadata": {},
   "outputs": [],
   "source": [
    "from sklearn.linear_models import LinearRegression\n",
    "\n",
    "model = LinearRegression()\n",
    "model.fit(X, y)\n",
    "y2 = model.predict(X)"
   ]
  },
  {
   "cell_type": "code",
   "execution_count": null,
   "id": "33d12863",
   "metadata": {},
   "outputs": [],
   "source": [
    "# How can we visualize model predictions?"
   ]
  },
  {
   "cell_type": "code",
   "execution_count": null,
   "id": "0e7532e4",
   "metadata": {},
   "outputs": [],
   "source": [
    "# How can we get a formula for the relationship?"
   ]
  },
  {
   "cell_type": "code",
   "execution_count": null,
   "id": "d76f7258",
   "metadata": {},
   "outputs": [],
   "source": [
    "# How well does our model fit the data?"
   ]
  },
  {
   "cell_type": "code",
   "execution_count": null,
   "id": "0aaeacec",
   "metadata": {},
   "outputs": [],
   "source": [
    "# Did our model learn, or just memorize (that is, \"overfit\")?"
   ]
  },
  {
   "cell_type": "code",
   "execution_count": null,
   "id": "9d9b5159",
   "metadata": {},
   "outputs": [],
   "source": [
    "# How can we minimize noise due to random train/test splits?"
   ]
  },
  {
   "cell_type": "code",
   "execution_count": null,
   "id": "ad4dfea9",
   "metadata": {},
   "outputs": [],
   "source": [
    "# How can we compare models?"
   ]
  },
  {
   "cell_type": "code",
   "execution_count": null,
   "id": "47c6a827",
   "metadata": {},
   "outputs": [],
   "source": [
    "# How can we use multiple x variables (multiple regression)?"
   ]
  },
  {
   "cell_type": "code",
   "execution_count": null,
   "id": "17962c9d",
   "metadata": {},
   "outputs": [],
   "source": [
    "# How can we interpret what features the model is relying on?"
   ]
  }
 ],
 "metadata": {
  "kernelspec": {
   "display_name": "Python 3 (ipykernel)",
   "language": "python",
   "name": "python3"
  },
  "language_info": {
   "codemirror_mode": {
    "name": "ipython",
    "version": 3
   },
   "file_extension": ".py",
   "mimetype": "text/x-python",
   "name": "python",
   "nbconvert_exporter": "python",
   "pygments_lexer": "ipython3",
   "version": "3.8.10"
  }
 },
 "nbformat": 4,
 "nbformat_minor": 5
}
