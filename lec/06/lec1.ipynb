{
 "cells": [
  {
   "cell_type": "code",
   "execution_count": null,
   "id": "b855d375",
   "metadata": {},
   "outputs": [],
   "source": [
    "import pandas as pd"
   ]
  },
  {
   "cell_type": "code",
   "execution_count": null,
   "id": "e929b5b7",
   "metadata": {},
   "outputs": [],
   "source": [
    "#df = pd.read_csv(\"wi.csv\")"
   ]
  },
  {
   "cell_type": "code",
   "execution_count": null,
   "id": "c5854e82",
   "metadata": {},
   "outputs": [],
   "source": [
    "#df2 = df"
   ]
  },
  {
   "cell_type": "code",
   "execution_count": null,
   "id": "b7b9fc1c",
   "metadata": {},
   "outputs": [],
   "source": [
    "#df = None"
   ]
  },
  {
   "cell_type": "code",
   "execution_count": null,
   "id": "1de36cec",
   "metadata": {},
   "outputs": [],
   "source": [
    "#df2 = None"
   ]
  },
  {
   "cell_type": "code",
   "execution_count": null,
   "id": "9a6339fa",
   "metadata": {},
   "outputs": [],
   "source": [
    "# how to access wi.zip directly?"
   ]
  },
  {
   "cell_type": "code",
   "execution_count": null,
   "id": "548cd60a",
   "metadata": {},
   "outputs": [],
   "source": [
    "# f = open(\"wi.csv\")\n",
    "# df = pd.read_csv(f)\n",
    "# f.close()"
   ]
  },
  {
   "cell_type": "code",
   "execution_count": null,
   "id": "7a00f369",
   "metadata": {},
   "outputs": [],
   "source": [
    "import zipfile"
   ]
  },
  {
   "cell_type": "code",
   "execution_count": null,
   "id": "a95978ef",
   "metadata": {},
   "outputs": [],
   "source": [
    "zf = zipfile.ZipFile(\"wi.zip\")\n",
    "# access files inside the zip\n",
    "#print(zf.filelist)\n",
    "for info in zf.filelist:\n",
    "    print(info.filename)\n",
    "zf.close()"
   ]
  },
  {
   "cell_type": "code",
   "execution_count": null,
   "id": "f77aa502",
   "metadata": {},
   "outputs": [],
   "source": [
    "zf = zipfile.ZipFile(\"wi.zip\") # open zip\n",
    "\n",
    "f = zf.open(\"wi.csv\") # open file inside zip\n",
    "df = pd.read_csv(f)\n",
    "f.close()\n",
    "\n",
    "zf.close()"
   ]
  },
  {
   "cell_type": "code",
   "execution_count": null,
   "id": "5d87d35a",
   "metadata": {},
   "outputs": [],
   "source": [
    "# examples: mean and median interest rates\n",
    "#df[\"interest_rate\"].astype(float)\n",
    "rates = pd.to_numeric(df[\"interest_rate\"], errors=\"coerce\")"
   ]
  },
  {
   "cell_type": "code",
   "execution_count": null,
   "id": "1e74aad6",
   "metadata": {},
   "outputs": [],
   "source": [
    "type(rates)"
   ]
  },
  {
   "cell_type": "code",
   "execution_count": null,
   "id": "b8faa6e1",
   "metadata": {},
   "outputs": [],
   "source": [
    "rates.dropna().mean()"
   ]
  },
  {
   "cell_type": "code",
   "execution_count": null,
   "id": "88095fdc",
   "metadata": {},
   "outputs": [],
   "source": [
    "rates.dropna().median()"
   ]
  },
  {
   "cell_type": "code",
   "execution_count": null,
   "id": "c0feca0e",
   "metadata": {},
   "outputs": [],
   "source": [
    "# calculate that while saving memory"
   ]
  },
  {
   "cell_type": "code",
   "execution_count": null,
   "id": "9665ff44",
   "metadata": {},
   "outputs": [],
   "source": [
    "# open(..., mode=\"r\")  # gives text\n",
    "# open(..., mode=\"rb\") # gives bytes\n",
    "# for zips, \"rb\" (read bytes is the default)"
   ]
  },
  {
   "cell_type": "code",
   "execution_count": 5,
   "id": "6e71872d",
   "metadata": {},
   "outputs": [],
   "source": [
    "import zipfile\n",
    "import csv\n",
    "import io # input/output\n",
    "# io.TextIOWrapper: takes in bytes, gives back text\n",
    "\n",
    "zf = zipfile.ZipFile(\"wi.zip\")\n",
    "\n",
    "f = zf.open(\"wi.csv\") # ZipFile.open gives bytes\n",
    "reader = csv.DictReader(io.TextIOWrapper(f)) # DictReader wants strings\n",
    "\n",
    "rates = []\n",
    "for row in reader:\n",
    "    try:\n",
    "        rates.append(float(row[\"interest_rate\"]))\n",
    "    except ValueError:\n",
    "        pass # pass does nothing\n",
    "f.close()\n",
    "\n",
    "zf.close()"
   ]
  },
  {
   "cell_type": "code",
   "execution_count": 3,
   "id": "87947108",
   "metadata": {},
   "outputs": [
    {
     "data": {
      "text/plain": [
       "3.266264315063054"
      ]
     },
     "execution_count": 3,
     "metadata": {},
     "output_type": "execute_result"
    }
   ],
   "source": [
    "sum(rates) / len(rates)"
   ]
  },
  {
   "cell_type": "code",
   "execution_count": 9,
   "id": "eafc5626",
   "metadata": {},
   "outputs": [
    {
     "data": {
      "text/plain": [
       "3.266264315063054"
      ]
     },
     "execution_count": 9,
     "metadata": {},
     "output_type": "execute_result"
    }
   ],
   "source": [
    "def read_rates(zipname, csvname):\n",
    "    zf = zipfile.ZipFile(zipname)\n",
    "\n",
    "    f = zf.open(csvname) # ZipFile.open gives bytes\n",
    "    reader = csv.DictReader(io.TextIOWrapper(f)) # DictReader wants strings\n",
    "\n",
    "    #rates = []\n",
    "    for row in reader:\n",
    "        try:\n",
    "            #rates.append(float(row[\"interest_rate\"]))\n",
    "            yield float(row[\"interest_rate\"])\n",
    "        except ValueError:\n",
    "            pass # pass does nothing\n",
    "    f.close()\n",
    "\n",
    "    zf.close()\n",
    "    #return rates\n",
    "    \n",
    "total = 0\n",
    "count = 0\n",
    "for rate in read_rates(\"wi.zip\", \"wi.csv\"):\n",
    "    total += rate\n",
    "    count += 1\n",
    "    \n",
    "total / count"
   ]
  },
  {
   "cell_type": "code",
   "execution_count": 10,
   "id": "8eadee8d",
   "metadata": {},
   "outputs": [
    {
     "name": "stdout",
     "output_type": "stream",
     "text": [
      "A\n",
      "1\n",
      "B\n",
      "2\n",
      "C\n",
      "3\n"
     ]
    }
   ],
   "source": [
    "def counter():\n",
    "    print(\"A\")\n",
    "    yield 1\n",
    "    print(\"B\")\n",
    "    yield 2\n",
    "    print(\"C\")\n",
    "    yield 3\n",
    "    \n",
    "for num in counter():\n",
    "    print(num)"
   ]
  }
 ],
 "metadata": {
  "kernelspec": {
   "display_name": "Python 3 (ipykernel)",
   "language": "python",
   "name": "python3"
  },
  "language_info": {
   "codemirror_mode": {
    "name": "ipython",
    "version": 3
   },
   "file_extension": ".py",
   "mimetype": "text/x-python",
   "name": "python",
   "nbconvert_exporter": "python",
   "pygments_lexer": "ipython3",
   "version": "3.8.10"
  }
 },
 "nbformat": 4,
 "nbformat_minor": 5
}
