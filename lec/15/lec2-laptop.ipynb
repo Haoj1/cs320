{
 "cells": [
  {
   "cell_type": "code",
   "execution_count": 1,
   "id": "a3fdcdae",
   "metadata": {},
   "outputs": [],
   "source": [
    "from selenium.webdriver.chrome.options import Options\n",
    "from selenium.webdriver.chrome.service import Service\n",
    "from selenium.webdriver.common.by import By\n",
    "from selenium.common.exceptions import NoSuchElementException\n",
    "from selenium import webdriver\n",
    "\n",
    "# FOR VM\n",
    "# options = Options()\n",
    "# options.headless = True\n",
    "# service = Service(executable_path=\"chromium.chromedriver\")\n",
    "# b = webdriver.Chrome(options=options, service=service)\n",
    "\n",
    "b = webdriver.Chrome() # browser"
   ]
  },
  {
   "cell_type": "code",
   "execution_count": 4,
   "id": "d7b0ff36",
   "metadata": {},
   "outputs": [
    {
     "name": "stdout",
     "output_type": "stream",
     "text": [
      "<html><head>\n",
      "    <script src=\"https://code.jquery.com/jquery-3.4.1.js\"></script>\n",
      "    <script>\n",
      "      function addTable() {\n",
      "        var html = \"<table border=1 id='coords'>\\n\";\n",
      "        html += \"<tr><td>x</td><td>y</td></tr>\\n\";\n",
      "        for (i = 0; i < 10; i++) {\n",
      "          html += \"<tr><td>\" + (i*2) + \"</td><td>\" + (i*2+1) + \"</td></tr>\\n\";\n",
      "        }\n",
      "        html += \"</table>\";\n",
      "\n",
      "        var t = document.createElement(\"div\");\n",
      "        t.innerHTML = html;\n",
      "        document.body.appendChild(t);\n",
      "      }\n",
      "      \n",
      "      function main() {\n",
      "        setTimeout(addTable, 1000)\n",
      "      }\n",
      "      </script>\n",
      "  </head>\n",
      "  <body onload=\"main()\">\n",
      "    <h1>Welcome</h1>\n",
      "    <h3>Here's a table</h3>\n",
      "    <table border=\"1\" id=\"alpha\">\n",
      "      <tbody><tr><td>A</td><td>B</td><td>C</td></tr>\n",
      "      <tr><td>1</td><td>2</td><td>3</td></tr>\n",
      "      <tr><td>4</td><td>5</td><td>6</td></tr>\n",
      "    </tbody></table>\n",
      "\n",
      "    <h3>And another one...</h3>\n",
      "  \n",
      "\n",
      "</body></html>\n"
     ]
    }
   ],
   "source": [
    "url = \"https://tyler.caraza-harter.com/cs320/tricky/page1.html\"\n",
    "b.get(url)\n",
    "print(b.page_source)"
   ]
  },
  {
   "cell_type": "code",
   "execution_count": 5,
   "id": "cfd30fd9",
   "metadata": {},
   "outputs": [
    {
     "name": "stdout",
     "output_type": "stream",
     "text": [
      "<html><head>\n",
      "    <script src=\"https://code.jquery.com/jquery-3.4.1.js\"></script>\n",
      "    <script>\n",
      "      function addTable() {\n",
      "        var html = \"<table border=1 id='coords'>\\n\";\n",
      "        html += \"<tr><td>x</td><td>y</td></tr>\\n\";\n",
      "        for (i = 0; i < 10; i++) {\n",
      "          html += \"<tr><td>\" + (i*2) + \"</td><td>\" + (i*2+1) + \"</td></tr>\\n\";\n",
      "        }\n",
      "        html += \"</table>\";\n",
      "\n",
      "        var t = document.createElement(\"div\");\n",
      "        t.innerHTML = html;\n",
      "        document.body.appendChild(t);\n",
      "      }\n",
      "      \n",
      "      function main() {\n",
      "        setTimeout(addTable, 1000)\n",
      "      }\n",
      "      </script>\n",
      "  </head>\n",
      "  <body onload=\"main()\">\n",
      "    <h1>Welcome</h1>\n",
      "    <h3>Here's a table</h3>\n",
      "    <table border=\"1\" id=\"alpha\">\n",
      "      <tbody><tr><td>A</td><td>B</td><td>C</td></tr>\n",
      "      <tr><td>1</td><td>2</td><td>3</td></tr>\n",
      "      <tr><td>4</td><td>5</td><td>6</td></tr>\n",
      "    </tbody></table>\n",
      "\n",
      "    <h3>And another one...</h3>\n",
      "  \n",
      "\n",
      "<div><table border=\"1\" id=\"coords\">\n",
      "<tbody><tr><td>x</td><td>y</td></tr>\n",
      "<tr><td>0</td><td>1</td></tr>\n",
      "<tr><td>2</td><td>3</td></tr>\n",
      "<tr><td>4</td><td>5</td></tr>\n",
      "<tr><td>6</td><td>7</td></tr>\n",
      "<tr><td>8</td><td>9</td></tr>\n",
      "<tr><td>10</td><td>11</td></tr>\n",
      "<tr><td>12</td><td>13</td></tr>\n",
      "<tr><td>14</td><td>15</td></tr>\n",
      "<tr><td>16</td><td>17</td></tr>\n",
      "<tr><td>18</td><td>19</td></tr>\n",
      "</tbody></table></div></body></html>\n"
     ]
    }
   ],
   "source": [
    "print(b.page_source) # HTML represention of DOM tree"
   ]
  }
 ],
 "metadata": {
  "kernelspec": {
   "display_name": "Python 3 (ipykernel)",
   "language": "python",
   "name": "python3"
  },
  "language_info": {
   "codemirror_mode": {
    "name": "ipython",
    "version": 3
   },
   "file_extension": ".py",
   "mimetype": "text/x-python",
   "name": "python",
   "nbconvert_exporter": "python",
   "pygments_lexer": "ipython3",
   "version": "3.9.6"
  }
 },
 "nbformat": 4,
 "nbformat_minor": 5
}
