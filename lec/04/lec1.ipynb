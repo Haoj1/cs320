{
 "cells": [
  {
   "cell_type": "code",
   "execution_count": 1,
   "id": "3d011bb3",
   "metadata": {},
   "outputs": [],
   "source": [
    "# import subprocess\n",
    "# subprocess.check_output"
   ]
  },
  {
   "cell_type": "code",
   "execution_count": 2,
   "id": "f549ca36",
   "metadata": {},
   "outputs": [],
   "source": [
    "from subprocess import check_output"
   ]
  },
  {
   "cell_type": "code",
   "execution_count": 5,
   "id": "98896fba",
   "metadata": {},
   "outputs": [
    {
     "data": {
      "text/plain": [
       "b'/home/trh/s22/lec/04\\n'"
      ]
     },
     "execution_count": 5,
     "metadata": {},
     "output_type": "execute_result"
    }
   ],
   "source": [
    "result = check_output(\"pwd\")\n",
    "result"
   ]
  },
  {
   "cell_type": "code",
   "execution_count": 6,
   "id": "1962013b",
   "metadata": {},
   "outputs": [
    {
     "data": {
      "text/plain": [
       "bytes"
      ]
     },
     "execution_count": 6,
     "metadata": {},
     "output_type": "execute_result"
    }
   ],
   "source": [
    "type(result)"
   ]
  },
  {
   "cell_type": "code",
   "execution_count": 9,
   "id": "d76ee01f",
   "metadata": {},
   "outputs": [
    {
     "data": {
      "text/plain": [
       "'\\x07Ç?_Á\\x07ÈÊÇ\\x07Ë\\x16\\x16\\x07%Á[\\x07\\x90\\x94\\x8e'"
      ]
     },
     "execution_count": 9,
     "metadata": {},
     "output_type": "execute_result"
    }
   ],
   "source": [
    "str(result, encoding=\"cp273\")"
   ]
  },
  {
   "cell_type": "code",
   "execution_count": 11,
   "id": "dc228768",
   "metadata": {},
   "outputs": [
    {
     "data": {
      "text/plain": [
       "'/home/trh/s22/lec/04\\n'"
      ]
     },
     "execution_count": 11,
     "metadata": {},
     "output_type": "execute_result"
    }
   ],
   "source": [
    "result_str = str(result, encoding=\"utf-8\")\n",
    "result_str"
   ]
  },
  {
   "cell_type": "code",
   "execution_count": 13,
   "id": "12e4529f",
   "metadata": {},
   "outputs": [
    {
     "data": {
      "text/plain": [
       "['', 'home', 'trh', 's22', 'lec', '04']"
      ]
     },
     "execution_count": 13,
     "metadata": {},
     "output_type": "execute_result"
    }
   ],
   "source": [
    "result_str.strip().split(\"/\")"
   ]
  },
  {
   "cell_type": "code",
   "execution_count": 15,
   "id": "5f783616",
   "metadata": {},
   "outputs": [
    {
     "data": {
      "text/plain": [
       "b'/home/trh/s22/lec/04\\n'"
      ]
     },
     "execution_count": 15,
     "metadata": {},
     "output_type": "execute_result"
    }
   ],
   "source": [
    "check_output(\"pwd\")"
   ]
  },
  {
   "cell_type": "code",
   "execution_count": 17,
   "id": "bfca3574",
   "metadata": {},
   "outputs": [],
   "source": [
    "# check_output(\"git --version\")"
   ]
  },
  {
   "cell_type": "code",
   "execution_count": 20,
   "id": "ab609405",
   "metadata": {},
   "outputs": [
    {
     "data": {
      "text/plain": [
       "'git version 2.25.1\\n'"
      ]
     },
     "execution_count": 20,
     "metadata": {},
     "output_type": "execute_result"
    }
   ],
   "source": [
    "output = str(check_output([\"git\", \"--version\"]), encoding=\"utf-8\")\n",
    "output"
   ]
  },
  {
   "cell_type": "code",
   "execution_count": 26,
   "id": "b130a05e",
   "metadata": {},
   "outputs": [
    {
     "data": {
      "text/plain": [
       "'2.25.1'"
      ]
     },
     "execution_count": 26,
     "metadata": {},
     "output_type": "execute_result"
    }
   ],
   "source": [
    "output.split()[-1]"
   ]
  },
  {
   "cell_type": "code",
   "execution_count": 27,
   "id": "043eb0c2",
   "metadata": {},
   "outputs": [],
   "source": [
    "# NOT an efficient way to create file\n",
    "# check_output(\"echo abc > file.txt\")\n",
    "\n",
    "# better: directly create the file\n",
    "f = open(\"file.txt\", \"w\")\n",
    "f.write(\"abc\")\n",
    "f.close()"
   ]
  },
  {
   "cell_type": "code",
   "execution_count": 29,
   "id": "96cd0766",
   "metadata": {},
   "outputs": [
    {
     "name": "stderr",
     "output_type": "stream",
     "text": [
      "unknown option: --badcommand\n",
      "usage: git [--version] [--help] [-C <path>] [-c <name>=<value>]\n",
      "           [--exec-path[=<path>]] [--html-path] [--man-path] [--info-path]\n",
      "           [-p | --paginate | -P | --no-pager] [--no-replace-objects] [--bare]\n",
      "           [--git-dir=<path>] [--work-tree=<path>] [--namespace=<name>]\n",
      "           <command> [<args>]\n"
     ]
    },
    {
     "ename": "CalledProcessError",
     "evalue": "Command '['git', '--badcommand']' returned non-zero exit status 129.",
     "output_type": "error",
     "traceback": [
      "\u001b[0;31m---------------------------------------------------------------------------\u001b[0m",
      "\u001b[0;31mCalledProcessError\u001b[0m                        Traceback (most recent call last)",
      "\u001b[0;32m/tmp/ipykernel_358524/3040306929.py\u001b[0m in \u001b[0;36m<module>\u001b[0;34m\u001b[0m\n\u001b[0;32m----> 1\u001b[0;31m \u001b[0mcheck_output\u001b[0m\u001b[0;34m(\u001b[0m\u001b[0;34m[\u001b[0m\u001b[0;34m\"git\"\u001b[0m\u001b[0;34m,\u001b[0m \u001b[0;34m\"--badcommand\"\u001b[0m\u001b[0;34m]\u001b[0m\u001b[0;34m)\u001b[0m\u001b[0;34m\u001b[0m\u001b[0;34m\u001b[0m\u001b[0m\n\u001b[0m",
      "\u001b[0;32m/usr/lib/python3.8/subprocess.py\u001b[0m in \u001b[0;36mcheck_output\u001b[0;34m(timeout, *popenargs, **kwargs)\u001b[0m\n\u001b[1;32m    413\u001b[0m         \u001b[0mkwargs\u001b[0m\u001b[0;34m[\u001b[0m\u001b[0;34m'input'\u001b[0m\u001b[0;34m]\u001b[0m \u001b[0;34m=\u001b[0m \u001b[0mempty\u001b[0m\u001b[0;34m\u001b[0m\u001b[0;34m\u001b[0m\u001b[0m\n\u001b[1;32m    414\u001b[0m \u001b[0;34m\u001b[0m\u001b[0m\n\u001b[0;32m--> 415\u001b[0;31m     return run(*popenargs, stdout=PIPE, timeout=timeout, check=True,\n\u001b[0m\u001b[1;32m    416\u001b[0m                **kwargs).stdout\n\u001b[1;32m    417\u001b[0m \u001b[0;34m\u001b[0m\u001b[0m\n",
      "\u001b[0;32m/usr/lib/python3.8/subprocess.py\u001b[0m in \u001b[0;36mrun\u001b[0;34m(input, capture_output, timeout, check, *popenargs, **kwargs)\u001b[0m\n\u001b[1;32m    514\u001b[0m         \u001b[0mretcode\u001b[0m \u001b[0;34m=\u001b[0m \u001b[0mprocess\u001b[0m\u001b[0;34m.\u001b[0m\u001b[0mpoll\u001b[0m\u001b[0;34m(\u001b[0m\u001b[0;34m)\u001b[0m\u001b[0;34m\u001b[0m\u001b[0;34m\u001b[0m\u001b[0m\n\u001b[1;32m    515\u001b[0m         \u001b[0;32mif\u001b[0m \u001b[0mcheck\u001b[0m \u001b[0;32mand\u001b[0m \u001b[0mretcode\u001b[0m\u001b[0;34m:\u001b[0m\u001b[0;34m\u001b[0m\u001b[0;34m\u001b[0m\u001b[0m\n\u001b[0;32m--> 516\u001b[0;31m             raise CalledProcessError(retcode, process.args,\n\u001b[0m\u001b[1;32m    517\u001b[0m                                      output=stdout, stderr=stderr)\n\u001b[1;32m    518\u001b[0m     \u001b[0;32mreturn\u001b[0m \u001b[0mCompletedProcess\u001b[0m\u001b[0;34m(\u001b[0m\u001b[0mprocess\u001b[0m\u001b[0;34m.\u001b[0m\u001b[0margs\u001b[0m\u001b[0;34m,\u001b[0m \u001b[0mretcode\u001b[0m\u001b[0;34m,\u001b[0m \u001b[0mstdout\u001b[0m\u001b[0;34m,\u001b[0m \u001b[0mstderr\u001b[0m\u001b[0;34m)\u001b[0m\u001b[0;34m\u001b[0m\u001b[0;34m\u001b[0m\u001b[0m\n",
      "\u001b[0;31mCalledProcessError\u001b[0m: Command '['git', '--badcommand']' returned non-zero exit status 129."
     ]
    }
   ],
   "source": [
    "# CalledProcessError exception\n",
    "# check_output([\"git\", \"--badcommand\"])"
   ]
  },
  {
   "cell_type": "code",
   "execution_count": 30,
   "id": "82a449a9",
   "metadata": {},
   "outputs": [],
   "source": [
    "from time import time # both module AND function in it are named time"
   ]
  },
  {
   "cell_type": "code",
   "execution_count": 49,
   "id": "401e0abc",
   "metadata": {},
   "outputs": [
    {
     "data": {
      "text/plain": [
       "1643814376.8770528"
      ]
     },
     "execution_count": 49,
     "metadata": {},
     "output_type": "execute_result"
    }
   ],
   "source": [
    "time() # the number of seconds since Jan 1, 1970"
   ]
  },
  {
   "cell_type": "code",
   "execution_count": 50,
   "id": "964169eb",
   "metadata": {},
   "outputs": [
    {
     "data": {
      "text/plain": [
       "2.5033950805664062e-05"
      ]
     },
     "execution_count": 50,
     "metadata": {},
     "output_type": "execute_result"
    }
   ],
   "source": [
    "t0 = time()\n",
    "# DO SOMETHING\n",
    "t1 = time()\n",
    "t1 - t0 # always some overheads!"
   ]
  },
  {
   "cell_type": "code",
   "execution_count": 58,
   "id": "a650620f",
   "metadata": {},
   "outputs": [
    {
     "name": "stdout",
     "output_type": "stream",
     "text": [
      "41.24641418457031\n"
     ]
    },
    {
     "data": {
      "text/plain": [
       "0.04124641418457031"
      ]
     },
     "execution_count": 58,
     "metadata": {},
     "output_type": "execute_result"
    }
   ],
   "source": [
    "t0 = time()\n",
    "# DO SOMETHING\n",
    "t1 = time()\n",
    "print((t1 - t0) * 1e6) # microseconds\n",
    "(t1 - t0) * 1e3 # milliseconds"
   ]
  },
  {
   "cell_type": "code",
   "execution_count": 59,
   "id": "f67783a9",
   "metadata": {},
   "outputs": [
    {
     "name": "stdout",
     "output_type": "stream",
     "text": [
      "8\n"
     ]
    },
    {
     "data": {
      "text/plain": [
       "1.085042953491211"
      ]
     },
     "execution_count": 59,
     "metadata": {},
     "output_type": "execute_result"
    }
   ],
   "source": [
    "t0 = time()\n",
    "print(3+5)\n",
    "t1 = time()\n",
    "(t1 - t0) * 1e3 # milliseconds"
   ]
  },
  {
   "cell_type": "code",
   "execution_count": 60,
   "id": "652a26d8",
   "metadata": {},
   "outputs": [
    {
     "name": "stdout",
     "output_type": "stream",
     "text": [
      "8\n"
     ]
    },
    {
     "data": {
      "text/plain": [
       "0.07367134094238281"
      ]
     },
     "execution_count": 60,
     "metadata": {},
     "output_type": "execute_result"
    }
   ],
   "source": [
    "t0 = time()\n",
    "x = 3+5\n",
    "t1 = time()\n",
    "print(x)\n",
    "(t1 - t0) * 1e3 # milliseconds"
   ]
  },
  {
   "cell_type": "code",
   "execution_count": 61,
   "id": "34de3354",
   "metadata": {},
   "outputs": [
    {
     "data": {
      "text/plain": [
       "9.365081787109375"
      ]
     },
     "execution_count": 61,
     "metadata": {},
     "output_type": "execute_result"
    }
   ],
   "source": [
    "t0 = time()\n",
    "check_output(\"pwd\")\n",
    "t1 = time()\n",
    "(t1 - t0) * 1e3 # milliseconds"
   ]
  },
  {
   "cell_type": "code",
   "execution_count": 63,
   "id": "c2f472d6",
   "metadata": {},
   "outputs": [
    {
     "data": {
      "text/plain": [
       "30.933618545532227"
      ]
     },
     "execution_count": 63,
     "metadata": {},
     "output_type": "execute_result"
    }
   ],
   "source": [
    "t0 = time()\n",
    "# START A NEW PYTHON INTERPRETER TO DO THE ADDITION\n",
    "check_output([\"python3\", \"-c\", \"print(3+5)\"])\n",
    "t1 = time()\n",
    "(t1 - t0) * 1e3 # milliseconds"
   ]
  },
  {
   "cell_type": "code",
   "execution_count": 64,
   "id": "f3067100",
   "metadata": {},
   "outputs": [
    {
     "data": {
      "text/plain": [
       "[0, 1, 2, 3]"
      ]
     },
     "execution_count": 64,
     "metadata": {},
     "output_type": "execute_result"
    }
   ],
   "source": [
    "L = [0, 1, 2, 3]\n",
    "L"
   ]
  },
  {
   "cell_type": "code",
   "execution_count": 67,
   "id": "6353af9c",
   "metadata": {},
   "outputs": [],
   "source": [
    "L = list(range(1000000))"
   ]
  },
  {
   "cell_type": "code",
   "execution_count": 70,
   "id": "c8a0eea4",
   "metadata": {},
   "outputs": [
    {
     "data": {
      "text/plain": [
       "0.08988380432128906"
      ]
     },
     "execution_count": 70,
     "metadata": {},
     "output_type": "execute_result"
    }
   ],
   "source": [
    "t0 = time()\n",
    "5 in L\n",
    "t1 = time()\n",
    "(t1 - t0) * 1e3 # milliseconds"
   ]
  },
  {
   "cell_type": "code",
   "execution_count": 79,
   "id": "a68f75bf",
   "metadata": {},
   "outputs": [
    {
     "data": {
      "text/plain": [
       "13.420820236206055"
      ]
     },
     "execution_count": 79,
     "metadata": {},
     "output_type": "execute_result"
    }
   ],
   "source": [
    "t0 = time()\n",
    "999999 in L\n",
    "t1 = time()\n",
    "(t1 - t0) * 1e3 # milliseconds"
   ]
  },
  {
   "cell_type": "code",
   "execution_count": 80,
   "id": "c2b693ec",
   "metadata": {},
   "outputs": [
    {
     "data": {
      "text/plain": [
       "11.79647445678711"
      ]
     },
     "execution_count": 80,
     "metadata": {},
     "output_type": "execute_result"
    }
   ],
   "source": [
    "t0 = time()\n",
    "-1 in L\n",
    "t1 = time()\n",
    "(t1 - t0) * 1e3 # milliseconds"
   ]
  },
  {
   "cell_type": "code",
   "execution_count": 82,
   "id": "5c066733",
   "metadata": {},
   "outputs": [],
   "source": [
    "S = set(L)"
   ]
  },
  {
   "cell_type": "code",
   "execution_count": 84,
   "id": "4358dc84",
   "metadata": {},
   "outputs": [],
   "source": [
    "# sets are not sequences\n",
    "# S[0]\n",
    "# they're really good at \"in\" operation"
   ]
  },
  {
   "cell_type": "code",
   "execution_count": 85,
   "id": "574175e8",
   "metadata": {},
   "outputs": [
    {
     "data": {
      "text/plain": [
       "0.09894371032714844"
      ]
     },
     "execution_count": 85,
     "metadata": {},
     "output_type": "execute_result"
    }
   ],
   "source": [
    "t0 = time()\n",
    "-1 in S\n",
    "t1 = time()\n",
    "(t1 - t0) * 1e3 # milliseconds"
   ]
  },
  {
   "cell_type": "code",
   "execution_count": 86,
   "id": "8d8d87c7",
   "metadata": {},
   "outputs": [
    {
     "data": {
      "text/plain": [
       "0.08702278137207031"
      ]
     },
     "execution_count": 86,
     "metadata": {},
     "output_type": "execute_result"
    }
   ],
   "source": [
    "t0 = time()\n",
    "999999 in S\n",
    "t1 = time()\n",
    "(t1 - t0) * 1e3 # milliseconds"
   ]
  },
  {
   "cell_type": "code",
   "execution_count": 87,
   "id": "878f6949",
   "metadata": {},
   "outputs": [
    {
     "data": {
      "text/plain": [
       "0.09846687316894531"
      ]
     },
     "execution_count": 87,
     "metadata": {},
     "output_type": "execute_result"
    }
   ],
   "source": [
    "t0 = time()\n",
    "3 in S\n",
    "t1 = time()\n",
    "(t1 - t0) * 1e3 # milliseconds"
   ]
  },
  {
   "cell_type": "code",
   "execution_count": null,
   "id": "4efb5b06",
   "metadata": {},
   "outputs": [],
   "source": []
  }
 ],
 "metadata": {
  "kernelspec": {
   "display_name": "Python 3 (ipykernel)",
   "language": "python",
   "name": "python3"
  },
  "language_info": {
   "codemirror_mode": {
    "name": "ipython",
    "version": 3
   },
   "file_extension": ".py",
   "mimetype": "text/x-python",
   "name": "python",
   "nbconvert_exporter": "python",
   "pygments_lexer": "ipython3",
   "version": "3.8.10"
  }
 },
 "nbformat": 4,
 "nbformat_minor": 5
}
