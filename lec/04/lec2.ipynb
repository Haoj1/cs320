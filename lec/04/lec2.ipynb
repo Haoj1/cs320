{
 "cells": [
  {
   "cell_type": "code",
   "execution_count": 1,
   "id": "c284871e",
   "metadata": {},
   "outputs": [],
   "source": [
    "#import subprocess\n",
    "#subprocess.check_output(...)"
   ]
  },
  {
   "cell_type": "code",
   "execution_count": 2,
   "id": "fe9f9095",
   "metadata": {},
   "outputs": [
    {
     "data": {
      "text/plain": [
       "b'/home/trh/s22/lec/04\\n'"
      ]
     },
     "execution_count": 2,
     "metadata": {},
     "output_type": "execute_result"
    }
   ],
   "source": [
    "from subprocess import check_output\n",
    "output = check_output(\"pwd\")\n",
    "output"
   ]
  },
  {
   "cell_type": "code",
   "execution_count": 3,
   "id": "7ce4a081",
   "metadata": {},
   "outputs": [
    {
     "data": {
      "text/plain": [
       "bytes"
      ]
     },
     "execution_count": 3,
     "metadata": {},
     "output_type": "execute_result"
    }
   ],
   "source": [
    "type(output)"
   ]
  },
  {
   "cell_type": "code",
   "execution_count": 4,
   "id": "297d232b",
   "metadata": {},
   "outputs": [
    {
     "data": {
      "text/plain": [
       "47"
      ]
     },
     "execution_count": 4,
     "metadata": {},
     "output_type": "execute_result"
    }
   ],
   "source": [
    "output[0]"
   ]
  },
  {
   "cell_type": "code",
   "execution_count": 5,
   "id": "c2c45c77",
   "metadata": {},
   "outputs": [
    {
     "data": {
      "text/plain": [
       "\"b'/home/trh/s22/lec/04\\\\n'\""
      ]
     },
     "execution_count": 5,
     "metadata": {},
     "output_type": "execute_result"
    }
   ],
   "source": [
    "str(output)"
   ]
  },
  {
   "cell_type": "code",
   "execution_count": 6,
   "id": "0f773194",
   "metadata": {},
   "outputs": [
    {
     "data": {
      "text/plain": [
       "'\\x07Ç?_Á\\x07ÈÊÇ\\x07Ë\\x16\\x16\\x07%Á[\\x07\\x90\\x94\\x8e'"
      ]
     },
     "execution_count": 6,
     "metadata": {},
     "output_type": "execute_result"
    }
   ],
   "source": [
    "str(output, encoding=\"cp273\")"
   ]
  },
  {
   "cell_type": "code",
   "execution_count": 7,
   "id": "88722117",
   "metadata": {},
   "outputs": [
    {
     "data": {
      "text/plain": [
       "'/home/trh/s22/lec/04\\n'"
      ]
     },
     "execution_count": 7,
     "metadata": {},
     "output_type": "execute_result"
    }
   ],
   "source": [
    "str_output = str(output, encoding=\"utf-8\")\n",
    "str_output"
   ]
  },
  {
   "cell_type": "code",
   "execution_count": 8,
   "id": "5c2e17b7",
   "metadata": {},
   "outputs": [
    {
     "data": {
      "text/plain": [
       "['', 'home', 'trh', 's22', 'lec', '04']"
      ]
     },
     "execution_count": 8,
     "metadata": {},
     "output_type": "execute_result"
    }
   ],
   "source": [
    "str_output.strip().split(\"/\")"
   ]
  },
  {
   "cell_type": "code",
   "execution_count": 9,
   "id": "23d2f796",
   "metadata": {},
   "outputs": [],
   "source": [
    "# FileNotFoundError if the program name doesn't exist\n",
    "# check_output(\"hahaha\")"
   ]
  },
  {
   "cell_type": "code",
   "execution_count": 10,
   "id": "7267a7a4",
   "metadata": {},
   "outputs": [],
   "source": [
    "#check_output(\"git --version\")"
   ]
  },
  {
   "cell_type": "code",
   "execution_count": 11,
   "id": "226d0854",
   "metadata": {},
   "outputs": [],
   "source": [
    "# CalledProcessError: when inputs to an actual program are bad\n",
    "#check_output([\"git\", \"--badargument\"])"
   ]
  },
  {
   "cell_type": "code",
   "execution_count": 12,
   "id": "0ded08b4",
   "metadata": {},
   "outputs": [
    {
     "data": {
      "text/plain": [
       "'git version 2.25.1\\n'"
      ]
     },
     "execution_count": 12,
     "metadata": {},
     "output_type": "execute_result"
    }
   ],
   "source": [
    "output = str(check_output([\"git\", \"--version\"]), encoding=\"utf-8\")\n",
    "output"
   ]
  },
  {
   "cell_type": "code",
   "execution_count": 13,
   "id": "cf41a284",
   "metadata": {},
   "outputs": [
    {
     "data": {
      "text/plain": [
       "['git', 'version', '2.25.1']"
      ]
     },
     "execution_count": 13,
     "metadata": {},
     "output_type": "execute_result"
    }
   ],
   "source": [
    "output.strip().split()"
   ]
  },
  {
   "cell_type": "code",
   "execution_count": 14,
   "id": "12920efe",
   "metadata": {},
   "outputs": [
    {
     "data": {
      "text/plain": [
       "'2.25.1'"
      ]
     },
     "execution_count": 14,
     "metadata": {},
     "output_type": "execute_result"
    }
   ],
   "source": [
    "output.strip().split()[2]"
   ]
  },
  {
   "cell_type": "code",
   "execution_count": 15,
   "id": "9651573a",
   "metadata": {},
   "outputs": [
    {
     "data": {
      "text/plain": [
       "'2.25.1'"
      ]
     },
     "execution_count": 15,
     "metadata": {},
     "output_type": "execute_result"
    }
   ],
   "source": [
    "output.strip().split()[-1]"
   ]
  },
  {
   "cell_type": "code",
   "execution_count": 16,
   "id": "87004ac7",
   "metadata": {},
   "outputs": [],
   "source": [
    "from time import time # silly: both module and function in it have the same name!"
   ]
  },
  {
   "cell_type": "code",
   "execution_count": 17,
   "id": "164d4b83",
   "metadata": {},
   "outputs": [
    {
     "data": {
      "text/plain": [
       "1643837134.6385772"
      ]
     },
     "execution_count": 17,
     "metadata": {},
     "output_type": "execute_result"
    }
   ],
   "source": [
    "time() # number of seconds since Jan 1, 1970"
   ]
  },
  {
   "cell_type": "code",
   "execution_count": 18,
   "id": "346e1fa6",
   "metadata": {},
   "outputs": [
    {
     "data": {
      "text/plain": [
       "4.4345855712890625e-05"
      ]
     },
     "execution_count": 18,
     "metadata": {},
     "output_type": "execute_result"
    }
   ],
   "source": [
    "t0 = time()\n",
    "# DO SOMETHING\n",
    "t1 = time()\n",
    "t1-t0"
   ]
  },
  {
   "cell_type": "code",
   "execution_count": 19,
   "id": "66af255f",
   "metadata": {},
   "outputs": [
    {
     "name": "stdout",
     "output_type": "stream",
     "text": [
      "51.73683166503906\n"
     ]
    },
    {
     "data": {
      "text/plain": [
       "0.05173683166503906"
      ]
     },
     "execution_count": 19,
     "metadata": {},
     "output_type": "execute_result"
    }
   ],
   "source": [
    "t0 = time()\n",
    "# DO SOMETHING\n",
    "t1 = time()\n",
    "print((t1-t0) * 1000000) # microseconds\n",
    "(t1-t0) * 1000 # milliseconds"
   ]
  },
  {
   "cell_type": "code",
   "execution_count": 20,
   "id": "66d9bf47",
   "metadata": {},
   "outputs": [
    {
     "name": "stdout",
     "output_type": "stream",
     "text": [
      "42.91534423828125\n"
     ]
    },
    {
     "data": {
      "text/plain": [
       "0.04291534423828125"
      ]
     },
     "execution_count": 20,
     "metadata": {},
     "output_type": "execute_result"
    }
   ],
   "source": [
    "t0 = time()\n",
    "# DO SOMETHING\n",
    "t1 = time()\n",
    "print((t1-t0) * 1e6) # microseconds\n",
    "(t1-t0) * 1e3 # milliseconds"
   ]
  },
  {
   "cell_type": "code",
   "execution_count": 21,
   "id": "4afdbdaf",
   "metadata": {},
   "outputs": [
    {
     "name": "stdout",
     "output_type": "stream",
     "text": [
      "8\n"
     ]
    },
    {
     "data": {
      "text/plain": [
       "0.9479522705078125"
      ]
     },
     "execution_count": 21,
     "metadata": {},
     "output_type": "execute_result"
    }
   ],
   "source": [
    "t0 = time()\n",
    "print(3+5)\n",
    "t1 = time()\n",
    "\n",
    "(t1-t0) * 1e3 # milliseconds"
   ]
  },
  {
   "cell_type": "code",
   "execution_count": 22,
   "id": "e3dab779",
   "metadata": {},
   "outputs": [
    {
     "name": "stdout",
     "output_type": "stream",
     "text": [
      "8\n"
     ]
    },
    {
     "data": {
      "text/plain": [
       "0.08058547973632812"
      ]
     },
     "execution_count": 22,
     "metadata": {},
     "output_type": "execute_result"
    }
   ],
   "source": [
    "t0 = time()\n",
    "y = 3+5\n",
    "t1 = time()\n",
    "\n",
    "print(y)\n",
    "(t1-t0) * 1e3 # milliseconds"
   ]
  },
  {
   "cell_type": "code",
   "execution_count": 23,
   "id": "7cb060c1",
   "metadata": {},
   "outputs": [
    {
     "data": {
      "text/plain": [
       "5.303859710693359"
      ]
     },
     "execution_count": 23,
     "metadata": {},
     "output_type": "execute_result"
    }
   ],
   "source": [
    "t0 = time()\n",
    "check_output(\"pwd\")\n",
    "t1 = time()\n",
    "\n",
    "(t1-t0) * 1e3 # milliseconds"
   ]
  },
  {
   "cell_type": "code",
   "execution_count": 24,
   "id": "660fc75b",
   "metadata": {},
   "outputs": [
    {
     "data": {
      "text/plain": [
       "31.65268898010254"
      ]
     },
     "execution_count": 24,
     "metadata": {},
     "output_type": "execute_result"
    }
   ],
   "source": [
    "t0 = time()\n",
    "check_output([\"python3\", \"-c\", \"print(3+5)\"])\n",
    "t1 = time()\n",
    "\n",
    "(t1-t0) * 1e3 # milliseconds"
   ]
  },
  {
   "cell_type": "code",
   "execution_count": 25,
   "id": "302284f8",
   "metadata": {},
   "outputs": [],
   "source": [
    "L = list(range(100000)) # 0 to 999999"
   ]
  },
  {
   "cell_type": "code",
   "execution_count": 26,
   "id": "c55735c9",
   "metadata": {},
   "outputs": [
    {
     "data": {
      "text/plain": [
       "True"
      ]
     },
     "execution_count": 26,
     "metadata": {},
     "output_type": "execute_result"
    }
   ],
   "source": [
    "5 in L"
   ]
  },
  {
   "cell_type": "code",
   "execution_count": 27,
   "id": "27c362f9",
   "metadata": {},
   "outputs": [
    {
     "data": {
      "text/plain": [
       "False"
      ]
     },
     "execution_count": 27,
     "metadata": {},
     "output_type": "execute_result"
    }
   ],
   "source": [
    "-3 in L"
   ]
  },
  {
   "cell_type": "code",
   "execution_count": 28,
   "id": "b468621b",
   "metadata": {},
   "outputs": [
    {
     "data": {
      "text/plain": [
       "0.08487701416015625"
      ]
     },
     "execution_count": 28,
     "metadata": {},
     "output_type": "execute_result"
    }
   ],
   "source": [
    "t0 = time()\n",
    "5 in L\n",
    "t1 = time()\n",
    "(t1 - t0) * 1000"
   ]
  },
  {
   "cell_type": "code",
   "execution_count": 29,
   "id": "01171eb0",
   "metadata": {},
   "outputs": [
    {
     "data": {
      "text/plain": [
       "2.0046234130859375"
      ]
     },
     "execution_count": 29,
     "metadata": {},
     "output_type": "execute_result"
    }
   ],
   "source": [
    "t0 = time()\n",
    "-2 in L\n",
    "t1 = time()\n",
    "(t1 - t0) * 1000"
   ]
  },
  {
   "cell_type": "code",
   "execution_count": 30,
   "id": "cb51fc56",
   "metadata": {},
   "outputs": [
    {
     "data": {
      "text/plain": [
       "3.756284713745117"
      ]
     },
     "execution_count": 30,
     "metadata": {},
     "output_type": "execute_result"
    }
   ],
   "source": [
    "t0 = time()\n",
    "2.5 in L\n",
    "t1 = time()\n",
    "(t1 - t0) * 1000"
   ]
  },
  {
   "cell_type": "code",
   "execution_count": 31,
   "id": "ff9987d5",
   "metadata": {},
   "outputs": [
    {
     "data": {
      "text/plain": [
       "2.4368762969970703"
      ]
     },
     "execution_count": 31,
     "metadata": {},
     "output_type": "execute_result"
    }
   ],
   "source": [
    "t0 = time()\n",
    "999999 in L\n",
    "t1 = time()\n",
    "(t1 - t0) * 1000"
   ]
  },
  {
   "cell_type": "code",
   "execution_count": 32,
   "id": "e5a1e20b",
   "metadata": {},
   "outputs": [
    {
     "data": {
      "text/plain": [
       "0.10132789611816406"
      ]
     },
     "execution_count": 32,
     "metadata": {},
     "output_type": "execute_result"
    }
   ],
   "source": [
    "t0 = time()\n",
    "3.0 in L\n",
    "t1 = time()\n",
    "(t1 - t0) * 1000"
   ]
  },
  {
   "cell_type": "code",
   "execution_count": 33,
   "id": "1d2764d6",
   "metadata": {},
   "outputs": [
    {
     "data": {
      "text/plain": [
       "1.1901366710662842"
      ]
     },
     "execution_count": 33,
     "metadata": {},
     "output_type": "execute_result"
    }
   ],
   "source": [
    "sample_count = 2000\n",
    "\n",
    "t0 = time()\n",
    "for i in range(sample_count):\n",
    "    999999 in L\n",
    "t1 = time()\n",
    "(t1 - t0) * 1000 / sample_count"
   ]
  },
  {
   "cell_type": "code",
   "execution_count": 34,
   "id": "09229eb7",
   "metadata": {},
   "outputs": [
    {
     "data": {
      "text/plain": [
       "1.4979946613311768"
      ]
     },
     "execution_count": 34,
     "metadata": {},
     "output_type": "execute_result"
    }
   ],
   "source": [
    "sample_count = 2000\n",
    "\n",
    "t0 = time()\n",
    "for i in range(sample_count):\n",
    "    \"hi\" in L\n",
    "t1 = time()\n",
    "(t1 - t0) * 1000 / sample_count"
   ]
  },
  {
   "cell_type": "code",
   "execution_count": 35,
   "id": "5e8afb70",
   "metadata": {},
   "outputs": [],
   "source": [
    "S = set(L)"
   ]
  },
  {
   "cell_type": "code",
   "execution_count": 36,
   "id": "4d7f9fb9",
   "metadata": {},
   "outputs": [],
   "source": [
    "# sets are not sequences\n",
    "# S[0] -- no indexing for sets!\n",
    "\n",
    "# but they're fast for the \"in\" operator"
   ]
  },
  {
   "cell_type": "code",
   "execution_count": 37,
   "id": "191d7560",
   "metadata": {},
   "outputs": [
    {
     "data": {
      "text/plain": [
       "0.08463859558105469"
      ]
     },
     "execution_count": 37,
     "metadata": {},
     "output_type": "execute_result"
    }
   ],
   "source": [
    "t0 = time()\n",
    "999999 in S\n",
    "t1 = time()\n",
    "(t1 - t0) * 1000"
   ]
  },
  {
   "cell_type": "code",
   "execution_count": 38,
   "id": "afd93010",
   "metadata": {},
   "outputs": [
    {
     "data": {
      "text/plain": [
       "0.0858306884765625"
      ]
     },
     "execution_count": 38,
     "metadata": {},
     "output_type": "execute_result"
    }
   ],
   "source": [
    "t0 = time()\n",
    "-3 in S\n",
    "t1 = time()\n",
    "(t1 - t0) * 1000"
   ]
  },
  {
   "cell_type": "code",
   "execution_count": 39,
   "id": "88daa37e",
   "metadata": {},
   "outputs": [
    {
     "data": {
      "text/plain": [
       "0.080108642578125"
      ]
     },
     "execution_count": 39,
     "metadata": {},
     "output_type": "execute_result"
    }
   ],
   "source": [
    "t0 = time()\n",
    "5 in S\n",
    "t1 = time()\n",
    "(t1 - t0) * 1000"
   ]
  },
  {
   "cell_type": "code",
   "execution_count": null,
   "id": "bf4da88b",
   "metadata": {},
   "outputs": [],
   "source": []
  }
 ],
 "metadata": {
  "kernelspec": {
   "display_name": "Python 3 (ipykernel)",
   "language": "python",
   "name": "python3"
  },
  "language_info": {
   "codemirror_mode": {
    "name": "ipython",
    "version": 3
   },
   "file_extension": ".py",
   "mimetype": "text/x-python",
   "name": "python",
   "nbconvert_exporter": "python",
   "pygments_lexer": "ipython3",
   "version": "3.8.10"
  }
 },
 "nbformat": 4,
 "nbformat_minor": 5
}
