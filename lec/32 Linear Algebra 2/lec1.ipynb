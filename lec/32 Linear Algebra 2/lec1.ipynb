{
 "cells": [
  {
   "cell_type": "markdown",
   "id": "dc8a126e",
   "metadata": {},
   "source": [
    "# Predicting with `np.dot` (`@`)\n",
    "\n",
    "1. use case for dot product\n",
    "2. one's column\n",
    "3. matrix dot vector\n",
    "\n",
    "$\\begin{bmatrix}\n",
    "1 & 2 \\\\ 3 & 4\\\\\n",
    "\\end{bmatrix}\n",
    "\\cdot\n",
    "\\begin{bmatrix}\n",
    "10 \\\\ 1 \\\\\n",
    "\\end{bmatrix}$"
   ]
  },
  {
   "cell_type": "code",
   "execution_count": 2,
   "id": "a488e5b8",
   "metadata": {},
   "outputs": [
    {
     "data": {
      "text/html": [
       "<div>\n",
       "<style scoped>\n",
       "    .dataframe tbody tr th:only-of-type {\n",
       "        vertical-align: middle;\n",
       "    }\n",
       "\n",
       "    .dataframe tbody tr th {\n",
       "        vertical-align: top;\n",
       "    }\n",
       "\n",
       "    .dataframe thead th {\n",
       "        text-align: right;\n",
       "    }\n",
       "</style>\n",
       "<table border=\"1\" class=\"dataframe\">\n",
       "  <thead>\n",
       "    <tr style=\"text-align: right;\">\n",
       "      <th></th>\n",
       "      <th>beds</th>\n",
       "      <th>baths</th>\n",
       "      <th>year</th>\n",
       "    </tr>\n",
       "  </thead>\n",
       "  <tbody>\n",
       "    <tr>\n",
       "      <th>0</th>\n",
       "      <td>2</td>\n",
       "      <td>1</td>\n",
       "      <td>1985</td>\n",
       "    </tr>\n",
       "    <tr>\n",
       "      <th>1</th>\n",
       "      <td>3</td>\n",
       "      <td>1</td>\n",
       "      <td>1998</td>\n",
       "    </tr>\n",
       "    <tr>\n",
       "      <th>2</th>\n",
       "      <td>4</td>\n",
       "      <td>3</td>\n",
       "      <td>2005</td>\n",
       "    </tr>\n",
       "    <tr>\n",
       "      <th>3</th>\n",
       "      <td>4</td>\n",
       "      <td>2</td>\n",
       "      <td>2020</td>\n",
       "    </tr>\n",
       "  </tbody>\n",
       "</table>\n",
       "</div>"
      ],
      "text/plain": [
       "   beds  baths  year\n",
       "0     2      1  1985\n",
       "1     3      1  1998\n",
       "2     4      3  2005\n",
       "3     4      2  2020"
      ]
     },
     "execution_count": 2,
     "metadata": {},
     "output_type": "execute_result"
    }
   ],
   "source": [
    "import pandas as pd\n",
    "import numpy as np\n",
    "\n",
    "houses = pd.DataFrame([[2,1,1985],\n",
    "                       [3,1,1998],\n",
    "                       [4,3,2005],\n",
    "                       [4,2,2020]],\n",
    "                      columns=[\"beds\", \"baths\", \"year\"])\n",
    "houses"
   ]
  },
  {
   "cell_type": "code",
   "execution_count": 3,
   "id": "48bc0787",
   "metadata": {},
   "outputs": [
    {
     "data": {
      "text/plain": [
       "beds        2\n",
       "baths       1\n",
       "year     1985\n",
       "Name: 0, dtype: int64"
      ]
     },
     "execution_count": 3,
     "metadata": {},
     "output_type": "execute_result"
    }
   ],
   "source": [
    "houses.iloc[0]"
   ]
  },
  {
   "cell_type": "code",
   "execution_count": 4,
   "id": "089baeee",
   "metadata": {},
   "outputs": [
    {
     "data": {
      "text/plain": [
       "196.54999999999973"
      ]
     },
     "execution_count": 4,
     "metadata": {},
     "output_type": "execute_result"
    }
   ],
   "source": [
    "# take row (as Series)\n",
    "# return estimated price (in thousands)\n",
    "def predict_price(house):\n",
    "    return ((house[\"beds\"]*42.3) + (house[\"baths\"]*10) + \n",
    "            (house[\"year\"]*1.67) - 3213)\n",
    "\n",
    "predict_price(houses.iloc[0])"
   ]
  },
  {
   "cell_type": "code",
   "execution_count": 13,
   "id": "69199f68",
   "metadata": {},
   "outputs": [
    {
     "data": {
      "text/plain": [
       "array([[   2,    1, 1985]])"
      ]
     },
     "execution_count": 13,
     "metadata": {},
     "output_type": "execute_result"
    }
   ],
   "source": [
    "h0 = houses.values[0:1]\n",
    "h1 = houses.values[1:2]\n",
    "h2 = houses.values[2:3]\n",
    "h3 = houses.values[3:4]\n",
    "h0"
   ]
  },
  {
   "cell_type": "code",
   "execution_count": 14,
   "id": "1c0d346e",
   "metadata": {},
   "outputs": [
    {
     "data": {
      "text/plain": [
       "array([[42.3 ],\n",
       "       [10.  ],\n",
       "       [ 1.67]])"
      ]
     },
     "execution_count": 14,
     "metadata": {},
     "output_type": "execute_result"
    }
   ],
   "source": [
    "c = np.array([42.3, 10, 1.67]).reshape(-1, 1)\n",
    "c"
   ]
  },
  {
   "cell_type": "code",
   "execution_count": 15,
   "id": "3c2701b3",
   "metadata": {},
   "outputs": [
    {
     "name": "stdout",
     "output_type": "stream",
     "text": [
      "[[196.55]]\n",
      "[[260.56]]\n",
      "[[334.55]]\n",
      "[[349.6]]\n"
     ]
    }
   ],
   "source": [
    "print(h0 @ c - 3213)\n",
    "print(h1 @ c - 3213)\n",
    "print(h2 @ c - 3213)\n",
    "print(h3 @ c - 3213)"
   ]
  },
  {
   "cell_type": "code",
   "execution_count": 20,
   "id": "26d4fd7e",
   "metadata": {},
   "outputs": [
    {
     "data": {
      "text/plain": [
       "array([[196.55],\n",
       "       [260.56],\n",
       "       [334.55],\n",
       "       [349.6 ]])"
      ]
     },
     "execution_count": 20,
     "metadata": {},
     "output_type": "execute_result"
    }
   ],
   "source": [
    "# Matrix @ vertical vector: loops over each row in the matrix, dot products it with the coef\n",
    "houses.values @ c - 3213"
   ]
  },
  {
   "cell_type": "code",
   "execution_count": 22,
   "id": "40ef9c1b",
   "metadata": {},
   "outputs": [
    {
     "data": {
      "text/plain": [
       "array([[ 4.230e+01],\n",
       "       [ 1.000e+01],\n",
       "       [ 1.670e+00],\n",
       "       [-3.213e+03]])"
      ]
     },
     "execution_count": 22,
     "metadata": {},
     "output_type": "execute_result"
    }
   ],
   "source": [
    "c = np.array([42.3, 10, 1.67, -3213]).reshape(-1, 1)\n",
    "c"
   ]
  },
  {
   "cell_type": "code",
   "execution_count": 25,
   "id": "5da84893",
   "metadata": {},
   "outputs": [
    {
     "data": {
      "text/plain": [
       "array([[   2,    1, 1985],\n",
       "       [   3,    1, 1998],\n",
       "       [   4,    3, 2005],\n",
       "       [   4,    2, 2020]])"
      ]
     },
     "execution_count": 25,
     "metadata": {},
     "output_type": "execute_result"
    }
   ],
   "source": [
    "houses.values"
   ]
  },
  {
   "cell_type": "code",
   "execution_count": 26,
   "id": "06235e51",
   "metadata": {},
   "outputs": [],
   "source": [
    "# size mismatch\n",
    "# houses.values @ c"
   ]
  },
  {
   "cell_type": "code",
   "execution_count": 30,
   "id": "f981225b",
   "metadata": {},
   "outputs": [
    {
     "data": {
      "text/plain": [
       "array([[1.],\n",
       "       [1.],\n",
       "       [1.],\n",
       "       [1.]])"
      ]
     },
     "execution_count": 30,
     "metadata": {},
     "output_type": "execute_result"
    }
   ],
   "source": [
    "np.ones(len(X)).reshape(-1,1)"
   ]
  },
  {
   "cell_type": "code",
   "execution_count": 27,
   "id": "f2f9f161",
   "metadata": {},
   "outputs": [
    {
     "data": {
      "text/plain": [
       "array([[   2,    1, 1985],\n",
       "       [   3,    1, 1998],\n",
       "       [   4,    3, 2005],\n",
       "       [   4,    2, 2020]])"
      ]
     },
     "execution_count": 27,
     "metadata": {},
     "output_type": "execute_result"
    }
   ],
   "source": [
    "X = houses.values\n",
    "X"
   ]
  },
  {
   "cell_type": "code",
   "execution_count": 33,
   "id": "816d24d7",
   "metadata": {},
   "outputs": [
    {
     "data": {
      "text/plain": [
       "array([[2.000e+00, 1.000e+00, 1.985e+03, 1.000e+00],\n",
       "       [3.000e+00, 1.000e+00, 1.998e+03, 1.000e+00],\n",
       "       [4.000e+00, 3.000e+00, 2.005e+03, 1.000e+00],\n",
       "       [4.000e+00, 2.000e+00, 2.020e+03, 1.000e+00]])"
      ]
     },
     "execution_count": 33,
     "metadata": {},
     "output_type": "execute_result"
    }
   ],
   "source": [
    "X = np.concatenate([X, np.ones(len(X)).reshape(-1,1)], axis=1)\n",
    "X"
   ]
  },
  {
   "cell_type": "code",
   "execution_count": 34,
   "id": "e1f75c70",
   "metadata": {},
   "outputs": [
    {
     "data": {
      "text/plain": [
       "array([[196.55],\n",
       "       [260.56],\n",
       "       [334.55],\n",
       "       [349.6 ]])"
      ]
     },
     "execution_count": 34,
     "metadata": {},
     "output_type": "execute_result"
    }
   ],
   "source": [
    "X @ c"
   ]
  },
  {
   "cell_type": "code",
   "execution_count": 37,
   "id": "a98ccb63",
   "metadata": {},
   "outputs": [
    {
     "data": {
      "text/html": [
       "<div>\n",
       "<style scoped>\n",
       "    .dataframe tbody tr th:only-of-type {\n",
       "        vertical-align: middle;\n",
       "    }\n",
       "\n",
       "    .dataframe tbody tr th {\n",
       "        vertical-align: top;\n",
       "    }\n",
       "\n",
       "    .dataframe thead th {\n",
       "        text-align: right;\n",
       "    }\n",
       "</style>\n",
       "<table border=\"1\" class=\"dataframe\">\n",
       "  <thead>\n",
       "    <tr style=\"text-align: right;\">\n",
       "      <th></th>\n",
       "      <th>beds</th>\n",
       "      <th>baths</th>\n",
       "      <th>year</th>\n",
       "      <th>predictions</th>\n",
       "    </tr>\n",
       "  </thead>\n",
       "  <tbody>\n",
       "    <tr>\n",
       "      <th>0</th>\n",
       "      <td>2</td>\n",
       "      <td>1</td>\n",
       "      <td>1985</td>\n",
       "      <td>196.55</td>\n",
       "    </tr>\n",
       "    <tr>\n",
       "      <th>1</th>\n",
       "      <td>3</td>\n",
       "      <td>1</td>\n",
       "      <td>1998</td>\n",
       "      <td>260.56</td>\n",
       "    </tr>\n",
       "    <tr>\n",
       "      <th>2</th>\n",
       "      <td>4</td>\n",
       "      <td>3</td>\n",
       "      <td>2005</td>\n",
       "      <td>334.55</td>\n",
       "    </tr>\n",
       "    <tr>\n",
       "      <th>3</th>\n",
       "      <td>4</td>\n",
       "      <td>2</td>\n",
       "      <td>2020</td>\n",
       "      <td>349.60</td>\n",
       "    </tr>\n",
       "  </tbody>\n",
       "</table>\n",
       "</div>"
      ],
      "text/plain": [
       "   beds  baths  year  predictions\n",
       "0     2      1  1985       196.55\n",
       "1     3      1  1998       260.56\n",
       "2     4      3  2005       334.55\n",
       "3     4      2  2020       349.60"
      ]
     },
     "execution_count": 37,
     "metadata": {},
     "output_type": "execute_result"
    }
   ],
   "source": [
    "houses[\"predictions\"] = X @ c\n",
    "houses"
   ]
  },
  {
   "cell_type": "markdown",
   "id": "9d37347d",
   "metadata": {},
   "source": [
    "# Fitting with `np.linalg.solve`"
   ]
  },
  {
   "cell_type": "markdown",
   "id": "fe3174f5",
   "metadata": {},
   "source": [
    "**Above:** we estimated house prices using a linear model based on the dot product as follows:\n",
    "\n",
    "$Xc = y$\n",
    "\n",
    "* $X$ (known) is a matrix with house features (from DataFrame)\n",
    "* $c$ (known) is a vector of coefficients (our model parameters)\n",
    "* $y$ (computed) are the prices\n",
    "\n",
    "**Below:** what if X and y are know, and we want to find c?"
   ]
  },
  {
   "cell_type": "code",
   "execution_count": 45,
   "id": "4572020d",
   "metadata": {},
   "outputs": [
    {
     "data": {
      "text/html": [
       "<div>\n",
       "<style scoped>\n",
       "    .dataframe tbody tr th:only-of-type {\n",
       "        vertical-align: middle;\n",
       "    }\n",
       "\n",
       "    .dataframe tbody tr th {\n",
       "        vertical-align: top;\n",
       "    }\n",
       "\n",
       "    .dataframe thead th {\n",
       "        text-align: right;\n",
       "    }\n",
       "</style>\n",
       "<table border=\"1\" class=\"dataframe\">\n",
       "  <thead>\n",
       "    <tr style=\"text-align: right;\">\n",
       "      <th></th>\n",
       "      <th>beds</th>\n",
       "      <th>baths</th>\n",
       "      <th>year</th>\n",
       "      <th>price</th>\n",
       "    </tr>\n",
       "  </thead>\n",
       "  <tbody>\n",
       "    <tr>\n",
       "      <th>0</th>\n",
       "      <td>2</td>\n",
       "      <td>1</td>\n",
       "      <td>1985</td>\n",
       "      <td>196.55</td>\n",
       "    </tr>\n",
       "    <tr>\n",
       "      <th>1</th>\n",
       "      <td>3</td>\n",
       "      <td>1</td>\n",
       "      <td>1998</td>\n",
       "      <td>260.56</td>\n",
       "    </tr>\n",
       "    <tr>\n",
       "      <th>2</th>\n",
       "      <td>4</td>\n",
       "      <td>3</td>\n",
       "      <td>2005</td>\n",
       "      <td>334.55</td>\n",
       "    </tr>\n",
       "    <tr>\n",
       "      <th>3</th>\n",
       "      <td>4</td>\n",
       "      <td>2</td>\n",
       "      <td>2020</td>\n",
       "      <td>349.60</td>\n",
       "    </tr>\n",
       "  </tbody>\n",
       "</table>\n",
       "</div>"
      ],
      "text/plain": [
       "   beds  baths  year   price\n",
       "0     2      1  1985  196.55\n",
       "1     3      1  1998  260.56\n",
       "2     4      3  2005  334.55\n",
       "3     4      2  2020  349.60"
      ]
     },
     "execution_count": 45,
     "metadata": {},
     "output_type": "execute_result"
    }
   ],
   "source": [
    "houses = pd.DataFrame([[2,1,1985,196.55],\n",
    "                       [3,1,1998,260.56],\n",
    "                       [4,3,2005,334.55],\n",
    "                       [4,2,2020,349.60]],\n",
    "                      columns=[\"beds\", \"baths\", \"year\", \"price\"])\n",
    "houses"
   ]
  },
  {
   "cell_type": "markdown",
   "id": "c3f5e71a",
   "metadata": {},
   "source": [
    "If we assume price is linearly based on the features, with this equation:\n",
    "\n",
    "* $beds*c_0 + baths*c_1 + year*c_2 + 1*c_3 = price$\n",
    "\n",
    "Then we get four equations:\n",
    "\n",
    "* $2*c_0 + 1*c_1 + 1985*c_2 + 1*c_3 = 196.55$\n",
    "* $3*c_0 + 1*c_1 + 1998*c_2 + 1*c_3 = 260.56$\n",
    "* $4*c_0 + 3*c_1 + 2005*c_2 + 1*c_3 = 334.55$\n",
    "* $4*c_0 + 2*c_1 + 2020*c_2 + 1*c_3 = 349.60$"
   ]
  },
  {
   "cell_type": "code",
   "execution_count": 41,
   "id": "58737c47",
   "metadata": {},
   "outputs": [
    {
     "data": {
      "text/plain": [
       "array([[2.000e+00, 1.000e+00, 1.985e+03, 1.000e+00],\n",
       "       [3.000e+00, 1.000e+00, 1.998e+03, 1.000e+00],\n",
       "       [4.000e+00, 3.000e+00, 2.005e+03, 1.000e+00],\n",
       "       [4.000e+00, 2.000e+00, 2.020e+03, 1.000e+00]])"
      ]
     },
     "execution_count": 41,
     "metadata": {},
     "output_type": "execute_result"
    }
   ],
   "source": [
    "X = np.concatenate([houses.values[:, :-1], np.ones(len(houses)).reshape(-1,1)], axis=1)\n",
    "X"
   ]
  },
  {
   "cell_type": "code",
   "execution_count": 49,
   "id": "c7461343",
   "metadata": {},
   "outputs": [
    {
     "data": {
      "text/plain": [
       "array([[196.55],\n",
       "       [260.56],\n",
       "       [334.55],\n",
       "       [349.6 ]])"
      ]
     },
     "execution_count": 49,
     "metadata": {},
     "output_type": "execute_result"
    }
   ],
   "source": [
    "y = houses[\"price\"].values.reshape(-1,1)\n",
    "y"
   ]
  },
  {
   "cell_type": "code",
   "execution_count": 50,
   "id": "d7798e62",
   "metadata": {},
   "outputs": [
    {
     "data": {
      "text/plain": [
       "array([[ 4.230e+01],\n",
       "       [ 1.000e+01],\n",
       "       [ 1.670e+00],\n",
       "       [-3.213e+03]])"
      ]
     },
     "execution_count": 50,
     "metadata": {},
     "output_type": "execute_result"
    }
   ],
   "source": [
    "c = np.linalg.solve(X, y)\n",
    "c"
   ]
  },
  {
   "cell_type": "code",
   "execution_count": 51,
   "id": "df27b0d2",
   "metadata": {},
   "outputs": [
    {
     "data": {
      "text/plain": [
       "array([[196.55],\n",
       "       [260.56],\n",
       "       [334.55],\n",
       "       [349.6 ]])"
      ]
     },
     "execution_count": 51,
     "metadata": {},
     "output_type": "execute_result"
    }
   ],
   "source": [
    "X @ c"
   ]
  },
  {
   "cell_type": "markdown",
   "id": "82d09a77",
   "metadata": {},
   "source": [
    "# Two Perspectives on `Matrix @ vector`"
   ]
  },
  {
   "cell_type": "markdown",
   "id": "85f3d5f2",
   "metadata": {},
   "source": [
    "$\\begin{bmatrix}\n",
    "4&5\\\\6&7\\\\8&9\\\\\n",
    "\\end{bmatrix}\n",
    "\\cdot\n",
    "\\begin{bmatrix}\n",
    "2\\\\3\\\\\n",
    "\\end{bmatrix}\n",
    "= ????\n",
    "$"
   ]
  },
  {
   "cell_type": "code",
   "execution_count": 55,
   "id": "052aa536",
   "metadata": {},
   "outputs": [
    {
     "data": {
      "text/plain": [
       "array([[23],\n",
       "       [33],\n",
       "       [43]])"
      ]
     },
     "execution_count": 55,
     "metadata": {},
     "output_type": "execute_result"
    }
   ],
   "source": [
    "X = np.array([[4,5], [6,7], [8,9]])\n",
    "c = np.array([2, 3]).reshape(-1,1)\n",
    "X @ c"
   ]
  },
  {
   "cell_type": "markdown",
   "id": "2d78caf4",
   "metadata": {},
   "source": [
    "## Row Picture\n",
    "\n",
    "Do dot product one row at a time.\n",
    "\n",
    "$\\begin{bmatrix}\n",
    "4&5\\\\6&7\\\\8&9\\\\\n",
    "\\end{bmatrix}\n",
    "\\cdot\n",
    "\\begin{bmatrix}\n",
    "2\\\\3\\\\\n",
    "\\end{bmatrix}\n",
    "=\n",
    "\\begin{bmatrix}\n",
    "(4*2)+(5*3)\\\\\n",
    "(6*2)+(7*3)\\\\\n",
    "(8*2)+(9*3)\\\\\n",
    "\\end{bmatrix}\n",
    "=\n",
    "\\begin{bmatrix}\n",
    "23\\\\\n",
    "33\\\\\n",
    "43\\\\\n",
    "\\end{bmatrix}\n",
    "$"
   ]
  },
  {
   "cell_type": "code",
   "execution_count": 62,
   "id": "603d4ad4",
   "metadata": {},
   "outputs": [
    {
     "data": {
      "text/plain": [
       "array([[23],\n",
       "       [33],\n",
       "       [43]])"
      ]
     },
     "execution_count": 62,
     "metadata": {},
     "output_type": "execute_result"
    }
   ],
   "source": [
    "def row_dot(X, c):\n",
    "    c = c.reshape(-1)\n",
    "    rv = []\n",
    "    for row in X:\n",
    "        row_total = 0\n",
    "        for i in range(len(row)):\n",
    "            row_total += row[i] * c[i]\n",
    "        rv.append(row_total)\n",
    "    return np.array(rv).reshape(-1,1)\n",
    "    \n",
    "row_dot(X, c)"
   ]
  },
  {
   "cell_type": "markdown",
   "id": "08ff440a",
   "metadata": {},
   "source": [
    "## Column Picture\n",
    "\n",
    "$\\begin{bmatrix}\n",
    "c_0&c_1&c_2\\\\\n",
    "\\end{bmatrix}\n",
    "\\cdot\n",
    "\\begin{bmatrix}\n",
    "x\\\\y\\\\z\\\\\n",
    "\\end{bmatrix}\n",
    "=(c_0*x) + (c_1*y) + (c_2*z)\n",
    "$\n",
    "\n",
    "Dot product takes a **linear combination** of columns.\n",
    "\n",
    "$\\begin{bmatrix}\n",
    "4&5\\\\6&7\\\\8&9\\\\\n",
    "\\end{bmatrix}\n",
    "\\cdot\n",
    "\\begin{bmatrix}\n",
    "2\\\\3\\\\\n",
    "\\end{bmatrix}\n",
    "=\n",
    "\\begin{bmatrix}\n",
    "4\\\\6\\\\8\\\\\n",
    "\\end{bmatrix}*2\n",
    "+\n",
    "\\begin{bmatrix}\n",
    "5\\\\7\\\\9\\\\\n",
    "\\end{bmatrix}*3\n",
    "=\n",
    "\\begin{bmatrix}\n",
    "23\\\\\n",
    "33\\\\\n",
    "43\\\\\n",
    "\\end{bmatrix}\n",
    "$"
   ]
  },
  {
   "cell_type": "code",
   "execution_count": 68,
   "id": "7ca645fb",
   "metadata": {},
   "outputs": [
    {
     "data": {
      "text/plain": [
       "array([[23.],\n",
       "       [33.],\n",
       "       [43.]])"
      ]
     },
     "execution_count": 68,
     "metadata": {},
     "output_type": "execute_result"
    }
   ],
   "source": [
    "def col_dot(X, c):\n",
    "    c = c.reshape(-1)\n",
    "    rv = np.zeros(len(X)).reshape(-1,1)\n",
    "    for i in range(X.shape[1]):\n",
    "        col = X[:, i:i+1]\n",
    "        rv += (col * c[i])\n",
    "    return rv\n",
    "    \n",
    "col_dot(X, c)"
   ]
  }
 ],
 "metadata": {
  "kernelspec": {
   "display_name": "Python 3 (ipykernel)",
   "language": "python",
   "name": "python3"
  },
  "language_info": {
   "codemirror_mode": {
    "name": "ipython",
    "version": 3
   },
   "file_extension": ".py",
   "mimetype": "text/x-python",
   "name": "python",
   "nbconvert_exporter": "python",
   "pygments_lexer": "ipython3",
   "version": "3.8.10"
  }
 },
 "nbformat": 4,
 "nbformat_minor": 5
}
