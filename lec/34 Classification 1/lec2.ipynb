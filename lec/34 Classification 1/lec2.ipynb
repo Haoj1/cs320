{
 "cells": [
  {
   "cell_type": "code",
   "execution_count": 1,
   "metadata": {},
   "outputs": [],
   "source": [
    "import numpy as np\n",
    "import matplotlib.pyplot as plt\n",
    "import pandas as pd\n",
    "from sklearn import datasets\n",
    "from sklearn.model_selection import train_test_split\n",
    "from sklearn.linear_model import LinearRegression, LogisticRegression"
   ]
  },
  {
   "cell_type": "code",
   "execution_count": 2,
   "metadata": {},
   "outputs": [
    {
     "data": {
      "text/plain": [
       "[<matplotlib.lines.Line2D at 0x7f7cf943fa30>]"
      ]
     },
     "execution_count": 2,
     "metadata": {},
     "output_type": "execute_result"
    },
    {
     "data": {
      "image/png": "[encoded data removed]",
      "text/plain": [
       "<Figure size 432x288 with 1 Axes>"
      ]
     },
     "metadata": {
      "needs_background": "light"
     },
     "output_type": "display_data"
    }
   ],
   "source": [
    "def sigmoid(x):\n",
    "    return 1 / (1 + np.exp(-x))\n",
    "\n",
    "x = np.arange(-10, 10, 0.1)\n",
    "y = sigmoid(x)\n",
    "plt.plot(x, y)"
   ]
  },
  {
   "cell_type": "code",
   "execution_count": 3,
   "metadata": {},
   "outputs": [],
   "source": [
    "data = datasets.load_iris()\n",
    "df = pd.DataFrame(data[\"data\"], columns=data[\"feature_names\"]).drop(columns=[\"petal length (cm)\"])\n",
    "df.insert(2, \"const\", 1)\n",
    "df[\"variety\"] = data[\"target_names\"][data[\"target\"]]\n",
    "df.insert(4, \"setosa\", df[\"variety\"] == \"setosa\")"
   ]
  },
  {
   "cell_type": "code",
   "execution_count": 5,
   "metadata": {},
   "outputs": [
    {
     "data": {
      "text/html": [
       "<div>\n",
       "<style scoped>\n",
       "    .dataframe tbody tr th:only-of-type {\n",
       "        vertical-align: middle;\n",
       "    }\n",
       "\n",
       "    .dataframe tbody tr th {\n",
       "        vertical-align: top;\n",
       "    }\n",
       "\n",
       "    .dataframe thead th {\n",
       "        text-align: right;\n",
       "    }\n",
       "</style>\n",
       "<table border=\"1\" class=\"dataframe\">\n",
       "  <thead>\n",
       "    <tr style=\"text-align: right;\">\n",
       "      <th></th>\n",
       "      <th>sepal length (cm)</th>\n",
       "      <th>sepal width (cm)</th>\n",
       "      <th>const</th>\n",
       "      <th>petal width (cm)</th>\n",
       "      <th>setosa</th>\n",
       "      <th>variety</th>\n",
       "    </tr>\n",
       "  </thead>\n",
       "  <tbody>\n",
       "    <tr>\n",
       "      <th>82</th>\n",
       "      <td>5.8</td>\n",
       "      <td>2.7</td>\n",
       "      <td>1</td>\n",
       "      <td>1.2</td>\n",
       "      <td>False</td>\n",
       "      <td>versicolor</td>\n",
       "    </tr>\n",
       "    <tr>\n",
       "      <th>134</th>\n",
       "      <td>6.1</td>\n",
       "      <td>2.6</td>\n",
       "      <td>1</td>\n",
       "      <td>1.4</td>\n",
       "      <td>False</td>\n",
       "      <td>virginica</td>\n",
       "    </tr>\n",
       "    <tr>\n",
       "      <th>114</th>\n",
       "      <td>5.8</td>\n",
       "      <td>2.8</td>\n",
       "      <td>1</td>\n",
       "      <td>2.4</td>\n",
       "      <td>False</td>\n",
       "      <td>virginica</td>\n",
       "    </tr>\n",
       "    <tr>\n",
       "      <th>42</th>\n",
       "      <td>4.4</td>\n",
       "      <td>3.2</td>\n",
       "      <td>1</td>\n",
       "      <td>0.2</td>\n",
       "      <td>True</td>\n",
       "      <td>setosa</td>\n",
       "    </tr>\n",
       "    <tr>\n",
       "      <th>109</th>\n",
       "      <td>7.2</td>\n",
       "      <td>3.6</td>\n",
       "      <td>1</td>\n",
       "      <td>2.5</td>\n",
       "      <td>False</td>\n",
       "      <td>virginica</td>\n",
       "    </tr>\n",
       "  </tbody>\n",
       "</table>\n",
       "</div>"
      ],
      "text/plain": [
       "     sepal length (cm)  sepal width (cm)  const  petal width (cm)  setosa  \\\n",
       "82                 5.8               2.7      1               1.2   False   \n",
       "134                6.1               2.6      1               1.4   False   \n",
       "114                5.8               2.8      1               2.4   False   \n",
       "42                 4.4               3.2      1               0.2    True   \n",
       "109                7.2               3.6      1               2.5   False   \n",
       "\n",
       "        variety  \n",
       "82   versicolor  \n",
       "134   virginica  \n",
       "114   virginica  \n",
       "42       setosa  \n",
       "109   virginica  "
      ]
     },
     "execution_count": 5,
     "metadata": {},
     "output_type": "execute_result"
    }
   ],
   "source": [
    "xcols = [\"sepal length (cm)\", \"sepal width (cm)\", \"const\"]\n",
    "train, test = train_test_split(df, test_size=10, random_state=5)\n",
    "test.head()"
   ]
  },
  {
   "cell_type": "markdown",
   "metadata": {},
   "source": [
    "## Overview\n",
    "\n",
    "1. regression for petal width\n",
    "2. binary classification for setosa: T/F\n",
    "3. binary classification for setosa: prob(T)\n",
    "4. multi-class classification for variety"
   ]
  },
  {
   "cell_type": "code",
   "execution_count": 30,
   "metadata": {},
   "outputs": [
    {
     "name": "stdout",
     "output_type": "stream",
     "text": [
      "0.5805709195672956\n"
     ]
    },
    {
     "data": {
      "text/html": [
       "<div>\n",
       "<style scoped>\n",
       "    .dataframe tbody tr th:only-of-type {\n",
       "        vertical-align: middle;\n",
       "    }\n",
       "\n",
       "    .dataframe tbody tr th {\n",
       "        vertical-align: top;\n",
       "    }\n",
       "\n",
       "    .dataframe thead th {\n",
       "        text-align: right;\n",
       "    }\n",
       "</style>\n",
       "<table border=\"1\" class=\"dataframe\">\n",
       "  <thead>\n",
       "    <tr style=\"text-align: right;\">\n",
       "      <th></th>\n",
       "      <th>sepal length (cm)</th>\n",
       "      <th>sepal width (cm)</th>\n",
       "      <th>const</th>\n",
       "      <th>petal width (cm)</th>\n",
       "      <th>setosa</th>\n",
       "      <th>variety</th>\n",
       "      <th>predict</th>\n",
       "      <th>setosa_prob</th>\n",
       "    </tr>\n",
       "  </thead>\n",
       "  <tbody>\n",
       "    <tr>\n",
       "      <th>82</th>\n",
       "      <td>5.8</td>\n",
       "      <td>2.7</td>\n",
       "      <td>1</td>\n",
       "      <td>1.2</td>\n",
       "      <td>False</td>\n",
       "      <td>versicolor</td>\n",
       "      <td>1.327769</td>\n",
       "      <td>0.065434</td>\n",
       "    </tr>\n",
       "    <tr>\n",
       "      <th>134</th>\n",
       "      <td>6.1</td>\n",
       "      <td>2.6</td>\n",
       "      <td>1</td>\n",
       "      <td>1.4</td>\n",
       "      <td>False</td>\n",
       "      <td>virginica</td>\n",
       "      <td>1.590835</td>\n",
       "      <td>0.018735</td>\n",
       "    </tr>\n",
       "    <tr>\n",
       "      <th>114</th>\n",
       "      <td>5.8</td>\n",
       "      <td>2.8</td>\n",
       "      <td>1</td>\n",
       "      <td>2.4</td>\n",
       "      <td>False</td>\n",
       "      <td>virginica</td>\n",
       "      <td>1.279061</td>\n",
       "      <td>0.086894</td>\n",
       "    </tr>\n",
       "    <tr>\n",
       "      <th>42</th>\n",
       "      <td>4.4</td>\n",
       "      <td>3.2</td>\n",
       "      <td>1</td>\n",
       "      <td>0.2</td>\n",
       "      <td>True</td>\n",
       "      <td>setosa</td>\n",
       "      <td>0.083889</td>\n",
       "      <td>0.970894</td>\n",
       "    </tr>\n",
       "    <tr>\n",
       "      <th>109</th>\n",
       "      <td>7.2</td>\n",
       "      <td>3.6</td>\n",
       "      <td>1</td>\n",
       "      <td>2.5</td>\n",
       "      <td>False</td>\n",
       "      <td>virginica</td>\n",
       "      <td>1.889735</td>\n",
       "      <td>0.010675</td>\n",
       "    </tr>\n",
       "    <tr>\n",
       "      <th>57</th>\n",
       "      <td>4.9</td>\n",
       "      <td>2.4</td>\n",
       "      <td>1</td>\n",
       "      <td>1.0</td>\n",
       "      <td>False</td>\n",
       "      <td>versicolor</td>\n",
       "      <td>0.830818</td>\n",
       "      <td>0.353891</td>\n",
       "    </tr>\n",
       "    <tr>\n",
       "      <th>1</th>\n",
       "      <td>4.9</td>\n",
       "      <td>3.0</td>\n",
       "      <td>1</td>\n",
       "      <td>0.2</td>\n",
       "      <td>True</td>\n",
       "      <td>setosa</td>\n",
       "      <td>0.538569</td>\n",
       "      <td>0.775434</td>\n",
       "    </tr>\n",
       "    <tr>\n",
       "      <th>70</th>\n",
       "      <td>5.9</td>\n",
       "      <td>3.2</td>\n",
       "      <td>1</td>\n",
       "      <td>1.8</td>\n",
       "      <td>False</td>\n",
       "      <td>versicolor</td>\n",
       "      <td>1.155681</td>\n",
       "      <td>0.189151</td>\n",
       "    </tr>\n",
       "    <tr>\n",
       "      <th>25</th>\n",
       "      <td>5.0</td>\n",
       "      <td>3.0</td>\n",
       "      <td>1</td>\n",
       "      <td>0.2</td>\n",
       "      <td>True</td>\n",
       "      <td>setosa</td>\n",
       "      <td>0.610022</td>\n",
       "      <td>0.712672</td>\n",
       "    </tr>\n",
       "    <tr>\n",
       "      <th>84</th>\n",
       "      <td>5.4</td>\n",
       "      <td>3.0</td>\n",
       "      <td>1</td>\n",
       "      <td>1.5</td>\n",
       "      <td>False</td>\n",
       "      <td>versicolor</td>\n",
       "      <td>0.895833</td>\n",
       "      <td>0.397711</td>\n",
       "    </tr>\n",
       "  </tbody>\n",
       "</table>\n",
       "</div>"
      ],
      "text/plain": [
       "     sepal length (cm)  sepal width (cm)  const  petal width (cm)  setosa  \\\n",
       "82                 5.8               2.7      1               1.2   False   \n",
       "134                6.1               2.6      1               1.4   False   \n",
       "114                5.8               2.8      1               2.4   False   \n",
       "42                 4.4               3.2      1               0.2    True   \n",
       "109                7.2               3.6      1               2.5   False   \n",
       "57                 4.9               2.4      1               1.0   False   \n",
       "1                  4.9               3.0      1               0.2    True   \n",
       "70                 5.9               3.2      1               1.8   False   \n",
       "25                 5.0               3.0      1               0.2    True   \n",
       "84                 5.4               3.0      1               1.5   False   \n",
       "\n",
       "        variety   predict  setosa_prob  \n",
       "82   versicolor  1.327769     0.065434  \n",
       "134   virginica  1.590835     0.018735  \n",
       "114   virginica  1.279061     0.086894  \n",
       "42       setosa  0.083889     0.970894  \n",
       "109   virginica  1.889735     0.010675  \n",
       "57   versicolor  0.830818     0.353891  \n",
       "1        setosa  0.538569     0.775434  \n",
       "70   versicolor  1.155681     0.189151  \n",
       "25       setosa  0.610022     0.712672  \n",
       "84   versicolor  0.895833     0.397711  "
      ]
     },
     "execution_count": 30,
     "metadata": {},
     "output_type": "execute_result"
    }
   ],
   "source": [
    "# model 1: features => petal width\n",
    "xcols = [\"sepal length (cm)\", \"sepal width (cm)\", \"const\"]\n",
    "reg = LinearRegression(fit_intercept=False)\n",
    "reg.fit(train[xcols], train[\"petal width (cm)\"])\n",
    "print(reg.score(test[xcols], test[\"petal width (cm)\"]))\n",
    "test[\"predict\"] = reg.predict(test[xcols])\n",
    "test"
   ]
  },
  {
   "cell_type": "code",
   "execution_count": 31,
   "metadata": {},
   "outputs": [
    {
     "name": "stdout",
     "output_type": "stream",
     "text": [
      "1.0\n"
     ]
    },
    {
     "data": {
      "text/html": [
       "<div>\n",
       "<style scoped>\n",
       "    .dataframe tbody tr th:only-of-type {\n",
       "        vertical-align: middle;\n",
       "    }\n",
       "\n",
       "    .dataframe tbody tr th {\n",
       "        vertical-align: top;\n",
       "    }\n",
       "\n",
       "    .dataframe thead th {\n",
       "        text-align: right;\n",
       "    }\n",
       "</style>\n",
       "<table border=\"1\" class=\"dataframe\">\n",
       "  <thead>\n",
       "    <tr style=\"text-align: right;\">\n",
       "      <th></th>\n",
       "      <th>sepal length (cm)</th>\n",
       "      <th>sepal width (cm)</th>\n",
       "      <th>const</th>\n",
       "      <th>petal width (cm)</th>\n",
       "      <th>setosa</th>\n",
       "      <th>variety</th>\n",
       "      <th>predict</th>\n",
       "      <th>setosa_prob</th>\n",
       "    </tr>\n",
       "  </thead>\n",
       "  <tbody>\n",
       "    <tr>\n",
       "      <th>82</th>\n",
       "      <td>5.8</td>\n",
       "      <td>2.7</td>\n",
       "      <td>1</td>\n",
       "      <td>1.2</td>\n",
       "      <td>False</td>\n",
       "      <td>versicolor</td>\n",
       "      <td>False</td>\n",
       "      <td>0.065434</td>\n",
       "    </tr>\n",
       "    <tr>\n",
       "      <th>134</th>\n",
       "      <td>6.1</td>\n",
       "      <td>2.6</td>\n",
       "      <td>1</td>\n",
       "      <td>1.4</td>\n",
       "      <td>False</td>\n",
       "      <td>virginica</td>\n",
       "      <td>False</td>\n",
       "      <td>0.018735</td>\n",
       "    </tr>\n",
       "    <tr>\n",
       "      <th>114</th>\n",
       "      <td>5.8</td>\n",
       "      <td>2.8</td>\n",
       "      <td>1</td>\n",
       "      <td>2.4</td>\n",
       "      <td>False</td>\n",
       "      <td>virginica</td>\n",
       "      <td>False</td>\n",
       "      <td>0.086894</td>\n",
       "    </tr>\n",
       "    <tr>\n",
       "      <th>42</th>\n",
       "      <td>4.4</td>\n",
       "      <td>3.2</td>\n",
       "      <td>1</td>\n",
       "      <td>0.2</td>\n",
       "      <td>True</td>\n",
       "      <td>setosa</td>\n",
       "      <td>True</td>\n",
       "      <td>0.970894</td>\n",
       "    </tr>\n",
       "    <tr>\n",
       "      <th>109</th>\n",
       "      <td>7.2</td>\n",
       "      <td>3.6</td>\n",
       "      <td>1</td>\n",
       "      <td>2.5</td>\n",
       "      <td>False</td>\n",
       "      <td>virginica</td>\n",
       "      <td>False</td>\n",
       "      <td>0.010675</td>\n",
       "    </tr>\n",
       "    <tr>\n",
       "      <th>57</th>\n",
       "      <td>4.9</td>\n",
       "      <td>2.4</td>\n",
       "      <td>1</td>\n",
       "      <td>1.0</td>\n",
       "      <td>False</td>\n",
       "      <td>versicolor</td>\n",
       "      <td>False</td>\n",
       "      <td>0.353891</td>\n",
       "    </tr>\n",
       "    <tr>\n",
       "      <th>1</th>\n",
       "      <td>4.9</td>\n",
       "      <td>3.0</td>\n",
       "      <td>1</td>\n",
       "      <td>0.2</td>\n",
       "      <td>True</td>\n",
       "      <td>setosa</td>\n",
       "      <td>True</td>\n",
       "      <td>0.775434</td>\n",
       "    </tr>\n",
       "    <tr>\n",
       "      <th>70</th>\n",
       "      <td>5.9</td>\n",
       "      <td>3.2</td>\n",
       "      <td>1</td>\n",
       "      <td>1.8</td>\n",
       "      <td>False</td>\n",
       "      <td>versicolor</td>\n",
       "      <td>False</td>\n",
       "      <td>0.189151</td>\n",
       "    </tr>\n",
       "    <tr>\n",
       "      <th>25</th>\n",
       "      <td>5.0</td>\n",
       "      <td>3.0</td>\n",
       "      <td>1</td>\n",
       "      <td>0.2</td>\n",
       "      <td>True</td>\n",
       "      <td>setosa</td>\n",
       "      <td>True</td>\n",
       "      <td>0.712672</td>\n",
       "    </tr>\n",
       "    <tr>\n",
       "      <th>84</th>\n",
       "      <td>5.4</td>\n",
       "      <td>3.0</td>\n",
       "      <td>1</td>\n",
       "      <td>1.5</td>\n",
       "      <td>False</td>\n",
       "      <td>versicolor</td>\n",
       "      <td>False</td>\n",
       "      <td>0.397711</td>\n",
       "    </tr>\n",
       "  </tbody>\n",
       "</table>\n",
       "</div>"
      ],
      "text/plain": [
       "     sepal length (cm)  sepal width (cm)  const  petal width (cm)  setosa  \\\n",
       "82                 5.8               2.7      1               1.2   False   \n",
       "134                6.1               2.6      1               1.4   False   \n",
       "114                5.8               2.8      1               2.4   False   \n",
       "42                 4.4               3.2      1               0.2    True   \n",
       "109                7.2               3.6      1               2.5   False   \n",
       "57                 4.9               2.4      1               1.0   False   \n",
       "1                  4.9               3.0      1               0.2    True   \n",
       "70                 5.9               3.2      1               1.8   False   \n",
       "25                 5.0               3.0      1               0.2    True   \n",
       "84                 5.4               3.0      1               1.5   False   \n",
       "\n",
       "        variety  predict  setosa_prob  \n",
       "82   versicolor    False     0.065434  \n",
       "134   virginica    False     0.018735  \n",
       "114   virginica    False     0.086894  \n",
       "42       setosa     True     0.970894  \n",
       "109   virginica    False     0.010675  \n",
       "57   versicolor    False     0.353891  \n",
       "1        setosa     True     0.775434  \n",
       "70   versicolor    False     0.189151  \n",
       "25       setosa     True     0.712672  \n",
       "84   versicolor    False     0.397711  "
      ]
     },
     "execution_count": 31,
     "metadata": {},
     "output_type": "execute_result"
    }
   ],
   "source": [
    "# model 2: features => setosa (is it one?)\n",
    "xcols = [\"sepal length (cm)\", \"sepal width (cm)\", \"const\"]\n",
    "cls = LogisticRegression(fit_intercept=False)\n",
    "cls.fit(train[xcols], train[\"setosa\"])\n",
    "print(cls.score(test[xcols], test[\"setosa\"])) # accuracy (what % did we get right?)\n",
    "test[\"predict\"] = cls.predict(test[xcols])\n",
    "test"
   ]
  },
  {
   "cell_type": "code",
   "execution_count": 12,
   "metadata": {},
   "outputs": [
    {
     "data": {
      "text/plain": [
       "array([[0.93456595, 0.06543405],\n",
       "       [0.98126538, 0.01873462],\n",
       "       [0.91310638, 0.08689362],\n",
       "       [0.0291064 , 0.9708936 ],\n",
       "       [0.98932517, 0.01067483],\n",
       "       [0.64610885, 0.35389115],\n",
       "       [0.22456635, 0.77543365],\n",
       "       [0.81084868, 0.18915132],\n",
       "       [0.2873277 , 0.7126723 ],\n",
       "       [0.60228931, 0.39771069]])"
      ]
     },
     "execution_count": 12,
     "metadata": {},
     "output_type": "execute_result"
    }
   ],
   "source": [
    "# [[False Prob, True Prob],\n",
    "#  [False Prob, True Prob],\n",
    "#  ...]\n",
    "test[\"setosa_prob\"] = cls.predict_proba(test[xcols])[:, 1]\n",
    "cls.predict_proba(test[xcols])"
   ]
  },
  {
   "cell_type": "code",
   "execution_count": 13,
   "metadata": {},
   "outputs": [
    {
     "data": {
      "text/html": [
       "<div>\n",
       "<style scoped>\n",
       "    .dataframe tbody tr th:only-of-type {\n",
       "        vertical-align: middle;\n",
       "    }\n",
       "\n",
       "    .dataframe tbody tr th {\n",
       "        vertical-align: top;\n",
       "    }\n",
       "\n",
       "    .dataframe thead th {\n",
       "        text-align: right;\n",
       "    }\n",
       "</style>\n",
       "<table border=\"1\" class=\"dataframe\">\n",
       "  <thead>\n",
       "    <tr style=\"text-align: right;\">\n",
       "      <th></th>\n",
       "      <th>sepal length (cm)</th>\n",
       "      <th>sepal width (cm)</th>\n",
       "      <th>const</th>\n",
       "      <th>petal width (cm)</th>\n",
       "      <th>setosa</th>\n",
       "      <th>variety</th>\n",
       "      <th>predict</th>\n",
       "      <th>setosa_prob</th>\n",
       "    </tr>\n",
       "  </thead>\n",
       "  <tbody>\n",
       "    <tr>\n",
       "      <th>82</th>\n",
       "      <td>5.8</td>\n",
       "      <td>2.7</td>\n",
       "      <td>1</td>\n",
       "      <td>1.2</td>\n",
       "      <td>False</td>\n",
       "      <td>versicolor</td>\n",
       "      <td>False</td>\n",
       "      <td>0.065434</td>\n",
       "    </tr>\n",
       "    <tr>\n",
       "      <th>134</th>\n",
       "      <td>6.1</td>\n",
       "      <td>2.6</td>\n",
       "      <td>1</td>\n",
       "      <td>1.4</td>\n",
       "      <td>False</td>\n",
       "      <td>virginica</td>\n",
       "      <td>False</td>\n",
       "      <td>0.018735</td>\n",
       "    </tr>\n",
       "    <tr>\n",
       "      <th>114</th>\n",
       "      <td>5.8</td>\n",
       "      <td>2.8</td>\n",
       "      <td>1</td>\n",
       "      <td>2.4</td>\n",
       "      <td>False</td>\n",
       "      <td>virginica</td>\n",
       "      <td>False</td>\n",
       "      <td>0.086894</td>\n",
       "    </tr>\n",
       "    <tr>\n",
       "      <th>42</th>\n",
       "      <td>4.4</td>\n",
       "      <td>3.2</td>\n",
       "      <td>1</td>\n",
       "      <td>0.2</td>\n",
       "      <td>True</td>\n",
       "      <td>setosa</td>\n",
       "      <td>True</td>\n",
       "      <td>0.970894</td>\n",
       "    </tr>\n",
       "    <tr>\n",
       "      <th>109</th>\n",
       "      <td>7.2</td>\n",
       "      <td>3.6</td>\n",
       "      <td>1</td>\n",
       "      <td>2.5</td>\n",
       "      <td>False</td>\n",
       "      <td>virginica</td>\n",
       "      <td>False</td>\n",
       "      <td>0.010675</td>\n",
       "    </tr>\n",
       "    <tr>\n",
       "      <th>57</th>\n",
       "      <td>4.9</td>\n",
       "      <td>2.4</td>\n",
       "      <td>1</td>\n",
       "      <td>1.0</td>\n",
       "      <td>False</td>\n",
       "      <td>versicolor</td>\n",
       "      <td>False</td>\n",
       "      <td>0.353891</td>\n",
       "    </tr>\n",
       "    <tr>\n",
       "      <th>1</th>\n",
       "      <td>4.9</td>\n",
       "      <td>3.0</td>\n",
       "      <td>1</td>\n",
       "      <td>0.2</td>\n",
       "      <td>True</td>\n",
       "      <td>setosa</td>\n",
       "      <td>True</td>\n",
       "      <td>0.775434</td>\n",
       "    </tr>\n",
       "    <tr>\n",
       "      <th>70</th>\n",
       "      <td>5.9</td>\n",
       "      <td>3.2</td>\n",
       "      <td>1</td>\n",
       "      <td>1.8</td>\n",
       "      <td>False</td>\n",
       "      <td>versicolor</td>\n",
       "      <td>False</td>\n",
       "      <td>0.189151</td>\n",
       "    </tr>\n",
       "    <tr>\n",
       "      <th>25</th>\n",
       "      <td>5.0</td>\n",
       "      <td>3.0</td>\n",
       "      <td>1</td>\n",
       "      <td>0.2</td>\n",
       "      <td>True</td>\n",
       "      <td>setosa</td>\n",
       "      <td>True</td>\n",
       "      <td>0.712672</td>\n",
       "    </tr>\n",
       "    <tr>\n",
       "      <th>84</th>\n",
       "      <td>5.4</td>\n",
       "      <td>3.0</td>\n",
       "      <td>1</td>\n",
       "      <td>1.5</td>\n",
       "      <td>False</td>\n",
       "      <td>versicolor</td>\n",
       "      <td>False</td>\n",
       "      <td>0.397711</td>\n",
       "    </tr>\n",
       "  </tbody>\n",
       "</table>\n",
       "</div>"
      ],
      "text/plain": [
       "     sepal length (cm)  sepal width (cm)  const  petal width (cm)  setosa  \\\n",
       "82                 5.8               2.7      1               1.2   False   \n",
       "134                6.1               2.6      1               1.4   False   \n",
       "114                5.8               2.8      1               2.4   False   \n",
       "42                 4.4               3.2      1               0.2    True   \n",
       "109                7.2               3.6      1               2.5   False   \n",
       "57                 4.9               2.4      1               1.0   False   \n",
       "1                  4.9               3.0      1               0.2    True   \n",
       "70                 5.9               3.2      1               1.8   False   \n",
       "25                 5.0               3.0      1               0.2    True   \n",
       "84                 5.4               3.0      1               1.5   False   \n",
       "\n",
       "        variety  predict  setosa_prob  \n",
       "82   versicolor    False     0.065434  \n",
       "134   virginica    False     0.018735  \n",
       "114   virginica    False     0.086894  \n",
       "42       setosa     True     0.970894  \n",
       "109   virginica    False     0.010675  \n",
       "57   versicolor    False     0.353891  \n",
       "1        setosa     True     0.775434  \n",
       "70   versicolor    False     0.189151  \n",
       "25       setosa     True     0.712672  \n",
       "84   versicolor    False     0.397711  "
      ]
     },
     "execution_count": 13,
     "metadata": {},
     "output_type": "execute_result"
    }
   ],
   "source": [
    "test"
   ]
  },
  {
   "cell_type": "code",
   "execution_count": 32,
   "metadata": {},
   "outputs": [
    {
     "name": "stdout",
     "output_type": "stream",
     "text": [
      "0.9\n"
     ]
    },
    {
     "data": {
      "text/html": [
       "<div>\n",
       "<style scoped>\n",
       "    .dataframe tbody tr th:only-of-type {\n",
       "        vertical-align: middle;\n",
       "    }\n",
       "\n",
       "    .dataframe tbody tr th {\n",
       "        vertical-align: top;\n",
       "    }\n",
       "\n",
       "    .dataframe thead th {\n",
       "        text-align: right;\n",
       "    }\n",
       "</style>\n",
       "<table border=\"1\" class=\"dataframe\">\n",
       "  <thead>\n",
       "    <tr style=\"text-align: right;\">\n",
       "      <th></th>\n",
       "      <th>sepal length (cm)</th>\n",
       "      <th>sepal width (cm)</th>\n",
       "      <th>const</th>\n",
       "      <th>petal width (cm)</th>\n",
       "      <th>setosa</th>\n",
       "      <th>variety</th>\n",
       "      <th>predict</th>\n",
       "      <th>setosa_prob</th>\n",
       "    </tr>\n",
       "  </thead>\n",
       "  <tbody>\n",
       "    <tr>\n",
       "      <th>82</th>\n",
       "      <td>5.8</td>\n",
       "      <td>2.7</td>\n",
       "      <td>1</td>\n",
       "      <td>1.2</td>\n",
       "      <td>False</td>\n",
       "      <td>versicolor</td>\n",
       "      <td>versicolor</td>\n",
       "      <td>0.065434</td>\n",
       "    </tr>\n",
       "    <tr>\n",
       "      <th>134</th>\n",
       "      <td>6.1</td>\n",
       "      <td>2.6</td>\n",
       "      <td>1</td>\n",
       "      <td>1.4</td>\n",
       "      <td>False</td>\n",
       "      <td>virginica</td>\n",
       "      <td>virginica</td>\n",
       "      <td>0.018735</td>\n",
       "    </tr>\n",
       "    <tr>\n",
       "      <th>114</th>\n",
       "      <td>5.8</td>\n",
       "      <td>2.8</td>\n",
       "      <td>1</td>\n",
       "      <td>2.4</td>\n",
       "      <td>False</td>\n",
       "      <td>virginica</td>\n",
       "      <td>versicolor</td>\n",
       "      <td>0.086894</td>\n",
       "    </tr>\n",
       "    <tr>\n",
       "      <th>42</th>\n",
       "      <td>4.4</td>\n",
       "      <td>3.2</td>\n",
       "      <td>1</td>\n",
       "      <td>0.2</td>\n",
       "      <td>True</td>\n",
       "      <td>setosa</td>\n",
       "      <td>setosa</td>\n",
       "      <td>0.970894</td>\n",
       "    </tr>\n",
       "    <tr>\n",
       "      <th>109</th>\n",
       "      <td>7.2</td>\n",
       "      <td>3.6</td>\n",
       "      <td>1</td>\n",
       "      <td>2.5</td>\n",
       "      <td>False</td>\n",
       "      <td>virginica</td>\n",
       "      <td>virginica</td>\n",
       "      <td>0.010675</td>\n",
       "    </tr>\n",
       "    <tr>\n",
       "      <th>57</th>\n",
       "      <td>4.9</td>\n",
       "      <td>2.4</td>\n",
       "      <td>1</td>\n",
       "      <td>1.0</td>\n",
       "      <td>False</td>\n",
       "      <td>versicolor</td>\n",
       "      <td>versicolor</td>\n",
       "      <td>0.353891</td>\n",
       "    </tr>\n",
       "    <tr>\n",
       "      <th>1</th>\n",
       "      <td>4.9</td>\n",
       "      <td>3.0</td>\n",
       "      <td>1</td>\n",
       "      <td>0.2</td>\n",
       "      <td>True</td>\n",
       "      <td>setosa</td>\n",
       "      <td>setosa</td>\n",
       "      <td>0.775434</td>\n",
       "    </tr>\n",
       "    <tr>\n",
       "      <th>70</th>\n",
       "      <td>5.9</td>\n",
       "      <td>3.2</td>\n",
       "      <td>1</td>\n",
       "      <td>1.8</td>\n",
       "      <td>False</td>\n",
       "      <td>versicolor</td>\n",
       "      <td>versicolor</td>\n",
       "      <td>0.189151</td>\n",
       "    </tr>\n",
       "    <tr>\n",
       "      <th>25</th>\n",
       "      <td>5.0</td>\n",
       "      <td>3.0</td>\n",
       "      <td>1</td>\n",
       "      <td>0.2</td>\n",
       "      <td>True</td>\n",
       "      <td>setosa</td>\n",
       "      <td>setosa</td>\n",
       "      <td>0.712672</td>\n",
       "    </tr>\n",
       "    <tr>\n",
       "      <th>84</th>\n",
       "      <td>5.4</td>\n",
       "      <td>3.0</td>\n",
       "      <td>1</td>\n",
       "      <td>1.5</td>\n",
       "      <td>False</td>\n",
       "      <td>versicolor</td>\n",
       "      <td>versicolor</td>\n",
       "      <td>0.397711</td>\n",
       "    </tr>\n",
       "  </tbody>\n",
       "</table>\n",
       "</div>"
      ],
      "text/plain": [
       "     sepal length (cm)  sepal width (cm)  const  petal width (cm)  setosa  \\\n",
       "82                 5.8               2.7      1               1.2   False   \n",
       "134                6.1               2.6      1               1.4   False   \n",
       "114                5.8               2.8      1               2.4   False   \n",
       "42                 4.4               3.2      1               0.2    True   \n",
       "109                7.2               3.6      1               2.5   False   \n",
       "57                 4.9               2.4      1               1.0   False   \n",
       "1                  4.9               3.0      1               0.2    True   \n",
       "70                 5.9               3.2      1               1.8   False   \n",
       "25                 5.0               3.0      1               0.2    True   \n",
       "84                 5.4               3.0      1               1.5   False   \n",
       "\n",
       "        variety     predict  setosa_prob  \n",
       "82   versicolor  versicolor     0.065434  \n",
       "134   virginica   virginica     0.018735  \n",
       "114   virginica  versicolor     0.086894  \n",
       "42       setosa      setosa     0.970894  \n",
       "109   virginica   virginica     0.010675  \n",
       "57   versicolor  versicolor     0.353891  \n",
       "1        setosa      setosa     0.775434  \n",
       "70   versicolor  versicolor     0.189151  \n",
       "25       setosa      setosa     0.712672  \n",
       "84   versicolor  versicolor     0.397711  "
      ]
     },
     "execution_count": 32,
     "metadata": {},
     "output_type": "execute_result"
    }
   ],
   "source": [
    "# model 3: features => variety\n",
    "xcols = [\"sepal length (cm)\", \"sepal width (cm)\", \"const\"]\n",
    "mult = LogisticRegression(fit_intercept=False)\n",
    "mult.fit(train[xcols], train[\"variety\"])\n",
    "print(mult.score(test[xcols], test[\"variety\"]))\n",
    "test[\"predict\"] = mult.predict(test[xcols])\n",
    "test"
   ]
  },
  {
   "cell_type": "code",
   "execution_count": 16,
   "metadata": {},
   "outputs": [
    {
     "data": {
      "text/plain": [
       "(LinearRegression(), LogisticRegression(), LogisticRegression())"
      ]
     },
     "execution_count": 16,
     "metadata": {},
     "output_type": "execute_result"
    }
   ],
   "source": [
    "reg, cls, mult"
   ]
  },
  {
   "cell_type": "code",
   "execution_count": 18,
   "metadata": {},
   "outputs": [
    {
     "name": "stdout",
     "output_type": "stream",
     "text": [
      "[ 0.71452794 -0.48708032  0.        ]\n",
      "\n",
      "[[-3.30852859e+00  3.06871640e+00 -3.47832585e-04]]\n",
      "\n",
      "[[-2.62903541e+00  2.24690576e+00 -2.74957717e-05]\n",
      " [ 6.01059000e-01 -1.57847216e+00  1.59536953e-04]\n",
      " [ 2.02797641e+00 -6.68433601e-01 -1.32041182e-04]]\n"
     ]
    }
   ],
   "source": [
    "print(reg.coef_)\n",
    "print()\n",
    "print(cls.coef_)\n",
    "print()\n",
    "print(mult.coef_)"
   ]
  },
  {
   "cell_type": "code",
   "execution_count": 22,
   "metadata": {},
   "outputs": [],
   "source": [
    "X = test[xcols].values"
   ]
  },
  {
   "cell_type": "code",
   "execution_count": 33,
   "metadata": {},
   "outputs": [
    {
     "data": {
      "text/plain": [
       "array([[1.32776857],\n",
       "       [1.59083498],\n",
       "       [1.27906054],\n",
       "       [0.0838893 ],\n",
       "       [1.8897354 ],\n",
       "       [0.83081752],\n",
       "       [0.53856933],\n",
       "       [1.15568121],\n",
       "       [0.61002213],\n",
       "       [0.8958333 ]])"
      ]
     },
     "execution_count": 33,
     "metadata": {},
     "output_type": "execute_result"
    }
   ],
   "source": [
    "# reg.predict\n",
    "X @ reg.coef_.reshape(-1,1)"
   ]
  },
  {
   "cell_type": "code",
   "execution_count": 35,
   "metadata": {},
   "outputs": [
    {
     "data": {
      "text/plain": [
       "array([[False],\n",
       "       [False],\n",
       "       [False],\n",
       "       [ True],\n",
       "       [False],\n",
       "       [False],\n",
       "       [ True],\n",
       "       [False],\n",
       "       [ True],\n",
       "       [False]])"
      ]
     },
     "execution_count": 35,
     "metadata": {},
     "output_type": "execute_result"
    }
   ],
   "source": [
    "# cls.predict\n",
    "X @ cls.coef_.reshape(-1,1) > 0"
   ]
  },
  {
   "cell_type": "code",
   "execution_count": 38,
   "metadata": {},
   "outputs": [
    {
     "data": {
      "text/plain": [
       "array([[0.0594372 ],\n",
       "       [0.02027497],\n",
       "       [0.08536759],\n",
       "       [0.92943003],\n",
       "       [0.06654275],\n",
       "       [0.14772055],\n",
       "       [0.64277335],\n",
       "       [0.25852393],\n",
       "       [0.58548069],\n",
       "       [0.34907247]])"
      ]
     },
     "execution_count": 38,
     "metadata": {},
     "output_type": "execute_result"
    }
   ],
   "source": [
    "# cls.predict_proba\n",
    "sigmoid(X @ cls.coef_.reshape(-1,1))"
   ]
  },
  {
   "cell_type": "code",
   "execution_count": 39,
   "metadata": {},
   "outputs": [],
   "source": [
    "# mult.predict"
   ]
  },
  {
   "cell_type": "code",
   "execution_count": 42,
   "metadata": {},
   "outputs": [
    {
     "data": {
      "text/plain": [
       "array([[-1.80097204,  0.64875706,  1.15221498],\n",
       "       [ 3.01989635, -1.46308696, -1.55680939],\n",
       "       [ 0.69404974,  1.04354373, -1.73759347]])"
      ]
     },
     "execution_count": 42,
     "metadata": {},
     "output_type": "execute_result"
    }
   ],
   "source": [
    "# each column corresponds to a iris variety\n",
    "# the column has coefficients to multiply X and score how much it is like that variety\n",
    "mult.coef_.T"
   ]
  },
  {
   "cell_type": "code",
   "execution_count": 43,
   "metadata": {},
   "outputs": [
    {
     "data": {
      "text/plain": [
       "array([[-1.59786793],\n",
       "       [-2.44014918],\n",
       "       [-1.2958783 ],\n",
       "       [ 2.43344109],\n",
       "       [-1.40132207],\n",
       "       [-0.88296201],\n",
       "       [ 0.9289758 ],\n",
       "       [-0.26801696],\n",
       "       [ 0.7488786 ],\n",
       "       [ 0.02848978]])"
      ]
     },
     "execution_count": 43,
     "metadata": {},
     "output_type": "execute_result"
    }
   ],
   "source": [
    "X @ mult.coef_.T[:, 0:1]"
   ]
  },
  {
   "cell_type": "code",
   "execution_count": 44,
   "metadata": {},
   "outputs": [
    {
     "data": {
      "text/plain": [
       "array([[ 0.85599987],\n",
       "       [ 1.19693568],\n",
       "       [ 0.70969118],\n",
       "       [-0.78380349],\n",
       "       [ 0.44748149],\n",
       "       [ 0.71104461],\n",
       "       [-0.16680757],\n",
       "       [ 0.1893321 ],\n",
       "       [-0.10193186],\n",
       "       [ 0.15757096]])"
      ]
     },
     "execution_count": 44,
     "metadata": {},
     "output_type": "execute_result"
    }
   ],
   "source": [
    "X @ mult.coef_.T[:, 1:2]"
   ]
  },
  {
   "cell_type": "code",
   "execution_count": 45,
   "metadata": {},
   "outputs": [
    {
     "data": {
      "text/plain": [
       "array([[-1.59786793,  0.85599987,  0.74186806],\n",
       "       [-2.44014918,  1.19693568,  1.24321349],\n",
       "       [-1.2958783 ,  0.70969118,  0.58618712],\n",
       "       [ 2.43344109, -0.78380349, -1.6496376 ],\n",
       "       [-1.40132207,  0.44748149,  0.95384058],\n",
       "       [-0.88296201,  0.71104461,  0.1719174 ],\n",
       "       [ 0.9289758 , -0.16680757, -0.76216824],\n",
       "       [-0.26801696,  0.1893321 ,  0.07868487],\n",
       "       [ 0.7488786 , -0.10193186, -0.64694674],\n",
       "       [ 0.02848978,  0.15757096, -0.18606075]])"
      ]
     },
     "execution_count": 45,
     "metadata": {},
     "output_type": "execute_result"
    }
   ],
   "source": [
    "# row vector dot coef vector (but nested loop over every row and every set of coef)\n",
    "X @ mult.coef_.T"
   ]
  },
  {
   "cell_type": "code",
   "execution_count": 46,
   "metadata": {},
   "outputs": [
    {
     "data": {
      "text/plain": [
       "2.4334410884892166"
      ]
     },
     "execution_count": 46,
     "metadata": {},
     "output_type": "execute_result"
    }
   ],
   "source": [
    "(X @ mult.coef_.T).max() # biggest score anywhere"
   ]
  },
  {
   "cell_type": "code",
   "execution_count": 48,
   "metadata": {},
   "outputs": [
    {
     "data": {
      "text/plain": [
       "array([0.85599987, 1.24321349, 0.70969118, 2.43344109, 0.95384058,\n",
       "       0.71104461, 0.9289758 , 0.1893321 , 0.7488786 , 0.15757096])"
      ]
     },
     "execution_count": 48,
     "metadata": {},
     "output_type": "execute_result"
    }
   ],
   "source": [
    "(X @ mult.coef_.T).max(axis=1) # biggest score of each row"
   ]
  },
  {
   "cell_type": "code",
   "execution_count": 49,
   "metadata": {},
   "outputs": [
    {
     "data": {
      "text/plain": [
       "array([1, 2, 1, 0, 2, 1, 0, 1, 0, 1])"
      ]
     },
     "execution_count": 49,
     "metadata": {},
     "output_type": "execute_result"
    }
   ],
   "source": [
    "(X @ mult.coef_.T).argmax(axis=1) # index of biggest score of each row"
   ]
  },
  {
   "cell_type": "code",
   "execution_count": 51,
   "metadata": {},
   "outputs": [
    {
     "name": "stdout",
     "output_type": "stream",
     "text": [
      "['setosa' 'versicolor' 'virginica']\n"
     ]
    },
    {
     "data": {
      "text/plain": [
       "array(['setosa', 'setosa', 'setosa', 'versicolor', 'virginica',\n",
       "       'virginica'], dtype=object)"
      ]
     },
     "execution_count": 51,
     "metadata": {},
     "output_type": "execute_result"
    }
   ],
   "source": [
    "print(mult.classes_)\n",
    "mult.classes_[[0,0,0,1,2,2]]"
   ]
  },
  {
   "cell_type": "code",
   "execution_count": 52,
   "metadata": {},
   "outputs": [
    {
     "data": {
      "text/plain": [
       "array(['versicolor', 'virginica', 'versicolor', 'setosa', 'virginica',\n",
       "       'versicolor', 'setosa', 'versicolor', 'setosa', 'versicolor'],\n",
       "      dtype=object)"
      ]
     },
     "execution_count": 52,
     "metadata": {},
     "output_type": "execute_result"
    }
   ],
   "source": [
    "mult.classes_[(X @ mult.coef_.T).argmax(axis=1)]"
   ]
  }
 ],
 "metadata": {
  "kernelspec": {
   "display_name": "Python 3 (ipykernel)",
   "language": "python",
   "name": "python3"
  },
  "language_info": {
   "codemirror_mode": {
    "name": "ipython",
    "version": 3
   },
   "file_extension": ".py",
   "mimetype": "text/x-python",
   "name": "python",
   "nbconvert_exporter": "python",
   "pygments_lexer": "ipython3",
   "version": "3.8.10"
  }
 },
 "nbformat": 4,
 "nbformat_minor": 2
}
