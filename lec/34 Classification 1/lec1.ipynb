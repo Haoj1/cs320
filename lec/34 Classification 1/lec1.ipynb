{
 "cells": [
  {
   "cell_type": "code",
   "execution_count": 1,
   "metadata": {},
   "outputs": [],
   "source": [
    "import numpy as np\n",
    "import matplotlib.pyplot as plt\n",
    "import pandas as pd\n",
    "from sklearn import datasets\n",
    "from sklearn.model_selection import train_test_split\n",
    "from sklearn.linear_model import LinearRegression, LogisticRegression"
   ]
  },
  {
   "cell_type": "code",
   "execution_count": 2,
   "metadata": {},
   "outputs": [
    {
     "data": {
      "text/plain": [
       "[<matplotlib.lines.Line2D at 0x7f8133fe5b50>]"
      ]
     },
     "execution_count": 2,
     "metadata": {},
     "output_type": "execute_result"
    },
    {
     "data": {
      "image/png": "[encoded data removed]",
      "text/plain": [
       "<Figure size 432x288 with 1 Axes>"
      ]
     },
     "metadata": {
      "needs_background": "light"
     },
     "output_type": "display_data"
    }
   ],
   "source": [
    "def sigmoid(x):\n",
    "    return 1 / (1 + np.exp(-x))\n",
    "\n",
    "x = np.arange(-10, 10, 0.1)\n",
    "y = sigmoid(x)\n",
    "plt.plot(x, y)"
   ]
  },
  {
   "cell_type": "code",
   "execution_count": 3,
   "metadata": {},
   "outputs": [],
   "source": [
    "data = datasets.load_iris()\n",
    "df = pd.DataFrame(data[\"data\"], columns=data[\"feature_names\"]).drop(columns=[\"petal length (cm)\"])\n",
    "df.insert(2, \"const\", 1)\n",
    "df[\"variety\"] = data[\"target_names\"][data[\"target\"]]\n",
    "df.insert(4, \"setosa\", df[\"variety\"] == \"setosa\")"
   ]
  },
  {
   "cell_type": "code",
   "execution_count": 4,
   "metadata": {},
   "outputs": [
    {
     "data": {
      "text/html": [
       "<div>\n",
       "<style scoped>\n",
       "    .dataframe tbody tr th:only-of-type {\n",
       "        vertical-align: middle;\n",
       "    }\n",
       "\n",
       "    .dataframe tbody tr th {\n",
       "        vertical-align: top;\n",
       "    }\n",
       "\n",
       "    .dataframe thead th {\n",
       "        text-align: right;\n",
       "    }\n",
       "</style>\n",
       "<table border=\"1\" class=\"dataframe\">\n",
       "  <thead>\n",
       "    <tr style=\"text-align: right;\">\n",
       "      <th></th>\n",
       "      <th>sepal length (cm)</th>\n",
       "      <th>sepal width (cm)</th>\n",
       "      <th>const</th>\n",
       "      <th>petal width (cm)</th>\n",
       "      <th>setosa</th>\n",
       "      <th>variety</th>\n",
       "    </tr>\n",
       "  </thead>\n",
       "  <tbody>\n",
       "    <tr>\n",
       "      <th>82</th>\n",
       "      <td>5.8</td>\n",
       "      <td>2.7</td>\n",
       "      <td>1</td>\n",
       "      <td>1.2</td>\n",
       "      <td>False</td>\n",
       "      <td>versicolor</td>\n",
       "    </tr>\n",
       "    <tr>\n",
       "      <th>134</th>\n",
       "      <td>6.1</td>\n",
       "      <td>2.6</td>\n",
       "      <td>1</td>\n",
       "      <td>1.4</td>\n",
       "      <td>False</td>\n",
       "      <td>virginica</td>\n",
       "    </tr>\n",
       "    <tr>\n",
       "      <th>114</th>\n",
       "      <td>5.8</td>\n",
       "      <td>2.8</td>\n",
       "      <td>1</td>\n",
       "      <td>2.4</td>\n",
       "      <td>False</td>\n",
       "      <td>virginica</td>\n",
       "    </tr>\n",
       "    <tr>\n",
       "      <th>42</th>\n",
       "      <td>4.4</td>\n",
       "      <td>3.2</td>\n",
       "      <td>1</td>\n",
       "      <td>0.2</td>\n",
       "      <td>True</td>\n",
       "      <td>setosa</td>\n",
       "    </tr>\n",
       "    <tr>\n",
       "      <th>109</th>\n",
       "      <td>7.2</td>\n",
       "      <td>3.6</td>\n",
       "      <td>1</td>\n",
       "      <td>2.5</td>\n",
       "      <td>False</td>\n",
       "      <td>virginica</td>\n",
       "    </tr>\n",
       "  </tbody>\n",
       "</table>\n",
       "</div>"
      ],
      "text/plain": [
       "     sepal length (cm)  sepal width (cm)  const  petal width (cm)  setosa  \\\n",
       "82                 5.8               2.7      1               1.2   False   \n",
       "134                6.1               2.6      1               1.4   False   \n",
       "114                5.8               2.8      1               2.4   False   \n",
       "42                 4.4               3.2      1               0.2    True   \n",
       "109                7.2               3.6      1               2.5   False   \n",
       "\n",
       "        variety  \n",
       "82   versicolor  \n",
       "134   virginica  \n",
       "114   virginica  \n",
       "42       setosa  \n",
       "109   virginica  "
      ]
     },
     "execution_count": 4,
     "metadata": {},
     "output_type": "execute_result"
    }
   ],
   "source": [
    "xcols = [\"sepal length (cm)\", \"sepal width (cm)\", \"const\"]\n",
    "train, test = train_test_split(df, test_size=10, random_state=5)\n",
    "test.head()"
   ]
  },
  {
   "cell_type": "markdown",
   "metadata": {},
   "source": [
    "## Overview\n",
    "\n",
    "1. regression for petal width\n",
    "2. binary classification for setosa: T/F\n",
    "3. binary classification for setosa: prob(T)\n",
    "4. multi-class classification for variety"
   ]
  },
  {
   "cell_type": "code",
   "execution_count": 5,
   "metadata": {},
   "outputs": [
    {
     "data": {
      "text/plain": [
       "0.5805709195672956"
      ]
     },
     "execution_count": 5,
     "metadata": {},
     "output_type": "execute_result"
    }
   ],
   "source": [
    "# model 1: features => petal width\n",
    "reg = LinearRegression(fit_intercept=False)\n",
    "reg.fit(train[[\"sepal length (cm)\", \"sepal width (cm)\", \"const\"]],\n",
    "          train[\"petal width (cm)\"])\n",
    "#reg.predict(test[[\"sepal length (cm)\", \"sepal width (cm)\", \"const\"]])\n",
    "reg.score(test[[\"sepal length (cm)\", \"sepal width (cm)\", \"const\"]],\n",
    "            test[\"petal width (cm)\"])"
   ]
  },
  {
   "cell_type": "code",
   "execution_count": 6,
   "metadata": {},
   "outputs": [
    {
     "data": {
      "text/plain": [
       "1.0"
      ]
     },
     "execution_count": 6,
     "metadata": {},
     "output_type": "execute_result"
    }
   ],
   "source": [
    "# model 2: features => is it a setosa?\n",
    "cls = LogisticRegression(fit_intercept=False)\n",
    "cls.fit(train[[\"sepal length (cm)\", \"sepal width (cm)\", \"const\"]],\n",
    "          train[\"setosa\"])\n",
    "#model.predict(test[[\"sepal length (cm)\", \"sepal width (cm)\", \"const\"]])\n",
    "cls.score(test[[\"sepal length (cm)\", \"sepal width (cm)\", \"const\"]],\n",
    "            test[\"setosa\"])"
   ]
  },
  {
   "cell_type": "code",
   "execution_count": 7,
   "metadata": {},
   "outputs": [
    {
     "data": {
      "text/html": [
       "<div>\n",
       "<style scoped>\n",
       "    .dataframe tbody tr th:only-of-type {\n",
       "        vertical-align: middle;\n",
       "    }\n",
       "\n",
       "    .dataframe tbody tr th {\n",
       "        vertical-align: top;\n",
       "    }\n",
       "\n",
       "    .dataframe thead th {\n",
       "        text-align: right;\n",
       "    }\n",
       "</style>\n",
       "<table border=\"1\" class=\"dataframe\">\n",
       "  <thead>\n",
       "    <tr style=\"text-align: right;\">\n",
       "      <th></th>\n",
       "      <th>sepal length (cm)</th>\n",
       "      <th>sepal width (cm)</th>\n",
       "      <th>const</th>\n",
       "      <th>petal width (cm)</th>\n",
       "      <th>setosa</th>\n",
       "      <th>variety</th>\n",
       "      <th>predict</th>\n",
       "    </tr>\n",
       "  </thead>\n",
       "  <tbody>\n",
       "    <tr>\n",
       "      <th>82</th>\n",
       "      <td>5.8</td>\n",
       "      <td>2.7</td>\n",
       "      <td>1</td>\n",
       "      <td>1.2</td>\n",
       "      <td>False</td>\n",
       "      <td>versicolor</td>\n",
       "      <td>False</td>\n",
       "    </tr>\n",
       "    <tr>\n",
       "      <th>134</th>\n",
       "      <td>6.1</td>\n",
       "      <td>2.6</td>\n",
       "      <td>1</td>\n",
       "      <td>1.4</td>\n",
       "      <td>False</td>\n",
       "      <td>virginica</td>\n",
       "      <td>False</td>\n",
       "    </tr>\n",
       "    <tr>\n",
       "      <th>114</th>\n",
       "      <td>5.8</td>\n",
       "      <td>2.8</td>\n",
       "      <td>1</td>\n",
       "      <td>2.4</td>\n",
       "      <td>False</td>\n",
       "      <td>virginica</td>\n",
       "      <td>False</td>\n",
       "    </tr>\n",
       "    <tr>\n",
       "      <th>42</th>\n",
       "      <td>4.4</td>\n",
       "      <td>3.2</td>\n",
       "      <td>1</td>\n",
       "      <td>0.2</td>\n",
       "      <td>True</td>\n",
       "      <td>setosa</td>\n",
       "      <td>True</td>\n",
       "    </tr>\n",
       "    <tr>\n",
       "      <th>109</th>\n",
       "      <td>7.2</td>\n",
       "      <td>3.6</td>\n",
       "      <td>1</td>\n",
       "      <td>2.5</td>\n",
       "      <td>False</td>\n",
       "      <td>virginica</td>\n",
       "      <td>False</td>\n",
       "    </tr>\n",
       "    <tr>\n",
       "      <th>57</th>\n",
       "      <td>4.9</td>\n",
       "      <td>2.4</td>\n",
       "      <td>1</td>\n",
       "      <td>1.0</td>\n",
       "      <td>False</td>\n",
       "      <td>versicolor</td>\n",
       "      <td>False</td>\n",
       "    </tr>\n",
       "    <tr>\n",
       "      <th>1</th>\n",
       "      <td>4.9</td>\n",
       "      <td>3.0</td>\n",
       "      <td>1</td>\n",
       "      <td>0.2</td>\n",
       "      <td>True</td>\n",
       "      <td>setosa</td>\n",
       "      <td>True</td>\n",
       "    </tr>\n",
       "    <tr>\n",
       "      <th>70</th>\n",
       "      <td>5.9</td>\n",
       "      <td>3.2</td>\n",
       "      <td>1</td>\n",
       "      <td>1.8</td>\n",
       "      <td>False</td>\n",
       "      <td>versicolor</td>\n",
       "      <td>False</td>\n",
       "    </tr>\n",
       "    <tr>\n",
       "      <th>25</th>\n",
       "      <td>5.0</td>\n",
       "      <td>3.0</td>\n",
       "      <td>1</td>\n",
       "      <td>0.2</td>\n",
       "      <td>True</td>\n",
       "      <td>setosa</td>\n",
       "      <td>True</td>\n",
       "    </tr>\n",
       "    <tr>\n",
       "      <th>84</th>\n",
       "      <td>5.4</td>\n",
       "      <td>3.0</td>\n",
       "      <td>1</td>\n",
       "      <td>1.5</td>\n",
       "      <td>False</td>\n",
       "      <td>versicolor</td>\n",
       "      <td>False</td>\n",
       "    </tr>\n",
       "  </tbody>\n",
       "</table>\n",
       "</div>"
      ],
      "text/plain": [
       "     sepal length (cm)  sepal width (cm)  const  petal width (cm)  setosa  \\\n",
       "82                 5.8               2.7      1               1.2   False   \n",
       "134                6.1               2.6      1               1.4   False   \n",
       "114                5.8               2.8      1               2.4   False   \n",
       "42                 4.4               3.2      1               0.2    True   \n",
       "109                7.2               3.6      1               2.5   False   \n",
       "57                 4.9               2.4      1               1.0   False   \n",
       "1                  4.9               3.0      1               0.2    True   \n",
       "70                 5.9               3.2      1               1.8   False   \n",
       "25                 5.0               3.0      1               0.2    True   \n",
       "84                 5.4               3.0      1               1.5   False   \n",
       "\n",
       "        variety  predict  \n",
       "82   versicolor    False  \n",
       "134   virginica    False  \n",
       "114   virginica    False  \n",
       "42       setosa     True  \n",
       "109   virginica    False  \n",
       "57   versicolor    False  \n",
       "1        setosa     True  \n",
       "70   versicolor    False  \n",
       "25       setosa     True  \n",
       "84   versicolor    False  "
      ]
     },
     "execution_count": 7,
     "metadata": {},
     "output_type": "execute_result"
    }
   ],
   "source": [
    "test[\"predict\"] = cls.predict(test[[\"sepal length (cm)\", \"sepal width (cm)\", \"const\"]])\n",
    "test"
   ]
  },
  {
   "cell_type": "code",
   "execution_count": 8,
   "metadata": {},
   "outputs": [
    {
     "data": {
      "text/plain": [
       "array([[0.9405628 , 0.0594372 ],\n",
       "       [0.97972503, 0.02027497],\n",
       "       [0.91463241, 0.08536759],\n",
       "       [0.07056997, 0.92943003],\n",
       "       [0.93345725, 0.06654275],\n",
       "       [0.85227945, 0.14772055],\n",
       "       [0.35722665, 0.64277335],\n",
       "       [0.74147607, 0.25852393],\n",
       "       [0.41451931, 0.58548069],\n",
       "       [0.65092753, 0.34907247]])"
      ]
     },
     "execution_count": 8,
     "metadata": {},
     "output_type": "execute_result"
    }
   ],
   "source": [
    "# [[False Prob, True Prob], ...]\n",
    "prob = cls.predict_proba(test[[\"sepal length (cm)\",\n",
    "                                  \"sepal width (cm)\", \"const\"]])\n",
    "prob"
   ]
  },
  {
   "cell_type": "code",
   "execution_count": 9,
   "metadata": {},
   "outputs": [
    {
     "data": {
      "text/html": [
       "<div>\n",
       "<style scoped>\n",
       "    .dataframe tbody tr th:only-of-type {\n",
       "        vertical-align: middle;\n",
       "    }\n",
       "\n",
       "    .dataframe tbody tr th {\n",
       "        vertical-align: top;\n",
       "    }\n",
       "\n",
       "    .dataframe thead th {\n",
       "        text-align: right;\n",
       "    }\n",
       "</style>\n",
       "<table border=\"1\" class=\"dataframe\">\n",
       "  <thead>\n",
       "    <tr style=\"text-align: right;\">\n",
       "      <th></th>\n",
       "      <th>sepal length (cm)</th>\n",
       "      <th>sepal width (cm)</th>\n",
       "      <th>const</th>\n",
       "      <th>petal width (cm)</th>\n",
       "      <th>setosa</th>\n",
       "      <th>variety</th>\n",
       "      <th>predict</th>\n",
       "      <th>predict_prob</th>\n",
       "    </tr>\n",
       "  </thead>\n",
       "  <tbody>\n",
       "    <tr>\n",
       "      <th>82</th>\n",
       "      <td>5.8</td>\n",
       "      <td>2.7</td>\n",
       "      <td>1</td>\n",
       "      <td>1.2</td>\n",
       "      <td>False</td>\n",
       "      <td>versicolor</td>\n",
       "      <td>False</td>\n",
       "      <td>0.059437</td>\n",
       "    </tr>\n",
       "    <tr>\n",
       "      <th>134</th>\n",
       "      <td>6.1</td>\n",
       "      <td>2.6</td>\n",
       "      <td>1</td>\n",
       "      <td>1.4</td>\n",
       "      <td>False</td>\n",
       "      <td>virginica</td>\n",
       "      <td>False</td>\n",
       "      <td>0.020275</td>\n",
       "    </tr>\n",
       "    <tr>\n",
       "      <th>114</th>\n",
       "      <td>5.8</td>\n",
       "      <td>2.8</td>\n",
       "      <td>1</td>\n",
       "      <td>2.4</td>\n",
       "      <td>False</td>\n",
       "      <td>virginica</td>\n",
       "      <td>False</td>\n",
       "      <td>0.085368</td>\n",
       "    </tr>\n",
       "    <tr>\n",
       "      <th>42</th>\n",
       "      <td>4.4</td>\n",
       "      <td>3.2</td>\n",
       "      <td>1</td>\n",
       "      <td>0.2</td>\n",
       "      <td>True</td>\n",
       "      <td>setosa</td>\n",
       "      <td>True</td>\n",
       "      <td>0.929430</td>\n",
       "    </tr>\n",
       "    <tr>\n",
       "      <th>109</th>\n",
       "      <td>7.2</td>\n",
       "      <td>3.6</td>\n",
       "      <td>1</td>\n",
       "      <td>2.5</td>\n",
       "      <td>False</td>\n",
       "      <td>virginica</td>\n",
       "      <td>False</td>\n",
       "      <td>0.066543</td>\n",
       "    </tr>\n",
       "    <tr>\n",
       "      <th>57</th>\n",
       "      <td>4.9</td>\n",
       "      <td>2.4</td>\n",
       "      <td>1</td>\n",
       "      <td>1.0</td>\n",
       "      <td>False</td>\n",
       "      <td>versicolor</td>\n",
       "      <td>False</td>\n",
       "      <td>0.147721</td>\n",
       "    </tr>\n",
       "    <tr>\n",
       "      <th>1</th>\n",
       "      <td>4.9</td>\n",
       "      <td>3.0</td>\n",
       "      <td>1</td>\n",
       "      <td>0.2</td>\n",
       "      <td>True</td>\n",
       "      <td>setosa</td>\n",
       "      <td>True</td>\n",
       "      <td>0.642773</td>\n",
       "    </tr>\n",
       "    <tr>\n",
       "      <th>70</th>\n",
       "      <td>5.9</td>\n",
       "      <td>3.2</td>\n",
       "      <td>1</td>\n",
       "      <td>1.8</td>\n",
       "      <td>False</td>\n",
       "      <td>versicolor</td>\n",
       "      <td>False</td>\n",
       "      <td>0.258524</td>\n",
       "    </tr>\n",
       "    <tr>\n",
       "      <th>25</th>\n",
       "      <td>5.0</td>\n",
       "      <td>3.0</td>\n",
       "      <td>1</td>\n",
       "      <td>0.2</td>\n",
       "      <td>True</td>\n",
       "      <td>setosa</td>\n",
       "      <td>True</td>\n",
       "      <td>0.585481</td>\n",
       "    </tr>\n",
       "    <tr>\n",
       "      <th>84</th>\n",
       "      <td>5.4</td>\n",
       "      <td>3.0</td>\n",
       "      <td>1</td>\n",
       "      <td>1.5</td>\n",
       "      <td>False</td>\n",
       "      <td>versicolor</td>\n",
       "      <td>False</td>\n",
       "      <td>0.349072</td>\n",
       "    </tr>\n",
       "  </tbody>\n",
       "</table>\n",
       "</div>"
      ],
      "text/plain": [
       "     sepal length (cm)  sepal width (cm)  const  petal width (cm)  setosa  \\\n",
       "82                 5.8               2.7      1               1.2   False   \n",
       "134                6.1               2.6      1               1.4   False   \n",
       "114                5.8               2.8      1               2.4   False   \n",
       "42                 4.4               3.2      1               0.2    True   \n",
       "109                7.2               3.6      1               2.5   False   \n",
       "57                 4.9               2.4      1               1.0   False   \n",
       "1                  4.9               3.0      1               0.2    True   \n",
       "70                 5.9               3.2      1               1.8   False   \n",
       "25                 5.0               3.0      1               0.2    True   \n",
       "84                 5.4               3.0      1               1.5   False   \n",
       "\n",
       "        variety  predict  predict_prob  \n",
       "82   versicolor    False      0.059437  \n",
       "134   virginica    False      0.020275  \n",
       "114   virginica    False      0.085368  \n",
       "42       setosa     True      0.929430  \n",
       "109   virginica    False      0.066543  \n",
       "57   versicolor    False      0.147721  \n",
       "1        setosa     True      0.642773  \n",
       "70   versicolor    False      0.258524  \n",
       "25       setosa     True      0.585481  \n",
       "84   versicolor    False      0.349072  "
      ]
     },
     "execution_count": 9,
     "metadata": {},
     "output_type": "execute_result"
    }
   ],
   "source": [
    "test[\"predict_prob\"] = prob[:, 1]\n",
    "test"
   ]
  },
  {
   "cell_type": "code",
   "execution_count": 10,
   "metadata": {},
   "outputs": [
    {
     "data": {
      "text/html": [
       "<div>\n",
       "<style scoped>\n",
       "    .dataframe tbody tr th:only-of-type {\n",
       "        vertical-align: middle;\n",
       "    }\n",
       "\n",
       "    .dataframe tbody tr th {\n",
       "        vertical-align: top;\n",
       "    }\n",
       "\n",
       "    .dataframe thead th {\n",
       "        text-align: right;\n",
       "    }\n",
       "</style>\n",
       "<table border=\"1\" class=\"dataframe\">\n",
       "  <thead>\n",
       "    <tr style=\"text-align: right;\">\n",
       "      <th></th>\n",
       "      <th>sepal length (cm)</th>\n",
       "      <th>sepal width (cm)</th>\n",
       "      <th>const</th>\n",
       "      <th>petal width (cm)</th>\n",
       "      <th>setosa</th>\n",
       "      <th>variety</th>\n",
       "      <th>predict</th>\n",
       "      <th>predict_prob</th>\n",
       "    </tr>\n",
       "  </thead>\n",
       "  <tbody>\n",
       "    <tr>\n",
       "      <th>82</th>\n",
       "      <td>5.8</td>\n",
       "      <td>2.7</td>\n",
       "      <td>1</td>\n",
       "      <td>1.2</td>\n",
       "      <td>False</td>\n",
       "      <td>versicolor</td>\n",
       "      <td>versicolor</td>\n",
       "      <td>0.059437</td>\n",
       "    </tr>\n",
       "    <tr>\n",
       "      <th>134</th>\n",
       "      <td>6.1</td>\n",
       "      <td>2.6</td>\n",
       "      <td>1</td>\n",
       "      <td>1.4</td>\n",
       "      <td>False</td>\n",
       "      <td>virginica</td>\n",
       "      <td>virginica</td>\n",
       "      <td>0.020275</td>\n",
       "    </tr>\n",
       "    <tr>\n",
       "      <th>114</th>\n",
       "      <td>5.8</td>\n",
       "      <td>2.8</td>\n",
       "      <td>1</td>\n",
       "      <td>2.4</td>\n",
       "      <td>False</td>\n",
       "      <td>virginica</td>\n",
       "      <td>versicolor</td>\n",
       "      <td>0.085368</td>\n",
       "    </tr>\n",
       "    <tr>\n",
       "      <th>42</th>\n",
       "      <td>4.4</td>\n",
       "      <td>3.2</td>\n",
       "      <td>1</td>\n",
       "      <td>0.2</td>\n",
       "      <td>True</td>\n",
       "      <td>setosa</td>\n",
       "      <td>setosa</td>\n",
       "      <td>0.929430</td>\n",
       "    </tr>\n",
       "    <tr>\n",
       "      <th>109</th>\n",
       "      <td>7.2</td>\n",
       "      <td>3.6</td>\n",
       "      <td>1</td>\n",
       "      <td>2.5</td>\n",
       "      <td>False</td>\n",
       "      <td>virginica</td>\n",
       "      <td>virginica</td>\n",
       "      <td>0.066543</td>\n",
       "    </tr>\n",
       "    <tr>\n",
       "      <th>57</th>\n",
       "      <td>4.9</td>\n",
       "      <td>2.4</td>\n",
       "      <td>1</td>\n",
       "      <td>1.0</td>\n",
       "      <td>False</td>\n",
       "      <td>versicolor</td>\n",
       "      <td>versicolor</td>\n",
       "      <td>0.147721</td>\n",
       "    </tr>\n",
       "    <tr>\n",
       "      <th>1</th>\n",
       "      <td>4.9</td>\n",
       "      <td>3.0</td>\n",
       "      <td>1</td>\n",
       "      <td>0.2</td>\n",
       "      <td>True</td>\n",
       "      <td>setosa</td>\n",
       "      <td>setosa</td>\n",
       "      <td>0.642773</td>\n",
       "    </tr>\n",
       "    <tr>\n",
       "      <th>70</th>\n",
       "      <td>5.9</td>\n",
       "      <td>3.2</td>\n",
       "      <td>1</td>\n",
       "      <td>1.8</td>\n",
       "      <td>False</td>\n",
       "      <td>versicolor</td>\n",
       "      <td>versicolor</td>\n",
       "      <td>0.258524</td>\n",
       "    </tr>\n",
       "    <tr>\n",
       "      <th>25</th>\n",
       "      <td>5.0</td>\n",
       "      <td>3.0</td>\n",
       "      <td>1</td>\n",
       "      <td>0.2</td>\n",
       "      <td>True</td>\n",
       "      <td>setosa</td>\n",
       "      <td>setosa</td>\n",
       "      <td>0.585481</td>\n",
       "    </tr>\n",
       "    <tr>\n",
       "      <th>84</th>\n",
       "      <td>5.4</td>\n",
       "      <td>3.0</td>\n",
       "      <td>1</td>\n",
       "      <td>1.5</td>\n",
       "      <td>False</td>\n",
       "      <td>versicolor</td>\n",
       "      <td>versicolor</td>\n",
       "      <td>0.349072</td>\n",
       "    </tr>\n",
       "  </tbody>\n",
       "</table>\n",
       "</div>"
      ],
      "text/plain": [
       "     sepal length (cm)  sepal width (cm)  const  petal width (cm)  setosa  \\\n",
       "82                 5.8               2.7      1               1.2   False   \n",
       "134                6.1               2.6      1               1.4   False   \n",
       "114                5.8               2.8      1               2.4   False   \n",
       "42                 4.4               3.2      1               0.2    True   \n",
       "109                7.2               3.6      1               2.5   False   \n",
       "57                 4.9               2.4      1               1.0   False   \n",
       "1                  4.9               3.0      1               0.2    True   \n",
       "70                 5.9               3.2      1               1.8   False   \n",
       "25                 5.0               3.0      1               0.2    True   \n",
       "84                 5.4               3.0      1               1.5   False   \n",
       "\n",
       "        variety     predict  predict_prob  \n",
       "82   versicolor  versicolor      0.059437  \n",
       "134   virginica   virginica      0.020275  \n",
       "114   virginica  versicolor      0.085368  \n",
       "42       setosa      setosa      0.929430  \n",
       "109   virginica   virginica      0.066543  \n",
       "57   versicolor  versicolor      0.147721  \n",
       "1        setosa      setosa      0.642773  \n",
       "70   versicolor  versicolor      0.258524  \n",
       "25       setosa      setosa      0.585481  \n",
       "84   versicolor  versicolor      0.349072  "
      ]
     },
     "execution_count": 10,
     "metadata": {},
     "output_type": "execute_result"
    }
   ],
   "source": [
    "# model 3: features => variety\n",
    "mult = LogisticRegression(fit_intercept=False)\n",
    "mult.fit(train[[\"sepal length (cm)\", \"sepal width (cm)\", \"const\"]],\n",
    "          train[\"variety\"])\n",
    "pred = mult.predict(test[[\"sepal length (cm)\", \"sepal width (cm)\", \"const\"]])\n",
    "test[\"predict\"] = pred\n",
    "test"
   ]
  },
  {
   "cell_type": "code",
   "execution_count": 11,
   "metadata": {},
   "outputs": [
    {
     "data": {
      "text/plain": [
       "0.9"
      ]
     },
     "execution_count": 11,
     "metadata": {},
     "output_type": "execute_result"
    }
   ],
   "source": [
    "mult.score(test[[\"sepal length (cm)\", \"sepal width (cm)\", \"const\"]],\n",
    "            test[\"variety\"])"
   ]
  },
  {
   "cell_type": "code",
   "execution_count": 12,
   "metadata": {},
   "outputs": [
    {
     "data": {
      "text/plain": [
       "(LinearRegression(fit_intercept=False),\n",
       " LogisticRegression(fit_intercept=False),\n",
       " LogisticRegression(fit_intercept=False))"
      ]
     },
     "execution_count": 12,
     "metadata": {},
     "output_type": "execute_result"
    }
   ],
   "source": [
    "reg, cls, mult"
   ]
  },
  {
   "cell_type": "code",
   "execution_count": 13,
   "metadata": {},
   "outputs": [
    {
     "data": {
      "text/plain": [
       "array([ 0.71452794, -0.48708032, -1.5013766 ])"
      ]
     },
     "execution_count": 13,
     "metadata": {},
     "output_type": "execute_result"
    }
   ],
   "source": [
    "reg.coef_"
   ]
  },
  {
   "cell_type": "code",
   "execution_count": 14,
   "metadata": {},
   "outputs": [
    {
     "data": {
      "text/plain": [
       "array([[-2.42108094,  3.90002306,  0.75064911]])"
      ]
     },
     "execution_count": 14,
     "metadata": {},
     "output_type": "execute_result"
    }
   ],
   "source": [
    "cls.coef_"
   ]
  },
  {
   "cell_type": "code",
   "execution_count": 15,
   "metadata": {},
   "outputs": [
    {
     "data": {
      "text/plain": [
       "array([[-1.80097204,  3.01989635,  0.69404974],\n",
       "       [ 0.64875706, -1.46308696,  1.04354373],\n",
       "       [ 1.15221498, -1.55680939, -1.73759347]])"
      ]
     },
     "execution_count": 15,
     "metadata": {},
     "output_type": "execute_result"
    }
   ],
   "source": [
    "mult.coef_"
   ]
  },
  {
   "cell_type": "code",
   "execution_count": 16,
   "metadata": {},
   "outputs": [
    {
     "data": {
      "text/plain": [
       "array([[1.32776857],\n",
       "       [1.59083498],\n",
       "       [1.27906054],\n",
       "       [0.0838893 ],\n",
       "       [1.8897354 ],\n",
       "       [0.83081752],\n",
       "       [0.53856933],\n",
       "       [1.15568121],\n",
       "       [0.61002213],\n",
       "       [0.8958333 ]])"
      ]
     },
     "execution_count": 16,
     "metadata": {},
     "output_type": "execute_result"
    }
   ],
   "source": [
    "def reg_predict(X):\n",
    "    return X.values @ reg.coef_.reshape(-1,1)\n",
    "\n",
    "reg_predict(test[[\"sepal length (cm)\", \"sepal width (cm)\", \"const\"]])"
   ]
  },
  {
   "cell_type": "code",
   "execution_count": 17,
   "metadata": {},
   "outputs": [
    {
     "data": {
      "text/plain": [
       "array([[False],\n",
       "       [False],\n",
       "       [False],\n",
       "       [ True],\n",
       "       [False],\n",
       "       [False],\n",
       "       [ True],\n",
       "       [False],\n",
       "       [ True],\n",
       "       [False]])"
      ]
     },
     "execution_count": 17,
     "metadata": {},
     "output_type": "execute_result"
    }
   ],
   "source": [
    "def cls_predict(X):\n",
    "    return X.values @ cls.coef_.reshape(-1,1) > 0\n",
    "\n",
    "cls_predict(test[[\"sepal length (cm)\", \"sepal width (cm)\", \"const\"]])"
   ]
  },
  {
   "cell_type": "code",
   "execution_count": 18,
   "metadata": {},
   "outputs": [
    {
     "data": {
      "text/plain": [
       "array([[0.0594372 ],\n",
       "       [0.02027497],\n",
       "       [0.08536759],\n",
       "       [0.92943003],\n",
       "       [0.06654275],\n",
       "       [0.14772055],\n",
       "       [0.64277335],\n",
       "       [0.25852393],\n",
       "       [0.58548069],\n",
       "       [0.34907247]])"
      ]
     },
     "execution_count": 18,
     "metadata": {},
     "output_type": "execute_result"
    }
   ],
   "source": [
    "def cls_predict_proba(X):\n",
    "    return sigmoid(X.values @ cls.coef_.reshape(-1,1))\n",
    "\n",
    "cls_predict_proba(test[[\"sepal length (cm)\", \"sepal width (cm)\", \"const\"]])"
   ]
  },
  {
   "cell_type": "code",
   "execution_count": 19,
   "metadata": {},
   "outputs": [
    {
     "data": {
      "text/plain": [
       "array([[-1.80097204,  0.64875706,  1.15221498],\n",
       "       [ 3.01989635, -1.46308696, -1.55680939],\n",
       "       [ 0.69404974,  1.04354373, -1.73759347]])"
      ]
     },
     "execution_count": 19,
     "metadata": {},
     "output_type": "execute_result"
    }
   ],
   "source": [
    "# we have 3 varieties, want to score each for how likely it is that one\n",
    "# each column of mult.coef_.T gives coefficients corresponding to one variety\n",
    "mult.coef_.T"
   ]
  },
  {
   "cell_type": "code",
   "execution_count": 20,
   "metadata": {},
   "outputs": [
    {
     "data": {
      "text/plain": [
       "array([[-1.59786793],\n",
       "       [-2.44014918],\n",
       "       [-1.2958783 ],\n",
       "       [ 2.43344109],\n",
       "       [-1.40132207],\n",
       "       [-0.88296201],\n",
       "       [ 0.9289758 ],\n",
       "       [-0.26801696],\n",
       "       [ 0.7488786 ],\n",
       "       [ 0.02848978]])"
      ]
     },
     "execution_count": 20,
     "metadata": {},
     "output_type": "execute_result"
    }
   ],
   "source": [
    "X = test[[\"sepal length (cm)\", \"sepal width (cm)\", \"const\"]].values\n",
    "X @ mult.coef_.T[:, 0:1] # scores for the first variety"
   ]
  },
  {
   "cell_type": "code",
   "execution_count": 21,
   "metadata": {},
   "outputs": [
    {
     "data": {
      "text/plain": [
       "array([[ 0.85599987],\n",
       "       [ 1.19693568],\n",
       "       [ 0.70969118],\n",
       "       [-0.78380349],\n",
       "       [ 0.44748149],\n",
       "       [ 0.71104461],\n",
       "       [-0.16680757],\n",
       "       [ 0.1893321 ],\n",
       "       [-0.10193186],\n",
       "       [ 0.15757096]])"
      ]
     },
     "execution_count": 21,
     "metadata": {},
     "output_type": "execute_result"
    }
   ],
   "source": [
    "X @ mult.coef_.T[:, 1:2] # scores for the second variety"
   ]
  },
  {
   "cell_type": "code",
   "execution_count": 22,
   "metadata": {},
   "outputs": [
    {
     "data": {
      "text/plain": [
       "array([[-1.59786793,  0.85599987,  0.74186806],\n",
       "       [-2.44014918,  1.19693568,  1.24321349],\n",
       "       [-1.2958783 ,  0.70969118,  0.58618712],\n",
       "       [ 2.43344109, -0.78380349, -1.6496376 ],\n",
       "       [-1.40132207,  0.44748149,  0.95384058],\n",
       "       [-0.88296201,  0.71104461,  0.1719174 ],\n",
       "       [ 0.9289758 , -0.16680757, -0.76216824],\n",
       "       [-0.26801696,  0.1893321 ,  0.07868487],\n",
       "       [ 0.7488786 , -0.10193186, -0.64694674],\n",
       "       [ 0.02848978,  0.15757096, -0.18606075]])"
      ]
     },
     "execution_count": 22,
     "metadata": {},
     "output_type": "execute_result"
    }
   ],
   "source": [
    "X @ mult.coef_.T"
   ]
  },
  {
   "cell_type": "code",
   "execution_count": 23,
   "metadata": {},
   "outputs": [
    {
     "data": {
      "text/plain": [
       "2.4334410884892166"
      ]
     },
     "execution_count": 23,
     "metadata": {},
     "output_type": "execute_result"
    }
   ],
   "source": [
    "(X @ mult.coef_.T).max() # biggest number"
   ]
  },
  {
   "cell_type": "code",
   "execution_count": 24,
   "metadata": {},
   "outputs": [
    {
     "data": {
      "text/plain": [
       "array([0.85599987, 1.24321349, 0.70969118, 2.43344109, 0.95384058,\n",
       "       0.71104461, 0.9289758 , 0.1893321 , 0.7488786 , 0.15757096])"
      ]
     },
     "execution_count": 24,
     "metadata": {},
     "output_type": "execute_result"
    }
   ],
   "source": [
    "(X @ mult.coef_.T).max(axis=1) # biggest number per row"
   ]
  },
  {
   "cell_type": "code",
   "execution_count": 25,
   "metadata": {},
   "outputs": [
    {
     "data": {
      "text/plain": [
       "array([1, 2, 1, 0, 2, 1, 0, 1, 0, 1])"
      ]
     },
     "execution_count": 25,
     "metadata": {},
     "output_type": "execute_result"
    }
   ],
   "source": [
    "(X @ mult.coef_.T).argmax(axis=1) # position biggest number per row"
   ]
  },
  {
   "cell_type": "code",
   "execution_count": 26,
   "metadata": {},
   "outputs": [
    {
     "data": {
      "text/plain": [
       "array(['setosa', 'versicolor', 'virginica'], dtype=object)"
      ]
     },
     "execution_count": 26,
     "metadata": {},
     "output_type": "execute_result"
    }
   ],
   "source": [
    "mult.classes_"
   ]
  },
  {
   "cell_type": "code",
   "execution_count": 27,
   "metadata": {},
   "outputs": [
    {
     "data": {
      "text/plain": [
       "array(['setosa', 'setosa', 'versicolor', 'virginica', 'virginica',\n",
       "       'virginica'], dtype=object)"
      ]
     },
     "execution_count": 27,
     "metadata": {},
     "output_type": "execute_result"
    }
   ],
   "source": [
    "mult.classes_[[0,0,1,2,2,2]]"
   ]
  },
  {
   "cell_type": "code",
   "execution_count": 28,
   "metadata": {},
   "outputs": [
    {
     "data": {
      "text/plain": [
       "array(['versicolor', 'virginica', 'versicolor', 'setosa', 'virginica',\n",
       "       'versicolor', 'setosa', 'versicolor', 'setosa', 'versicolor'],\n",
       "      dtype=object)"
      ]
     },
     "execution_count": 28,
     "metadata": {},
     "output_type": "execute_result"
    }
   ],
   "source": [
    "def mult_predict(X):\n",
    "    return mult.classes_[(X.values @ mult.coef_.T).argmax(axis=1)]\n",
    "\n",
    "mult_predict(test[[\"sepal length (cm)\", \"sepal width (cm)\", \"const\"]])"
   ]
  },
  {
   "cell_type": "code",
   "execution_count": 30,
   "metadata": {},
   "outputs": [
    {
     "data": {
      "text/plain": [
       "array([[5.8, 2.7, 1. ],\n",
       "       [6.1, 2.6, 1. ],\n",
       "       [5.8, 2.8, 1. ],\n",
       "       [4.4, 3.2, 1. ],\n",
       "       [7.2, 3.6, 1. ],\n",
       "       [4.9, 2.4, 1. ],\n",
       "       [4.9, 3. , 1. ],\n",
       "       [5.9, 3.2, 1. ],\n",
       "       [5. , 3. , 1. ],\n",
       "       [5.4, 3. , 1. ]])"
      ]
     },
     "execution_count": 30,
     "metadata": {},
     "output_type": "execute_result"
    }
   ],
   "source": [
    "X = test[[\"sepal length (cm)\", \"sepal width (cm)\", \"const\"]]\n",
    "X.values"
   ]
  },
  {
   "cell_type": "code",
   "execution_count": 31,
   "metadata": {},
   "outputs": [
    {
     "data": {
      "text/plain": [
       "array([[-1.80097204,  0.64875706,  1.15221498],\n",
       "       [ 3.01989635, -1.46308696, -1.55680939],\n",
       "       [ 0.69404974,  1.04354373, -1.73759347]])"
      ]
     },
     "execution_count": 31,
     "metadata": {},
     "output_type": "execute_result"
    }
   ],
   "source": [
    "mult.coef_.T"
   ]
  },
  {
   "cell_type": "code",
   "execution_count": 32,
   "metadata": {},
   "outputs": [
    {
     "data": {
      "text/plain": [
       "array([[-1.59786793,  0.85599987,  0.74186806],\n",
       "       [-2.44014918,  1.19693568,  1.24321349],\n",
       "       [-1.2958783 ,  0.70969118,  0.58618712],\n",
       "       [ 2.43344109, -0.78380349, -1.6496376 ],\n",
       "       [-1.40132207,  0.44748149,  0.95384058],\n",
       "       [-0.88296201,  0.71104461,  0.1719174 ],\n",
       "       [ 0.9289758 , -0.16680757, -0.76216824],\n",
       "       [-0.26801696,  0.1893321 ,  0.07868487],\n",
       "       [ 0.7488786 , -0.10193186, -0.64694674],\n",
       "       [ 0.02848978,  0.15757096, -0.18606075]])"
      ]
     },
     "execution_count": 32,
     "metadata": {},
     "output_type": "execute_result"
    }
   ],
   "source": [
    "X.values @ mult.coef_.T"
   ]
  },
  {
   "cell_type": "code",
   "execution_count": 34,
   "metadata": {},
   "outputs": [
    {
     "data": {
      "text/plain": [
       "array([1, 2, 1, 0, 2, 1, 0, 1, 0, 1])"
      ]
     },
     "execution_count": 34,
     "metadata": {},
     "output_type": "execute_result"
    }
   ],
   "source": [
    "(X.values @ mult.coef_.T).argmax(axis=1)"
   ]
  },
  {
   "cell_type": "code",
   "execution_count": 35,
   "metadata": {},
   "outputs": [
    {
     "data": {
      "text/plain": [
       "array(['setosa', 'versicolor', 'virginica'], dtype=object)"
      ]
     },
     "execution_count": 35,
     "metadata": {},
     "output_type": "execute_result"
    }
   ],
   "source": [
    "mult.classes_"
   ]
  },
  {
   "cell_type": "code",
   "execution_count": 38,
   "metadata": {},
   "outputs": [
    {
     "data": {
      "text/plain": [
       "array(['versicolor', 'virginica', 'versicolor', 'setosa', 'virginica',\n",
       "       'versicolor', 'setosa', 'versicolor', 'setosa', 'versicolor'],\n",
       "      dtype=object)"
      ]
     },
     "execution_count": 38,
     "metadata": {},
     "output_type": "execute_result"
    }
   ],
   "source": [
    "mult.classes_[(X.values @ mult.coef_.T).argmax(axis=1)]"
   ]
  },
  {
   "cell_type": "markdown",
   "metadata": {},
   "source": [
    "# Visualize Decision Boundaries"
   ]
  },
  {
   "cell_type": "code",
   "execution_count": 39,
   "metadata": {},
   "outputs": [],
   "source": [
    "import numpy as np   # np.meshgrid\n",
    "import matplotlib.pyplot as plt   # plt.contourf"
   ]
  },
  {
   "cell_type": "code",
   "execution_count": 41,
   "metadata": {},
   "outputs": [],
   "source": [
    "X, Y = np.meshgrid(np.arange(0, 10), np.arange(10))"
   ]
  },
  {
   "cell_type": "code",
   "execution_count": 44,
   "metadata": {},
   "outputs": [
    {
     "name": "stdout",
     "output_type": "stream",
     "text": [
      "[[0 1 2 3 4 5 6 7 8 9]\n",
      " [0 1 2 3 4 5 6 7 8 9]\n",
      " [0 1 2 3 4 5 6 7 8 9]\n",
      " [0 1 2 3 4 5 6 7 8 9]\n",
      " [0 1 2 3 4 5 6 7 8 9]\n",
      " [0 1 2 3 4 5 6 7 8 9]\n",
      " [0 1 2 3 4 5 6 7 8 9]\n",
      " [0 1 2 3 4 5 6 7 8 9]\n",
      " [0 1 2 3 4 5 6 7 8 9]\n",
      " [0 1 2 3 4 5 6 7 8 9]]\n",
      "\n",
      "[[0 0 0 0 0 0 0 0 0 0]\n",
      " [1 1 1 1 1 1 1 1 1 1]\n",
      " [2 2 2 2 2 2 2 2 2 2]\n",
      " [3 3 3 3 3 3 3 3 3 3]\n",
      " [4 4 4 4 4 4 4 4 4 4]\n",
      " [5 5 5 5 5 5 5 5 5 5]\n",
      " [6 6 6 6 6 6 6 6 6 6]\n",
      " [7 7 7 7 7 7 7 7 7 7]\n",
      " [8 8 8 8 8 8 8 8 8 8]\n",
      " [9 9 9 9 9 9 9 9 9 9]]\n"
     ]
    }
   ],
   "source": [
    "print(X)\n",
    "print()\n",
    "print(Y)"
   ]
  },
  {
   "cell_type": "code",
   "execution_count": 51,
   "metadata": {},
   "outputs": [
    {
     "data": {
      "text/plain": [
       "<matplotlib.contour.QuadContourSet at 0x7f812fa2b2b0>"
      ]
     },
     "execution_count": 51,
     "metadata": {},
     "output_type": "execute_result"
    },
    {
     "data": {
      "image/png": "[encoded data removed]",
      "text/plain": [
       "<Figure size 432x288 with 1 Axes>"
      ]
     },
     "metadata": {
      "needs_background": "light"
     },
     "output_type": "display_data"
    }
   ],
   "source": [
    "Z = X * Y\n",
    "print(Z)\n",
    "plt.contourf(X, Y, Z, levels=100)"
   ]
  },
  {
   "cell_type": "code",
   "execution_count": 69,
   "metadata": {},
   "outputs": [],
   "source": [
    "X, Y = np.meshgrid(np.arange(0, 10, 0.1), np.arange(0, 10, 0.1))"
   ]
  },
  {
   "cell_type": "code",
   "execution_count": 70,
   "metadata": {},
   "outputs": [
    {
     "data": {
      "text/plain": [
       "array(['sepal length (cm)', 'sepal width (cm)', 'const'], dtype=object)"
      ]
     },
     "execution_count": 70,
     "metadata": {},
     "output_type": "execute_result"
    }
   ],
   "source": [
    "cls.feature_names_in_"
   ]
  },
  {
   "cell_type": "code",
   "execution_count": 72,
   "metadata": {},
   "outputs": [
    {
     "data": {
      "text/html": [
       "<div>\n",
       "<style scoped>\n",
       "    .dataframe tbody tr th:only-of-type {\n",
       "        vertical-align: middle;\n",
       "    }\n",
       "\n",
       "    .dataframe tbody tr th {\n",
       "        vertical-align: top;\n",
       "    }\n",
       "\n",
       "    .dataframe thead th {\n",
       "        text-align: right;\n",
       "    }\n",
       "</style>\n",
       "<table border=\"1\" class=\"dataframe\">\n",
       "  <thead>\n",
       "    <tr style=\"text-align: right;\">\n",
       "      <th></th>\n",
       "      <th>sepal length (cm)</th>\n",
       "      <th>sepal width (cm)</th>\n",
       "      <th>const</th>\n",
       "      <th>prediction</th>\n",
       "    </tr>\n",
       "  </thead>\n",
       "  <tbody>\n",
       "    <tr>\n",
       "      <th>0</th>\n",
       "      <td>0.0</td>\n",
       "      <td>0.0</td>\n",
       "      <td>1</td>\n",
       "      <td>True</td>\n",
       "    </tr>\n",
       "    <tr>\n",
       "      <th>1</th>\n",
       "      <td>0.1</td>\n",
       "      <td>0.0</td>\n",
       "      <td>1</td>\n",
       "      <td>True</td>\n",
       "    </tr>\n",
       "    <tr>\n",
       "      <th>2</th>\n",
       "      <td>0.2</td>\n",
       "      <td>0.0</td>\n",
       "      <td>1</td>\n",
       "      <td>True</td>\n",
       "    </tr>\n",
       "    <tr>\n",
       "      <th>3</th>\n",
       "      <td>0.3</td>\n",
       "      <td>0.0</td>\n",
       "      <td>1</td>\n",
       "      <td>True</td>\n",
       "    </tr>\n",
       "    <tr>\n",
       "      <th>4</th>\n",
       "      <td>0.4</td>\n",
       "      <td>0.0</td>\n",
       "      <td>1</td>\n",
       "      <td>False</td>\n",
       "    </tr>\n",
       "  </tbody>\n",
       "</table>\n",
       "</div>"
      ],
      "text/plain": [
       "   sepal length (cm)  sepal width (cm)  const  prediction\n",
       "0                0.0               0.0      1        True\n",
       "1                0.1               0.0      1        True\n",
       "2                0.2               0.0      1        True\n",
       "3                0.3               0.0      1        True\n",
       "4                0.4               0.0      1       False"
      ]
     },
     "execution_count": 72,
     "metadata": {},
     "output_type": "execute_result"
    }
   ],
   "source": [
    "predict_df = pd.DataFrame({\n",
    "    'sepal length (cm)': X.reshape(-1),\n",
    "    'sepal width (cm)': Y.reshape(-1),\n",
    "    'const': 1\n",
    "})\n",
    "\n",
    "predict_df[\"prediction\"] = cls.predict(predict_df)\n",
    "predict_df.head()"
   ]
  },
  {
   "cell_type": "code",
   "execution_count": 77,
   "metadata": {},
   "outputs": [
    {
     "data": {
      "text/plain": [
       "matplotlib.contour.QuadContourSet"
      ]
     },
     "execution_count": 77,
     "metadata": {},
     "output_type": "execute_result"
    }
   ],
   "source": [
    "# plt.gca() # current axes area"
   ]
  },
  {
   "cell_type": "code",
   "execution_count": 85,
   "metadata": {},
   "outputs": [
    {
     "data": {
      "text/plain": [
       "(<AxesSubplot:xlabel='sepal length (cm)', ylabel='sepal width (cm)'>,)"
      ]
     },
     "execution_count": 85,
     "metadata": {},
     "output_type": "execute_result"
    },
    {
     "data": {
      "image/png": "[encoded data removed]",
      "text/plain": [
       "<Figure size 432x288 with 1 Axes>"
      ]
     },
     "metadata": {
      "needs_background": "light"
     },
     "output_type": "display_data"
    }
   ],
   "source": [
    "Z = predict_df[\"prediction\"].values.reshape(X.shape)\n",
    "plt.contourf(X, Y, Z, levels=100)\n",
    "\n",
    "setosa_df = test[test[\"variety\"] == \"setosa\"]\n",
    "other_df = test[test[\"variety\"] != \"setosa\"]\n",
    "setosa_df.plot.scatter(x=\"sepal length (cm)\", y=\"sepal width (cm)\", \n",
    "                       ax=plt.gca(), color=\"red\", label=\"Setosa\")\n",
    "other_df.plot.scatter(x=\"sepal length (cm)\", y=\"sepal width (cm)\",\n",
    "                      ax=plt.gca(), color=\"gray\", label=\"Not Setosa\"),"
   ]
  },
  {
   "cell_type": "code",
   "execution_count": 86,
   "metadata": {},
   "outputs": [
    {
     "data": {
      "text/html": [
       "<div>\n",
       "<style scoped>\n",
       "    .dataframe tbody tr th:only-of-type {\n",
       "        vertical-align: middle;\n",
       "    }\n",
       "\n",
       "    .dataframe tbody tr th {\n",
       "        vertical-align: top;\n",
       "    }\n",
       "\n",
       "    .dataframe thead th {\n",
       "        text-align: right;\n",
       "    }\n",
       "</style>\n",
       "<table border=\"1\" class=\"dataframe\">\n",
       "  <thead>\n",
       "    <tr style=\"text-align: right;\">\n",
       "      <th></th>\n",
       "      <th>sepal length (cm)</th>\n",
       "      <th>sepal width (cm)</th>\n",
       "      <th>const</th>\n",
       "      <th>prediction</th>\n",
       "    </tr>\n",
       "  </thead>\n",
       "  <tbody>\n",
       "    <tr>\n",
       "      <th>0</th>\n",
       "      <td>0.0</td>\n",
       "      <td>0.0</td>\n",
       "      <td>1</td>\n",
       "      <td>True</td>\n",
       "    </tr>\n",
       "    <tr>\n",
       "      <th>1</th>\n",
       "      <td>0.1</td>\n",
       "      <td>0.0</td>\n",
       "      <td>1</td>\n",
       "      <td>True</td>\n",
       "    </tr>\n",
       "    <tr>\n",
       "      <th>2</th>\n",
       "      <td>0.2</td>\n",
       "      <td>0.0</td>\n",
       "      <td>1</td>\n",
       "      <td>True</td>\n",
       "    </tr>\n",
       "    <tr>\n",
       "      <th>3</th>\n",
       "      <td>0.3</td>\n",
       "      <td>0.0</td>\n",
       "      <td>1</td>\n",
       "      <td>True</td>\n",
       "    </tr>\n",
       "    <tr>\n",
       "      <th>4</th>\n",
       "      <td>0.4</td>\n",
       "      <td>0.0</td>\n",
       "      <td>1</td>\n",
       "      <td>False</td>\n",
       "    </tr>\n",
       "    <tr>\n",
       "      <th>...</th>\n",
       "      <td>...</td>\n",
       "      <td>...</td>\n",
       "      <td>...</td>\n",
       "      <td>...</td>\n",
       "    </tr>\n",
       "    <tr>\n",
       "      <th>9995</th>\n",
       "      <td>9.5</td>\n",
       "      <td>9.9</td>\n",
       "      <td>1</td>\n",
       "      <td>True</td>\n",
       "    </tr>\n",
       "    <tr>\n",
       "      <th>9996</th>\n",
       "      <td>9.6</td>\n",
       "      <td>9.9</td>\n",
       "      <td>1</td>\n",
       "      <td>True</td>\n",
       "    </tr>\n",
       "    <tr>\n",
       "      <th>9997</th>\n",
       "      <td>9.7</td>\n",
       "      <td>9.9</td>\n",
       "      <td>1</td>\n",
       "      <td>True</td>\n",
       "    </tr>\n",
       "    <tr>\n",
       "      <th>9998</th>\n",
       "      <td>9.8</td>\n",
       "      <td>9.9</td>\n",
       "      <td>1</td>\n",
       "      <td>True</td>\n",
       "    </tr>\n",
       "    <tr>\n",
       "      <th>9999</th>\n",
       "      <td>9.9</td>\n",
       "      <td>9.9</td>\n",
       "      <td>1</td>\n",
       "      <td>True</td>\n",
       "    </tr>\n",
       "  </tbody>\n",
       "</table>\n",
       "<p>10000 rows × 4 columns</p>\n",
       "</div>"
      ],
      "text/plain": [
       "      sepal length (cm)  sepal width (cm)  const  prediction\n",
       "0                   0.0               0.0      1        True\n",
       "1                   0.1               0.0      1        True\n",
       "2                   0.2               0.0      1        True\n",
       "3                   0.3               0.0      1        True\n",
       "4                   0.4               0.0      1       False\n",
       "...                 ...               ...    ...         ...\n",
       "9995                9.5               9.9      1        True\n",
       "9996                9.6               9.9      1        True\n",
       "9997                9.7               9.9      1        True\n",
       "9998                9.8               9.9      1        True\n",
       "9999                9.9               9.9      1        True\n",
       "\n",
       "[10000 rows x 4 columns]"
      ]
     },
     "execution_count": 86,
     "metadata": {},
     "output_type": "execute_result"
    }
   ],
   "source": [
    "predict_df"
   ]
  },
  {
   "cell_type": "markdown",
   "metadata": {},
   "source": [
    "## 3+ categories"
   ]
  },
  {
   "cell_type": "code",
   "execution_count": 88,
   "metadata": {},
   "outputs": [
    {
     "data": {
      "text/html": [
       "<div>\n",
       "<style scoped>\n",
       "    .dataframe tbody tr th:only-of-type {\n",
       "        vertical-align: middle;\n",
       "    }\n",
       "\n",
       "    .dataframe tbody tr th {\n",
       "        vertical-align: top;\n",
       "    }\n",
       "\n",
       "    .dataframe thead th {\n",
       "        text-align: right;\n",
       "    }\n",
       "</style>\n",
       "<table border=\"1\" class=\"dataframe\">\n",
       "  <thead>\n",
       "    <tr style=\"text-align: right;\">\n",
       "      <th></th>\n",
       "      <th>sepal length (cm)</th>\n",
       "      <th>sepal width (cm)</th>\n",
       "      <th>const</th>\n",
       "      <th>prediction</th>\n",
       "    </tr>\n",
       "  </thead>\n",
       "  <tbody>\n",
       "    <tr>\n",
       "      <th>0</th>\n",
       "      <td>0.0</td>\n",
       "      <td>0.0</td>\n",
       "      <td>1</td>\n",
       "      <td>versicolor</td>\n",
       "    </tr>\n",
       "    <tr>\n",
       "      <th>1</th>\n",
       "      <td>0.1</td>\n",
       "      <td>0.0</td>\n",
       "      <td>1</td>\n",
       "      <td>versicolor</td>\n",
       "    </tr>\n",
       "    <tr>\n",
       "      <th>2</th>\n",
       "      <td>0.2</td>\n",
       "      <td>0.0</td>\n",
       "      <td>1</td>\n",
       "      <td>versicolor</td>\n",
       "    </tr>\n",
       "    <tr>\n",
       "      <th>3</th>\n",
       "      <td>0.3</td>\n",
       "      <td>0.0</td>\n",
       "      <td>1</td>\n",
       "      <td>versicolor</td>\n",
       "    </tr>\n",
       "    <tr>\n",
       "      <th>4</th>\n",
       "      <td>0.4</td>\n",
       "      <td>0.0</td>\n",
       "      <td>1</td>\n",
       "      <td>versicolor</td>\n",
       "    </tr>\n",
       "    <tr>\n",
       "      <th>...</th>\n",
       "      <td>...</td>\n",
       "      <td>...</td>\n",
       "      <td>...</td>\n",
       "      <td>...</td>\n",
       "    </tr>\n",
       "    <tr>\n",
       "      <th>9995</th>\n",
       "      <td>9.5</td>\n",
       "      <td>9.9</td>\n",
       "      <td>1</td>\n",
       "      <td>setosa</td>\n",
       "    </tr>\n",
       "    <tr>\n",
       "      <th>9996</th>\n",
       "      <td>9.6</td>\n",
       "      <td>9.9</td>\n",
       "      <td>1</td>\n",
       "      <td>setosa</td>\n",
       "    </tr>\n",
       "    <tr>\n",
       "      <th>9997</th>\n",
       "      <td>9.7</td>\n",
       "      <td>9.9</td>\n",
       "      <td>1</td>\n",
       "      <td>setosa</td>\n",
       "    </tr>\n",
       "    <tr>\n",
       "      <th>9998</th>\n",
       "      <td>9.8</td>\n",
       "      <td>9.9</td>\n",
       "      <td>1</td>\n",
       "      <td>setosa</td>\n",
       "    </tr>\n",
       "    <tr>\n",
       "      <th>9999</th>\n",
       "      <td>9.9</td>\n",
       "      <td>9.9</td>\n",
       "      <td>1</td>\n",
       "      <td>setosa</td>\n",
       "    </tr>\n",
       "  </tbody>\n",
       "</table>\n",
       "<p>10000 rows × 4 columns</p>\n",
       "</div>"
      ],
      "text/plain": [
       "      sepal length (cm)  sepal width (cm)  const  prediction\n",
       "0                   0.0               0.0      1  versicolor\n",
       "1                   0.1               0.0      1  versicolor\n",
       "2                   0.2               0.0      1  versicolor\n",
       "3                   0.3               0.0      1  versicolor\n",
       "4                   0.4               0.0      1  versicolor\n",
       "...                 ...               ...    ...         ...\n",
       "9995                9.5               9.9      1      setosa\n",
       "9996                9.6               9.9      1      setosa\n",
       "9997                9.7               9.9      1      setosa\n",
       "9998                9.8               9.9      1      setosa\n",
       "9999                9.9               9.9      1      setosa\n",
       "\n",
       "[10000 rows x 4 columns]"
      ]
     },
     "execution_count": 88,
     "metadata": {},
     "output_type": "execute_result"
    }
   ],
   "source": [
    "predict_df = pd.DataFrame({\n",
    "    'sepal length (cm)': X.reshape(-1),\n",
    "    'sepal width (cm)': Y.reshape(-1),\n",
    "    'const': 1\n",
    "})\n",
    "predict_df[\"prediction\"] = mult.predict(predict_df)\n",
    "predict_df"
   ]
  },
  {
   "cell_type": "code",
   "execution_count": 105,
   "metadata": {},
   "outputs": [
    {
     "data": {
      "text/plain": [
       "array([['versicolor', 'versicolor', 'versicolor', ..., 'virginica',\n",
       "        'virginica', 'virginica'],\n",
       "       ['setosa', 'versicolor', 'versicolor', ..., 'virginica',\n",
       "        'virginica', 'virginica'],\n",
       "       ['setosa', 'setosa', 'setosa', ..., 'virginica', 'virginica',\n",
       "        'virginica'],\n",
       "       ...,\n",
       "       ['setosa', 'setosa', 'setosa', ..., 'setosa', 'setosa', 'setosa'],\n",
       "       ['setosa', 'setosa', 'setosa', ..., 'setosa', 'setosa', 'setosa'],\n",
       "       ['setosa', 'setosa', 'setosa', ..., 'setosa', 'setosa', 'setosa']],\n",
       "      dtype=object)"
      ]
     },
     "execution_count": 105,
     "metadata": {},
     "output_type": "execute_result"
    }
   ],
   "source": [
    "Z = predict_df[\"prediction\"].values.reshape(X.shape)\n",
    "Z"
   ]
  },
  {
   "cell_type": "code",
   "execution_count": 106,
   "metadata": {},
   "outputs": [],
   "source": [
    "classes = list(mult.classes_)\n",
    "Z = np.array([classes.index(z) for z in Z.reshape(-1)])\n",
    "Z = Z.reshape(X.shape)"
   ]
  },
  {
   "cell_type": "code",
   "execution_count": 107,
   "metadata": {},
   "outputs": [
    {
     "data": {
      "text/plain": [
       "(<AxesSubplot:xlabel='sepal length (cm)', ylabel='sepal width (cm)'>,)"
      ]
     },
     "execution_count": 107,
     "metadata": {},
     "output_type": "execute_result"
    },
    {
     "data": {
      "image/png": "[encoded data removed]",
      "text/plain": [
       "<Figure size 432x288 with 1 Axes>"
      ]
     },
     "metadata": {
      "needs_background": "light"
     },
     "output_type": "display_data"
    }
   ],
   "source": [
    "plt.contourf(X, Y, Z, levels=100)\n",
    "\n",
    "setosa_df = test[test[\"variety\"] == \"setosa\"]\n",
    "other_df = test[test[\"variety\"] != \"setosa\"]\n",
    "setosa_df.plot.scatter(x=\"sepal length (cm)\", y=\"sepal width (cm)\", \n",
    "                       ax=plt.gca(), color=\"red\", label=\"Setosa\")\n",
    "other_df.plot.scatter(x=\"sepal length (cm)\", y=\"sepal width (cm)\",\n",
    "                      ax=plt.gca(), color=\"gray\", label=\"Not Setosa\"),\n",
    "# TODO: different scatters for the 3 categories"
   ]
  },
  {
   "cell_type": "code",
   "execution_count": 108,
   "metadata": {},
   "outputs": [],
   "source": [
    "from sklearn.pipeline import Pipeline\n",
    "from sklearn.preprocessing import PolynomialFeatures"
   ]
  },
  {
   "cell_type": "code",
   "execution_count": 136,
   "metadata": {},
   "outputs": [
    {
     "data": {
      "text/plain": [
       "Pipeline(steps=[('poly', PolynomialFeatures()),\n",
       "                ('lr', LogisticRegression(max_iter=500))])"
      ]
     },
     "execution_count": 136,
     "metadata": {},
     "output_type": "execute_result"
    }
   ],
   "source": [
    "pipe = Pipeline([\n",
    "    (\"poly\", PolynomialFeatures(degree=2)),\n",
    "    (\"lr\", LogisticRegression(max_iter=500)),\n",
    "])\n",
    "\n",
    "pipe.fit(train[xcols], train[\"variety\"])"
   ]
  },
  {
   "cell_type": "code",
   "execution_count": 131,
   "metadata": {},
   "outputs": [],
   "source": [
    "#pd.DataFrame(pipe[\"poly\"].fit_transform(train[xcols]),\n",
    "#            columns=pipe[\"poly\"].get_feature_names_out()).head()"
   ]
  },
  {
   "cell_type": "code",
   "execution_count": 120,
   "metadata": {},
   "outputs": [
    {
     "data": {
      "text/html": [
       "<div>\n",
       "<style scoped>\n",
       "    .dataframe tbody tr th:only-of-type {\n",
       "        vertical-align: middle;\n",
       "    }\n",
       "\n",
       "    .dataframe tbody tr th {\n",
       "        vertical-align: top;\n",
       "    }\n",
       "\n",
       "    .dataframe thead th {\n",
       "        text-align: right;\n",
       "    }\n",
       "</style>\n",
       "<table border=\"1\" class=\"dataframe\">\n",
       "  <thead>\n",
       "    <tr style=\"text-align: right;\">\n",
       "      <th></th>\n",
       "      <th>sepal length (cm)</th>\n",
       "      <th>sepal width (cm)</th>\n",
       "      <th>const</th>\n",
       "      <th>prediction</th>\n",
       "    </tr>\n",
       "  </thead>\n",
       "  <tbody>\n",
       "    <tr>\n",
       "      <th>0</th>\n",
       "      <td>0.0</td>\n",
       "      <td>0.0</td>\n",
       "      <td>1</td>\n",
       "      <td>versicolor</td>\n",
       "    </tr>\n",
       "    <tr>\n",
       "      <th>1</th>\n",
       "      <td>0.1</td>\n",
       "      <td>0.0</td>\n",
       "      <td>1</td>\n",
       "      <td>versicolor</td>\n",
       "    </tr>\n",
       "    <tr>\n",
       "      <th>2</th>\n",
       "      <td>0.2</td>\n",
       "      <td>0.0</td>\n",
       "      <td>1</td>\n",
       "      <td>versicolor</td>\n",
       "    </tr>\n",
       "    <tr>\n",
       "      <th>3</th>\n",
       "      <td>0.3</td>\n",
       "      <td>0.0</td>\n",
       "      <td>1</td>\n",
       "      <td>versicolor</td>\n",
       "    </tr>\n",
       "    <tr>\n",
       "      <th>4</th>\n",
       "      <td>0.4</td>\n",
       "      <td>0.0</td>\n",
       "      <td>1</td>\n",
       "      <td>versicolor</td>\n",
       "    </tr>\n",
       "    <tr>\n",
       "      <th>...</th>\n",
       "      <td>...</td>\n",
       "      <td>...</td>\n",
       "      <td>...</td>\n",
       "      <td>...</td>\n",
       "    </tr>\n",
       "    <tr>\n",
       "      <th>9995</th>\n",
       "      <td>9.5</td>\n",
       "      <td>9.9</td>\n",
       "      <td>1</td>\n",
       "      <td>setosa</td>\n",
       "    </tr>\n",
       "    <tr>\n",
       "      <th>9996</th>\n",
       "      <td>9.6</td>\n",
       "      <td>9.9</td>\n",
       "      <td>1</td>\n",
       "      <td>setosa</td>\n",
       "    </tr>\n",
       "    <tr>\n",
       "      <th>9997</th>\n",
       "      <td>9.7</td>\n",
       "      <td>9.9</td>\n",
       "      <td>1</td>\n",
       "      <td>setosa</td>\n",
       "    </tr>\n",
       "    <tr>\n",
       "      <th>9998</th>\n",
       "      <td>9.8</td>\n",
       "      <td>9.9</td>\n",
       "      <td>1</td>\n",
       "      <td>setosa</td>\n",
       "    </tr>\n",
       "    <tr>\n",
       "      <th>9999</th>\n",
       "      <td>9.9</td>\n",
       "      <td>9.9</td>\n",
       "      <td>1</td>\n",
       "      <td>setosa</td>\n",
       "    </tr>\n",
       "  </tbody>\n",
       "</table>\n",
       "<p>10000 rows × 4 columns</p>\n",
       "</div>"
      ],
      "text/plain": [
       "      sepal length (cm)  sepal width (cm)  const  prediction\n",
       "0                   0.0               0.0      1  versicolor\n",
       "1                   0.1               0.0      1  versicolor\n",
       "2                   0.2               0.0      1  versicolor\n",
       "3                   0.3               0.0      1  versicolor\n",
       "4                   0.4               0.0      1  versicolor\n",
       "...                 ...               ...    ...         ...\n",
       "9995                9.5               9.9      1      setosa\n",
       "9996                9.6               9.9      1      setosa\n",
       "9997                9.7               9.9      1      setosa\n",
       "9998                9.8               9.9      1      setosa\n",
       "9999                9.9               9.9      1      setosa\n",
       "\n",
       "[10000 rows x 4 columns]"
      ]
     },
     "execution_count": 120,
     "metadata": {},
     "output_type": "execute_result"
    }
   ],
   "source": [
    "predict_df = pd.DataFrame({\n",
    "    'sepal length (cm)': X.reshape(-1),\n",
    "    'sepal width (cm)': Y.reshape(-1),\n",
    "    'const': 1\n",
    "})\n",
    "predict_df[\"prediction\"] = pipe.predict(predict_df)\n",
    "predict_df"
   ]
  },
  {
   "cell_type": "code",
   "execution_count": 121,
   "metadata": {},
   "outputs": [
    {
     "data": {
      "text/plain": [
       "(<AxesSubplot:xlabel='sepal length (cm)', ylabel='sepal width (cm)'>,)"
      ]
     },
     "execution_count": 121,
     "metadata": {},
     "output_type": "execute_result"
    },
    {
     "data": {
      "image/png": "[encoded data removed]",
      "text/plain": [
       "<Figure size 432x288 with 1 Axes>"
      ]
     },
     "metadata": {
      "needs_background": "light"
     },
     "output_type": "display_data"
    }
   ],
   "source": [
    "Z = predict_df[\"prediction\"].values.reshape(X.shape)\n",
    "classes = list(mult.classes_)\n",
    "Z = np.array([classes.index(z) for z in Z.reshape(-1)])\n",
    "Z = Z.reshape(X.shape)\n",
    "\n",
    "plt.contourf(X, Y, Z, levels=100)\n",
    "\n",
    "setosa_df = test[test[\"variety\"] == \"setosa\"]\n",
    "other_df = test[test[\"variety\"] != \"setosa\"]\n",
    "setosa_df.plot.scatter(x=\"sepal length (cm)\", y=\"sepal width (cm)\", \n",
    "                       ax=plt.gca(), color=\"red\", label=\"Setosa\")\n",
    "other_df.plot.scatter(x=\"sepal length (cm)\", y=\"sepal width (cm)\",\n",
    "                      ax=plt.gca(), color=\"gray\", label=\"Not Setosa\"),\n",
    "# TODO: different scatters for the 3 categories"
   ]
  },
  {
   "cell_type": "markdown",
   "metadata": {},
   "source": [
    "# How does LogisticRegression choose coef?"
   ]
  },
  {
   "cell_type": "code",
   "execution_count": 132,
   "metadata": {},
   "outputs": [],
   "source": [
    "# choose random coefficients\n",
    "# LOOP\n",
    "#    tweak coefficients slightly to see if we can improve\n",
    "#    break out of loop if we're not improving\n",
    "\n",
    "\n",
    "# what data does LogisticRegression want?\n",
    "# 1. smallish values\n",
    "# 2. \"centered\" values (average of a column is zero)"
   ]
  },
  {
   "cell_type": "code",
   "execution_count": 137,
   "metadata": {},
   "outputs": [
    {
     "data": {
      "text/plain": [
       "array([ 1,  2,  9, 10])"
      ]
     },
     "execution_count": 137,
     "metadata": {},
     "output_type": "execute_result"
    }
   ],
   "source": [
    "x = np.array([1,2,9,10])\n",
    "x"
   ]
  },
  {
   "cell_type": "code",
   "execution_count": 141,
   "metadata": {},
   "outputs": [
    {
     "data": {
      "text/plain": [
       "array([-1.11631261, -0.86824314,  0.86824314,  1.11631261])"
      ]
     },
     "execution_count": 141,
     "metadata": {},
     "output_type": "execute_result"
    }
   ],
   "source": [
    "(x - x.mean()) / x.std() # standardization"
   ]
  },
  {
   "cell_type": "code",
   "execution_count": 142,
   "metadata": {},
   "outputs": [],
   "source": [
    "from sklearn.preprocessing import StandardScaler"
   ]
  },
  {
   "cell_type": "code",
   "execution_count": 144,
   "metadata": {},
   "outputs": [
    {
     "data": {
      "text/plain": [
       "array([[-1.11631261],\n",
       "       [-0.86824314],\n",
       "       [ 0.86824314],\n",
       "       [ 1.11631261]])"
      ]
     },
     "execution_count": 144,
     "metadata": {},
     "output_type": "execute_result"
    }
   ],
   "source": [
    "StandardScaler().fit_transform(x.reshape(-1,1))"
   ]
  },
  {
   "cell_type": "code",
   "execution_count": 146,
   "metadata": {},
   "outputs": [
    {
     "data": {
      "text/plain": [
       "Pipeline(steps=[('poly', PolynomialFeatures()), ('std', StandardScaler()),\n",
       "                ('lr', LogisticRegression())])"
      ]
     },
     "execution_count": 146,
     "metadata": {},
     "output_type": "execute_result"
    }
   ],
   "source": [
    "# BEST PRACTICE: always do Poly before Std if you're doing both\n",
    "pipe = Pipeline([\n",
    "    (\"poly\", PolynomialFeatures(degree=2)),\n",
    "    (\"std\", StandardScaler()),\n",
    "    (\"lr\", LogisticRegression(max_iter=100)),\n",
    "])\n",
    "\n",
    "pipe.fit(train[xcols], train[\"variety\"])"
   ]
  },
  {
   "cell_type": "code",
   "execution_count": 152,
   "metadata": {},
   "outputs": [
    {
     "data": {
      "text/plain": [
       "array([1.24615385, 0.75384615, 0.75384615, 1.24615385])"
      ]
     },
     "execution_count": 152,
     "metadata": {},
     "output_type": "execute_result"
    }
   ],
   "source": [
    "x = np.array([1,2,9,10])\n",
    "x = (x - x.mean()) / x.std() # std\n",
    "x = x ** 2 # poly\n",
    "x"
   ]
  },
  {
   "cell_type": "code",
   "execution_count": 153,
   "metadata": {},
   "outputs": [
    {
     "data": {
      "text/plain": [
       "array([-1.02195597, -0.95457425,  0.77488969,  1.20164053])"
      ]
     },
     "execution_count": 153,
     "metadata": {},
     "output_type": "execute_result"
    }
   ],
   "source": [
    "x = np.array([1,2,9,10])\n",
    "x = x ** 2 # poly\n",
    "x = (x - x.mean()) / x.std() # std\n",
    "x"
   ]
  },
  {
   "cell_type": "code",
   "execution_count": null,
   "metadata": {},
   "outputs": [],
   "source": []
  }
 ],
 "metadata": {
  "kernelspec": {
   "display_name": "Python 3 (ipykernel)",
   "language": "python",
   "name": "python3"
  },
  "language_info": {
   "codemirror_mode": {
    "name": "ipython",
    "version": 3
   },
   "file_extension": ".py",
   "mimetype": "text/x-python",
   "name": "python",
   "nbconvert_exporter": "python",
   "pygments_lexer": "ipython3",
   "version": "3.8.10"
  }
 },
 "nbformat": 4,
 "nbformat_minor": 2
}
