{
 "cells": [
  {
   "cell_type": "code",
   "execution_count": 1,
   "id": "0b898111",
   "metadata": {},
   "outputs": [],
   "source": [
    "import matplotlib.pyplot as plt"
   ]
  },
  {
   "cell_type": "code",
   "execution_count": 10,
   "id": "f072b665",
   "metadata": {},
   "outputs": [
    {
     "data": {
      "text/plain": [
       "<matplotlib.patches.Circle at 0x7f74149e5e80>"
      ]
     },
     "execution_count": 10,
     "metadata": {},
     "output_type": "execute_result"
    },
    {
     "data": {
      "image/png": "[encoded data removed]",
      "text/plain": [
       "<Figure size 432x288 with 1 Axes>"
      ]
     },
     "metadata": {
      "needs_background": "light"
     },
     "output_type": "display_data"
    }
   ],
   "source": [
    "fig, ax = plt.subplots()\n",
    "c = plt.Circle((0.5,0.5), 0.3)\n",
    "ax.add_artist(c)"
   ]
  },
  {
   "cell_type": "code",
   "execution_count": 9,
   "id": "b00384e4",
   "metadata": {},
   "outputs": [
    {
     "data": {
      "text/plain": [
       "(matplotlib.patches.Circle,\n",
       " matplotlib.patches.Ellipse,\n",
       " matplotlib.patches.Patch,\n",
       " matplotlib.artist.Artist,\n",
       " object)"
      ]
     },
     "execution_count": 9,
     "metadata": {},
     "output_type": "execute_result"
    }
   ],
   "source": [
    "type(c).__mro__"
   ]
  },
  {
   "cell_type": "markdown",
   "id": "b4d53ae3",
   "metadata": {},
   "source": [
    "# Aspect Ratio"
   ]
  },
  {
   "cell_type": "code",
   "execution_count": 18,
   "id": "2cc05d80",
   "metadata": {},
   "outputs": [
    {
     "data": {
      "text/plain": [
       "<matplotlib.patches.Circle at 0x7f74147b2f10>"
      ]
     },
     "execution_count": 18,
     "metadata": {},
     "output_type": "execute_result"
    },
    {
     "data": {
      "image/png": "[encoded data removed]",
      "text/plain": [
       "<Figure size 432x288 with 1 Axes>"
      ]
     },
     "metadata": {
      "needs_background": "light"
     },
     "output_type": "display_data"
    }
   ],
   "source": [
    "fig, ax = plt.subplots()\n",
    "ax.set_ylim(0, 3)\n",
    "ax.set_aspect(1)\n",
    "c = plt.Circle((0.5,0.5), 0.3)\n",
    "ax.add_artist(c)"
   ]
  },
  {
   "cell_type": "markdown",
   "id": "dcf60d3c",
   "metadata": {},
   "source": [
    "# Coordinate Reference Systems\n",
    "\n",
    "Controlled \"transformers\"."
   ]
  },
  {
   "cell_type": "code",
   "execution_count": 43,
   "id": "a4a2c5a6",
   "metadata": {},
   "outputs": [
    {
     "data": {
      "text/plain": [
       "{'bbox_inches': 'tight'}"
      ]
     },
     "execution_count": 43,
     "metadata": {},
     "output_type": "execute_result"
    }
   ],
   "source": [
    "%config InlineBackend.print_figure_kwargs"
   ]
  },
  {
   "cell_type": "code",
   "execution_count": 44,
   "id": "af660e20",
   "metadata": {},
   "outputs": [],
   "source": [
    "%config InlineBackend.print_figure_kwargs = {'bbox_inches': None}"
   ]
  },
  {
   "cell_type": "code",
   "execution_count": 62,
   "id": "333d7853",
   "metadata": {},
   "outputs": [
    {
     "name": "stdout",
     "output_type": "stream",
     "text": [
      "72.0\n",
      "432.0 288.0\n"
     ]
    },
    {
     "data": {
      "text/plain": [
       "<matplotlib.patches.FancyArrowPatch at 0x7f74133409d0>"
      ]
     },
     "execution_count": 62,
     "metadata": {},
     "output_type": "execute_result"
    },
    {
     "data": {
      "image/png": "[encoded data removed]",
      "text/plain": [
       "<Figure size 432x288 with 2 Axes>"
      ]
     },
     "metadata": {
      "needs_background": "light"
     },
     "output_type": "display_data"
    }
   ],
   "source": [
    "fig, (ax1, ax2) = plt.subplots(ncols=2, figsize=(6,4))\n",
    "ax2.set_xlim((-1, 3))\n",
    "\n",
    "# 1. transData (default)\n",
    "\n",
    "c = plt.Circle((1,0.8), 0.3, transform=ax1.transData)\n",
    "ax1.add_artist(c)\n",
    "\n",
    "# mix+match ax1/ax2\n",
    "c = plt.Circle((1,0.8), 0.3, transform=ax1.transData, color=\"lightblue\")\n",
    "ax2.add_artist(c)\n",
    "\n",
    "c = plt.Circle((1,0.8), 0.3) # default: transform=ax2.transData\n",
    "ax2.add_artist(c)\n",
    "\n",
    "# 2. transAxes+transFigure (0-to-1 scaling)\n",
    "c = plt.Circle((0.5,0.5), 0.1, transform=ax1.transAxes,\n",
    "               edgecolor=\"red\", facecolor=\"none\", linewidth=3)\n",
    "ax1.add_artist(c)\n",
    "\n",
    "c = plt.Circle((0.5,0.5), 0.1, transform=ax2.transAxes,\n",
    "               edgecolor=\"red\", facecolor=\"none\", linewidth=3)\n",
    "ax2.add_artist(c)\n",
    "\n",
    "c = plt.Circle((0.5,0.5), 0.1, transform=fig.transFigure,\n",
    "               edgecolor=\"red\", facecolor=\"none\", linewidth=3)\n",
    "fig.add_artist(c)\n",
    "\n",
    "# 3. \"display\" coordinates (None)\n",
    "\n",
    "# pixel/dot is a point on screen with it's own color\n",
    "print(fig.dpi) # pixels per inch\n",
    "\n",
    "# this fig is 4 inches wide, 6 inches tall\n",
    "raw_width = 6 * fig.dpi\n",
    "raw_height = 4 * fig.dpi\n",
    "print(raw_width, raw_height)\n",
    "\n",
    "c = plt.Circle((raw_width/2, raw_height/2), 15, transform=None,\n",
    "               color=\"black\")\n",
    "fig.add_artist(c)\n",
    "\n",
    "plt.tight_layout()\n",
    "fig.savefig(\"temp.png\")\n",
    "\n",
    "# 4. use data coordinates for position, raw coordinates for the radius\n",
    "x, y = ax1.transData.transform((0.2,0.2))\n",
    "c = plt.Circle((x,y), radius=15, transform=None, color=\"black\")\n",
    "ax1.add_artist(c)\n",
    "\n",
    "# 5. FancyArrowPatch\n",
    "from matplotlib.patches import FancyArrowPatch\n",
    "x1,y1 = ax1.transAxes.transform((0.5,0.5))\n",
    "x2,y2 = ax2.transAxes.transform((0.5,0.5))\n",
    "arrow = FancyArrowPatch((x1,y1), (x2,y2), transform=None,\n",
    "                        color=\"red\",\n",
    "                        linewidth=3, arrowstyle=\"simple,head_length=10,head_width=10\")\n",
    "fig.add_artist(arrow)"
   ]
  },
  {
   "cell_type": "markdown",
   "id": "394e105a",
   "metadata": {},
   "source": [
    "# Directional Scatter Plot"
   ]
  },
  {
   "cell_type": "code",
   "execution_count": 73,
   "id": "d13901ee",
   "metadata": {},
   "outputs": [
    {
     "data": {
      "image/png": "[encoded data removed]",
      "text/plain": [
       "<Figure size 432x288 with 1 Axes>"
      ]
     },
     "metadata": {
      "needs_background": "light"
     },
     "output_type": "display_data"
    }
   ],
   "source": [
    "import pandas as pd\n",
    "import math\n",
    "\n",
    "df = pd.DataFrame([\n",
    "    {\"x\":2, \"y\":5, \"a\": 90},\n",
    "    {\"x\":3, \"y\":1, \"a\": 0},\n",
    "    {\"x\":6, \"y\":6, \"a\": 45},\n",
    "    {\"x\":8, \"y\":1, \"a\": 180}\n",
    "])\n",
    "\n",
    "fig, ax = plt.subplots()\n",
    "ax.set_xlim(0, 10)\n",
    "ax.set_ylim(0, 10)\n",
    "\n",
    "for row in df.itertuples():\n",
    "    x, y = ax.transData.transform((row.x, row.y))\n",
    "    \n",
    "    # version 1: draw circle at each point\n",
    "    # c = plt.Circle((x, y), radius=5, transform=None)\n",
    "    # ax.add_artist(c)\n",
    "    \n",
    "    # version 2: draw a correct arrow at each point\n",
    "    a = math.radians(row.a)\n",
    "    y_diff = math.sin(a) * 25\n",
    "    x_diff = math.cos(a) * 25\n",
    "    arrow = FancyArrowPatch((x,y), (x+x_diff,y+y_diff), transform=None, color=\"k\",\n",
    "                            arrowstyle=\"simple,head_width=10,head_length=10\")\n",
    "    ax.add_artist(arrow)"
   ]
  },
  {
   "cell_type": "code",
   "execution_count": null,
   "id": "6ffae01a",
   "metadata": {},
   "outputs": [],
   "source": []
  }
 ],
 "metadata": {
  "kernelspec": {
   "display_name": "Python 3 (ipykernel)",
   "language": "python",
   "name": "python3"
  },
  "language_info": {
   "codemirror_mode": {
    "name": "ipython",
    "version": 3
   },
   "file_extension": ".py",
   "mimetype": "text/x-python",
   "name": "python",
   "nbconvert_exporter": "python",
   "pygments_lexer": "ipython3",
   "version": "3.8.10"
  }
 },
 "nbformat": 4,
 "nbformat_minor": 5
}
