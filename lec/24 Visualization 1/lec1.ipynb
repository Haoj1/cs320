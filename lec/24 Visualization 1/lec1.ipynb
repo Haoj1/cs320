{
 "cells": [
  {
   "cell_type": "code",
   "execution_count": 1,
   "id": "79fb8b18",
   "metadata": {},
   "outputs": [],
   "source": [
    "import matplotlib.pyplot as plt\n",
    "plt.rcParams[\"font.size\"] = 10"
   ]
  },
  {
   "cell_type": "code",
   "execution_count": 2,
   "id": "023a229b",
   "metadata": {},
   "outputs": [
    {
     "data": {
      "text/plain": [
       "<matplotlib.patches.Circle at 0x7f7b5fa1d6d0>"
      ]
     },
     "execution_count": 2,
     "metadata": {},
     "output_type": "execute_result"
    },
    {
     "data": {
      "image/png": "[encoded data removed]",
      "text/plain": [
       "<Figure size 432x288 with 1 Axes>"
      ]
     },
     "metadata": {
      "needs_background": "light"
     },
     "output_type": "display_data"
    }
   ],
   "source": [
    "fig, ax = plt.subplots()\n",
    "c = plt.Circle((0.5,0.5), 0.3,\n",
    "               facecolor=\"none\", edgecolor=\"red\", linewidth=3)\n",
    "ax.add_artist(c)"
   ]
  },
  {
   "cell_type": "code",
   "execution_count": 3,
   "id": "0cf7524d",
   "metadata": {},
   "outputs": [
    {
     "data": {
      "text/plain": [
       "(matplotlib.patches.Circle,\n",
       " matplotlib.patches.Ellipse,\n",
       " matplotlib.patches.Patch,\n",
       " matplotlib.artist.Artist,\n",
       " object)"
      ]
     },
     "execution_count": 3,
     "metadata": {},
     "output_type": "execute_result"
    }
   ],
   "source": [
    "type(c).__mro__"
   ]
  },
  {
   "cell_type": "markdown",
   "id": "0cd1c655",
   "metadata": {},
   "source": [
    "# Control the Aspect Ratio"
   ]
  },
  {
   "cell_type": "code",
   "execution_count": 4,
   "id": "5e4f76ae",
   "metadata": {},
   "outputs": [
    {
     "data": {
      "image/png": "[encoded data removed]",
      "text/plain": [
       "<Figure size 432x288 with 1 Axes>"
      ]
     },
     "metadata": {
      "needs_background": "light"
     },
     "output_type": "display_data"
    }
   ],
   "source": [
    "fig, ax = plt.subplots()\n",
    "c = plt.Circle((0.5,0.5), 0.3)\n",
    "ax.add_patch(c)\n",
    "ax.set_ylim(0,3)\n",
    "ax.set_aspect(1)"
   ]
  },
  {
   "cell_type": "code",
   "execution_count": 5,
   "id": "18b7a465",
   "metadata": {},
   "outputs": [
    {
     "data": {
      "text/plain": [
       "{'bbox_inches': 'tight'}"
      ]
     },
     "execution_count": 5,
     "metadata": {},
     "output_type": "execute_result"
    }
   ],
   "source": [
    "%config InlineBackend.print_figure_kwargs"
   ]
  },
  {
   "cell_type": "code",
   "execution_count": 6,
   "id": "f88f0200",
   "metadata": {},
   "outputs": [],
   "source": [
    "%config InlineBackend.print_figure_kwargs = {'bbox_inches': None}"
   ]
  },
  {
   "cell_type": "markdown",
   "id": "d7b716ec",
   "metadata": {},
   "source": [
    "# Coordinate Reference Systems"
   ]
  },
  {
   "cell_type": "code",
   "execution_count": 7,
   "id": "7493fdab",
   "metadata": {},
   "outputs": [
    {
     "name": "stdout",
     "output_type": "stream",
     "text": [
      "432.0 288.0\n",
      "294.7796875 76.88000000000001\n"
     ]
    },
    {
     "data": {
      "text/plain": [
       "<matplotlib.patches.Circle at 0x7f7b5d5db4f0>"
      ]
     },
     "execution_count": 7,
     "metadata": {},
     "output_type": "execute_result"
    },
    {
     "data": {
      "image/png": "[encoded data removed]",
      "text/plain": [
       "<Figure size 432x288 with 2 Axes>"
      ]
     },
     "metadata": {
      "needs_background": "light"
     },
     "output_type": "display_data"
    }
   ],
   "source": [
    "# transformers: ax.transData, ax.transAxes, fig.transFigure, None\n",
    "\n",
    "fig, (ax1, ax2) = plt.subplots(ncols=2, figsize=(6,4))\n",
    "ax1.set_ylabel(\"TODO\")\n",
    "ax2.set_xlim(-1, 3)\n",
    "\n",
    "# 1. transData\n",
    "\n",
    "c = plt.Circle((1, 0.8), 0.3,\n",
    "               facecolor=\"blue\",\n",
    "               transform=ax1.transData)\n",
    "ax1.add_artist(c)\n",
    "\n",
    "c = plt.Circle((1, 0.8), 0.3,\n",
    "               facecolor=\"lightblue\",\n",
    "               transform=ax1.transData)\n",
    "ax2.add_artist(c)\n",
    "\n",
    "c = plt.Circle((1, 0.8), 0.3, # default: transform=ax2.transData\n",
    "               facecolor=\"blue\")\n",
    "ax2.add_artist(c)\n",
    "\n",
    "# 2. transAxes+transFigure (0-to-1 scale)\n",
    "c = plt.Circle((0.5, 0.5), 0.1, edgecolor=\"red\", facecolor=\"none\", linewidth=3,\n",
    "               transform=ax1.transAxes)\n",
    "ax1.add_artist(c)\n",
    "\n",
    "c = plt.Circle((0.5, 0.5), 0.1, edgecolor=\"red\", facecolor=\"none\", linewidth=3,\n",
    "               transform=ax2.transAxes)\n",
    "ax2.add_artist(c)\n",
    "\n",
    "c = plt.Circle((0.5, 0.5), 0.1, edgecolor=\"red\", facecolor=\"none\", linewidth=3,\n",
    "               transform=fig.transFigure)\n",
    "fig.add_artist(c)\n",
    "\n",
    "# 3. \"display\" (no transformer)\n",
    "\n",
    "width = 6 * fig.dpi # \"dots\" (or pixels) per inch\n",
    "height = 4 * fig.dpi\n",
    "print(width, height)\n",
    "\n",
    "c = plt.Circle((width/2, height/2), 20, color=\"k\",\n",
    "               transform=None)\n",
    "fig.add_artist(c)\n",
    "\n",
    "plt.tight_layout()\n",
    "fig.savefig(\"temp.png\")\n",
    "\n",
    "# mix and match: transData for the position, radius in raw pixels\n",
    "\n",
    "x, y = ax2.transData.transform((0,0.2))\n",
    "print(x, y)\n",
    "c = plt.Circle((x, y), 20, color=\"k\",\n",
    "               transform=None)\n",
    "ax2.add_artist(c)"
   ]
  },
  {
   "cell_type": "markdown",
   "id": "45feb3ab",
   "metadata": {},
   "source": [
    "# Example: scatter with arrows"
   ]
  },
  {
   "cell_type": "code",
   "execution_count": 8,
   "id": "e5491f74",
   "metadata": {},
   "outputs": [
    {
     "data": {
      "image/png": "[encoded data removed]",
      "text/plain": [
       "<Figure size 432x288 with 1 Axes>"
      ]
     },
     "metadata": {
      "needs_background": "light"
     },
     "output_type": "display_data"
    }
   ],
   "source": [
    "import pandas as pd\n",
    "import math\n",
    "from matplotlib.patches import FancyArrowPatch\n",
    "\n",
    "df = pd.DataFrame([\n",
    "    {\"x\":2, \"y\":5, \"a\": 90},\n",
    "    {\"x\":3, \"y\":1, \"a\": 0},\n",
    "    {\"x\":6, \"y\":6, \"a\": 45},\n",
    "    {\"x\":8, \"y\":1, \"a\": 180}\n",
    "])\n",
    "\n",
    "fig, ax = plt.subplots()\n",
    "ax.set_xlim(0, 10)\n",
    "ax.set_ylim(0, 10)\n",
    "\n",
    "for row in df.itertuples():\n",
    "    raw_x, raw_y = ax.transData.transform((row.x, row.y))\n",
    "    \n",
    "    # version 1: circles\n",
    "    #c = plt.Circle((raw_x, raw_y), 10, transform=None)\n",
    "    #ax.add_artist(c)\n",
    "    \n",
    "    # version 2: arrows\n",
    "    a = math.radians(row.a)\n",
    "    y_diff = math.sin(a) * 25\n",
    "    x_diff = math.cos(a) * 25\n",
    "    arrow = FancyArrowPatch((raw_x, raw_y), (raw_x+x_diff, raw_y+y_diff),\n",
    "                            transform=None,\n",
    "                            linewidth=4, arrowstyle=\"simple,head_width=5,head_length=5\")\n",
    "    ax.add_artist(arrow)"
   ]
  }
 ],
 "metadata": {
  "kernelspec": {
   "display_name": "Python 3 (ipykernel)",
   "language": "python",
   "name": "python3"
  },
  "language_info": {
   "codemirror_mode": {
    "name": "ipython",
    "version": 3
   },
   "file_extension": ".py",
   "mimetype": "text/x-python",
   "name": "python",
   "nbconvert_exporter": "python",
   "pygments_lexer": "ipython3",
   "version": "3.8.10"
  }
 },
 "nbformat": 4,
 "nbformat_minor": 5
}
