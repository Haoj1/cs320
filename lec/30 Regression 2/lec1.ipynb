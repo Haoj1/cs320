{
 "cells": [
  {
   "cell_type": "markdown",
   "metadata": {},
   "source": [
    "# Data: Lake Michigan Waves\n",
    "\n",
    "https://data.cityofchicago.org/Parks-Recreation/Beach-Water-Quality-Automated-Sensors/qmqz-2xku\n",
    "\n",
    "Can we predict wave height based on wave period (time between waves)?"
   ]
  },
  {
   "cell_type": "code",
   "execution_count": 1,
   "metadata": {},
   "outputs": [],
   "source": [
    "import numpy as np\n",
    "import pandas as pd\n",
    "import matplotlib.pyplot as plt\n",
    "plt.rcParams[\"font.size\"] = 16"
   ]
  },
  {
   "cell_type": "code",
   "execution_count": 2,
   "metadata": {},
   "outputs": [
    {
     "data": {
      "text/html": [
       "<div>\n",
       "<style scoped>\n",
       "    .dataframe tbody tr th:only-of-type {\n",
       "        vertical-align: middle;\n",
       "    }\n",
       "\n",
       "    .dataframe tbody tr th {\n",
       "        vertical-align: top;\n",
       "    }\n",
       "\n",
       "    .dataframe thead th {\n",
       "        text-align: right;\n",
       "    }\n",
       "</style>\n",
       "<table border=\"1\" class=\"dataframe\">\n",
       "  <thead>\n",
       "    <tr style=\"text-align: right;\">\n",
       "      <th></th>\n",
       "      <th>Beach Name</th>\n",
       "      <th>Measurement Timestamp</th>\n",
       "      <th>Water Temperature</th>\n",
       "      <th>Turbidity</th>\n",
       "      <th>Transducer Depth</th>\n",
       "      <th>Wave Height</th>\n",
       "      <th>Wave Period</th>\n",
       "      <th>Battery Life</th>\n",
       "      <th>Measurement Timestamp Label</th>\n",
       "      <th>Measurement ID</th>\n",
       "    </tr>\n",
       "  </thead>\n",
       "  <tbody>\n",
       "    <tr>\n",
       "      <th>0</th>\n",
       "      <td>Ohio Street Beach</td>\n",
       "      <td>06/02/2019 05:00:00 PM</td>\n",
       "      <td>17.1</td>\n",
       "      <td>0.78</td>\n",
       "      <td>NaN</td>\n",
       "      <td>0.232</td>\n",
       "      <td>4.0</td>\n",
       "      <td>10.9</td>\n",
       "      <td>06/02/2019 5:00 PM</td>\n",
       "      <td>OhioStreetBeach201906021700</td>\n",
       "    </tr>\n",
       "    <tr>\n",
       "      <th>1</th>\n",
       "      <td>63rd Street Beach</td>\n",
       "      <td>09/18/2013 10:00:00 AM</td>\n",
       "      <td>18.9</td>\n",
       "      <td>7.56</td>\n",
       "      <td>1.517</td>\n",
       "      <td>0.140</td>\n",
       "      <td>4.0</td>\n",
       "      <td>11.0</td>\n",
       "      <td>09/18/2013 10:00 AM</td>\n",
       "      <td>63rdStreetBeach201309181000</td>\n",
       "    </tr>\n",
       "    <tr>\n",
       "      <th>2</th>\n",
       "      <td>63rd Street Beach</td>\n",
       "      <td>06/12/2014 12:00:00 PM</td>\n",
       "      <td>25.4</td>\n",
       "      <td>3.45</td>\n",
       "      <td>-0.072</td>\n",
       "      <td>0.031</td>\n",
       "      <td>9.0</td>\n",
       "      <td>12.2</td>\n",
       "      <td>06/12/2014 12:00 PM</td>\n",
       "      <td>63rdStreetBeach201406121200</td>\n",
       "    </tr>\n",
       "    <tr>\n",
       "      <th>3</th>\n",
       "      <td>63rd Street Beach</td>\n",
       "      <td>06/12/2014 01:00:00 PM</td>\n",
       "      <td>18.1</td>\n",
       "      <td>3.31</td>\n",
       "      <td>1.818</td>\n",
       "      <td>0.339</td>\n",
       "      <td>10.0</td>\n",
       "      <td>12.2</td>\n",
       "      <td>06/12/2014 1:00 PM</td>\n",
       "      <td>63rdStreetBeach201406121300</td>\n",
       "    </tr>\n",
       "    <tr>\n",
       "      <th>4</th>\n",
       "      <td>63rd Street Beach</td>\n",
       "      <td>06/12/2014 02:00:00 PM</td>\n",
       "      <td>17.5</td>\n",
       "      <td>2.93</td>\n",
       "      <td>1.545</td>\n",
       "      <td>0.136</td>\n",
       "      <td>4.0</td>\n",
       "      <td>12.2</td>\n",
       "      <td>06/12/2014 2:00 PM</td>\n",
       "      <td>63rdStreetBeach201406121400</td>\n",
       "    </tr>\n",
       "  </tbody>\n",
       "</table>\n",
       "</div>"
      ],
      "text/plain": [
       "          Beach Name   Measurement Timestamp  Water Temperature  Turbidity  \\\n",
       "0  Ohio Street Beach  06/02/2019 05:00:00 PM               17.1       0.78   \n",
       "1  63rd Street Beach  09/18/2013 10:00:00 AM               18.9       7.56   \n",
       "2  63rd Street Beach  06/12/2014 12:00:00 PM               25.4       3.45   \n",
       "3  63rd Street Beach  06/12/2014 01:00:00 PM               18.1       3.31   \n",
       "4  63rd Street Beach  06/12/2014 02:00:00 PM               17.5       2.93   \n",
       "\n",
       "   Transducer Depth  Wave Height  Wave Period  Battery Life  \\\n",
       "0               NaN        0.232          4.0          10.9   \n",
       "1             1.517        0.140          4.0          11.0   \n",
       "2            -0.072        0.031          9.0          12.2   \n",
       "3             1.818        0.339         10.0          12.2   \n",
       "4             1.545        0.136          4.0          12.2   \n",
       "\n",
       "  Measurement Timestamp Label               Measurement ID  \n",
       "0          06/02/2019 5:00 PM  OhioStreetBeach201906021700  \n",
       "1         09/18/2013 10:00 AM  63rdStreetBeach201309181000  \n",
       "2         06/12/2014 12:00 PM  63rdStreetBeach201406121200  \n",
       "3          06/12/2014 1:00 PM  63rdStreetBeach201406121300  \n",
       "4          06/12/2014 2:00 PM  63rdStreetBeach201406121400  "
      ]
     },
     "execution_count": 2,
     "metadata": {},
     "output_type": "execute_result"
    }
   ],
   "source": [
    "df = pd.read_csv(\"waves.csv\")\n",
    "df.head()"
   ]
  },
  {
   "cell_type": "code",
   "execution_count": 3,
   "metadata": {},
   "outputs": [
    {
     "data": {
      "text/plain": [
       "<AxesSubplot:xlabel='Wave Period', ylabel='Wave Height'>"
      ]
     },
     "execution_count": 3,
     "metadata": {},
     "output_type": "execute_result"
    },
    {
     "data": {
      "image/png": "[encoded data removed]",
      "text/plain": [
       "<Figure size 432x288 with 1 Axes>"
      ]
     },
     "metadata": {
      "needs_background": "light"
     },
     "output_type": "display_data"
    }
   ],
   "source": [
    "df = df[(df[\"Wave Period\"] > 0) & (df[\"Wave Height\"] > 0)]\n",
    "df.plot.scatter(x=\"Wave Period\", y=\"Wave Height\", color=\"k\", alpha=0.05)\n",
    "# observation: non-linear relationship"
   ]
  },
  {
   "cell_type": "code",
   "execution_count": 4,
   "metadata": {},
   "outputs": [
    {
     "data": {
      "text/plain": [
       "['63rd Street Beach',\n",
       " 'Calumet Beach',\n",
       " 'Montrose Beach',\n",
       " 'Ohio Street Beach',\n",
       " 'Osterman Beach',\n",
       " 'Rainbow Beach']"
      ]
     },
     "execution_count": 4,
     "metadata": {},
     "output_type": "execute_result"
    }
   ],
   "source": [
    "beach_names = sorted(set(df[\"Beach Name\"]))\n",
    "beach_names"
   ]
  },
  {
   "cell_type": "code",
   "execution_count": 5,
   "metadata": {},
   "outputs": [
    {
     "data": {
      "image/png": "[encoded data removed]",
      "text/plain": [
       "<Figure size 864x576 with 6 Axes>"
      ]
     },
     "metadata": {
      "needs_background": "light"
     },
     "output_type": "display_data"
    }
   ],
   "source": [
    "fig, axes = plt.subplots(2, 3, figsize=(12, 8), sharey=True)\n",
    "plt.subplots_adjust(hspace=0.3)\n",
    "axes = list(axes.reshape(-1))\n",
    "for b in beach_names:\n",
    "    ax = axes.pop(0)\n",
    "    ax.set_title(b)\n",
    "    beach_df = df[df[\"Beach Name\"] == b]\n",
    "    beach_df.plot.scatter(x=\"Wave Period\", y=\"Wave Height\", \n",
    "                          color=\"k\", alpha=0.1, ax=ax)\n",
    "# obversation: which beach (categorical feature) is important"
   ]
  },
  {
   "cell_type": "markdown",
   "metadata": {},
   "source": [
    "# Four Models\n",
    "\n",
    "1. wave period (linear)\n",
    "2. wave period (polynomial)\n",
    "3. beach\n",
    "4. beach and wave period"
   ]
  },
  {
   "cell_type": "code",
   "execution_count": 6,
   "metadata": {},
   "outputs": [],
   "source": [
    "from sklearn.model_selection import train_test_split, cross_val_score\n",
    "from sklearn.linear_model import LinearRegression\n",
    "from sklearn.pipeline import Pipeline\n",
    "from sklearn.compose import make_column_transformer\n",
    "from sklearn.preprocessing import PolynomialFeatures, OneHotEncoder"
   ]
  },
  {
   "cell_type": "code",
   "execution_count": 18,
   "metadata": {},
   "outputs": [
    {
     "data": {
      "text/html": [
       "<div>\n",
       "<style scoped>\n",
       "    .dataframe tbody tr th:only-of-type {\n",
       "        vertical-align: middle;\n",
       "    }\n",
       "\n",
       "    .dataframe tbody tr th {\n",
       "        vertical-align: top;\n",
       "    }\n",
       "\n",
       "    .dataframe thead th {\n",
       "        text-align: right;\n",
       "    }\n",
       "</style>\n",
       "<table border=\"1\" class=\"dataframe\">\n",
       "  <thead>\n",
       "    <tr style=\"text-align: right;\">\n",
       "      <th></th>\n",
       "      <th>Beach Name</th>\n",
       "      <th>Measurement Timestamp</th>\n",
       "      <th>Water Temperature</th>\n",
       "      <th>Turbidity</th>\n",
       "      <th>Transducer Depth</th>\n",
       "      <th>Wave Height</th>\n",
       "      <th>Wave Period</th>\n",
       "      <th>Battery Life</th>\n",
       "      <th>Measurement Timestamp Label</th>\n",
       "      <th>Measurement ID</th>\n",
       "    </tr>\n",
       "  </thead>\n",
       "  <tbody>\n",
       "    <tr>\n",
       "      <th>15640</th>\n",
       "      <td>Montrose Beach</td>\n",
       "      <td>09/06/2015 02:00:00 PM</td>\n",
       "      <td>14.8</td>\n",
       "      <td>0.04</td>\n",
       "      <td>NaN</td>\n",
       "      <td>0.181</td>\n",
       "      <td>3.0</td>\n",
       "      <td>11.0</td>\n",
       "      <td>09/06/2015 2:00 PM</td>\n",
       "      <td>MontroseBeach201509061400</td>\n",
       "    </tr>\n",
       "    <tr>\n",
       "      <th>1800</th>\n",
       "      <td>63rd Street Beach</td>\n",
       "      <td>06/23/2015 10:00:00 AM</td>\n",
       "      <td>17.1</td>\n",
       "      <td>1.11</td>\n",
       "      <td>NaN</td>\n",
       "      <td>0.250</td>\n",
       "      <td>3.0</td>\n",
       "      <td>9.9</td>\n",
       "      <td>06/23/2015 10:00 AM</td>\n",
       "      <td>63rdStreetBeach201506231000</td>\n",
       "    </tr>\n",
       "    <tr>\n",
       "      <th>36612</th>\n",
       "      <td>Ohio Street Beach</td>\n",
       "      <td>07/18/2018 10:00:00 PM</td>\n",
       "      <td>23.7</td>\n",
       "      <td>1.80</td>\n",
       "      <td>NaN</td>\n",
       "      <td>0.214</td>\n",
       "      <td>4.0</td>\n",
       "      <td>10.8</td>\n",
       "      <td>07/18/2018 10:00 PM</td>\n",
       "      <td>OhioStreetBeach201807182200</td>\n",
       "    </tr>\n",
       "    <tr>\n",
       "      <th>5398</th>\n",
       "      <td>Calumet Beach</td>\n",
       "      <td>08/21/2014 07:00:00 PM</td>\n",
       "      <td>23.1</td>\n",
       "      <td>0.40</td>\n",
       "      <td>1.355</td>\n",
       "      <td>0.125</td>\n",
       "      <td>2.0</td>\n",
       "      <td>10.3</td>\n",
       "      <td>08/21/2014 7:00 PM</td>\n",
       "      <td>CalumetBeach201408211900</td>\n",
       "    </tr>\n",
       "    <tr>\n",
       "      <th>12992</th>\n",
       "      <td>Montrose Beach</td>\n",
       "      <td>08/22/2014 03:00:00 PM</td>\n",
       "      <td>23.7</td>\n",
       "      <td>0.27</td>\n",
       "      <td>1.777</td>\n",
       "      <td>0.151</td>\n",
       "      <td>3.0</td>\n",
       "      <td>10.5</td>\n",
       "      <td>08/22/2014 3:00 PM</td>\n",
       "      <td>MontroseBeach201408221500</td>\n",
       "    </tr>\n",
       "  </tbody>\n",
       "</table>\n",
       "</div>"
      ],
      "text/plain": [
       "              Beach Name   Measurement Timestamp  Water Temperature  \\\n",
       "15640     Montrose Beach  09/06/2015 02:00:00 PM               14.8   \n",
       "1800   63rd Street Beach  06/23/2015 10:00:00 AM               17.1   \n",
       "36612  Ohio Street Beach  07/18/2018 10:00:00 PM               23.7   \n",
       "5398       Calumet Beach  08/21/2014 07:00:00 PM               23.1   \n",
       "12992     Montrose Beach  08/22/2014 03:00:00 PM               23.7   \n",
       "\n",
       "       Turbidity  Transducer Depth  Wave Height  Wave Period  Battery Life  \\\n",
       "15640       0.04               NaN        0.181          3.0          11.0   \n",
       "1800        1.11               NaN        0.250          3.0           9.9   \n",
       "36612       1.80               NaN        0.214          4.0          10.8   \n",
       "5398        0.40             1.355        0.125          2.0          10.3   \n",
       "12992       0.27             1.777        0.151          3.0          10.5   \n",
       "\n",
       "      Measurement Timestamp Label               Measurement ID  \n",
       "15640          09/06/2015 2:00 PM    MontroseBeach201509061400  \n",
       "1800          06/23/2015 10:00 AM  63rdStreetBeach201506231000  \n",
       "36612         07/18/2018 10:00 PM  OhioStreetBeach201807182200  \n",
       "5398           08/21/2014 7:00 PM     CalumetBeach201408211900  \n",
       "12992          08/22/2014 3:00 PM    MontroseBeach201408221500  "
      ]
     },
     "execution_count": 18,
     "metadata": {},
     "output_type": "execute_result"
    }
   ],
   "source": [
    "train, test = train_test_split(df, random_state=320)\n",
    "train.head()"
   ]
  },
  {
   "cell_type": "markdown",
   "metadata": {},
   "source": [
    "## Model 1: Wave Period (Linear)"
   ]
  },
  {
   "cell_type": "code",
   "execution_count": 21,
   "metadata": {},
   "outputs": [
    {
     "data": {
      "text/plain": [
       "0.0016982079135994476"
      ]
     },
     "execution_count": 21,
     "metadata": {},
     "output_type": "execute_result"
    }
   ],
   "source": [
    "m1 = LinearRegression()\n",
    "cross_val_score(m1, train[[\"Wave Period\"]], train[\"Wave Height\"]).mean()"
   ]
  },
  {
   "cell_type": "markdown",
   "metadata": {},
   "source": [
    "## Model 2: Wave Period (Polynomial)"
   ]
  },
  {
   "cell_type": "code",
   "execution_count": 25,
   "metadata": {},
   "outputs": [
    {
     "data": {
      "text/html": [
       "<div>\n",
       "<style scoped>\n",
       "    .dataframe tbody tr th:only-of-type {\n",
       "        vertical-align: middle;\n",
       "    }\n",
       "\n",
       "    .dataframe tbody tr th {\n",
       "        vertical-align: top;\n",
       "    }\n",
       "\n",
       "    .dataframe thead th {\n",
       "        text-align: right;\n",
       "    }\n",
       "</style>\n",
       "<table border=\"1\" class=\"dataframe\">\n",
       "  <thead>\n",
       "    <tr style=\"text-align: right;\">\n",
       "      <th></th>\n",
       "      <th>Wave Period</th>\n",
       "      <th>Wave Period^2</th>\n",
       "      <th>Wave Period^3</th>\n",
       "      <th>sqrt(Wave Period)</th>\n",
       "    </tr>\n",
       "  </thead>\n",
       "  <tbody>\n",
       "    <tr>\n",
       "      <th>0</th>\n",
       "      <td>4.0</td>\n",
       "      <td>16.0</td>\n",
       "      <td>64.0</td>\n",
       "      <td>2.000000</td>\n",
       "    </tr>\n",
       "    <tr>\n",
       "      <th>1</th>\n",
       "      <td>4.0</td>\n",
       "      <td>16.0</td>\n",
       "      <td>64.0</td>\n",
       "      <td>2.000000</td>\n",
       "    </tr>\n",
       "    <tr>\n",
       "      <th>2</th>\n",
       "      <td>9.0</td>\n",
       "      <td>81.0</td>\n",
       "      <td>729.0</td>\n",
       "      <td>3.000000</td>\n",
       "    </tr>\n",
       "    <tr>\n",
       "      <th>3</th>\n",
       "      <td>10.0</td>\n",
       "      <td>100.0</td>\n",
       "      <td>1000.0</td>\n",
       "      <td>3.162278</td>\n",
       "    </tr>\n",
       "    <tr>\n",
       "      <th>4</th>\n",
       "      <td>4.0</td>\n",
       "      <td>16.0</td>\n",
       "      <td>64.0</td>\n",
       "      <td>2.000000</td>\n",
       "    </tr>\n",
       "    <tr>\n",
       "      <th>...</th>\n",
       "      <td>...</td>\n",
       "      <td>...</td>\n",
       "      <td>...</td>\n",
       "      <td>...</td>\n",
       "    </tr>\n",
       "    <tr>\n",
       "      <th>39464</th>\n",
       "      <td>6.0</td>\n",
       "      <td>36.0</td>\n",
       "      <td>216.0</td>\n",
       "      <td>2.449490</td>\n",
       "    </tr>\n",
       "    <tr>\n",
       "      <th>39465</th>\n",
       "      <td>6.0</td>\n",
       "      <td>36.0</td>\n",
       "      <td>216.0</td>\n",
       "      <td>2.449490</td>\n",
       "    </tr>\n",
       "    <tr>\n",
       "      <th>39466</th>\n",
       "      <td>4.0</td>\n",
       "      <td>16.0</td>\n",
       "      <td>64.0</td>\n",
       "      <td>2.000000</td>\n",
       "    </tr>\n",
       "    <tr>\n",
       "      <th>39467</th>\n",
       "      <td>6.0</td>\n",
       "      <td>36.0</td>\n",
       "      <td>216.0</td>\n",
       "      <td>2.449490</td>\n",
       "    </tr>\n",
       "    <tr>\n",
       "      <th>39468</th>\n",
       "      <td>4.0</td>\n",
       "      <td>16.0</td>\n",
       "      <td>64.0</td>\n",
       "      <td>2.000000</td>\n",
       "    </tr>\n",
       "  </tbody>\n",
       "</table>\n",
       "<p>38716 rows × 4 columns</p>\n",
       "</div>"
      ],
      "text/plain": [
       "       Wave Period  Wave Period^2  Wave Period^3  sqrt(Wave Period)\n",
       "0              4.0           16.0           64.0           2.000000\n",
       "1              4.0           16.0           64.0           2.000000\n",
       "2              9.0           81.0          729.0           3.000000\n",
       "3             10.0          100.0         1000.0           3.162278\n",
       "4              4.0           16.0           64.0           2.000000\n",
       "...            ...            ...            ...                ...\n",
       "39464          6.0           36.0          216.0           2.449490\n",
       "39465          6.0           36.0          216.0           2.449490\n",
       "39466          4.0           16.0           64.0           2.000000\n",
       "39467          6.0           36.0          216.0           2.449490\n",
       "39468          4.0           16.0           64.0           2.000000\n",
       "\n",
       "[38716 rows x 4 columns]"
      ]
     },
     "execution_count": 25,
     "metadata": {},
     "output_type": "execute_result"
    }
   ],
   "source": [
    "example = df[[\"Wave Period\"]].copy()\n",
    "example[\"Wave Period^2\"] = example[\"Wave Period\"] ** 2\n",
    "example[\"Wave Period^3\"] = example[\"Wave Period\"] ** 3\n",
    "example[\"sqrt(Wave Period)\"] = example[\"Wave Period\"] ** 0.5\n",
    "example"
   ]
  },
  {
   "cell_type": "code",
   "execution_count": 40,
   "metadata": {},
   "outputs": [
    {
     "data": {
      "text/plain": [
       "array([[4.0000000e+00, 1.7100000e+01, 1.6000000e+01, ..., 2.7360000e+02,\n",
       "        1.1696400e+03, 5.0002110e+03],\n",
       "       [4.0000000e+00, 1.8900000e+01, 1.6000000e+01, ..., 3.0240000e+02,\n",
       "        1.4288400e+03, 6.7512690e+03],\n",
       "       [9.0000000e+00, 2.5400000e+01, 8.1000000e+01, ..., 2.0574000e+03,\n",
       "        5.8064400e+03, 1.6387064e+04],\n",
       "       ...,\n",
       "       [4.0000000e+00, 1.8300000e+01, 1.6000000e+01, ..., 2.9280000e+02,\n",
       "        1.3395600e+03, 6.1284870e+03],\n",
       "       [6.0000000e+00, 1.8800000e+01, 3.6000000e+01, ..., 6.7680000e+02,\n",
       "        2.1206400e+03, 6.6446720e+03],\n",
       "       [4.0000000e+00, 1.9200000e+01, 1.6000000e+01, ..., 3.0720000e+02,\n",
       "        1.4745600e+03, 7.0778880e+03]])"
      ]
     },
     "execution_count": 40,
     "metadata": {},
     "output_type": "execute_result"
    }
   ],
   "source": [
    "pf = PolynomialFeatures(include_bias=False, degree=3) # transformer\n",
    "\n",
    "#pf.fit(df[[\"Wave Period\"]])\n",
    "#pf.transform(df[[\"Wave Period\"]])\n",
    "# shortcut:\n",
    "data = pf.fit_transform(df[[\"Wave Period\", \"Water Temperature\"]])\n",
    "data"
   ]
  },
  {
   "cell_type": "code",
   "execution_count": 41,
   "metadata": {},
   "outputs": [
    {
     "data": {
      "text/plain": [
       "array(['Wave Period', 'Water Temperature', 'Wave Period^2',\n",
       "       'Wave Period Water Temperature', 'Water Temperature^2',\n",
       "       'Wave Period^3', 'Wave Period^2 Water Temperature',\n",
       "       'Wave Period Water Temperature^2', 'Water Temperature^3'],\n",
       "      dtype=object)"
      ]
     },
     "execution_count": 41,
     "metadata": {},
     "output_type": "execute_result"
    }
   ],
   "source": [
    "pf.get_feature_names_out()"
   ]
  },
  {
   "cell_type": "code",
   "execution_count": 42,
   "metadata": {},
   "outputs": [
    {
     "data": {
      "text/html": [
       "<div>\n",
       "<style scoped>\n",
       "    .dataframe tbody tr th:only-of-type {\n",
       "        vertical-align: middle;\n",
       "    }\n",
       "\n",
       "    .dataframe tbody tr th {\n",
       "        vertical-align: top;\n",
       "    }\n",
       "\n",
       "    .dataframe thead th {\n",
       "        text-align: right;\n",
       "    }\n",
       "</style>\n",
       "<table border=\"1\" class=\"dataframe\">\n",
       "  <thead>\n",
       "    <tr style=\"text-align: right;\">\n",
       "      <th></th>\n",
       "      <th>Wave Period</th>\n",
       "      <th>Water Temperature</th>\n",
       "      <th>Wave Period^2</th>\n",
       "      <th>Wave Period Water Temperature</th>\n",
       "      <th>Water Temperature^2</th>\n",
       "      <th>Wave Period^3</th>\n",
       "      <th>Wave Period^2 Water Temperature</th>\n",
       "      <th>Wave Period Water Temperature^2</th>\n",
       "      <th>Water Temperature^3</th>\n",
       "    </tr>\n",
       "  </thead>\n",
       "  <tbody>\n",
       "    <tr>\n",
       "      <th>0</th>\n",
       "      <td>4.0</td>\n",
       "      <td>17.1</td>\n",
       "      <td>16.0</td>\n",
       "      <td>68.4</td>\n",
       "      <td>292.41</td>\n",
       "      <td>64.0</td>\n",
       "      <td>273.6</td>\n",
       "      <td>1169.64</td>\n",
       "      <td>5000.211</td>\n",
       "    </tr>\n",
       "    <tr>\n",
       "      <th>1</th>\n",
       "      <td>4.0</td>\n",
       "      <td>18.9</td>\n",
       "      <td>16.0</td>\n",
       "      <td>75.6</td>\n",
       "      <td>357.21</td>\n",
       "      <td>64.0</td>\n",
       "      <td>302.4</td>\n",
       "      <td>1428.84</td>\n",
       "      <td>6751.269</td>\n",
       "    </tr>\n",
       "    <tr>\n",
       "      <th>2</th>\n",
       "      <td>9.0</td>\n",
       "      <td>25.4</td>\n",
       "      <td>81.0</td>\n",
       "      <td>228.6</td>\n",
       "      <td>645.16</td>\n",
       "      <td>729.0</td>\n",
       "      <td>2057.4</td>\n",
       "      <td>5806.44</td>\n",
       "      <td>16387.064</td>\n",
       "    </tr>\n",
       "    <tr>\n",
       "      <th>3</th>\n",
       "      <td>10.0</td>\n",
       "      <td>18.1</td>\n",
       "      <td>100.0</td>\n",
       "      <td>181.0</td>\n",
       "      <td>327.61</td>\n",
       "      <td>1000.0</td>\n",
       "      <td>1810.0</td>\n",
       "      <td>3276.10</td>\n",
       "      <td>5929.741</td>\n",
       "    </tr>\n",
       "    <tr>\n",
       "      <th>4</th>\n",
       "      <td>4.0</td>\n",
       "      <td>17.5</td>\n",
       "      <td>16.0</td>\n",
       "      <td>70.0</td>\n",
       "      <td>306.25</td>\n",
       "      <td>64.0</td>\n",
       "      <td>280.0</td>\n",
       "      <td>1225.00</td>\n",
       "      <td>5359.375</td>\n",
       "    </tr>\n",
       "    <tr>\n",
       "      <th>...</th>\n",
       "      <td>...</td>\n",
       "      <td>...</td>\n",
       "      <td>...</td>\n",
       "      <td>...</td>\n",
       "      <td>...</td>\n",
       "      <td>...</td>\n",
       "      <td>...</td>\n",
       "      <td>...</td>\n",
       "      <td>...</td>\n",
       "    </tr>\n",
       "    <tr>\n",
       "      <th>38711</th>\n",
       "      <td>6.0</td>\n",
       "      <td>17.1</td>\n",
       "      <td>36.0</td>\n",
       "      <td>102.6</td>\n",
       "      <td>292.41</td>\n",
       "      <td>216.0</td>\n",
       "      <td>615.6</td>\n",
       "      <td>1754.46</td>\n",
       "      <td>5000.211</td>\n",
       "    </tr>\n",
       "    <tr>\n",
       "      <th>38712</th>\n",
       "      <td>6.0</td>\n",
       "      <td>17.8</td>\n",
       "      <td>36.0</td>\n",
       "      <td>106.8</td>\n",
       "      <td>316.84</td>\n",
       "      <td>216.0</td>\n",
       "      <td>640.8</td>\n",
       "      <td>1901.04</td>\n",
       "      <td>5639.752</td>\n",
       "    </tr>\n",
       "    <tr>\n",
       "      <th>38713</th>\n",
       "      <td>4.0</td>\n",
       "      <td>18.3</td>\n",
       "      <td>16.0</td>\n",
       "      <td>73.2</td>\n",
       "      <td>334.89</td>\n",
       "      <td>64.0</td>\n",
       "      <td>292.8</td>\n",
       "      <td>1339.56</td>\n",
       "      <td>6128.487</td>\n",
       "    </tr>\n",
       "    <tr>\n",
       "      <th>38714</th>\n",
       "      <td>6.0</td>\n",
       "      <td>18.8</td>\n",
       "      <td>36.0</td>\n",
       "      <td>112.8</td>\n",
       "      <td>353.44</td>\n",
       "      <td>216.0</td>\n",
       "      <td>676.8</td>\n",
       "      <td>2120.64</td>\n",
       "      <td>6644.672</td>\n",
       "    </tr>\n",
       "    <tr>\n",
       "      <th>38715</th>\n",
       "      <td>4.0</td>\n",
       "      <td>19.2</td>\n",
       "      <td>16.0</td>\n",
       "      <td>76.8</td>\n",
       "      <td>368.64</td>\n",
       "      <td>64.0</td>\n",
       "      <td>307.2</td>\n",
       "      <td>1474.56</td>\n",
       "      <td>7077.888</td>\n",
       "    </tr>\n",
       "  </tbody>\n",
       "</table>\n",
       "<p>38716 rows × 9 columns</p>\n",
       "</div>"
      ],
      "text/plain": [
       "       Wave Period  Water Temperature  Wave Period^2  \\\n",
       "0              4.0               17.1           16.0   \n",
       "1              4.0               18.9           16.0   \n",
       "2              9.0               25.4           81.0   \n",
       "3             10.0               18.1          100.0   \n",
       "4              4.0               17.5           16.0   \n",
       "...            ...                ...            ...   \n",
       "38711          6.0               17.1           36.0   \n",
       "38712          6.0               17.8           36.0   \n",
       "38713          4.0               18.3           16.0   \n",
       "38714          6.0               18.8           36.0   \n",
       "38715          4.0               19.2           16.0   \n",
       "\n",
       "       Wave Period Water Temperature  Water Temperature^2  Wave Period^3  \\\n",
       "0                               68.4               292.41           64.0   \n",
       "1                               75.6               357.21           64.0   \n",
       "2                              228.6               645.16          729.0   \n",
       "3                              181.0               327.61         1000.0   \n",
       "4                               70.0               306.25           64.0   \n",
       "...                              ...                  ...            ...   \n",
       "38711                          102.6               292.41          216.0   \n",
       "38712                          106.8               316.84          216.0   \n",
       "38713                           73.2               334.89           64.0   \n",
       "38714                          112.8               353.44          216.0   \n",
       "38715                           76.8               368.64           64.0   \n",
       "\n",
       "       Wave Period^2 Water Temperature  Wave Period Water Temperature^2  \\\n",
       "0                                273.6                          1169.64   \n",
       "1                                302.4                          1428.84   \n",
       "2                               2057.4                          5806.44   \n",
       "3                               1810.0                          3276.10   \n",
       "4                                280.0                          1225.00   \n",
       "...                                ...                              ...   \n",
       "38711                            615.6                          1754.46   \n",
       "38712                            640.8                          1901.04   \n",
       "38713                            292.8                          1339.56   \n",
       "38714                            676.8                          2120.64   \n",
       "38715                            307.2                          1474.56   \n",
       "\n",
       "       Water Temperature^3  \n",
       "0                 5000.211  \n",
       "1                 6751.269  \n",
       "2                16387.064  \n",
       "3                 5929.741  \n",
       "4                 5359.375  \n",
       "...                    ...  \n",
       "38711             5000.211  \n",
       "38712             5639.752  \n",
       "38713             6128.487  \n",
       "38714             6644.672  \n",
       "38715             7077.888  \n",
       "\n",
       "[38716 rows x 9 columns]"
      ]
     },
     "execution_count": 42,
     "metadata": {},
     "output_type": "execute_result"
    }
   ],
   "source": [
    "pd.DataFrame(data, columns=pf.get_feature_names_out())"
   ]
  },
  {
   "cell_type": "code",
   "execution_count": null,
   "metadata": {},
   "outputs": [],
   "source": [
    "#model = Pipeline([TRANSFORMER, TRANSFORMER, ..., ESTIMATOR])"
   ]
  },
  {
   "cell_type": "code",
   "execution_count": 45,
   "metadata": {},
   "outputs": [
    {
     "data": {
      "text/plain": [
       "0.04830179675006716"
      ]
     },
     "execution_count": 45,
     "metadata": {},
     "output_type": "execute_result"
    }
   ],
   "source": [
    "m2 = Pipeline([\n",
    "    (\"poly\", PolynomialFeatures(include_bias=False)),\n",
    "    (\"lr\", LinearRegression()),\n",
    "])\n",
    "\n",
    "# negative inf (worst) to 1 (best)\n",
    "cross_val_score(m2, train[[\"Wave Period\"]], train[\"Wave Height\"]).mean()"
   ]
  },
  {
   "cell_type": "code",
   "execution_count": 50,
   "metadata": {},
   "outputs": [
    {
     "data": {
      "text/plain": [
       "Pipeline(steps=[('poly', PolynomialFeatures(include_bias=False)),\n",
       "                ('lr', LinearRegression())])"
      ]
     },
     "execution_count": 50,
     "metadata": {},
     "output_type": "execute_result"
    }
   ],
   "source": [
    "m2.fit(train[[\"Wave Period\"]], train[\"Wave Height\"])"
   ]
  },
  {
   "cell_type": "code",
   "execution_count": 51,
   "metadata": {},
   "outputs": [
    {
     "data": {
      "text/plain": [
       "Pipeline(steps=[('poly', PolynomialFeatures(include_bias=False)),\n",
       "                ('lr', LinearRegression())])"
      ]
     },
     "execution_count": 51,
     "metadata": {},
     "output_type": "execute_result"
    }
   ],
   "source": [
    "m2"
   ]
  },
  {
   "cell_type": "code",
   "execution_count": 52,
   "metadata": {},
   "outputs": [
    {
     "data": {
      "text/plain": [
       "array(['Wave Period', 'Wave Period^2'], dtype=object)"
      ]
     },
     "execution_count": 52,
     "metadata": {},
     "output_type": "execute_result"
    }
   ],
   "source": [
    "m2[\"poly\"].get_feature_names_out()"
   ]
  },
  {
   "cell_type": "code",
   "execution_count": 54,
   "metadata": {},
   "outputs": [
    {
     "data": {
      "text/plain": [
       "array([ 0.05334563, -0.00502848])"
      ]
     },
     "execution_count": 54,
     "metadata": {},
     "output_type": "execute_result"
    }
   ],
   "source": [
    "m2[\"lr\"].coef_"
   ]
  },
  {
   "cell_type": "markdown",
   "metadata": {},
   "source": [
    "## Model 3: Beach Name (Categorical)"
   ]
  },
  {
   "cell_type": "code",
   "execution_count": 55,
   "metadata": {},
   "outputs": [
    {
     "data": {
      "text/plain": [
       "['63rd Street Beach',\n",
       " 'Calumet Beach',\n",
       " 'Montrose Beach',\n",
       " 'Ohio Street Beach',\n",
       " 'Osterman Beach',\n",
       " 'Rainbow Beach']"
      ]
     },
     "execution_count": 55,
     "metadata": {},
     "output_type": "execute_result"
    }
   ],
   "source": [
    "beach_names"
   ]
  },
  {
   "cell_type": "code",
   "execution_count": 61,
   "metadata": {},
   "outputs": [
    {
     "data": {
      "text/plain": [
       "array([[0., 0., 1., 0., 0., 0.],\n",
       "       [1., 0., 0., 0., 0., 0.],\n",
       "       [0., 0., 0., 1., 0., 0.],\n",
       "       ...,\n",
       "       [0., 0., 0., 0., 0., 1.],\n",
       "       [0., 1., 0., 0., 0., 0.],\n",
       "       [1., 0., 0., 0., 0., 0.]])"
      ]
     },
     "execution_count": 61,
     "metadata": {},
     "output_type": "execute_result"
    }
   ],
   "source": [
    "oh = OneHotEncoder()\n",
    "data = oh.fit_transform(train[[\"Beach Name\"]]).toarray()\n",
    "data"
   ]
  },
  {
   "cell_type": "code",
   "execution_count": 62,
   "metadata": {},
   "outputs": [
    {
     "data": {
      "text/plain": [
       "array(['Beach Name_63rd Street Beach', 'Beach Name_Calumet Beach',\n",
       "       'Beach Name_Montrose Beach', 'Beach Name_Ohio Street Beach',\n",
       "       'Beach Name_Osterman Beach', 'Beach Name_Rainbow Beach'],\n",
       "      dtype=object)"
      ]
     },
     "execution_count": 62,
     "metadata": {},
     "output_type": "execute_result"
    }
   ],
   "source": [
    "oh.get_feature_names_out()"
   ]
  },
  {
   "cell_type": "code",
   "execution_count": 64,
   "metadata": {},
   "outputs": [
    {
     "data": {
      "text/html": [
       "<div>\n",
       "<style scoped>\n",
       "    .dataframe tbody tr th:only-of-type {\n",
       "        vertical-align: middle;\n",
       "    }\n",
       "\n",
       "    .dataframe tbody tr th {\n",
       "        vertical-align: top;\n",
       "    }\n",
       "\n",
       "    .dataframe thead th {\n",
       "        text-align: right;\n",
       "    }\n",
       "</style>\n",
       "<table border=\"1\" class=\"dataframe\">\n",
       "  <thead>\n",
       "    <tr style=\"text-align: right;\">\n",
       "      <th></th>\n",
       "      <th>Beach Name_63rd Street Beach</th>\n",
       "      <th>Beach Name_Calumet Beach</th>\n",
       "      <th>Beach Name_Montrose Beach</th>\n",
       "      <th>Beach Name_Ohio Street Beach</th>\n",
       "      <th>Beach Name_Osterman Beach</th>\n",
       "      <th>Beach Name_Rainbow Beach</th>\n",
       "    </tr>\n",
       "  </thead>\n",
       "  <tbody>\n",
       "    <tr>\n",
       "      <th>0</th>\n",
       "      <td>0.0</td>\n",
       "      <td>0.0</td>\n",
       "      <td>1.0</td>\n",
       "      <td>0.0</td>\n",
       "      <td>0.0</td>\n",
       "      <td>0.0</td>\n",
       "    </tr>\n",
       "    <tr>\n",
       "      <th>1</th>\n",
       "      <td>1.0</td>\n",
       "      <td>0.0</td>\n",
       "      <td>0.0</td>\n",
       "      <td>0.0</td>\n",
       "      <td>0.0</td>\n",
       "      <td>0.0</td>\n",
       "    </tr>\n",
       "    <tr>\n",
       "      <th>2</th>\n",
       "      <td>0.0</td>\n",
       "      <td>0.0</td>\n",
       "      <td>0.0</td>\n",
       "      <td>1.0</td>\n",
       "      <td>0.0</td>\n",
       "      <td>0.0</td>\n",
       "    </tr>\n",
       "    <tr>\n",
       "      <th>3</th>\n",
       "      <td>0.0</td>\n",
       "      <td>1.0</td>\n",
       "      <td>0.0</td>\n",
       "      <td>0.0</td>\n",
       "      <td>0.0</td>\n",
       "      <td>0.0</td>\n",
       "    </tr>\n",
       "    <tr>\n",
       "      <th>4</th>\n",
       "      <td>0.0</td>\n",
       "      <td>0.0</td>\n",
       "      <td>1.0</td>\n",
       "      <td>0.0</td>\n",
       "      <td>0.0</td>\n",
       "      <td>0.0</td>\n",
       "    </tr>\n",
       "    <tr>\n",
       "      <th>...</th>\n",
       "      <td>...</td>\n",
       "      <td>...</td>\n",
       "      <td>...</td>\n",
       "      <td>...</td>\n",
       "      <td>...</td>\n",
       "      <td>...</td>\n",
       "    </tr>\n",
       "    <tr>\n",
       "      <th>29032</th>\n",
       "      <td>0.0</td>\n",
       "      <td>0.0</td>\n",
       "      <td>0.0</td>\n",
       "      <td>1.0</td>\n",
       "      <td>0.0</td>\n",
       "      <td>0.0</td>\n",
       "    </tr>\n",
       "    <tr>\n",
       "      <th>29033</th>\n",
       "      <td>0.0</td>\n",
       "      <td>0.0</td>\n",
       "      <td>0.0</td>\n",
       "      <td>0.0</td>\n",
       "      <td>0.0</td>\n",
       "      <td>1.0</td>\n",
       "    </tr>\n",
       "    <tr>\n",
       "      <th>29034</th>\n",
       "      <td>0.0</td>\n",
       "      <td>0.0</td>\n",
       "      <td>0.0</td>\n",
       "      <td>0.0</td>\n",
       "      <td>0.0</td>\n",
       "      <td>1.0</td>\n",
       "    </tr>\n",
       "    <tr>\n",
       "      <th>29035</th>\n",
       "      <td>0.0</td>\n",
       "      <td>1.0</td>\n",
       "      <td>0.0</td>\n",
       "      <td>0.0</td>\n",
       "      <td>0.0</td>\n",
       "      <td>0.0</td>\n",
       "    </tr>\n",
       "    <tr>\n",
       "      <th>29036</th>\n",
       "      <td>1.0</td>\n",
       "      <td>0.0</td>\n",
       "      <td>0.0</td>\n",
       "      <td>0.0</td>\n",
       "      <td>0.0</td>\n",
       "      <td>0.0</td>\n",
       "    </tr>\n",
       "  </tbody>\n",
       "</table>\n",
       "<p>29037 rows × 6 columns</p>\n",
       "</div>"
      ],
      "text/plain": [
       "       Beach Name_63rd Street Beach  Beach Name_Calumet Beach  \\\n",
       "0                               0.0                       0.0   \n",
       "1                               1.0                       0.0   \n",
       "2                               0.0                       0.0   \n",
       "3                               0.0                       1.0   \n",
       "4                               0.0                       0.0   \n",
       "...                             ...                       ...   \n",
       "29032                           0.0                       0.0   \n",
       "29033                           0.0                       0.0   \n",
       "29034                           0.0                       0.0   \n",
       "29035                           0.0                       1.0   \n",
       "29036                           1.0                       0.0   \n",
       "\n",
       "       Beach Name_Montrose Beach  Beach Name_Ohio Street Beach  \\\n",
       "0                            1.0                           0.0   \n",
       "1                            0.0                           0.0   \n",
       "2                            0.0                           1.0   \n",
       "3                            0.0                           0.0   \n",
       "4                            1.0                           0.0   \n",
       "...                          ...                           ...   \n",
       "29032                        0.0                           1.0   \n",
       "29033                        0.0                           0.0   \n",
       "29034                        0.0                           0.0   \n",
       "29035                        0.0                           0.0   \n",
       "29036                        0.0                           0.0   \n",
       "\n",
       "       Beach Name_Osterman Beach  Beach Name_Rainbow Beach  \n",
       "0                            0.0                       0.0  \n",
       "1                            0.0                       0.0  \n",
       "2                            0.0                       0.0  \n",
       "3                            0.0                       0.0  \n",
       "4                            0.0                       0.0  \n",
       "...                          ...                       ...  \n",
       "29032                        0.0                       0.0  \n",
       "29033                        0.0                       1.0  \n",
       "29034                        0.0                       1.0  \n",
       "29035                        0.0                       0.0  \n",
       "29036                        0.0                       0.0  \n",
       "\n",
       "[29037 rows x 6 columns]"
      ]
     },
     "execution_count": 64,
     "metadata": {},
     "output_type": "execute_result"
    }
   ],
   "source": [
    "pd.DataFrame(data, columns=oh.get_feature_names_out())"
   ]
  },
  {
   "cell_type": "code",
   "execution_count": 65,
   "metadata": {},
   "outputs": [
    {
     "data": {
      "text/plain": [
       "0.05164844844084324"
      ]
     },
     "execution_count": 65,
     "metadata": {},
     "output_type": "execute_result"
    }
   ],
   "source": [
    "m3 = Pipeline([\n",
    "    (\"oh\", OneHotEncoder()),\n",
    "    (\"lr\", LinearRegression()),\n",
    "])\n",
    "cross_val_score(m3, train[[\"Beach Name\"]], train[\"Wave Height\"]).mean()"
   ]
  },
  {
   "cell_type": "markdown",
   "metadata": {},
   "source": [
    "## Model 4: Beach Name and Wave Period (Polynomial)"
   ]
  },
  {
   "cell_type": "code",
   "execution_count": 67,
   "metadata": {},
   "outputs": [
    {
     "data": {
      "text/html": [
       "<div>\n",
       "<style scoped>\n",
       "    .dataframe tbody tr th:only-of-type {\n",
       "        vertical-align: middle;\n",
       "    }\n",
       "\n",
       "    .dataframe tbody tr th {\n",
       "        vertical-align: top;\n",
       "    }\n",
       "\n",
       "    .dataframe thead th {\n",
       "        text-align: right;\n",
       "    }\n",
       "</style>\n",
       "<table border=\"1\" class=\"dataframe\">\n",
       "  <thead>\n",
       "    <tr style=\"text-align: right;\">\n",
       "      <th></th>\n",
       "      <th>Beach Name</th>\n",
       "      <th>Wave Period</th>\n",
       "    </tr>\n",
       "  </thead>\n",
       "  <tbody>\n",
       "    <tr>\n",
       "      <th>15640</th>\n",
       "      <td>Montrose Beach</td>\n",
       "      <td>3.0</td>\n",
       "    </tr>\n",
       "    <tr>\n",
       "      <th>1800</th>\n",
       "      <td>63rd Street Beach</td>\n",
       "      <td>3.0</td>\n",
       "    </tr>\n",
       "    <tr>\n",
       "      <th>36612</th>\n",
       "      <td>Ohio Street Beach</td>\n",
       "      <td>4.0</td>\n",
       "    </tr>\n",
       "    <tr>\n",
       "      <th>5398</th>\n",
       "      <td>Calumet Beach</td>\n",
       "      <td>2.0</td>\n",
       "    </tr>\n",
       "    <tr>\n",
       "      <th>12992</th>\n",
       "      <td>Montrose Beach</td>\n",
       "      <td>3.0</td>\n",
       "    </tr>\n",
       "  </tbody>\n",
       "</table>\n",
       "</div>"
      ],
      "text/plain": [
       "              Beach Name  Wave Period\n",
       "15640     Montrose Beach          3.0\n",
       "1800   63rd Street Beach          3.0\n",
       "36612  Ohio Street Beach          4.0\n",
       "5398       Calumet Beach          2.0\n",
       "12992     Montrose Beach          3.0"
      ]
     },
     "execution_count": 67,
     "metadata": {},
     "output_type": "execute_result"
    }
   ],
   "source": [
    "train[[\"Beach Name\", \"Wave Period\"]].head()"
   ]
  },
  {
   "cell_type": "code",
   "execution_count": 70,
   "metadata": {},
   "outputs": [
    {
     "data": {
      "text/plain": [
       "ColumnTransformer(transformers=[('onehotencoder', OneHotEncoder(),\n",
       "                                 ['Beach Name']),\n",
       "                                ('polynomialfeatures',\n",
       "                                 PolynomialFeatures(include_bias=False),\n",
       "                                 ['Wave Period'])])"
      ]
     },
     "execution_count": 70,
     "metadata": {},
     "output_type": "execute_result"
    }
   ],
   "source": [
    "trans = make_column_transformer(\n",
    "    (OneHotEncoder(), [\"Beach Name\"]),\n",
    "    (PolynomialFeatures(2, include_bias=False), [\"Wave Period\"]),\n",
    ")\n",
    "trans"
   ]
  },
  {
   "cell_type": "code",
   "execution_count": 72,
   "metadata": {},
   "outputs": [
    {
     "data": {
      "text/plain": [
       "Pipeline(steps=[('trans',\n",
       "                 ColumnTransformer(transformers=[('onehotencoder',\n",
       "                                                  OneHotEncoder(),\n",
       "                                                  ['Beach Name']),\n",
       "                                                 ('polynomialfeatures',\n",
       "                                                  PolynomialFeatures(include_bias=False),\n",
       "                                                  ['Wave Period'])])),\n",
       "                ('lr', LinearRegression())])"
      ]
     },
     "execution_count": 72,
     "metadata": {},
     "output_type": "execute_result"
    }
   ],
   "source": [
    "m4 = Pipeline([\n",
    "    (\"trans\", trans),\n",
    "    (\"lr\", LinearRegression()),\n",
    "])\n",
    "m4"
   ]
  },
  {
   "cell_type": "code",
   "execution_count": 74,
   "metadata": {},
   "outputs": [
    {
     "data": {
      "text/plain": [
       "0.09430353085077128"
      ]
     },
     "execution_count": 74,
     "metadata": {},
     "output_type": "execute_result"
    }
   ],
   "source": [
    "cross_val_score(m4, train[[\"Beach Name\", \"Wave Period\"]], train[\"Wave Height\"]).mean()"
   ]
  },
  {
   "cell_type": "code",
   "execution_count": 75,
   "metadata": {},
   "outputs": [
    {
     "data": {
      "text/plain": [
       "Pipeline(steps=[('trans',\n",
       "                 ColumnTransformer(transformers=[('onehotencoder',\n",
       "                                                  OneHotEncoder(),\n",
       "                                                  ['Beach Name']),\n",
       "                                                 ('polynomialfeatures',\n",
       "                                                  PolynomialFeatures(include_bias=False),\n",
       "                                                  ['Wave Period'])])),\n",
       "                ('lr', LinearRegression())])"
      ]
     },
     "execution_count": 75,
     "metadata": {},
     "output_type": "execute_result"
    }
   ],
   "source": [
    "m4.fit(train[[\"Beach Name\", \"Wave Period\"]], train[\"Wave Height\"])"
   ]
  },
  {
   "cell_type": "code",
   "execution_count": 77,
   "metadata": {},
   "outputs": [
    {
     "data": {
      "text/plain": [
       "array([-0.02505822, -0.01970246,  0.02330789, -0.01362281,  0.00998387,\n",
       "        0.02509173,  0.04960551, -0.00485597])"
      ]
     },
     "execution_count": 77,
     "metadata": {},
     "output_type": "execute_result"
    }
   ],
   "source": [
    "m4[\"lr\"].coef_"
   ]
  },
  {
   "cell_type": "code",
   "execution_count": 78,
   "metadata": {},
   "outputs": [
    {
     "data": {
      "text/plain": [
       "array(['onehotencoder__Beach Name_63rd Street Beach',\n",
       "       'onehotencoder__Beach Name_Calumet Beach',\n",
       "       'onehotencoder__Beach Name_Montrose Beach',\n",
       "       'onehotencoder__Beach Name_Ohio Street Beach',\n",
       "       'onehotencoder__Beach Name_Osterman Beach',\n",
       "       'onehotencoder__Beach Name_Rainbow Beach',\n",
       "       'polynomialfeatures__Wave Period',\n",
       "       'polynomialfeatures__Wave Period^2'], dtype=object)"
      ]
     },
     "execution_count": 78,
     "metadata": {},
     "output_type": "execute_result"
    }
   ],
   "source": [
    "m4[\"trans\"].get_feature_names_out()"
   ]
  },
  {
   "cell_type": "code",
   "execution_count": 79,
   "metadata": {},
   "outputs": [
    {
     "data": {
      "text/plain": [
       "<AxesSubplot:>"
      ]
     },
     "execution_count": 79,
     "metadata": {},
     "output_type": "execute_result"
    },
    {
     "data": {
      "image/png": "[encoded data removed]",
      "text/plain": [
       "<Figure size 432x288 with 1 Axes>"
      ]
     },
     "metadata": {
      "needs_background": "light"
     },
     "output_type": "display_data"
    }
   ],
   "source": [
    "pd.Series(m4[\"lr\"].coef_, index=m4[\"trans\"].get_feature_names_out()).plot.bar()"
   ]
  }
 ],
 "metadata": {
  "kernelspec": {
   "display_name": "Python 3 (ipykernel)",
   "language": "python",
   "name": "python3"
  },
  "language_info": {
   "codemirror_mode": {
    "name": "ipython",
    "version": 3
   },
   "file_extension": ".py",
   "mimetype": "text/x-python",
   "name": "python",
   "nbconvert_exporter": "python",
   "pygments_lexer": "ipython3",
   "version": "3.8.10"
  }
 },
 "nbformat": 4,
 "nbformat_minor": 4
}
