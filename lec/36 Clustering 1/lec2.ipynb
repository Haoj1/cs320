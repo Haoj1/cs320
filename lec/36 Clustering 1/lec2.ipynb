{
 "cells": [
  {
   "cell_type": "markdown",
   "metadata": {},
   "source": [
    "# Unsupervised Learning: Clustering\n",
    "\n",
    "In classification (supervised), we try to find boundaries/rules to separate points according to pre-determined labels.\n",
    "\n",
    "In clustering, the algorithm chooses the labels.  Goal is to choose labels so that similar rows get labeled the same.\n",
    "\n",
    "Today: K-Means Clustering"
   ]
  },
  {
   "cell_type": "code",
   "execution_count": 1,
   "metadata": {},
   "outputs": [],
   "source": [
    "import matplotlib.pyplot as plt\n",
    "import numpy as np\n",
    "import pandas as pd\n",
    "from sklearn.cluster import KMeans\n",
    "from sklearn import datasets"
   ]
  },
  {
   "cell_type": "code",
   "execution_count": 2,
   "metadata": {},
   "outputs": [
    {
     "data": {
      "text/html": [
       "<div>\n",
       "<style scoped>\n",
       "    .dataframe tbody tr th:only-of-type {\n",
       "        vertical-align: middle;\n",
       "    }\n",
       "\n",
       "    .dataframe tbody tr th {\n",
       "        vertical-align: top;\n",
       "    }\n",
       "\n",
       "    .dataframe thead th {\n",
       "        text-align: right;\n",
       "    }\n",
       "</style>\n",
       "<table border=\"1\" class=\"dataframe\">\n",
       "  <thead>\n",
       "    <tr style=\"text-align: right;\">\n",
       "      <th></th>\n",
       "      <th>x0</th>\n",
       "      <th>x1</th>\n",
       "    </tr>\n",
       "  </thead>\n",
       "  <tbody>\n",
       "    <tr>\n",
       "      <th>0</th>\n",
       "      <td>8.370099</td>\n",
       "      <td>7.747045</td>\n",
       "    </tr>\n",
       "    <tr>\n",
       "      <th>1</th>\n",
       "      <td>-2.701740</td>\n",
       "      <td>0.395336</td>\n",
       "    </tr>\n",
       "    <tr>\n",
       "      <th>2</th>\n",
       "      <td>-3.204128</td>\n",
       "      <td>-0.407438</td>\n",
       "    </tr>\n",
       "    <tr>\n",
       "      <th>3</th>\n",
       "      <td>-3.132762</td>\n",
       "      <td>-1.335692</td>\n",
       "    </tr>\n",
       "    <tr>\n",
       "      <th>4</th>\n",
       "      <td>7.152737</td>\n",
       "      <td>6.069995</td>\n",
       "    </tr>\n",
       "  </tbody>\n",
       "</table>\n",
       "</div>"
      ],
      "text/plain": [
       "         x0        x1\n",
       "0  8.370099  7.747045\n",
       "1 -2.701740  0.395336\n",
       "2 -3.204128 -0.407438\n",
       "3 -3.132762 -1.335692\n",
       "4  7.152737  6.069995"
      ]
     },
     "execution_count": 2,
     "metadata": {},
     "output_type": "execute_result"
    }
   ],
   "source": [
    "x, y = datasets.make_blobs(n_samples=100, centers=3, cluster_std=1.2, random_state=3)\n",
    "df = pd.DataFrame(x, columns=[\"x0\", \"x1\"])\n",
    "df.head()"
   ]
  },
  {
   "cell_type": "code",
   "execution_count": 3,
   "metadata": {},
   "outputs": [
    {
     "data": {
      "image/png": "[encoded data removed]",
      "text/plain": [
       "<Figure size 432x288 with 1 Axes>"
      ]
     },
     "metadata": {
      "needs_background": "light"
     },
     "output_type": "display_data"
    }
   ],
   "source": [
    "# x0 => x-axis\n",
    "# x1 => y-axis\n",
    "# cluster => marker type\n",
    "def km_scatter(df, **kwargs):\n",
    "    ax = kwargs.pop(\"ax\", None)\n",
    "    if not \"label\" in df.columns:\n",
    "        return df.plot.scatter(x=\"x0\", y=\"x1\", marker=\"$?$\", ax=ax, **kwargs)\n",
    "\n",
    "    for marker in set(df[\"label\"]):\n",
    "        sub_df = df[df[\"label\"] == marker]\n",
    "        ax = sub_df.plot.scatter(x=\"x0\", y=\"x1\", marker=marker, ax=ax, **kwargs)\n",
    "    return ax\n",
    "\n",
    "ax = km_scatter(df, s=100, c=\"0.7\")"
   ]
  },
  {
   "cell_type": "markdown",
   "metadata": {},
   "source": [
    "# Hard Problem\n",
    "\n",
    "Finding the best answer.\n",
    "\n",
    "# Easier Problem\n",
    "\n",
    "Taking a bad answer and make it a little better.  Then repeat!"
   ]
  },
  {
   "cell_type": "code",
   "execution_count": 4,
   "metadata": {},
   "outputs": [
    {
     "data": {
      "text/plain": [
       "<AxesSubplot:xlabel='x0', ylabel='x1'>"
      ]
     },
     "execution_count": 4,
     "metadata": {},
     "output_type": "execute_result"
    },
    {
     "data": {
      "image/png": "[encoded data removed]",
      "text/plain": [
       "<Figure size 432x288 with 1 Axes>"
      ]
     },
     "metadata": {
      "needs_background": "light"
     },
     "output_type": "display_data"
    }
   ],
   "source": [
    "clusters = np.random.uniform(-5, 5, size=(3,2))\n",
    "clusters = pd.DataFrame(clusters, columns=[\"x0\", \"x1\"])\n",
    "clusters[\"label\"] = [\"o\", \"+\", \"x\"]\n",
    "\n",
    "ax = km_scatter(df, s=100, c=\"0.7\")\n",
    "km_scatter(clusters, s=200, c=\"red\", ax=ax)"
   ]
  },
  {
   "cell_type": "code",
   "execution_count": 5,
   "metadata": {},
   "outputs": [
    {
     "data": {
      "text/html": [
       "<div>\n",
       "<style scoped>\n",
       "    .dataframe tbody tr th:only-of-type {\n",
       "        vertical-align: middle;\n",
       "    }\n",
       "\n",
       "    .dataframe tbody tr th {\n",
       "        vertical-align: top;\n",
       "    }\n",
       "\n",
       "    .dataframe thead th {\n",
       "        text-align: right;\n",
       "    }\n",
       "</style>\n",
       "<table border=\"1\" class=\"dataframe\">\n",
       "  <thead>\n",
       "    <tr style=\"text-align: right;\">\n",
       "      <th></th>\n",
       "      <th>x0</th>\n",
       "      <th>x1</th>\n",
       "      <th>label</th>\n",
       "    </tr>\n",
       "  </thead>\n",
       "  <tbody>\n",
       "    <tr>\n",
       "      <th>0</th>\n",
       "      <td>-1.791356</td>\n",
       "      <td>2.668574</td>\n",
       "      <td>o</td>\n",
       "    </tr>\n",
       "    <tr>\n",
       "      <th>1</th>\n",
       "      <td>-3.025300</td>\n",
       "      <td>-4.522432</td>\n",
       "      <td>+</td>\n",
       "    </tr>\n",
       "    <tr>\n",
       "      <th>2</th>\n",
       "      <td>4.056156</td>\n",
       "      <td>-3.502922</td>\n",
       "      <td>x</td>\n",
       "    </tr>\n",
       "  </tbody>\n",
       "</table>\n",
       "</div>"
      ],
      "text/plain": [
       "         x0        x1 label\n",
       "0 -1.791356  2.668574     o\n",
       "1 -3.025300 -4.522432     +\n",
       "2  4.056156 -3.502922     x"
      ]
     },
     "execution_count": 5,
     "metadata": {},
     "output_type": "execute_result"
    }
   ],
   "source": [
    "clusters"
   ]
  },
  {
   "cell_type": "code",
   "execution_count": 6,
   "metadata": {},
   "outputs": [
    {
     "data": {
      "text/html": [
       "<div>\n",
       "<style scoped>\n",
       "    .dataframe tbody tr th:only-of-type {\n",
       "        vertical-align: middle;\n",
       "    }\n",
       "\n",
       "    .dataframe tbody tr th {\n",
       "        vertical-align: top;\n",
       "    }\n",
       "\n",
       "    .dataframe thead th {\n",
       "        text-align: right;\n",
       "    }\n",
       "</style>\n",
       "<table border=\"1\" class=\"dataframe\">\n",
       "  <thead>\n",
       "    <tr style=\"text-align: right;\">\n",
       "      <th></th>\n",
       "      <th>x0</th>\n",
       "      <th>x1</th>\n",
       "    </tr>\n",
       "  </thead>\n",
       "  <tbody>\n",
       "    <tr>\n",
       "      <th>0</th>\n",
       "      <td>8.370099</td>\n",
       "      <td>7.747045</td>\n",
       "    </tr>\n",
       "    <tr>\n",
       "      <th>1</th>\n",
       "      <td>-2.701740</td>\n",
       "      <td>0.395336</td>\n",
       "    </tr>\n",
       "    <tr>\n",
       "      <th>2</th>\n",
       "      <td>-3.204128</td>\n",
       "      <td>-0.407438</td>\n",
       "    </tr>\n",
       "    <tr>\n",
       "      <th>3</th>\n",
       "      <td>-3.132762</td>\n",
       "      <td>-1.335692</td>\n",
       "    </tr>\n",
       "    <tr>\n",
       "      <th>4</th>\n",
       "      <td>7.152737</td>\n",
       "      <td>6.069995</td>\n",
       "    </tr>\n",
       "  </tbody>\n",
       "</table>\n",
       "</div>"
      ],
      "text/plain": [
       "         x0        x1\n",
       "0  8.370099  7.747045\n",
       "1 -2.701740  0.395336\n",
       "2 -3.204128 -0.407438\n",
       "3 -3.132762 -1.335692\n",
       "4  7.152737  6.069995"
      ]
     },
     "execution_count": 6,
     "metadata": {},
     "output_type": "execute_result"
    }
   ],
   "source": [
    "df.head()"
   ]
  },
  {
   "cell_type": "code",
   "execution_count": 7,
   "metadata": {
    "scrolled": false
   },
   "outputs": [
    {
     "data": {
      "image/png": "[encoded data removed]",
      "text/plain": [
       "<Figure size 432x288 with 1 Axes>"
      ]
     },
     "metadata": {
      "needs_background": "light"
     },
     "output_type": "display_data"
    }
   ],
   "source": [
    "class KM:\n",
    "    def __init__(self, df, clusters):\n",
    "        self.df = df.copy()\n",
    "        self.clusters = clusters.copy()\n",
    "        self.labels = clusters[\"label\"].values\n",
    "\n",
    "    def plot(self):\n",
    "        ax = km_scatter(self.df, s=100, c=\"0.7\")\n",
    "        km_scatter(self.clusters, s=200, c=\"red\", ax=ax)\n",
    "        \n",
    "    def assign_points(self):\n",
    "        # compute distance from every scatter point to every centroid\n",
    "        for cluster in self.clusters.itertuples():\n",
    "            x0_diff = self.df[\"x0\"] - cluster.x0\n",
    "            x1_diff = self.df[\"x1\"] - cluster.x1\n",
    "            dist = (x0_diff**2 + x1_diff ** 2) ** 0.5\n",
    "            self.df[cluster.label] = dist\n",
    "        self.df[\"label\"] = self.labels[self.df[self.labels].values.argmin(axis=1)]\n",
    "\n",
    "    def update_centers(self):\n",
    "        for cluster in self.clusters.itertuples():\n",
    "            subset = self.df[self.df[\"label\"] == cluster.label]\n",
    "            if len(subset) > 0:\n",
    "                self.clusters.at[cluster.Index, \"x0\"] = subset[\"x0\"].mean()\n",
    "                self.clusters.at[cluster.Index, \"x1\"] = subset[\"x1\"].mean()\n",
    "        \n",
    "km = KM(df, clusters)\n",
    "for epoch in range(10):\n",
    "    km.assign_points()\n",
    "    km.update_centers()\n",
    "km.plot()"
   ]
  },
  {
   "cell_type": "code",
   "execution_count": 8,
   "metadata": {},
   "outputs": [
    {
     "data": {
      "text/html": [
       "<div>\n",
       "<style scoped>\n",
       "    .dataframe tbody tr th:only-of-type {\n",
       "        vertical-align: middle;\n",
       "    }\n",
       "\n",
       "    .dataframe tbody tr th {\n",
       "        vertical-align: top;\n",
       "    }\n",
       "\n",
       "    .dataframe thead th {\n",
       "        text-align: right;\n",
       "    }\n",
       "</style>\n",
       "<table border=\"1\" class=\"dataframe\">\n",
       "  <thead>\n",
       "    <tr style=\"text-align: right;\">\n",
       "      <th></th>\n",
       "      <th>x0</th>\n",
       "      <th>x1</th>\n",
       "      <th>o</th>\n",
       "      <th>+</th>\n",
       "      <th>x</th>\n",
       "      <th>label</th>\n",
       "    </tr>\n",
       "  </thead>\n",
       "  <tbody>\n",
       "    <tr>\n",
       "      <th>0</th>\n",
       "      <td>8.370099</td>\n",
       "      <td>7.747045</td>\n",
       "      <td>8.399553</td>\n",
       "      <td>14.727486</td>\n",
       "      <td>0.695505</td>\n",
       "      <td>x</td>\n",
       "    </tr>\n",
       "    <tr>\n",
       "      <th>1</th>\n",
       "      <td>-2.701740</td>\n",
       "      <td>0.395336</td>\n",
       "      <td>5.057144</td>\n",
       "      <td>1.712172</td>\n",
       "      <td>12.838494</td>\n",
       "      <td>+</td>\n",
       "    </tr>\n",
       "    <tr>\n",
       "      <th>2</th>\n",
       "      <td>-3.204128</td>\n",
       "      <td>-0.407438</td>\n",
       "      <td>5.984516</td>\n",
       "      <td>1.473332</td>\n",
       "      <td>13.720805</td>\n",
       "      <td>+</td>\n",
       "    </tr>\n",
       "    <tr>\n",
       "      <th>3</th>\n",
       "      <td>-3.132762</td>\n",
       "      <td>-1.335692</td>\n",
       "      <td>6.652576</td>\n",
       "      <td>2.184581</td>\n",
       "      <td>14.249169</td>\n",
       "      <td>+</td>\n",
       "    </tr>\n",
       "    <tr>\n",
       "      <th>4</th>\n",
       "      <td>7.152737</td>\n",
       "      <td>6.069995</td>\n",
       "      <td>6.629118</td>\n",
       "      <td>12.866254</td>\n",
       "      <td>1.932494</td>\n",
       "      <td>x</td>\n",
       "    </tr>\n",
       "    <tr>\n",
       "      <th>...</th>\n",
       "      <td>...</td>\n",
       "      <td>...</td>\n",
       "      <td>...</td>\n",
       "      <td>...</td>\n",
       "      <td>...</td>\n",
       "      <td>...</td>\n",
       "    </tr>\n",
       "    <tr>\n",
       "      <th>95</th>\n",
       "      <td>-4.681343</td>\n",
       "      <td>1.086141</td>\n",
       "      <td>6.253922</td>\n",
       "      <td>0.704917</td>\n",
       "      <td>14.141920</td>\n",
       "      <td>+</td>\n",
       "    </tr>\n",
       "    <tr>\n",
       "      <th>96</th>\n",
       "      <td>-3.410109</td>\n",
       "      <td>0.515456</td>\n",
       "      <td>5.502204</td>\n",
       "      <td>1.006656</td>\n",
       "      <td>13.351683</td>\n",
       "      <td>+</td>\n",
       "    </tr>\n",
       "    <tr>\n",
       "      <th>97</th>\n",
       "      <td>0.683092</td>\n",
       "      <td>3.737246</td>\n",
       "      <td>0.304807</td>\n",
       "      <td>6.073362</td>\n",
       "      <td>8.168962</td>\n",
       "      <td>o</td>\n",
       "    </tr>\n",
       "    <tr>\n",
       "      <th>98</th>\n",
       "      <td>7.744654</td>\n",
       "      <td>7.293236</td>\n",
       "      <td>7.638137</td>\n",
       "      <td>13.959504</td>\n",
       "      <td>0.632635</td>\n",
       "      <td>x</td>\n",
       "    </tr>\n",
       "    <tr>\n",
       "      <th>99</th>\n",
       "      <td>8.393876</td>\n",
       "      <td>6.986611</td>\n",
       "      <td>8.109731</td>\n",
       "      <td>14.386228</td>\n",
       "      <td>1.167833</td>\n",
       "      <td>x</td>\n",
       "    </tr>\n",
       "  </tbody>\n",
       "</table>\n",
       "<p>100 rows × 6 columns</p>\n",
       "</div>"
      ],
      "text/plain": [
       "          x0        x1         o          +          x label\n",
       "0   8.370099  7.747045  8.399553  14.727486   0.695505     x\n",
       "1  -2.701740  0.395336  5.057144   1.712172  12.838494     +\n",
       "2  -3.204128 -0.407438  5.984516   1.473332  13.720805     +\n",
       "3  -3.132762 -1.335692  6.652576   2.184581  14.249169     +\n",
       "4   7.152737  6.069995  6.629118  12.866254   1.932494     x\n",
       "..       ...       ...       ...        ...        ...   ...\n",
       "95 -4.681343  1.086141  6.253922   0.704917  14.141920     +\n",
       "96 -3.410109  0.515456  5.502204   1.006656  13.351683     +\n",
       "97  0.683092  3.737246  0.304807   6.073362   8.168962     o\n",
       "98  7.744654  7.293236  7.638137  13.959504   0.632635     x\n",
       "99  8.393876  6.986611  8.109731  14.386228   1.167833     x\n",
       "\n",
       "[100 rows x 6 columns]"
      ]
     },
     "execution_count": 8,
     "metadata": {},
     "output_type": "execute_result"
    }
   ],
   "source": [
    "km.df"
   ]
  },
  {
   "cell_type": "markdown",
   "metadata": {},
   "source": [
    "# KMeans in sklearn"
   ]
  },
  {
   "cell_type": "code",
   "execution_count": 10,
   "metadata": {},
   "outputs": [],
   "source": [
    "# km: our custom built version of KM\n",
    "# km2: the one builtin to scikit-learn\n",
    "km2 = KMeans(3)"
   ]
  },
  {
   "cell_type": "code",
   "execution_count": 17,
   "metadata": {},
   "outputs": [
    {
     "data": {
      "text/plain": [
       "array([[ 7.69751168,  7.9241129 ],\n",
       "       [ 0.85985598,  3.98556415],\n",
       "       [-4.41347291,  0.43410278]])"
      ]
     },
     "execution_count": 17,
     "metadata": {},
     "output_type": "execute_result"
    }
   ],
   "source": [
    "# 1. fit\n",
    "km2.fit(df)\n",
    "km2.cluster_centers_"
   ]
  },
  {
   "cell_type": "code",
   "execution_count": 13,
   "metadata": {},
   "outputs": [
    {
     "data": {
      "text/html": [
       "<div>\n",
       "<style scoped>\n",
       "    .dataframe tbody tr th:only-of-type {\n",
       "        vertical-align: middle;\n",
       "    }\n",
       "\n",
       "    .dataframe tbody tr th {\n",
       "        vertical-align: top;\n",
       "    }\n",
       "\n",
       "    .dataframe thead th {\n",
       "        text-align: right;\n",
       "    }\n",
       "</style>\n",
       "<table border=\"1\" class=\"dataframe\">\n",
       "  <thead>\n",
       "    <tr style=\"text-align: right;\">\n",
       "      <th></th>\n",
       "      <th>x0</th>\n",
       "      <th>x1</th>\n",
       "      <th>label</th>\n",
       "    </tr>\n",
       "  </thead>\n",
       "  <tbody>\n",
       "    <tr>\n",
       "      <th>0</th>\n",
       "      <td>0.859856</td>\n",
       "      <td>3.985564</td>\n",
       "      <td>o</td>\n",
       "    </tr>\n",
       "    <tr>\n",
       "      <th>1</th>\n",
       "      <td>-4.413473</td>\n",
       "      <td>0.434103</td>\n",
       "      <td>+</td>\n",
       "    </tr>\n",
       "    <tr>\n",
       "      <th>2</th>\n",
       "      <td>7.697512</td>\n",
       "      <td>7.924113</td>\n",
       "      <td>x</td>\n",
       "    </tr>\n",
       "  </tbody>\n",
       "</table>\n",
       "</div>"
      ],
      "text/plain": [
       "         x0        x1 label\n",
       "0  0.859856  3.985564     o\n",
       "1 -4.413473  0.434103     +\n",
       "2  7.697512  7.924113     x"
      ]
     },
     "execution_count": 13,
     "metadata": {},
     "output_type": "execute_result"
    }
   ],
   "source": [
    "km.clusters"
   ]
  },
  {
   "cell_type": "code",
   "execution_count": 19,
   "metadata": {},
   "outputs": [
    {
     "data": {
      "text/plain": [
       "array([[ 0.69550479,  8.39955315, 14.72748598],\n",
       "       [12.83849367,  5.057144  ,  1.71217188],\n",
       "       [13.72080475,  5.984516  ,  1.47333179],\n",
       "       [14.24916908,  6.65257594,  2.18458064],\n",
       "       [ 1.93249405,  6.62911793, 12.86625407]])"
      ]
     },
     "execution_count": 19,
     "metadata": {},
     "output_type": "execute_result"
    }
   ],
   "source": [
    "# 2. transform (gives distances for each row to each centroid)\n",
    "km2.transform(df.head())"
   ]
  },
  {
   "cell_type": "code",
   "execution_count": 22,
   "metadata": {},
   "outputs": [
    {
     "data": {
      "text/html": [
       "<div>\n",
       "<style scoped>\n",
       "    .dataframe tbody tr th:only-of-type {\n",
       "        vertical-align: middle;\n",
       "    }\n",
       "\n",
       "    .dataframe tbody tr th {\n",
       "        vertical-align: top;\n",
       "    }\n",
       "\n",
       "    .dataframe thead th {\n",
       "        text-align: right;\n",
       "    }\n",
       "</style>\n",
       "<table border=\"1\" class=\"dataframe\">\n",
       "  <thead>\n",
       "    <tr style=\"text-align: right;\">\n",
       "      <th></th>\n",
       "      <th>x0</th>\n",
       "      <th>x1</th>\n",
       "      <th>o</th>\n",
       "      <th>+</th>\n",
       "      <th>x</th>\n",
       "      <th>label</th>\n",
       "    </tr>\n",
       "  </thead>\n",
       "  <tbody>\n",
       "    <tr>\n",
       "      <th>0</th>\n",
       "      <td>8.370099</td>\n",
       "      <td>7.747045</td>\n",
       "      <td>8.399553</td>\n",
       "      <td>14.727486</td>\n",
       "      <td>0.695505</td>\n",
       "      <td>x</td>\n",
       "    </tr>\n",
       "    <tr>\n",
       "      <th>1</th>\n",
       "      <td>-2.701740</td>\n",
       "      <td>0.395336</td>\n",
       "      <td>5.057144</td>\n",
       "      <td>1.712172</td>\n",
       "      <td>12.838494</td>\n",
       "      <td>+</td>\n",
       "    </tr>\n",
       "    <tr>\n",
       "      <th>2</th>\n",
       "      <td>-3.204128</td>\n",
       "      <td>-0.407438</td>\n",
       "      <td>5.984516</td>\n",
       "      <td>1.473332</td>\n",
       "      <td>13.720805</td>\n",
       "      <td>+</td>\n",
       "    </tr>\n",
       "    <tr>\n",
       "      <th>3</th>\n",
       "      <td>-3.132762</td>\n",
       "      <td>-1.335692</td>\n",
       "      <td>6.652576</td>\n",
       "      <td>2.184581</td>\n",
       "      <td>14.249169</td>\n",
       "      <td>+</td>\n",
       "    </tr>\n",
       "    <tr>\n",
       "      <th>4</th>\n",
       "      <td>7.152737</td>\n",
       "      <td>6.069995</td>\n",
       "      <td>6.629118</td>\n",
       "      <td>12.866254</td>\n",
       "      <td>1.932494</td>\n",
       "      <td>x</td>\n",
       "    </tr>\n",
       "    <tr>\n",
       "      <th>...</th>\n",
       "      <td>...</td>\n",
       "      <td>...</td>\n",
       "      <td>...</td>\n",
       "      <td>...</td>\n",
       "      <td>...</td>\n",
       "      <td>...</td>\n",
       "    </tr>\n",
       "    <tr>\n",
       "      <th>95</th>\n",
       "      <td>-4.681343</td>\n",
       "      <td>1.086141</td>\n",
       "      <td>6.253922</td>\n",
       "      <td>0.704917</td>\n",
       "      <td>14.141920</td>\n",
       "      <td>+</td>\n",
       "    </tr>\n",
       "    <tr>\n",
       "      <th>96</th>\n",
       "      <td>-3.410109</td>\n",
       "      <td>0.515456</td>\n",
       "      <td>5.502204</td>\n",
       "      <td>1.006656</td>\n",
       "      <td>13.351683</td>\n",
       "      <td>+</td>\n",
       "    </tr>\n",
       "    <tr>\n",
       "      <th>97</th>\n",
       "      <td>0.683092</td>\n",
       "      <td>3.737246</td>\n",
       "      <td>0.304807</td>\n",
       "      <td>6.073362</td>\n",
       "      <td>8.168962</td>\n",
       "      <td>o</td>\n",
       "    </tr>\n",
       "    <tr>\n",
       "      <th>98</th>\n",
       "      <td>7.744654</td>\n",
       "      <td>7.293236</td>\n",
       "      <td>7.638137</td>\n",
       "      <td>13.959504</td>\n",
       "      <td>0.632635</td>\n",
       "      <td>x</td>\n",
       "    </tr>\n",
       "    <tr>\n",
       "      <th>99</th>\n",
       "      <td>8.393876</td>\n",
       "      <td>6.986611</td>\n",
       "      <td>8.109731</td>\n",
       "      <td>14.386228</td>\n",
       "      <td>1.167833</td>\n",
       "      <td>x</td>\n",
       "    </tr>\n",
       "  </tbody>\n",
       "</table>\n",
       "<p>100 rows × 6 columns</p>\n",
       "</div>"
      ],
      "text/plain": [
       "          x0        x1         o          +          x label\n",
       "0   8.370099  7.747045  8.399553  14.727486   0.695505     x\n",
       "1  -2.701740  0.395336  5.057144   1.712172  12.838494     +\n",
       "2  -3.204128 -0.407438  5.984516   1.473332  13.720805     +\n",
       "3  -3.132762 -1.335692  6.652576   2.184581  14.249169     +\n",
       "4   7.152737  6.069995  6.629118  12.866254   1.932494     x\n",
       "..       ...       ...       ...        ...        ...   ...\n",
       "95 -4.681343  1.086141  6.253922   0.704917  14.141920     +\n",
       "96 -3.410109  0.515456  5.502204   1.006656  13.351683     +\n",
       "97  0.683092  3.737246  0.304807   6.073362   8.168962     o\n",
       "98  7.744654  7.293236  7.638137  13.959504   0.632635     x\n",
       "99  8.393876  6.986611  8.109731  14.386228   1.167833     x\n",
       "\n",
       "[100 rows x 6 columns]"
      ]
     },
     "execution_count": 22,
     "metadata": {},
     "output_type": "execute_result"
    }
   ],
   "source": [
    "km.df"
   ]
  },
  {
   "cell_type": "code",
   "execution_count": 23,
   "metadata": {},
   "outputs": [
    {
     "data": {
      "text/plain": [
       "array([0, 2, 2, 2, 0, 2, 2, 0, 2, 1, 2, 0, 0, 0, 1, 2, 0, 0, 2, 2, 1, 1,\n",
       "       2, 1, 2, 0, 0, 1, 2, 0, 1, 1, 0, 2, 0, 0, 1, 1, 1, 0, 0, 0, 1, 1,\n",
       "       2, 2, 1, 2, 0, 2, 1, 0, 2, 0, 2, 0, 2, 0, 1, 1, 1, 2, 1, 1, 2, 1,\n",
       "       0, 2, 1, 2, 2, 0, 1, 2, 1, 1, 2, 1, 0, 2, 1, 1, 1, 1, 0, 1, 2, 0,\n",
       "       1, 0, 1, 0, 0, 2, 0, 2, 2, 1, 0, 0], dtype=int32)"
      ]
     },
     "execution_count": 23,
     "metadata": {},
     "output_type": "execute_result"
    }
   ],
   "source": [
    "# 3. predict (assigns a cluster to each row) -- weird name because there is no \"correct\" answer\n",
    "km2.predict(df)"
   ]
  },
  {
   "cell_type": "code",
   "execution_count": 25,
   "metadata": {},
   "outputs": [
    {
     "data": {
      "text/plain": [
       "array([2, 1, 1, 1, 2, 1, 1, 2, 1, 0, 1, 2, 2, 2, 0, 1, 2, 2, 1, 1, 0, 0,\n",
       "       1, 0, 1, 2, 2, 0, 1, 2, 0, 0, 2, 1, 2, 2, 0, 0, 0, 2, 2, 2, 0, 0,\n",
       "       1, 1, 0, 1, 2, 1, 0, 2, 1, 2, 1, 2, 1, 2, 0, 0, 0, 1, 0, 0, 1, 0,\n",
       "       2, 1, 0, 1, 1, 2, 0, 1, 0, 0, 1, 0, 2, 1, 0, 0, 0, 0, 2, 0, 1, 2,\n",
       "       0, 2, 0, 2, 2, 1, 2, 1, 1, 0, 2, 2], dtype=int32)"
      ]
     },
     "execution_count": 25,
     "metadata": {},
     "output_type": "execute_result"
    }
   ],
   "source": [
    "#km2.fit(df)\n",
    "#km2.predict(df)\n",
    "\n",
    "# shortcut for above\n",
    "km2.fit_predict(df)"
   ]
  },
  {
   "cell_type": "markdown",
   "metadata": {},
   "source": [
    "# How many clusters?"
   ]
  },
  {
   "cell_type": "code",
   "execution_count": 26,
   "metadata": {},
   "outputs": [
    {
     "data": {
      "text/plain": [
       "260.7196850565892"
      ]
     },
     "execution_count": 26,
     "metadata": {},
     "output_type": "execute_result"
    }
   ],
   "source": [
    "km2.fit(df)\n",
    "km2.inertia_ # measures sum of squared distances from rows to the nearest centroid"
   ]
  },
  {
   "cell_type": "code",
   "execution_count": 31,
   "metadata": {},
   "outputs": [
    {
     "data": {
      "text/plain": [
       "211.73003127378004"
      ]
     },
     "execution_count": 31,
     "metadata": {},
     "output_type": "execute_result"
    }
   ],
   "source": [
    "km2 = KMeans(4)\n",
    "km2.fit(df)\n",
    "km2.inertia_"
   ]
  },
  {
   "cell_type": "code",
   "execution_count": null,
   "metadata": {},
   "outputs": [],
   "source": [
    "# elbow plot:\n",
    "# x-axis: cluster count\n",
    "# y-axis: inertia"
   ]
  },
  {
   "cell_type": "code",
   "execution_count": 39,
   "metadata": {},
   "outputs": [
    {
     "data": {
      "text/plain": [
       "Text(0, 0.5, 'Inertia')"
      ]
     },
     "execution_count": 39,
     "metadata": {},
     "output_type": "execute_result"
    },
    {
     "data": {
      "image/png": "[encoded data removed]",
      "text/plain": [
       "<Figure size 432x288 with 1 Axes>"
      ]
     },
     "metadata": {
      "needs_background": "light"
     },
     "output_type": "display_data"
    }
   ],
   "source": [
    "line = pd.Series(dtype=float)\n",
    "\n",
    "for cluster_count in range(1, 11):\n",
    "    km2 = KMeans(cluster_count)\n",
    "    km2.fit(df)\n",
    "    line.loc[cluster_count] = km2.inertia_\n",
    "    \n",
    "ax = line.plot.line()   # index=>x-axis, values=>y-axis\n",
    "ax.set_xlabel(\"Cluster Count\")\n",
    "ax.set_ylabel(\"Inertia\")"
   ]
  },
  {
   "cell_type": "markdown",
   "metadata": {},
   "source": [
    "# KMeans as Preprocessing\n",
    "\n",
    "Sometimes we'll use an unsupervised learning technique (like k-means) to pre-process data, creating better inputs for a supervised learning technique (like logistic regression)"
   ]
  },
  {
   "cell_type": "code",
   "execution_count": 40,
   "metadata": {},
   "outputs": [],
   "source": [
    "from sklearn import datasets\n",
    "from sklearn.model_selection import train_test_split"
   ]
  },
  {
   "cell_type": "code",
   "execution_count": 41,
   "metadata": {},
   "outputs": [],
   "source": [
    "def make_data():\n",
    "    x, y = datasets.make_blobs(n_samples=250, centers=5, random_state=5)\n",
    "    xcols = [\"x0\", \"x1\"]\n",
    "    df1 = pd.DataFrame(x, columns=xcols)\n",
    "    df1[\"y\"] = y > 0\n",
    "\n",
    "    df2 = pd.DataFrame(np.random.uniform(-10, 10, size=(250, 2)), columns=[\"x0\", \"x1\"])\n",
    "    df2[\"y\"] = False\n",
    "\n",
    "    return pd.concat((df1, df2))\n",
    "\n",
    "train, test = train_test_split(make_data())"
   ]
  },
  {
   "cell_type": "code",
   "execution_count": 42,
   "metadata": {},
   "outputs": [
    {
     "data": {
      "image/png": "[encoded data removed]",
      "text/plain": [
       "<Figure size 720x288 with 2 Axes>"
      ]
     },
     "metadata": {
      "needs_background": "light"
     },
     "output_type": "display_data"
    }
   ],
   "source": [
    "plt.rcParams[\"font.size\"] = 16\n",
    "fig, ax = plt.subplots(ncols=2, figsize=(10,4))\n",
    "train.plot.scatter(x=\"x0\", y=\"x1\", c=train[\"y\"], vmin=-1, ax=ax[0])\n",
    "test.plot.scatter(x=\"x0\", y=\"x1\", c=\"red\", ax=ax[1])\n",
    "ax[0].set_title(\"Training Data\")\n",
    "ax[1].set_title(\"Test Data\")\n",
    "plt.subplots_adjust(wspace=0.4)"
   ]
  },
  {
   "cell_type": "code",
   "execution_count": 55,
   "metadata": {},
   "outputs": [
    {
     "data": {
      "text/plain": [
       "0.712"
      ]
     },
     "execution_count": 55,
     "metadata": {},
     "output_type": "execute_result"
    }
   ],
   "source": [
    "from sklearn.pipeline import Pipeline\n",
    "from sklearn.preprocessing import StandardScaler\n",
    "from sklearn.linear_model import LogisticRegression\n",
    "\n",
    "pipe = Pipeline([\n",
    "    (\"km\", KMeans(10)),\n",
    "    (\"std\", StandardScaler()),\n",
    "    (\"lr\", LogisticRegression()),\n",
    "])\n",
    "\n",
    "pipe.fit(train[[\"x0\", \"x1\"]], train[\"y\"])\n",
    "pipe.score(test[[\"x0\", \"x1\"]], test[\"y\"])"
   ]
  },
  {
   "cell_type": "markdown",
   "metadata": {},
   "source": [
    "# StandardScaler with KMeans"
   ]
  },
  {
   "cell_type": "code",
   "execution_count": 57,
   "metadata": {},
   "outputs": [
    {
     "data": {
      "text/plain": [
       "<AxesSubplot:xlabel='0', ylabel='1'>"
      ]
     },
     "execution_count": 57,
     "metadata": {},
     "output_type": "execute_result"
    },
    {
     "data": {
      "image/png": "[encoded data removed]",
      "text/plain": [
       "<Figure size 432x432 with 1 Axes>"
      ]
     },
     "metadata": {
      "needs_background": "light"
     },
     "output_type": "display_data"
    }
   ],
   "source": [
    "x = datasets.make_blobs(centers=np.array([(0,0), (0,20), (3,20)]))[0]\n",
    "df = pd.DataFrame(x)\n",
    "df.plot.scatter(x=0, y=1, figsize=(6,6))"
   ]
  },
  {
   "cell_type": "code",
   "execution_count": 65,
   "metadata": {},
   "outputs": [
    {
     "data": {
      "text/plain": [
       "<AxesSubplot:xlabel='0', ylabel='1'>"
      ]
     },
     "execution_count": 65,
     "metadata": {},
     "output_type": "execute_result"
    },
    {
     "data": {
      "image/png": "[encoded data removed]",
      "text/plain": [
       "<Figure size 432x432 with 1 Axes>"
      ]
     },
     "metadata": {
      "needs_background": "light"
     },
     "output_type": "display_data"
    }
   ],
   "source": [
    "df.plot.scatter(x=0, y=1, c=KMeans(2).fit_predict(df), figsize=(6,6),\n",
    "                vmin=-1, vmax=1) # -1=>white, 0=>gray, 1=>black"
   ]
  },
  {
   "cell_type": "code",
   "execution_count": 67,
   "metadata": {},
   "outputs": [
    {
     "data": {
      "text/html": [
       "<div>\n",
       "<style scoped>\n",
       "    .dataframe tbody tr th:only-of-type {\n",
       "        vertical-align: middle;\n",
       "    }\n",
       "\n",
       "    .dataframe tbody tr th {\n",
       "        vertical-align: top;\n",
       "    }\n",
       "\n",
       "    .dataframe thead th {\n",
       "        text-align: right;\n",
       "    }\n",
       "</style>\n",
       "<table border=\"1\" class=\"dataframe\">\n",
       "  <thead>\n",
       "    <tr style=\"text-align: right;\">\n",
       "      <th></th>\n",
       "      <th>0</th>\n",
       "      <th>1</th>\n",
       "    </tr>\n",
       "  </thead>\n",
       "  <tbody>\n",
       "    <tr>\n",
       "      <th>0</th>\n",
       "      <td>3141.796446</td>\n",
       "      <td>19.992091</td>\n",
       "    </tr>\n",
       "    <tr>\n",
       "      <th>1</th>\n",
       "      <td>0.721009</td>\n",
       "      <td>20.167178</td>\n",
       "    </tr>\n",
       "    <tr>\n",
       "      <th>2</th>\n",
       "      <td>1456.350677</td>\n",
       "      <td>20.987343</td>\n",
       "    </tr>\n",
       "    <tr>\n",
       "      <th>3</th>\n",
       "      <td>1830.025420</td>\n",
       "      <td>19.175067</td>\n",
       "    </tr>\n",
       "    <tr>\n",
       "      <th>4</th>\n",
       "      <td>507.917280</td>\n",
       "      <td>20.079975</td>\n",
       "    </tr>\n",
       "  </tbody>\n",
       "</table>\n",
       "</div>"
      ],
      "text/plain": [
       "             0          1\n",
       "0  3141.796446  19.992091\n",
       "1     0.721009  20.167178\n",
       "2  1456.350677  20.987343\n",
       "3  1830.025420  19.175067\n",
       "4   507.917280  20.079975"
      ]
     },
     "execution_count": 67,
     "metadata": {},
     "output_type": "execute_result"
    }
   ],
   "source": [
    "# convert column 0 from km to meters\n",
    "df[0] *= 1000\n",
    "df.head()"
   ]
  },
  {
   "cell_type": "code",
   "execution_count": 68,
   "metadata": {},
   "outputs": [
    {
     "data": {
      "text/plain": [
       "<AxesSubplot:xlabel='0', ylabel='1'>"
      ]
     },
     "execution_count": 68,
     "metadata": {},
     "output_type": "execute_result"
    },
    {
     "data": {
      "image/png": "[encoded data removed]",
      "text/plain": [
       "<Figure size 432x432 with 1 Axes>"
      ]
     },
     "metadata": {
      "needs_background": "light"
     },
     "output_type": "display_data"
    }
   ],
   "source": [
    "df.plot.scatter(x=0, y=1, c=KMeans(2).fit_predict(df), figsize=(6,6),\n",
    "                vmin=-1, vmax=1) # -1=>white, 0=>gray, 1=>black"
   ]
  },
  {
   "cell_type": "code",
   "execution_count": 69,
   "metadata": {},
   "outputs": [
    {
     "data": {
      "text/plain": [
       "<AxesSubplot:xlabel='0', ylabel='1'>"
      ]
     },
     "execution_count": 69,
     "metadata": {},
     "output_type": "execute_result"
    },
    {
     "data": {
      "image/png": "[encoded data removed]",
      "text/plain": [
       "<Figure size 432x432 with 1 Axes>"
      ]
     },
     "metadata": {
      "needs_background": "light"
     },
     "output_type": "display_data"
    }
   ],
   "source": [
    "pipe = Pipeline([\n",
    "    (\"std\", StandardScaler()),\n",
    "    (\"km\", KMeans(2)),\n",
    "])\n",
    "\n",
    "df.plot.scatter(x=0, y=1, c=pipe.fit_predict(df), figsize=(6,6),\n",
    "                vmin=-1, vmax=1) # -1=>white, 0=>gray, 1=>black"
   ]
  }
 ],
 "metadata": {
  "kernelspec": {
   "display_name": "Python 3 (ipykernel)",
   "language": "python",
   "name": "python3"
  },
  "language_info": {
   "codemirror_mode": {
    "name": "ipython",
    "version": 3
   },
   "file_extension": ".py",
   "mimetype": "text/x-python",
   "name": "python",
   "nbconvert_exporter": "python",
   "pygments_lexer": "ipython3",
   "version": "3.8.10"
  }
 },
 "nbformat": 4,
 "nbformat_minor": 4
}
