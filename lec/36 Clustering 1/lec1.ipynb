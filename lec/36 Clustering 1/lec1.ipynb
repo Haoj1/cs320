{
 "cells": [
  {
   "cell_type": "markdown",
   "metadata": {},
   "source": [
    "# Unsupervised Learning: Clustering\n",
    "\n",
    "In classification (supervised), we try to find boundaries/rules to separate points according to pre-determined labels.\n",
    "\n",
    "In clustering, the algorithm chooses the labels.  Goal is to choose labels so that similar rows get labeled the same.\n",
    "\n",
    "Today: K-Means Clustering"
   ]
  },
  {
   "cell_type": "code",
   "execution_count": 21,
   "metadata": {},
   "outputs": [],
   "source": [
    "import matplotlib.pyplot as plt\n",
    "import numpy as np\n",
    "import pandas as pd\n",
    "from sklearn.cluster import KMeans\n",
    "from sklearn import datasets"
   ]
  },
  {
   "cell_type": "code",
   "execution_count": 22,
   "metadata": {},
   "outputs": [
    {
     "data": {
      "text/html": [
       "<div>\n",
       "<style scoped>\n",
       "    .dataframe tbody tr th:only-of-type {\n",
       "        vertical-align: middle;\n",
       "    }\n",
       "\n",
       "    .dataframe tbody tr th {\n",
       "        vertical-align: top;\n",
       "    }\n",
       "\n",
       "    .dataframe thead th {\n",
       "        text-align: right;\n",
       "    }\n",
       "</style>\n",
       "<table border=\"1\" class=\"dataframe\">\n",
       "  <thead>\n",
       "    <tr style=\"text-align: right;\">\n",
       "      <th></th>\n",
       "      <th>x0</th>\n",
       "      <th>x1</th>\n",
       "    </tr>\n",
       "  </thead>\n",
       "  <tbody>\n",
       "    <tr>\n",
       "      <th>0</th>\n",
       "      <td>8.370099</td>\n",
       "      <td>7.747045</td>\n",
       "    </tr>\n",
       "    <tr>\n",
       "      <th>1</th>\n",
       "      <td>-2.701740</td>\n",
       "      <td>0.395336</td>\n",
       "    </tr>\n",
       "    <tr>\n",
       "      <th>2</th>\n",
       "      <td>-3.204128</td>\n",
       "      <td>-0.407438</td>\n",
       "    </tr>\n",
       "    <tr>\n",
       "      <th>3</th>\n",
       "      <td>-3.132762</td>\n",
       "      <td>-1.335692</td>\n",
       "    </tr>\n",
       "    <tr>\n",
       "      <th>4</th>\n",
       "      <td>7.152737</td>\n",
       "      <td>6.069995</td>\n",
       "    </tr>\n",
       "  </tbody>\n",
       "</table>\n",
       "</div>"
      ],
      "text/plain": [
       "         x0        x1\n",
       "0  8.370099  7.747045\n",
       "1 -2.701740  0.395336\n",
       "2 -3.204128 -0.407438\n",
       "3 -3.132762 -1.335692\n",
       "4  7.152737  6.069995"
      ]
     },
     "execution_count": 22,
     "metadata": {},
     "output_type": "execute_result"
    }
   ],
   "source": [
    "x, y = datasets.make_blobs(n_samples=100, centers=3, cluster_std=1.2, random_state=3)\n",
    "df = pd.DataFrame(x, columns=[\"x0\", \"x1\"])\n",
    "df.head()"
   ]
  },
  {
   "cell_type": "code",
   "execution_count": 23,
   "metadata": {},
   "outputs": [
    {
     "data": {
      "image/png": "[encoded data removed]",
      "text/plain": [
       "<Figure size 432x288 with 1 Axes>"
      ]
     },
     "metadata": {
      "needs_background": "light"
     },
     "output_type": "display_data"
    }
   ],
   "source": [
    "# x0 => x-axis\n",
    "# x1 => y-axis\n",
    "# cluster => marker type\n",
    "def km_scatter(df, **kwargs):\n",
    "    ax = kwargs.pop(\"ax\", None)\n",
    "    if not \"label\" in df.columns:\n",
    "        return df.plot.scatter(x=\"x0\", y=\"x1\", marker=\"$?$\", ax=ax, **kwargs)\n",
    "\n",
    "    for marker in set(df[\"label\"]):\n",
    "        sub_df = df[df[\"label\"] == marker]\n",
    "        ax = sub_df.plot.scatter(x=\"x0\", y=\"x1\", marker=marker, ax=ax, **kwargs)\n",
    "    return ax\n",
    "\n",
    "ax = km_scatter(df, s=100, c=\"0.7\")"
   ]
  },
  {
   "cell_type": "markdown",
   "metadata": {},
   "source": [
    "# Hard Problem\n",
    "\n",
    "Finding the best answer.\n",
    "\n",
    "# Easier Problem\n",
    "\n",
    "Taking a bad answer and make it a little better.  Then repeat!"
   ]
  },
  {
   "cell_type": "code",
   "execution_count": 24,
   "metadata": {},
   "outputs": [
    {
     "data": {
      "text/plain": [
       "<AxesSubplot:xlabel='x0', ylabel='x1'>"
      ]
     },
     "execution_count": 24,
     "metadata": {},
     "output_type": "execute_result"
    },
    {
     "data": {
      "image/png": "[encoded data removed]",
      "text/plain": [
       "<Figure size 432x288 with 1 Axes>"
      ]
     },
     "metadata": {
      "needs_background": "light"
     },
     "output_type": "display_data"
    }
   ],
   "source": [
    "np.random.seed(3)\n",
    "clusters = np.random.uniform(-5, 5, size=(3,2))\n",
    "clusters = pd.DataFrame(clusters, columns=[\"x0\", \"x1\"])\n",
    "clusters[\"label\"] = [\"o\", \"+\", \"x\"]\n",
    "\n",
    "ax = km_scatter(df, s=100, c=\"0.7\")\n",
    "km_scatter(clusters, s=200, c=\"red\", ax=ax)"
   ]
  },
  {
   "cell_type": "code",
   "execution_count": 25,
   "metadata": {},
   "outputs": [
    {
     "data": {
      "text/html": [
       "<div>\n",
       "<style scoped>\n",
       "    .dataframe tbody tr th:only-of-type {\n",
       "        vertical-align: middle;\n",
       "    }\n",
       "\n",
       "    .dataframe tbody tr th {\n",
       "        vertical-align: top;\n",
       "    }\n",
       "\n",
       "    .dataframe thead th {\n",
       "        text-align: right;\n",
       "    }\n",
       "</style>\n",
       "<table border=\"1\" class=\"dataframe\">\n",
       "  <thead>\n",
       "    <tr style=\"text-align: right;\">\n",
       "      <th></th>\n",
       "      <th>x0</th>\n",
       "      <th>x1</th>\n",
       "      <th>label</th>\n",
       "    </tr>\n",
       "  </thead>\n",
       "  <tbody>\n",
       "    <tr>\n",
       "      <th>0</th>\n",
       "      <td>0.507979</td>\n",
       "      <td>2.081478</td>\n",
       "      <td>o</td>\n",
       "    </tr>\n",
       "    <tr>\n",
       "      <th>1</th>\n",
       "      <td>-2.090953</td>\n",
       "      <td>0.108276</td>\n",
       "      <td>+</td>\n",
       "    </tr>\n",
       "    <tr>\n",
       "      <th>2</th>\n",
       "      <td>3.929470</td>\n",
       "      <td>3.962931</td>\n",
       "      <td>x</td>\n",
       "    </tr>\n",
       "  </tbody>\n",
       "</table>\n",
       "</div>"
      ],
      "text/plain": [
       "         x0        x1 label\n",
       "0  0.507979  2.081478     o\n",
       "1 -2.090953  0.108276     +\n",
       "2  3.929470  3.962931     x"
      ]
     },
     "execution_count": 25,
     "metadata": {},
     "output_type": "execute_result"
    }
   ],
   "source": [
    "clusters"
   ]
  },
  {
   "cell_type": "code",
   "execution_count": 26,
   "metadata": {},
   "outputs": [
    {
     "data": {
      "image/png": "[encoded data removed]",
      "text/plain": [
       "<Figure size 432x288 with 1 Axes>"
      ]
     },
     "metadata": {
      "needs_background": "light"
     },
     "output_type": "display_data"
    }
   ],
   "source": [
    "class KM:\n",
    "    def __init__(self, df, clusters):\n",
    "        self.df = df.copy()\n",
    "        self.clusters = clusters.copy()\n",
    "        self.labels = clusters[\"label\"].values\n",
    "        \n",
    "    def plot(self):\n",
    "        ax = km_scatter(self.df, s=100, c=\"0.7\")\n",
    "        km_scatter(self.clusters, s=200, c=\"red\", ax=ax)\n",
    "\n",
    "    def assign_points(self):\n",
    "        for cluster in self.clusters.itertuples():\n",
    "            x0_diff = self.df[\"x0\"] - cluster.x0\n",
    "            x1_diff = self.df[\"x1\"] - cluster.x1\n",
    "            dist = (x0_diff ** 2 + x1_diff ** 2) ** 0.5\n",
    "            self.df[cluster.label] = dist\n",
    "        lbl = self.labels[self.df[self.labels].values.argmin(axis=1)]\n",
    "        self.df[\"label\"] = lbl\n",
    "\n",
    "    def update_centers(self):\n",
    "        for cluster in self.clusters.itertuples():\n",
    "            subset = self.df[self.df[\"label\"] == cluster.label]\n",
    "            x0 = subset[\"x0\"].mean()\n",
    "            x1 = subset[\"x1\"].mean()\n",
    "            self.clusters.at[cluster.Index, \"x0\"] = x0\n",
    "            self.clusters.at[cluster.Index, \"x1\"] = x1\n",
    "        \n",
    "km = KM(df, clusters)\n",
    "\n",
    "for epoch in range(10):\n",
    "    km.assign_points()\n",
    "    km.update_centers()\n",
    "km.plot()"
   ]
  },
  {
   "cell_type": "code",
   "execution_count": 27,
   "metadata": {},
   "outputs": [
    {
     "data": {
      "text/html": [
       "<div>\n",
       "<style scoped>\n",
       "    .dataframe tbody tr th:only-of-type {\n",
       "        vertical-align: middle;\n",
       "    }\n",
       "\n",
       "    .dataframe tbody tr th {\n",
       "        vertical-align: top;\n",
       "    }\n",
       "\n",
       "    .dataframe thead th {\n",
       "        text-align: right;\n",
       "    }\n",
       "</style>\n",
       "<table border=\"1\" class=\"dataframe\">\n",
       "  <thead>\n",
       "    <tr style=\"text-align: right;\">\n",
       "      <th></th>\n",
       "      <th>x0</th>\n",
       "      <th>x1</th>\n",
       "      <th>o</th>\n",
       "      <th>+</th>\n",
       "      <th>x</th>\n",
       "      <th>label</th>\n",
       "    </tr>\n",
       "  </thead>\n",
       "  <tbody>\n",
       "    <tr>\n",
       "      <th>0</th>\n",
       "      <td>8.370099</td>\n",
       "      <td>7.747045</td>\n",
       "      <td>8.399553</td>\n",
       "      <td>14.727486</td>\n",
       "      <td>0.695505</td>\n",
       "      <td>x</td>\n",
       "    </tr>\n",
       "    <tr>\n",
       "      <th>1</th>\n",
       "      <td>-2.701740</td>\n",
       "      <td>0.395336</td>\n",
       "      <td>5.057144</td>\n",
       "      <td>1.712172</td>\n",
       "      <td>12.838494</td>\n",
       "      <td>+</td>\n",
       "    </tr>\n",
       "    <tr>\n",
       "      <th>2</th>\n",
       "      <td>-3.204128</td>\n",
       "      <td>-0.407438</td>\n",
       "      <td>5.984516</td>\n",
       "      <td>1.473332</td>\n",
       "      <td>13.720805</td>\n",
       "      <td>+</td>\n",
       "    </tr>\n",
       "    <tr>\n",
       "      <th>3</th>\n",
       "      <td>-3.132762</td>\n",
       "      <td>-1.335692</td>\n",
       "      <td>6.652576</td>\n",
       "      <td>2.184581</td>\n",
       "      <td>14.249169</td>\n",
       "      <td>+</td>\n",
       "    </tr>\n",
       "    <tr>\n",
       "      <th>4</th>\n",
       "      <td>7.152737</td>\n",
       "      <td>6.069995</td>\n",
       "      <td>6.629118</td>\n",
       "      <td>12.866254</td>\n",
       "      <td>1.932494</td>\n",
       "      <td>x</td>\n",
       "    </tr>\n",
       "    <tr>\n",
       "      <th>...</th>\n",
       "      <td>...</td>\n",
       "      <td>...</td>\n",
       "      <td>...</td>\n",
       "      <td>...</td>\n",
       "      <td>...</td>\n",
       "      <td>...</td>\n",
       "    </tr>\n",
       "    <tr>\n",
       "      <th>95</th>\n",
       "      <td>-4.681343</td>\n",
       "      <td>1.086141</td>\n",
       "      <td>6.253922</td>\n",
       "      <td>0.704917</td>\n",
       "      <td>14.141920</td>\n",
       "      <td>+</td>\n",
       "    </tr>\n",
       "    <tr>\n",
       "      <th>96</th>\n",
       "      <td>-3.410109</td>\n",
       "      <td>0.515456</td>\n",
       "      <td>5.502204</td>\n",
       "      <td>1.006656</td>\n",
       "      <td>13.351683</td>\n",
       "      <td>+</td>\n",
       "    </tr>\n",
       "    <tr>\n",
       "      <th>97</th>\n",
       "      <td>0.683092</td>\n",
       "      <td>3.737246</td>\n",
       "      <td>0.304807</td>\n",
       "      <td>6.073362</td>\n",
       "      <td>8.168962</td>\n",
       "      <td>o</td>\n",
       "    </tr>\n",
       "    <tr>\n",
       "      <th>98</th>\n",
       "      <td>7.744654</td>\n",
       "      <td>7.293236</td>\n",
       "      <td>7.638137</td>\n",
       "      <td>13.959504</td>\n",
       "      <td>0.632635</td>\n",
       "      <td>x</td>\n",
       "    </tr>\n",
       "    <tr>\n",
       "      <th>99</th>\n",
       "      <td>8.393876</td>\n",
       "      <td>6.986611</td>\n",
       "      <td>8.109731</td>\n",
       "      <td>14.386228</td>\n",
       "      <td>1.167833</td>\n",
       "      <td>x</td>\n",
       "    </tr>\n",
       "  </tbody>\n",
       "</table>\n",
       "<p>100 rows × 6 columns</p>\n",
       "</div>"
      ],
      "text/plain": [
       "          x0        x1         o          +          x label\n",
       "0   8.370099  7.747045  8.399553  14.727486   0.695505     x\n",
       "1  -2.701740  0.395336  5.057144   1.712172  12.838494     +\n",
       "2  -3.204128 -0.407438  5.984516   1.473332  13.720805     +\n",
       "3  -3.132762 -1.335692  6.652576   2.184581  14.249169     +\n",
       "4   7.152737  6.069995  6.629118  12.866254   1.932494     x\n",
       "..       ...       ...       ...        ...        ...   ...\n",
       "95 -4.681343  1.086141  6.253922   0.704917  14.141920     +\n",
       "96 -3.410109  0.515456  5.502204   1.006656  13.351683     +\n",
       "97  0.683092  3.737246  0.304807   6.073362   8.168962     o\n",
       "98  7.744654  7.293236  7.638137  13.959504   0.632635     x\n",
       "99  8.393876  6.986611  8.109731  14.386228   1.167833     x\n",
       "\n",
       "[100 rows x 6 columns]"
      ]
     },
     "execution_count": 27,
     "metadata": {},
     "output_type": "execute_result"
    }
   ],
   "source": [
    "km.df"
   ]
  },
  {
   "cell_type": "markdown",
   "metadata": {},
   "source": [
    "# KMeans in sklearn"
   ]
  },
  {
   "cell_type": "code",
   "execution_count": 34,
   "metadata": {},
   "outputs": [],
   "source": [
    "# km: was our version of K-means we built ourselves\n",
    "# km2: the one from scikit-learn\n",
    "km2 = KMeans(3)"
   ]
  },
  {
   "cell_type": "code",
   "execution_count": 35,
   "metadata": {},
   "outputs": [
    {
     "data": {
      "text/plain": [
       "array([[ 0.85985598,  3.98556415],\n",
       "       [ 7.69751168,  7.9241129 ],\n",
       "       [-4.41347291,  0.43410278]])"
      ]
     },
     "execution_count": 35,
     "metadata": {},
     "output_type": "execute_result"
    }
   ],
   "source": [
    "# 1. fit\n",
    "km2.fit(df)\n",
    "km2.cluster_centers_"
   ]
  },
  {
   "cell_type": "code",
   "execution_count": 30,
   "metadata": {},
   "outputs": [
    {
     "data": {
      "text/html": [
       "<div>\n",
       "<style scoped>\n",
       "    .dataframe tbody tr th:only-of-type {\n",
       "        vertical-align: middle;\n",
       "    }\n",
       "\n",
       "    .dataframe tbody tr th {\n",
       "        vertical-align: top;\n",
       "    }\n",
       "\n",
       "    .dataframe thead th {\n",
       "        text-align: right;\n",
       "    }\n",
       "</style>\n",
       "<table border=\"1\" class=\"dataframe\">\n",
       "  <thead>\n",
       "    <tr style=\"text-align: right;\">\n",
       "      <th></th>\n",
       "      <th>x0</th>\n",
       "      <th>x1</th>\n",
       "      <th>label</th>\n",
       "    </tr>\n",
       "  </thead>\n",
       "  <tbody>\n",
       "    <tr>\n",
       "      <th>0</th>\n",
       "      <td>0.859856</td>\n",
       "      <td>3.985564</td>\n",
       "      <td>o</td>\n",
       "    </tr>\n",
       "    <tr>\n",
       "      <th>1</th>\n",
       "      <td>-4.413473</td>\n",
       "      <td>0.434103</td>\n",
       "      <td>+</td>\n",
       "    </tr>\n",
       "    <tr>\n",
       "      <th>2</th>\n",
       "      <td>7.697512</td>\n",
       "      <td>7.924113</td>\n",
       "      <td>x</td>\n",
       "    </tr>\n",
       "  </tbody>\n",
       "</table>\n",
       "</div>"
      ],
      "text/plain": [
       "         x0        x1 label\n",
       "0  0.859856  3.985564     o\n",
       "1 -4.413473  0.434103     +\n",
       "2  7.697512  7.924113     x"
      ]
     },
     "execution_count": 30,
     "metadata": {},
     "output_type": "execute_result"
    }
   ],
   "source": [
    "km.clusters"
   ]
  },
  {
   "cell_type": "code",
   "execution_count": 31,
   "metadata": {},
   "outputs": [
    {
     "data": {
      "text/plain": [
       "array([[ 0.69550479, 14.72748598,  8.39955315],\n",
       "       [12.83849367,  1.71217188,  5.057144  ],\n",
       "       [13.72080475,  1.47333179,  5.984516  ],\n",
       "       [14.24916908,  2.18458064,  6.65257594],\n",
       "       [ 1.93249405, 12.86625407,  6.62911793]])"
      ]
     },
     "execution_count": 31,
     "metadata": {},
     "output_type": "execute_result"
    }
   ],
   "source": [
    "# 2. transform (distance to each cluster, for each row of data)\n",
    "km2.transform(df.head())"
   ]
  },
  {
   "cell_type": "code",
   "execution_count": 32,
   "metadata": {},
   "outputs": [
    {
     "data": {
      "text/html": [
       "<div>\n",
       "<style scoped>\n",
       "    .dataframe tbody tr th:only-of-type {\n",
       "        vertical-align: middle;\n",
       "    }\n",
       "\n",
       "    .dataframe tbody tr th {\n",
       "        vertical-align: top;\n",
       "    }\n",
       "\n",
       "    .dataframe thead th {\n",
       "        text-align: right;\n",
       "    }\n",
       "</style>\n",
       "<table border=\"1\" class=\"dataframe\">\n",
       "  <thead>\n",
       "    <tr style=\"text-align: right;\">\n",
       "      <th></th>\n",
       "      <th>x0</th>\n",
       "      <th>x1</th>\n",
       "      <th>o</th>\n",
       "      <th>+</th>\n",
       "      <th>x</th>\n",
       "      <th>label</th>\n",
       "    </tr>\n",
       "  </thead>\n",
       "  <tbody>\n",
       "    <tr>\n",
       "      <th>0</th>\n",
       "      <td>8.370099</td>\n",
       "      <td>7.747045</td>\n",
       "      <td>8.399553</td>\n",
       "      <td>14.727486</td>\n",
       "      <td>0.695505</td>\n",
       "      <td>x</td>\n",
       "    </tr>\n",
       "    <tr>\n",
       "      <th>1</th>\n",
       "      <td>-2.701740</td>\n",
       "      <td>0.395336</td>\n",
       "      <td>5.057144</td>\n",
       "      <td>1.712172</td>\n",
       "      <td>12.838494</td>\n",
       "      <td>+</td>\n",
       "    </tr>\n",
       "    <tr>\n",
       "      <th>2</th>\n",
       "      <td>-3.204128</td>\n",
       "      <td>-0.407438</td>\n",
       "      <td>5.984516</td>\n",
       "      <td>1.473332</td>\n",
       "      <td>13.720805</td>\n",
       "      <td>+</td>\n",
       "    </tr>\n",
       "    <tr>\n",
       "      <th>3</th>\n",
       "      <td>-3.132762</td>\n",
       "      <td>-1.335692</td>\n",
       "      <td>6.652576</td>\n",
       "      <td>2.184581</td>\n",
       "      <td>14.249169</td>\n",
       "      <td>+</td>\n",
       "    </tr>\n",
       "    <tr>\n",
       "      <th>4</th>\n",
       "      <td>7.152737</td>\n",
       "      <td>6.069995</td>\n",
       "      <td>6.629118</td>\n",
       "      <td>12.866254</td>\n",
       "      <td>1.932494</td>\n",
       "      <td>x</td>\n",
       "    </tr>\n",
       "  </tbody>\n",
       "</table>\n",
       "</div>"
      ],
      "text/plain": [
       "         x0        x1         o          +          x label\n",
       "0  8.370099  7.747045  8.399553  14.727486   0.695505     x\n",
       "1 -2.701740  0.395336  5.057144   1.712172  12.838494     +\n",
       "2 -3.204128 -0.407438  5.984516   1.473332  13.720805     +\n",
       "3 -3.132762 -1.335692  6.652576   2.184581  14.249169     +\n",
       "4  7.152737  6.069995  6.629118  12.866254   1.932494     x"
      ]
     },
     "execution_count": 32,
     "metadata": {},
     "output_type": "execute_result"
    }
   ],
   "source": [
    "km.df.head()"
   ]
  },
  {
   "cell_type": "code",
   "execution_count": 36,
   "metadata": {},
   "outputs": [
    {
     "data": {
      "text/plain": [
       "array([1, 2, 2, 2, 1], dtype=int32)"
      ]
     },
     "execution_count": 36,
     "metadata": {},
     "output_type": "execute_result"
    }
   ],
   "source": [
    "# 3. predict (what cluster is each one in) -- weird name because there's no \"right\" answer\n",
    "km2.predict(df.head())"
   ]
  },
  {
   "cell_type": "code",
   "execution_count": 39,
   "metadata": {},
   "outputs": [
    {
     "data": {
      "text/plain": [
       "array([0, 1, 1, 1, 0, 1, 1, 0, 1, 2, 1, 0, 0, 0, 2, 1, 0, 0, 1, 1, 2, 2,\n",
       "       1, 2, 1, 0, 0, 2, 1, 0, 2, 2, 0, 1, 0, 0, 2, 2, 2, 0, 0, 0, 2, 2,\n",
       "       1, 1, 2, 1, 0, 1, 2, 0, 1, 0, 1, 0, 1, 0, 2, 2, 2, 1, 2, 2, 1, 2,\n",
       "       0, 1, 2, 1, 1, 0, 2, 1, 2, 2, 1, 2, 0, 1, 2, 2, 2, 2, 0, 2, 1, 0,\n",
       "       2, 0, 2, 0, 0, 1, 0, 1, 1, 2, 0, 0], dtype=int32)"
      ]
     },
     "execution_count": 39,
     "metadata": {},
     "output_type": "execute_result"
    }
   ],
   "source": [
    "#km2.fit(df)\n",
    "#km2.predict(df.head())\n",
    "\n",
    "# shortcut for the above\n",
    "km2.fit_predict(df)"
   ]
  },
  {
   "cell_type": "markdown",
   "metadata": {},
   "source": [
    "# How many clusters?"
   ]
  },
  {
   "cell_type": "code",
   "execution_count": 41,
   "metadata": {},
   "outputs": [
    {
     "data": {
      "text/plain": [
       "260.7196850565892"
      ]
     },
     "execution_count": 41,
     "metadata": {},
     "output_type": "execute_result"
    }
   ],
   "source": [
    "km2.inertia_ # sum of squared distances of data points to their nearest centroid"
   ]
  },
  {
   "cell_type": "code",
   "execution_count": null,
   "metadata": {},
   "outputs": [],
   "source": [
    "# elbow:\n",
    "# x-axis will be the number of clusters\n",
    "# y-axis will be the inertia"
   ]
  },
  {
   "cell_type": "code",
   "execution_count": 53,
   "metadata": {},
   "outputs": [
    {
     "data": {
      "text/plain": [
       "<AxesSubplot:>"
      ]
     },
     "execution_count": 53,
     "metadata": {},
     "output_type": "execute_result"
    },
    {
     "data": {
      "image/png": "[encoded data removed]",
      "text/plain": [
       "<Figure size 432x288 with 1 Axes>"
      ]
     },
     "metadata": {
      "needs_background": "light"
     },
     "output_type": "display_data"
    }
   ],
   "source": [
    "line = pd.Series(dtype=float)\n",
    "\n",
    "for cluster_count in range(1, 11):\n",
    "    km2 = KMeans(cluster_count)\n",
    "    km2.fit(df)\n",
    "    line.loc[cluster_count] = km2.inertia_\n",
    "    \n",
    "line.plot.line()"
   ]
  },
  {
   "cell_type": "markdown",
   "metadata": {},
   "source": [
    "# KMeans as Preprocessing\n",
    "\n",
    "Sometimes we'll use an unsupervised learning technique (like k-means) to pre-process data, creating better inputs for a supervised learning technique (like logistic regression)"
   ]
  },
  {
   "cell_type": "code",
   "execution_count": 54,
   "metadata": {},
   "outputs": [],
   "source": [
    "from sklearn import datasets\n",
    "from sklearn.model_selection import train_test_split"
   ]
  },
  {
   "cell_type": "code",
   "execution_count": 55,
   "metadata": {},
   "outputs": [],
   "source": [
    "def make_data():\n",
    "    x, y = datasets.make_blobs(n_samples=250, centers=5, random_state=5)\n",
    "    xcols = [\"x0\", \"x1\"]\n",
    "    df1 = pd.DataFrame(x, columns=xcols)\n",
    "    df1[\"y\"] = y > 0\n",
    "\n",
    "    df2 = pd.DataFrame(np.random.uniform(-10, 10, size=(250, 2)), columns=[\"x0\", \"x1\"])\n",
    "    df2[\"y\"] = False\n",
    "\n",
    "    return pd.concat((df1, df2))\n",
    "\n",
    "train, test = train_test_split(make_data())"
   ]
  },
  {
   "cell_type": "code",
   "execution_count": 56,
   "metadata": {},
   "outputs": [
    {
     "data": {
      "image/png": "[encoded data removed]",
      "text/plain": [
       "<Figure size 720x288 with 2 Axes>"
      ]
     },
     "metadata": {
      "needs_background": "light"
     },
     "output_type": "display_data"
    }
   ],
   "source": [
    "plt.rcParams[\"font.size\"] = 16\n",
    "fig, ax = plt.subplots(ncols=2, figsize=(10,4))\n",
    "train.plot.scatter(x=\"x0\", y=\"x1\", c=train[\"y\"], vmin=-1, ax=ax[0])\n",
    "test.plot.scatter(x=\"x0\", y=\"x1\", c=\"red\", ax=ax[1])\n",
    "ax[0].set_title(\"Training Data\")\n",
    "ax[1].set_title(\"Test Data\")\n",
    "plt.subplots_adjust(wspace=0.4)"
   ]
  },
  {
   "cell_type": "code",
   "execution_count": 61,
   "metadata": {},
   "outputs": [
    {
     "data": {
      "text/plain": [
       "0.784"
      ]
     },
     "execution_count": 61,
     "metadata": {},
     "output_type": "execute_result"
    }
   ],
   "source": [
    "from sklearn.pipeline import Pipeline\n",
    "from sklearn.linear_model import LogisticRegression\n",
    "from sklearn.cluster import KMeans\n",
    "from sklearn.preprocessing import StandardScaler\n",
    "\n",
    "pipe = Pipeline([\n",
    "    (\"km\", KMeans(10)),\n",
    "    (\"std\", StandardScaler()),\n",
    "    (\"lr\", LogisticRegression())\n",
    "])\n",
    "pipe.fit(train[[\"x0\", \"x1\"]], train[\"y\"])\n",
    "pipe.score(test[[\"x0\", \"x1\"]], test[\"y\"])"
   ]
  },
  {
   "cell_type": "code",
   "execution_count": 58,
   "metadata": {},
   "outputs": [
    {
     "data": {
      "text/html": [
       "<div>\n",
       "<style scoped>\n",
       "    .dataframe tbody tr th:only-of-type {\n",
       "        vertical-align: middle;\n",
       "    }\n",
       "\n",
       "    .dataframe tbody tr th {\n",
       "        vertical-align: top;\n",
       "    }\n",
       "\n",
       "    .dataframe thead th {\n",
       "        text-align: right;\n",
       "    }\n",
       "</style>\n",
       "<table border=\"1\" class=\"dataframe\">\n",
       "  <thead>\n",
       "    <tr style=\"text-align: right;\">\n",
       "      <th></th>\n",
       "      <th>x0</th>\n",
       "      <th>x1</th>\n",
       "      <th>y</th>\n",
       "    </tr>\n",
       "  </thead>\n",
       "  <tbody>\n",
       "    <tr>\n",
       "      <th>171</th>\n",
       "      <td>8.047160</td>\n",
       "      <td>-2.376556</td>\n",
       "      <td>False</td>\n",
       "    </tr>\n",
       "    <tr>\n",
       "      <th>27</th>\n",
       "      <td>-5.800848</td>\n",
       "      <td>6.590523</td>\n",
       "      <td>False</td>\n",
       "    </tr>\n",
       "    <tr>\n",
       "      <th>35</th>\n",
       "      <td>4.655770</td>\n",
       "      <td>-6.469032</td>\n",
       "      <td>False</td>\n",
       "    </tr>\n",
       "    <tr>\n",
       "      <th>51</th>\n",
       "      <td>-1.353064</td>\n",
       "      <td>3.707722</td>\n",
       "      <td>True</td>\n",
       "    </tr>\n",
       "    <tr>\n",
       "      <th>65</th>\n",
       "      <td>-2.397842</td>\n",
       "      <td>-6.412670</td>\n",
       "      <td>False</td>\n",
       "    </tr>\n",
       "  </tbody>\n",
       "</table>\n",
       "</div>"
      ],
      "text/plain": [
       "           x0        x1      y\n",
       "171  8.047160 -2.376556  False\n",
       "27  -5.800848  6.590523  False\n",
       "35   4.655770 -6.469032  False\n",
       "51  -1.353064  3.707722   True\n",
       "65  -2.397842 -6.412670  False"
      ]
     },
     "execution_count": 58,
     "metadata": {},
     "output_type": "execute_result"
    }
   ],
   "source": [
    "train.head()"
   ]
  },
  {
   "cell_type": "markdown",
   "metadata": {},
   "source": [
    "# StandardScaler with KMeans"
   ]
  },
  {
   "cell_type": "code",
   "execution_count": 62,
   "metadata": {},
   "outputs": [
    {
     "data": {
      "text/plain": [
       "<AxesSubplot:xlabel='0', ylabel='1'>"
      ]
     },
     "execution_count": 62,
     "metadata": {},
     "output_type": "execute_result"
    },
    {
     "data": {
      "image/png": "[encoded data removed]",
      "text/plain": [
       "<Figure size 432x432 with 1 Axes>"
      ]
     },
     "metadata": {
      "needs_background": "light"
     },
     "output_type": "display_data"
    }
   ],
   "source": [
    "x = datasets.make_blobs(centers=np.array([(0,0), (0,20), (3,20)]))[0]\n",
    "df = pd.DataFrame(x)\n",
    "df.plot.scatter(x=0, y=1, figsize=(6,6))"
   ]
  },
  {
   "cell_type": "code",
   "execution_count": 64,
   "metadata": {},
   "outputs": [
    {
     "data": {
      "text/plain": [
       "array([0, 1, 1, 0, 1, 0, 1, 1, 0, 0, 0, 0, 1, 1, 1, 1, 1, 0, 1, 0, 0, 0,\n",
       "       0, 0, 0, 0, 1, 0, 0, 0, 0, 0, 0, 1, 0, 1, 0, 0, 1, 1, 1, 0, 0, 0,\n",
       "       0, 0, 0, 0, 0, 0, 1, 1, 0, 1, 0, 1, 1, 0, 0, 0, 0, 0, 0, 0, 1, 0,\n",
       "       1, 0, 0, 0, 1, 0, 1, 0, 0, 1, 0, 1, 0, 0, 0, 0, 0, 0, 0, 0, 1, 0,\n",
       "       0, 0, 0, 0, 1, 0, 1, 1, 1, 1, 0, 0], dtype=int32)"
      ]
     },
     "execution_count": 64,
     "metadata": {},
     "output_type": "execute_result"
    }
   ],
   "source": [
    "km = KMeans(2)\n",
    "km.fit_predict(df)"
   ]
  },
  {
   "cell_type": "code",
   "execution_count": 74,
   "metadata": {},
   "outputs": [
    {
     "data": {
      "text/plain": [
       "<AxesSubplot:xlabel='0', ylabel='1'>"
      ]
     },
     "execution_count": 74,
     "metadata": {},
     "output_type": "execute_result"
    },
    {
     "data": {
      "image/png": "[encoded data removed]",
      "text/plain": [
       "<Figure size 432x432 with 1 Axes>"
      ]
     },
     "metadata": {
      "needs_background": "light"
     },
     "output_type": "display_data"
    }
   ],
   "source": [
    "df.plot.scatter(x=0, y=1, figsize=(6,6),\n",
    "                c=KMeans(2).fit_predict(df),\n",
    "                vmin=-1, vmax=1) # -1 is white, 0 is gray, 1 is black"
   ]
  },
  {
   "cell_type": "code",
   "execution_count": 75,
   "metadata": {},
   "outputs": [
    {
     "data": {
      "text/html": [
       "<div>\n",
       "<style scoped>\n",
       "    .dataframe tbody tr th:only-of-type {\n",
       "        vertical-align: middle;\n",
       "    }\n",
       "\n",
       "    .dataframe tbody tr th {\n",
       "        vertical-align: top;\n",
       "    }\n",
       "\n",
       "    .dataframe thead th {\n",
       "        text-align: right;\n",
       "    }\n",
       "</style>\n",
       "<table border=\"1\" class=\"dataframe\">\n",
       "  <thead>\n",
       "    <tr style=\"text-align: right;\">\n",
       "      <th></th>\n",
       "      <th>0</th>\n",
       "      <th>1</th>\n",
       "    </tr>\n",
       "  </thead>\n",
       "  <tbody>\n",
       "    <tr>\n",
       "      <th>0</th>\n",
       "      <td>659.103944</td>\n",
       "      <td>19.331484</td>\n",
       "    </tr>\n",
       "    <tr>\n",
       "      <th>1</th>\n",
       "      <td>-1264.070093</td>\n",
       "      <td>1.404130</td>\n",
       "    </tr>\n",
       "    <tr>\n",
       "      <th>2</th>\n",
       "      <td>-286.821296</td>\n",
       "      <td>-1.090621</td>\n",
       "    </tr>\n",
       "    <tr>\n",
       "      <th>3</th>\n",
       "      <td>4505.192411</td>\n",
       "      <td>19.899350</td>\n",
       "    </tr>\n",
       "    <tr>\n",
       "      <th>4</th>\n",
       "      <td>219.132308</td>\n",
       "      <td>0.715518</td>\n",
       "    </tr>\n",
       "  </tbody>\n",
       "</table>\n",
       "</div>"
      ],
      "text/plain": [
       "             0          1\n",
       "0   659.103944  19.331484\n",
       "1 -1264.070093   1.404130\n",
       "2  -286.821296  -1.090621\n",
       "3  4505.192411  19.899350\n",
       "4   219.132308   0.715518"
      ]
     },
     "execution_count": 75,
     "metadata": {},
     "output_type": "execute_result"
    }
   ],
   "source": [
    "# let's convert the \"0\" column from kilometers to meters\n",
    "df[0] *= 1000\n",
    "df.head()"
   ]
  },
  {
   "cell_type": "code",
   "execution_count": 76,
   "metadata": {},
   "outputs": [
    {
     "data": {
      "text/plain": [
       "<AxesSubplot:xlabel='0', ylabel='1'>"
      ]
     },
     "execution_count": 76,
     "metadata": {},
     "output_type": "execute_result"
    },
    {
     "data": {
      "image/png": "[encoded data removed]",
      "text/plain": [
       "<Figure size 432x432 with 1 Axes>"
      ]
     },
     "metadata": {
      "needs_background": "light"
     },
     "output_type": "display_data"
    }
   ],
   "source": [
    "df.plot.scatter(x=0, y=1, figsize=(6,6),\n",
    "                c=KMeans(2).fit_predict(df),\n",
    "                vmin=-1, vmax=1) # -1 is white, 0 is gray, 1 is black"
   ]
  },
  {
   "cell_type": "code",
   "execution_count": 78,
   "metadata": {},
   "outputs": [
    {
     "data": {
      "text/plain": [
       "<AxesSubplot:xlabel='0', ylabel='1'>"
      ]
     },
     "execution_count": 78,
     "metadata": {},
     "output_type": "execute_result"
    },
    {
     "data": {
      "image/png": "[encoded data removed]",
      "text/plain": [
       "<Figure size 432x432 with 1 Axes>"
      ]
     },
     "metadata": {
      "needs_background": "light"
     },
     "output_type": "display_data"
    }
   ],
   "source": [
    "clustering = Pipeline([\n",
    "    (\"std\", StandardScaler()),\n",
    "    (\"km\", KMeans(2))\n",
    "])\n",
    "\n",
    "df.plot.scatter(x=0, y=1, figsize=(6,6),\n",
    "                c=clustering.fit_predict(df),\n",
    "                vmin=-1, vmax=1) # -1 is white, 0 is gray, 1 is black"
   ]
  }
 ],
 "metadata": {
  "kernelspec": {
   "display_name": "Python 3 (ipykernel)",
   "language": "python",
   "name": "python3"
  },
  "language_info": {
   "codemirror_mode": {
    "name": "ipython",
    "version": 3
   },
   "file_extension": ".py",
   "mimetype": "text/x-python",
   "name": "python",
   "nbconvert_exporter": "python",
   "pygments_lexer": "ipython3",
   "version": "3.8.10"
  }
 },
 "nbformat": 4,
 "nbformat_minor": 4
}
