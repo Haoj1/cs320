{
 "cells": [
  {
   "cell_type": "markdown",
   "id": "903d9c55",
   "metadata": {},
   "source": [
    "# Bigger Regex Examples"
   ]
  },
  {
   "cell_type": "markdown",
   "id": "cc3f2bca",
   "metadata": {},
   "source": [
    "## 1. Git Logs"
   ]
  },
  {
   "cell_type": "code",
   "execution_count": 2,
   "id": "fb5a3974",
   "metadata": {},
   "outputs": [],
   "source": [
    "from subprocess import check_output"
   ]
  },
  {
   "cell_type": "code",
   "execution_count": 5,
   "id": "43a804e7",
   "metadata": {},
   "outputs": [
    {
     "data": {
      "text/plain": [
       "bytes"
      ]
     },
     "execution_count": 5,
     "metadata": {},
     "output_type": "execute_result"
    }
   ],
   "source": [
    "output = check_output([\"git\", \"log\"])\n",
    "type(output)"
   ]
  },
  {
   "cell_type": "code",
   "execution_count": 9,
   "id": "e7d20c39",
   "metadata": {},
   "outputs": [
    {
     "data": {
      "text/plain": [
       "str"
      ]
     },
     "execution_count": 9,
     "metadata": {},
     "output_type": "execute_result"
    }
   ],
   "source": [
    "output_str = str(output, \"utf-8\")\n",
    "type(output_str)"
   ]
  },
  {
   "cell_type": "code",
   "execution_count": 13,
   "id": "d5ec03be",
   "metadata": {},
   "outputs": [
    {
     "name": "stdout",
     "output_type": "stream",
     "text": [
      "commit a2e8559bd376a7c5d71a9b6ee134377074f94f92\n",
      "Author: tylerharter <tylerharter@gmail.com>\n",
      "Date:   Sat Mar 26 13:22:00 2022 -0500\n",
      "\n",
      "    release lab 10\n",
      "\n",
      "commit c579fba91276d0c0917f1e7c38b1d7508aa9dda7\n",
      "Author: tylerharter <tylerharter@gmail.com>\n",
      "Date:   Sat Mar 26 13:20:37 2022 -0500\n",
      "\n",
      "    release lab 10\n",
      "\n",
      "commit 67fe330e970d73caa5a2898ed244bcca11eba492\n",
      "Merge: 7704410 4637d21\n",
      "Author: Tyler <tharter@wi\n"
     ]
    }
   ],
   "source": [
    "print(output_str[:400])"
   ]
  },
  {
   "cell_type": "code",
   "execution_count": 14,
   "id": "281a11c4",
   "metadata": {},
   "outputs": [],
   "source": [
    "# examples: commit nums, days of week, author names, every line mentioning a project"
   ]
  },
  {
   "cell_type": "code",
   "execution_count": 15,
   "id": "1132c6e1",
   "metadata": {},
   "outputs": [],
   "source": [
    "import re"
   ]
  },
  {
   "cell_type": "code",
   "execution_count": 23,
   "id": "3eac0b67",
   "metadata": {},
   "outputs": [],
   "source": [
    "#commits = re.findall(r\"((\\d|a|b|c|e|f){32})\", output_str)\n",
    "#commits"
   ]
  },
  {
   "cell_type": "code",
   "execution_count": 18,
   "id": "1baed8c3",
   "metadata": {},
   "outputs": [
    {
     "data": {
      "text/plain": [
       "['a2e8559bd376a7c5d71a9b6ee1343770',\n",
       " 'c579fba91276d0c0917f1e7c38b1d750',\n",
       " '67fe330e970d73caa5a2898ed244bcca',\n",
       " '7704410dcb324b0894b635c4113592a8',\n",
       " '4637d216c2b07b7e83b35c6ad48d0368']"
      ]
     },
     "execution_count": 18,
     "metadata": {},
     "output_type": "execute_result"
    }
   ],
   "source": [
    "commits = re.findall(r\"[\\da-f]{32}\", output_str)\n",
    "commits[:5]"
   ]
  },
  {
   "cell_type": "code",
   "execution_count": 29,
   "id": "3db1fb1d",
   "metadata": {},
   "outputs": [
    {
     "data": {
      "text/plain": [
       "[('Sat', 'Mar'),\n",
       " ('Sat', 'Mar'),\n",
       " ('Sat', 'Mar'),\n",
       " ('Sat', 'Mar'),\n",
       " ('Thu', 'Mar')]"
      ]
     },
     "execution_count": 29,
     "metadata": {},
     "output_type": "execute_result"
    }
   ],
   "source": [
    "# days of week\n",
    "re.findall(\"Date:\\s*(\\w+)\\s*(\\w+)\", output_str)[:5]"
   ]
  },
  {
   "cell_type": "code",
   "execution_count": 31,
   "id": "5165b3b6",
   "metadata": {},
   "outputs": [
    {
     "data": {
      "text/plain": [
       "['Sat', 'Sat', 'Sat', 'Sat', 'Thu']"
      ]
     },
     "execution_count": 31,
     "metadata": {},
     "output_type": "execute_result"
    }
   ],
   "source": [
    "days = re.findall(\"Date:\\s*(\\w+)\", output_str)\n",
    "days[:5]"
   ]
  },
  {
   "cell_type": "code",
   "execution_count": 33,
   "id": "56d21425",
   "metadata": {},
   "outputs": [
    {
     "data": {
      "text/plain": [
       "Mon    34\n",
       "Tue    26\n",
       "Sat    20\n",
       "Thu    20\n",
       "Wed    17\n",
       "Fri    12\n",
       "Sun     2\n",
       "dtype: int64"
      ]
     },
     "execution_count": 33,
     "metadata": {},
     "output_type": "execute_result"
    }
   ],
   "source": [
    "import pandas as pd\n",
    "pd.Series(days).value_counts()"
   ]
  },
  {
   "cell_type": "code",
   "execution_count": 34,
   "id": "874d0b06",
   "metadata": {},
   "outputs": [
    {
     "data": {
      "text/plain": [
       "<AxesSubplot:>"
      ]
     },
     "execution_count": 34,
     "metadata": {},
     "output_type": "execute_result"
    },
    {
     "data": {
      "image/png": "[encoded data removed]",
      "text/plain": [
       "<Figure size 432x288 with 1 Axes>"
      ]
     },
     "metadata": {
      "needs_background": "light"
     },
     "output_type": "display_data"
    }
   ],
   "source": [
    "pd.Series(days).value_counts().plot.bar()"
   ]
  },
  {
   "cell_type": "code",
   "execution_count": 39,
   "id": "08d96417",
   "metadata": {},
   "outputs": [
    {
     "data": {
      "text/plain": [
       "['tylerharter',\n",
       " 'tylerharter',\n",
       " 'Tyler',\n",
       " 'Tyler',\n",
       " 'tylerharter',\n",
       " 'Tyler',\n",
       " 'Garrison Waugh',\n",
       " 'Garrison Waugh',\n",
       " 'tylerharter',\n",
       " 'tylerharter']"
      ]
     },
     "execution_count": 39,
     "metadata": {},
     "output_type": "execute_result"
    }
   ],
   "source": [
    "#print(output_str)\n",
    "authors = re.findall(r\"Author:\\s*(.+?)\\s*<\", output_str)\n",
    "authors[:10]"
   ]
  },
  {
   "cell_type": "code",
   "execution_count": 44,
   "id": "5bdc6fa9",
   "metadata": {},
   "outputs": [
    {
     "data": {
      "text/plain": [
       "['p4 tips',\n",
       " 'p4 release',\n",
       " 'p4 updates',\n",
       " 'P4 tester',\n",
       " 'un-release P4',\n",
       " 'p4 draft',\n",
       " 'Changed s22 README.md back to original README.md. Was accidentally changed to hold p3 draft instead of nav links.',\n",
       " 'release p3',\n",
       " 'p3 updates',\n",
       " 'p3 updates',\n",
       " 'p3 screenshot',\n",
       " 'p3 updates',\n",
       " 'complete p3 tester',\n",
       " 'p3 draft',\n",
       " 'p2 corrections',\n",
       " 'Correction to p2 Q7',\n",
       " 'p2 updates',\n",
       " 'p2 updates',\n",
       " 'release P2',\n",
       " 'p2 testing info',\n",
       " '320 p2 clarification',\n",
       " 'finish p2 search_test',\n",
       " 'finish p2 loans_test',\n",
       " 'p2 module tester started',\n",
       " 'p2 draft',\n",
       " 'p2 draft',\n",
       " 'release p1',\n",
       " 'p1 draft']"
      ]
     },
     "execution_count": 44,
     "metadata": {},
     "output_type": "execute_result"
    }
   ],
   "source": [
    "# find every line that mentions a project (p1, P2, ...)\n",
    "lines = re.findall(r\".*[pP]\\d+.*\", output_str)\n",
    "lines = [line.strip() for line in lines]\n",
    "lines"
   ]
  },
  {
   "cell_type": "markdown",
   "id": "844a9653",
   "metadata": {},
   "source": [
    "## 2. Emails"
   ]
  },
  {
   "cell_type": "code",
   "execution_count": 56,
   "id": "4eac7257",
   "metadata": {},
   "outputs": [],
   "source": [
    "text = \"\"\"\n",
    "Tyler [Instructor] - tharter (AT) wisc.edu\n",
    "Cong [Head TA] - cding44 (AT) wisc.edu\n",
    "Bryce [TA] - bcjohnson7 (AT) wisc.edu\n",
    "Connor [TA] - cbailey9 (AT) wisc.edu\n",
    "Han [TA] - hwang638 (AT) wisc.edu\n",
    "Hardik [TA] - hchauhan2 (AT) wisc.edu\n",
    "Keaton [TA] - kleppanen (AT) wisc.edu\n",
    "Nils [TA] - npalumbo (AT) wisc.edu\n",
    "Yiyin [TA] - yshen82 (AT) wisc.edu\n",
    "tharter@wisc.edu\n",
    "\"\"\""
   ]
  },
  {
   "cell_type": "code",
   "execution_count": 83,
   "id": "68bd65b9",
   "metadata": {},
   "outputs": [],
   "source": [
    "import requests\n",
    "resp = requests.get(\"https://tyler.caraza-harter.com/cs320/s22/contact.html\")\n",
    "resp.raise_for_status()\n",
    "text = resp.text.replace(\"<b>\", \"\").replace(\"</b>\", \"\")\n",
    "#text"
   ]
  },
  {
   "cell_type": "code",
   "execution_count": 84,
   "id": "df638a6c",
   "metadata": {},
   "outputs": [
    {
     "name": "stdout",
     "output_type": "stream",
     "text": [
      "tharter@wisc.edu\n",
      "cding44@wisc.edu\n",
      "bcjohnson7@wisc.edu\n",
      "cbailey9@wisc.edu\n",
      "hwang638@wisc.edu\n",
      "hchauhan2@wisc.edu\n",
      "kleppanen@wisc.edu\n",
      "npalumbo@wisc.edu\n",
      "yshen82@wisc.edu\n"
     ]
    }
   ],
   "source": [
    "at = r\"([\\(\\[]?(AT|at|@)[\\)\\]]?)\"\n",
    "domain = r\"((\\w+\\.(edu|com|net|org)))\"\n",
    "regex = f\"((\\w+)\\s*{at}\\s*{domain})\"\n",
    "for tup in re.findall(regex, text):\n",
    "    print(tup[1]+\"@\"+tup[4])"
   ]
  },
  {
   "cell_type": "markdown",
   "id": "6262a208",
   "metadata": {},
   "source": [
    "## 3. Function Names"
   ]
  },
  {
   "cell_type": "code",
   "execution_count": 88,
   "id": "67deffd0",
   "metadata": {},
   "outputs": [],
   "source": [
    "# .ipynb is stored internally as JSON\n",
    "import json\n",
    "\n",
    "with open(\"examples.ipynb\") as f:\n",
    "    #code = f.read()   # a file => string\n",
    "    #notebook = json.loads(code)    # string => dict\n",
    "    notebook = json.load(f)    # a files => dict"
   ]
  },
  {
   "cell_type": "code",
   "execution_count": 89,
   "id": "4d2b5b73",
   "metadata": {},
   "outputs": [
    {
     "data": {
      "text/plain": [
       "dict"
      ]
     },
     "execution_count": 89,
     "metadata": {},
     "output_type": "execute_result"
    }
   ],
   "source": [
    "type(notebook)"
   ]
  },
  {
   "cell_type": "code",
   "execution_count": 91,
   "id": "f4731ac1",
   "metadata": {},
   "outputs": [
    {
     "name": "stdout",
     "output_type": "stream",
     "text": [
      "dict_keys(['cells', 'metadata', 'nbformat', 'nbformat_minor'])\n"
     ]
    }
   ],
   "source": [
    "print(notebook.keys()) # when exploring and find a dict, print keys"
   ]
  },
  {
   "cell_type": "code",
   "execution_count": 94,
   "id": "c67bd5f3",
   "metadata": {},
   "outputs": [
    {
     "data": {
      "text/plain": [
       "list"
      ]
     },
     "execution_count": 94,
     "metadata": {},
     "output_type": "execute_result"
    }
   ],
   "source": [
    "type(notebook[\"cells\"]) # when exploring and find a list, loop over it"
   ]
  },
  {
   "cell_type": "code",
   "execution_count": 96,
   "id": "6c3c400f",
   "metadata": {},
   "outputs": [
    {
     "name": "stdout",
     "output_type": "stream",
     "text": [
      "<class 'dict'>\n",
      "<class 'dict'>\n",
      "<class 'dict'>\n"
     ]
    }
   ],
   "source": [
    "for cell in notebook[\"cells\"]:\n",
    "    print(type(cell))"
   ]
  },
  {
   "cell_type": "code",
   "execution_count": 98,
   "id": "54eb6bb9",
   "metadata": {},
   "outputs": [
    {
     "data": {
      "text/plain": [
       "dict_keys(['cell_type', 'execution_count', 'id', 'metadata', 'outputs', 'source'])"
      ]
     },
     "execution_count": 98,
     "metadata": {},
     "output_type": "execute_result"
    }
   ],
   "source": [
    "notebook[\"cells\"][0].keys()"
   ]
  },
  {
   "cell_type": "code",
   "execution_count": 102,
   "id": "ddd52189",
   "metadata": {},
   "outputs": [
    {
     "name": "stdout",
     "output_type": "stream",
     "text": [
      "hello\n",
      "add_nums\n"
     ]
    }
   ],
   "source": [
    "for cell in notebook[\"cells\"]:\n",
    "    for line in cell[\"source\"]:\n",
    "        funcs = re.findall(\"def (\\w+)\\(\", line)\n",
    "        if len(funcs) == 1:\n",
    "            print(funcs[0])"
   ]
  }
 ],
 "metadata": {
  "kernelspec": {
   "display_name": "Python 3 (ipykernel)",
   "language": "python",
   "name": "python3"
  },
  "language_info": {
   "codemirror_mode": {
    "name": "ipython",
    "version": 3
   },
   "file_extension": ".py",
   "mimetype": "text/x-python",
   "name": "python",
   "nbconvert_exporter": "python",
   "pygments_lexer": "ipython3",
   "version": "3.8.10"
  }
 },
 "nbformat": 4,
 "nbformat_minor": 5
}
