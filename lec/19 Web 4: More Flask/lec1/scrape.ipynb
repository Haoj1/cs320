{
 "cells": [
  {
   "cell_type": "code",
   "execution_count": 2,
   "id": "66dd2bd4",
   "metadata": {},
   "outputs": [
    {
     "data": {
      "text/plain": [
       "False"
      ]
     },
     "execution_count": 2,
     "metadata": {},
     "output_type": "execute_result"
    }
   ],
   "source": [
    "import urllib.robotparser\n",
    "rp = urllib.robotparser.RobotFileParser()\n",
    "\n",
    "rp.set_url(\"http://104.154.131.51:5000/robots.txt\")\n",
    "rp.read()\n",
    "url = \"http://104.154.131.51:5000/ha.html\"\n",
    "rp.can_fetch(\"cs320bot\", url)"
   ]
  },
  {
   "cell_type": "code",
   "execution_count": 3,
   "id": "8b13fdf6",
   "metadata": {},
   "outputs": [
    {
     "data": {
      "text/plain": [
       "True"
      ]
     },
     "execution_count": 3,
     "metadata": {},
     "output_type": "execute_result"
    }
   ],
   "source": [
    "rp.can_fetch(\"cs320bot\", \"http://104.154.131.51:5000/\")"
   ]
  },
  {
   "cell_type": "code",
   "execution_count": 24,
   "id": "16c11cc8",
   "metadata": {},
   "outputs": [],
   "source": [
    "import requests, time"
   ]
  },
  {
   "cell_type": "code",
   "execution_count": 38,
   "id": "653ea5c0",
   "metadata": {},
   "outputs": [
    {
     "data": {
      "text/plain": [
       "'welcome'"
      ]
     },
     "execution_count": 38,
     "metadata": {},
     "output_type": "execute_result"
    }
   ],
   "source": [
    "def friendly_get(url):\n",
    "    assert rp.can_fetch(\"cs320bot\", url)\n",
    "    \n",
    "    for i in range(10):\n",
    "        resp = requests.get(url)\n",
    "        if resp.status_code == 429:\n",
    "            hdrs = resp.headers\n",
    "            seconds = int(hdrs.get(\"Retry-After\", 1))\n",
    "            print(\"sleep\", seconds)\n",
    "            time.sleep(seconds)\n",
    "            continue\n",
    "        else:\n",
    "            break\n",
    "    \n",
    "    resp.raise_for_status()\n",
    "    return resp\n",
    "\n",
    "url = \"http://104.154.131.51:5000/goaway\"\n",
    "resp = friendly_get(url)\n",
    "resp.text"
   ]
  },
  {
   "cell_type": "code",
   "execution_count": null,
   "id": "17ee6e8f",
   "metadata": {},
   "outputs": [],
   "source": []
  }
 ],
 "metadata": {
  "kernelspec": {
   "display_name": "Python 3 (ipykernel)",
   "language": "python",
   "name": "python3"
  },
  "language_info": {
   "codemirror_mode": {
    "name": "ipython",
    "version": 3
   },
   "file_extension": ".py",
   "mimetype": "text/x-python",
   "name": "python",
   "nbconvert_exporter": "python",
   "pygments_lexer": "ipython3",
   "version": "3.8.10"
  }
 },
 "nbformat": 4,
 "nbformat_minor": 5
}
