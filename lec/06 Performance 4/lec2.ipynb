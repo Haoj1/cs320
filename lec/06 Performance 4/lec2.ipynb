{
 "cells": [
  {
   "cell_type": "code",
   "execution_count": null,
   "id": "7d0d61db",
   "metadata": {},
   "outputs": [],
   "source": [
    "import pandas as pd"
   ]
  },
  {
   "cell_type": "code",
   "execution_count": null,
   "id": "d626d986",
   "metadata": {},
   "outputs": [],
   "source": [
    "#df = pd.read_csv(\"wi.csv\")"
   ]
  },
  {
   "cell_type": "code",
   "execution_count": null,
   "id": "3f84e717",
   "metadata": {},
   "outputs": [],
   "source": [
    "#df.head()"
   ]
  },
  {
   "cell_type": "code",
   "execution_count": null,
   "id": "67313247",
   "metadata": {},
   "outputs": [],
   "source": [
    "#df.columns"
   ]
  },
  {
   "cell_type": "code",
   "execution_count": null,
   "id": "2d161af2",
   "metadata": {},
   "outputs": [],
   "source": [
    "#df2 = df"
   ]
  },
  {
   "cell_type": "code",
   "execution_count": null,
   "id": "e945bb89",
   "metadata": {},
   "outputs": [],
   "source": [
    "#df = None"
   ]
  },
  {
   "cell_type": "code",
   "execution_count": null,
   "id": "7cbfc408",
   "metadata": {},
   "outputs": [],
   "source": [
    "#df2 = \"abc\""
   ]
  },
  {
   "cell_type": "code",
   "execution_count": null,
   "id": "fbc9cc1a",
   "metadata": {},
   "outputs": [],
   "source": [
    "# how to read from the .zip without unzipping it?"
   ]
  },
  {
   "cell_type": "code",
   "execution_count": null,
   "id": "ff91ab34",
   "metadata": {},
   "outputs": [],
   "source": [
    "f = open(\"wi.csv\")\n",
    "#df = pd.read_csv(f)\n",
    "f.close()"
   ]
  },
  {
   "cell_type": "code",
   "execution_count": null,
   "id": "4324fab1",
   "metadata": {},
   "outputs": [],
   "source": [
    "import zipfile"
   ]
  },
  {
   "cell_type": "code",
   "execution_count": null,
   "id": "34364640",
   "metadata": {},
   "outputs": [],
   "source": [
    "zf = zipfile.ZipFile(\"wi.zip\")\n",
    "print(zf.filelist)\n",
    "zf.close()"
   ]
  },
  {
   "cell_type": "code",
   "execution_count": null,
   "id": "7f2661a5",
   "metadata": {},
   "outputs": [],
   "source": [
    "zf = zipfile.ZipFile(\"wi.zip\")\n",
    "# read stuff inside the zip file\n",
    "zf.close()"
   ]
  },
  {
   "cell_type": "code",
   "execution_count": null,
   "id": "611d6202",
   "metadata": {},
   "outputs": [],
   "source": [
    "zf = zipfile.ZipFile(\"wi.zip\")\n",
    "\n",
    "f = zf.open(\"wi.csv\")\n",
    "df = pd.read_csv(f)\n",
    "f.close()\n",
    "\n",
    "zf.close()"
   ]
  },
  {
   "cell_type": "code",
   "execution_count": null,
   "id": "e0943c47",
   "metadata": {},
   "outputs": [],
   "source": [
    "# can save memory?\n",
    "\n",
    "# examples: mean interest rate and median"
   ]
  },
  {
   "cell_type": "code",
   "execution_count": null,
   "id": "53f5f8fa",
   "metadata": {},
   "outputs": [],
   "source": [
    "#df[\"interest_rate\"].astype(float)\n",
    "\n",
    "# coerce means bad strings become nan (not a num)\n",
    "rates = pd.to_numeric(df[\"interest_rate\"], errors=\"coerce\").dropna()\n",
    "rates"
   ]
  },
  {
   "cell_type": "code",
   "execution_count": null,
   "id": "0c1e8749",
   "metadata": {},
   "outputs": [],
   "source": [
    "rates.mean()"
   ]
  },
  {
   "cell_type": "code",
   "execution_count": null,
   "id": "a228d707",
   "metadata": {},
   "outputs": [],
   "source": [
    "rates.median()"
   ]
  },
  {
   "cell_type": "code",
   "execution_count": null,
   "id": "bd0c5d84",
   "metadata": {},
   "outputs": [],
   "source": [
    "# more efficient way to compute avg interest rate (less RAM)"
   ]
  },
  {
   "cell_type": "code",
   "execution_count": null,
   "id": "5e534930",
   "metadata": {},
   "outputs": [],
   "source": [
    "# open(..., mode=\"r\")   gives text (default)\n",
    "# open(..., mode=\"rb\")  gives bytes\n",
    "# ZipFile defaults to \"rb\""
   ]
  },
  {
   "cell_type": "code",
   "execution_count": 5,
   "id": "d6920fda",
   "metadata": {},
   "outputs": [
    {
     "data": {
      "text/plain": [
       "3.266264315063054"
      ]
     },
     "execution_count": 5,
     "metadata": {},
     "output_type": "execute_result"
    }
   ],
   "source": [
    "import csv, zipfile\n",
    "import io # io.TextIOWrapper converts bytes to strings\n",
    "\n",
    "zf = zipfile.ZipFile(\"wi.zip\")\n",
    "\n",
    "f = zf.open(\"wi.csv\")      # zip files gives bytes\n",
    "reader = csv.DictReader(io.TextIOWrapper(f)) # DictReader wants strings\n",
    "\n",
    "total = 0\n",
    "count = 0\n",
    "for row in reader:\n",
    "    try:\n",
    "        total += float(row[\"interest_rate\"])\n",
    "        count += 1\n",
    "    except ValueError:\n",
    "        pass # pass does nothing\n",
    "f.close()\n",
    "\n",
    "zf.close()\n",
    "\n",
    "total/count # average"
   ]
  },
  {
   "cell_type": "code",
   "execution_count": 11,
   "id": "0913c2b8",
   "metadata": {},
   "outputs": [],
   "source": [
    "# version 2\n",
    "def read_rates(zipname, csvname):\n",
    "    zf = zipfile.ZipFile(zipname)\n",
    "\n",
    "    f = zf.open(csvname)\n",
    "    reader = csv.DictReader(io.TextIOWrapper(f))\n",
    "\n",
    "    rates = [] # giant list, with all the rates.  What if too much RAM?\n",
    "    for row in reader:\n",
    "        try:\n",
    "            rates.append(float(row[\"interest_rate\"]))\n",
    "        except ValueError:\n",
    "            pass # pass does nothing\n",
    "    f.close()\n",
    "\n",
    "    zf.close()\n",
    "    return rates\n",
    "\n",
    "\n",
    "total = 0\n",
    "count = 0\n",
    "for rate in read_rates(\"wi.zip\", \"wi.csv\"):\n",
    "    total += rate\n",
    "    count += 1\n",
    "total/count # average"
   ]
  },
  {
   "cell_type": "code",
   "execution_count": 13,
   "id": "edbf4109",
   "metadata": {},
   "outputs": [
    {
     "data": {
      "text/plain": [
       "3.266264315063054"
      ]
     },
     "execution_count": 13,
     "metadata": {},
     "output_type": "execute_result"
    }
   ],
   "source": [
    "# version 3\n",
    "def read_rates(zipname, csvname):\n",
    "    zf = zipfile.ZipFile(zipname)\n",
    "\n",
    "    f = zf.open(csvname)\n",
    "    reader = csv.DictReader(io.TextIOWrapper(f))\n",
    "\n",
    "    #rates = [] # giant list, with all the rates.  What if too much RAM?\n",
    "    for row in reader:\n",
    "        try:\n",
    "            #rates.append(float(row[\"interest_rate\"]))\n",
    "            yield float(row[\"interest_rate\"])\n",
    "        except ValueError:\n",
    "            pass # pass does nothing\n",
    "    f.close()\n",
    "\n",
    "    zf.close()\n",
    "    #return rates\n",
    "\n",
    "\n",
    "total = 0\n",
    "count = 0\n",
    "for rate in read_rates(\"wi.zip\", \"wi.csv\"):\n",
    "    total += rate\n",
    "    count += 1\n",
    "total/count # average"
   ]
  },
  {
   "cell_type": "code",
   "execution_count": 15,
   "id": "f98c2f05",
   "metadata": {},
   "outputs": [
    {
     "data": {
      "text/plain": [
       "4.25"
      ]
     },
     "execution_count": 15,
     "metadata": {},
     "output_type": "execute_result"
    }
   ],
   "source": [
    "# want the last rate from the dataset\n",
    "#read_rates(\"wi.zip\", \"wi.csv\")[-1]\n",
    "\n",
    "list(read_rates(\"wi.zip\", \"wi.csv\"))[-1]"
   ]
  }
 ],
 "metadata": {
  "kernelspec": {
   "display_name": "Python 3 (ipykernel)",
   "language": "python",
   "name": "python3"
  },
  "language_info": {
   "codemirror_mode": {
    "name": "ipython",
    "version": 3
   },
   "file_extension": ".py",
   "mimetype": "text/x-python",
   "name": "python",
   "nbconvert_exporter": "python",
   "pygments_lexer": "ipython3",
   "version": "3.8.10"
  }
 },
 "nbformat": 4,
 "nbformat_minor": 5
}
