{
 "cells": [
  {
   "cell_type": "markdown",
   "metadata": {},
   "source": [
    "# Part 1: Column Space of a Matrix\n",
    "\n",
    "Definition: the *column space* of a matrix is the set of all linear combinations of that matrix's columns."
   ]
  },
  {
   "cell_type": "code",
   "execution_count": 1,
   "metadata": {},
   "outputs": [],
   "source": [
    "import numpy as np\n",
    "A = np.array([\n",
    "    [1,100],\n",
    "    [2,10],\n",
    "    [3,0]\n",
    "])\n",
    "B = np.array([\n",
    "    [1,0],\n",
    "    [0,2],\n",
    "    [0,3],\n",
    "    [0,0]\n",
    "])"
   ]
  },
  {
   "cell_type": "markdown",
   "metadata": {},
   "source": [
    "$A = \\begin{bmatrix}\n",
    "1&100\\\\\n",
    "2&10\\\\\n",
    "3&0\\\\\n",
    "\\end{bmatrix}$"
   ]
  },
  {
   "cell_type": "code",
   "execution_count": 2,
   "metadata": {},
   "outputs": [
    {
     "data": {
      "text/plain": [
       "array([[  1, 100],\n",
       "       [  2,  10],\n",
       "       [  3,   0]])"
      ]
     },
     "execution_count": 2,
     "metadata": {},
     "output_type": "execute_result"
    }
   ],
   "source": [
    "A"
   ]
  },
  {
   "cell_type": "code",
   "execution_count": 3,
   "metadata": {},
   "outputs": [
    {
     "data": {
      "text/plain": [
       "array([[2],\n",
       "       [4],\n",
       "       [6]])"
      ]
     },
     "execution_count": 3,
     "metadata": {},
     "output_type": "execute_result"
    }
   ],
   "source": [
    "A @ np.array([2, 0]).reshape(-1,1)"
   ]
  },
  {
   "cell_type": "code",
   "execution_count": 4,
   "metadata": {},
   "outputs": [
    {
     "data": {
      "text/plain": [
       "array([[99],\n",
       "       [ 8],\n",
       "       [-3]])"
      ]
     },
     "execution_count": 4,
     "metadata": {},
     "output_type": "execute_result"
    }
   ],
   "source": [
    "A @ np.array([-1, 1]).reshape(-1,1)"
   ]
  },
  {
   "cell_type": "code",
   "execution_count": 5,
   "metadata": {},
   "outputs": [
    {
     "data": {
      "text/plain": [
       "array([[0],\n",
       "       [0],\n",
       "       [0]])"
      ]
     },
     "execution_count": 5,
     "metadata": {},
     "output_type": "execute_result"
    }
   ],
   "source": [
    "A @ np.array([0, 0]).reshape(-1,1)"
   ]
  },
  {
   "cell_type": "markdown",
   "metadata": {},
   "source": [
    "What vectors are in the column space of B?\n",
    "\n",
    "$B = \\begin{bmatrix}\n",
    "1&0\\\\\n",
    "0&2\\\\\n",
    "0&3\\\\\n",
    "0&0\\\\\n",
    "\\end{bmatrix}$\n",
    "\n",
    "$a=\\begin{bmatrix}\n",
    "2\\\\\n",
    "2\\\\\n",
    "3\\\\\n",
    "0\n",
    "\\end{bmatrix}, b=\\begin{bmatrix}\n",
    "0\\\\\n",
    "0\\\\\n",
    "0\\\\\n",
    "1\n",
    "\\end{bmatrix}, c=\\begin{bmatrix}\n",
    "-10\\\\\n",
    "0\\\\\n",
    "0\\\\\n",
    "0\n",
    "\\end{bmatrix}, d=\\begin{bmatrix}\n",
    "0\\\\\n",
    "-2\\\\\n",
    "3\\\\\n",
    "0\n",
    "\\end{bmatrix}, e=\\begin{bmatrix}\n",
    "-1\\\\\n",
    "2\\\\\n",
    "3\\\\\n",
    "0\n",
    "\\end{bmatrix}$"
   ]
  },
  {
   "cell_type": "code",
   "execution_count": 6,
   "metadata": {},
   "outputs": [
    {
     "data": {
      "text/plain": [
       "array([[-1],\n",
       "       [ 2],\n",
       "       [ 3],\n",
       "       [ 0]])"
      ]
     },
     "execution_count": 6,
     "metadata": {},
     "output_type": "execute_result"
    }
   ],
   "source": [
    "# in the column space of B: a, c, e\n",
    "# not in the column space: b, d\n",
    "c = np.array([-1,1]).reshape(-1,1) # coef\n",
    "B @ c"
   ]
  },
  {
   "cell_type": "markdown",
   "metadata": {},
   "source": [
    "# Part 2: When can we solve for c?\n",
    "\n",
    "Suppose $Xc = y$.\n",
    "\n",
    "$X$ and $y$ are known, and we want to solve for $c$.\n",
    "\n",
    "When does `c = np.linalg.solve(X, y)` work?\n",
    "\n",
    "## Fruit Sales Example\n",
    "\n",
    "### Data\n",
    "\n",
    "* `10 apples and 0 bananas sold for $7`\n",
    "* `2 apples and 8 bananas sold for $5`\n",
    "* `4 apples and 4 bananas sold for $5`\n",
    "\n",
    "### Equations\n",
    "\n",
    "* `10*apple + basket == 7`\n",
    "* `2*apple + 8*banana + basket == 5`\n",
    "* `4*apple + 4*banana + basket == 5`\n",
    "\n",
    "### Matrix"
   ]
  },
  {
   "cell_type": "code",
   "execution_count": 7,
   "metadata": {},
   "outputs": [],
   "source": [
    "import numpy as np\n",
    "\n",
    "X = np.array([\n",
    "    [10,0,1],\n",
    "    [2,8,1],\n",
    "    [4,4,1],\n",
    "    [4,4,1],\n",
    "])\n",
    "y = np.array([7,5,5,5.5]).reshape(-1,1)\n",
    "\n",
    "#c = np.linalg.solve(X, y)\n",
    "#c"
   ]
  },
  {
   "cell_type": "markdown",
   "metadata": {},
   "source": [
    "The system is solveable mathematically if y is in the column space of X.\n",
    "\n",
    "np.linalg.solve can do it if is both mathematically possible and X is square."
   ]
  },
  {
   "cell_type": "markdown",
   "metadata": {},
   "source": [
    "### Equivalent Statements\n",
    "\n",
    "* there's a solution for the system of equations\n",
    "* there's a solution for $c$ (in $Xc = y$), even if `np.linalg.solve` can't find it\n",
    "* $y$ is in the column space of $X$"
   ]
  },
  {
   "cell_type": "markdown",
   "metadata": {},
   "source": [
    "# The Problem with Most Tables\n",
    "\n",
    "More rows than columns in our dataset means more equations than variables.\n",
    "\n",
    "This *usually* means that:\n",
    "\n",
    "The equations aren't solvable, and y isn't in the column space of X."
   ]
  },
  {
   "cell_type": "code",
   "execution_count": 8,
   "metadata": {},
   "outputs": [
    {
     "data": {
      "text/plain": [
       "array([[0.375],\n",
       "       [0.125],\n",
       "       [3.25 ]])"
      ]
     },
     "execution_count": 8,
     "metadata": {},
     "output_type": "execute_result"
    }
   ],
   "source": [
    "c = np.linalg.solve(X.T@X, X.T@y)\n",
    "c"
   ]
  },
  {
   "cell_type": "code",
   "execution_count": 9,
   "metadata": {},
   "outputs": [
    {
     "data": {
      "text/plain": [
       "array([[7.  ],\n",
       "       [5.  ],\n",
       "       [5.25],\n",
       "       [5.25]])"
      ]
     },
     "execution_count": 9,
     "metadata": {},
     "output_type": "execute_result"
    }
   ],
   "source": [
    "X @ c"
   ]
  },
  {
   "cell_type": "markdown",
   "metadata": {},
   "source": [
    "# Part 3: Projection Matrix\n",
    "\n",
    "Say X and y are known, but we can't solve for c because X has more rows than columns:\n",
    "\n",
    "### <font color='red'>$Xc = y$</font>\n",
    "\n",
    "We can, however, usually (unless there are multiple equally good solutions) solve the following, which we get by multiplying both sides by $X^T$:\n",
    "\n",
    "### <font color='red'>$X^TXc = X^Ty$</font>\n",
    "\n",
    "If we can find a c to make the above true, we can multiple both sides by $(X^TX)^{-1}$ (which generally exists unless X columns are redundant) to get this equation:\n",
    "\n",
    "$(X^TX)^{-1}X^TXc = (X^TX)^{-1}X^Ty$\n",
    "\n",
    "Simplify:\n",
    "\n",
    "$c = (X^TX)^{-1}X^Ty$\n",
    "\n",
    "Multiply both sides by X:\n",
    "\n",
    "### <font color='red'>$Xc = X(X^TX)^{-1}X^Ty$</font>\n",
    "\n",
    "### Note we started with an unsolveable $Xc = ????$ problem but multiplied $y$ by something to get a different $Xc = ????$ that is solveable.\n",
    "\n",
    "Define <font color=\"red\">$P = X(X^TX)^{-1}X^T$</font>.  This is a **projection matrix**.  If you multiply a vector by $P$, you get back another vector of the same size, with two properties:\n",
    "\n",
    "1. it will be in the column space of $X$\n",
    "2. the new vector will be as \"close as possible\" to the original vector\n",
    "\n",
    "Note: computing P is generally very expensive.\n",
    "\n",
    "## Fruit Sales Example"
   ]
  },
  {
   "cell_type": "code",
   "execution_count": 10,
   "metadata": {},
   "outputs": [
    {
     "data": {
      "text/plain": [
       "array([[7. ],\n",
       "       [5. ],\n",
       "       [5. ],\n",
       "       [8. ],\n",
       "       [8.5]])"
      ]
     },
     "execution_count": 10,
     "metadata": {},
     "output_type": "execute_result"
    }
   ],
   "source": [
    "import numpy as np\n",
    "import pandas as pd\n",
    "\n",
    "X = np.array([\n",
    "    [10,0,1],\n",
    "    [2,8,1],\n",
    "    [4,4,1],\n",
    "    [10,4,1],\n",
    "    [10,4,1]\n",
    "])\n",
    "y = np.array([7,5,5,8,8.5]).reshape(-1,1)\n",
    "y"
   ]
  },
  {
   "cell_type": "markdown",
   "metadata": {},
   "source": [
    "$P = X(X^TX)^{-1}X^T$"
   ]
  },
  {
   "cell_type": "code",
   "execution_count": 11,
   "metadata": {},
   "outputs": [
    {
     "data": {
      "text/plain": [
       "array([[ 0.75      , -0.25      ,  0.33333333,  0.08333333,  0.08333333],\n",
       "       [-0.25      ,  0.75      ,  0.33333333,  0.08333333,  0.08333333],\n",
       "       [ 0.33333333,  0.33333333,  0.55555556, -0.11111111, -0.11111111],\n",
       "       [ 0.08333333,  0.08333333, -0.11111111,  0.47222222,  0.47222222],\n",
       "       [ 0.08333333,  0.08333333, -0.11111111,  0.47222222,  0.47222222]])"
      ]
     },
     "execution_count": 11,
     "metadata": {},
     "output_type": "execute_result"
    }
   ],
   "source": [
    "P = X @ np.linalg.inv(X.T @ X) @ X.T\n",
    "P"
   ]
  },
  {
   "cell_type": "code",
   "execution_count": 12,
   "metadata": {},
   "outputs": [
    {
     "data": {
      "text/plain": [
       "array([[7.04166667],\n",
       "       [5.04166667],\n",
       "       [4.94444444],\n",
       "       [8.23611111],\n",
       "       [8.23611111]])"
      ]
     },
     "execution_count": 12,
     "metadata": {},
     "output_type": "execute_result"
    }
   ],
   "source": [
    "P @ y"
   ]
  },
  {
   "cell_type": "markdown",
   "metadata": {},
   "source": [
    "## Scatter Example"
   ]
  },
  {
   "cell_type": "code",
   "execution_count": 13,
   "metadata": {},
   "outputs": [
    {
     "data": {
      "text/html": [
       "<div>\n",
       "<style scoped>\n",
       "    .dataframe tbody tr th:only-of-type {\n",
       "        vertical-align: middle;\n",
       "    }\n",
       "\n",
       "    .dataframe tbody tr th {\n",
       "        vertical-align: top;\n",
       "    }\n",
       "\n",
       "    .dataframe thead th {\n",
       "        text-align: right;\n",
       "    }\n",
       "</style>\n",
       "<table border=\"1\" class=\"dataframe\">\n",
       "  <thead>\n",
       "    <tr style=\"text-align: right;\">\n",
       "      <th></th>\n",
       "      <th>x</th>\n",
       "      <th>y</th>\n",
       "    </tr>\n",
       "  </thead>\n",
       "  <tbody>\n",
       "    <tr>\n",
       "      <th>0</th>\n",
       "      <td>6.486749</td>\n",
       "      <td>13.632088</td>\n",
       "    </tr>\n",
       "    <tr>\n",
       "      <th>1</th>\n",
       "      <td>6.876069</td>\n",
       "      <td>12.139412</td>\n",
       "    </tr>\n",
       "    <tr>\n",
       "      <th>2</th>\n",
       "      <td>2.903181</td>\n",
       "      <td>6.782462</td>\n",
       "    </tr>\n",
       "    <tr>\n",
       "      <th>3</th>\n",
       "      <td>5.668241</td>\n",
       "      <td>10.642197</td>\n",
       "    </tr>\n",
       "    <tr>\n",
       "      <th>4</th>\n",
       "      <td>2.939705</td>\n",
       "      <td>5.185055</td>\n",
       "    </tr>\n",
       "    <tr>\n",
       "      <th>5</th>\n",
       "      <td>9.125357</td>\n",
       "      <td>18.660454</td>\n",
       "    </tr>\n",
       "    <tr>\n",
       "      <th>6</th>\n",
       "      <td>3.364872</td>\n",
       "      <td>5.357871</td>\n",
       "    </tr>\n",
       "    <tr>\n",
       "      <th>7</th>\n",
       "      <td>3.865027</td>\n",
       "      <td>9.452862</td>\n",
       "    </tr>\n",
       "    <tr>\n",
       "      <th>8</th>\n",
       "      <td>4.961488</td>\n",
       "      <td>10.032396</td>\n",
       "    </tr>\n",
       "    <tr>\n",
       "      <th>9</th>\n",
       "      <td>5.237388</td>\n",
       "      <td>10.143625</td>\n",
       "    </tr>\n",
       "  </tbody>\n",
       "</table>\n",
       "</div>"
      ],
      "text/plain": [
       "          x          y\n",
       "0  6.486749  13.632088\n",
       "1  6.876069  12.139412\n",
       "2  2.903181   6.782462\n",
       "3  5.668241  10.642197\n",
       "4  2.939705   5.185055\n",
       "5  9.125357  18.660454\n",
       "6  3.364872   5.357871\n",
       "7  3.865027   9.452862\n",
       "8  4.961488  10.032396\n",
       "9  5.237388  10.143625"
      ]
     },
     "execution_count": 13,
     "metadata": {},
     "output_type": "execute_result"
    }
   ],
   "source": [
    "import pandas as pd\n",
    "x = np.random.normal(5, 2, size=(10,1))\n",
    "y = 2*x + np.random.normal(size=x.shape)\n",
    "df = pd.DataFrame({\"x\":x.reshape(-1), \"y\":y.reshape(-1)})\n",
    "df"
   ]
  },
  {
   "cell_type": "code",
   "execution_count": 14,
   "metadata": {},
   "outputs": [
    {
     "data": {
      "text/plain": [
       "<AxesSubplot:xlabel='x', ylabel='y'>"
      ]
     },
     "execution_count": 14,
     "metadata": {},
     "output_type": "execute_result"
    },
    {
     "data": {
      "image/png": "[encoded data removed]",
      "text/plain": [
       "<Figure size 432x288 with 1 Axes>"
      ]
     },
     "metadata": {
      "needs_background": "light"
     },
     "output_type": "display_data"
    }
   ],
   "source": [
    "df.plot.scatter(x=\"x\", y=\"y\")"
   ]
  },
  {
   "cell_type": "code",
   "execution_count": 15,
   "metadata": {},
   "outputs": [
    {
     "data": {
      "text/plain": [
       "array([[13.63208761],\n",
       "       [12.13941249],\n",
       "       [ 6.78246243],\n",
       "       [10.64219698],\n",
       "       [ 5.18505462],\n",
       "       [18.66045417],\n",
       "       [ 5.35787098],\n",
       "       [ 9.45286158],\n",
       "       [10.03239643],\n",
       "       [10.14362468]])"
      ]
     },
     "execution_count": 15,
     "metadata": {},
     "output_type": "execute_result"
    }
   ],
   "source": [
    "X = df[[\"x\"]].values\n",
    "y = df[[\"y\"]].values\n",
    "y"
   ]
  },
  {
   "cell_type": "code",
   "execution_count": 16,
   "metadata": {},
   "outputs": [
    {
     "data": {
      "text/plain": [
       "array([[0.14019565, 0.14860987, 0.06274535, 0.12250555, 0.06353473,\n",
       "        0.19722289, 0.07272371, 0.08353337, 0.10723077, 0.1131937 ],\n",
       "       [0.14860987, 0.1575291 , 0.06651118, 0.12985806, 0.06734794,\n",
       "        0.20905977, 0.07708843, 0.08854685, 0.11366652, 0.11998733],\n",
       "       [0.06274535, 0.06651118, 0.02808203, 0.05482805, 0.02843532,\n",
       "        0.08826821, 0.03254791, 0.03738583, 0.04799173, 0.05066047],\n",
       "       [0.12250555, 0.12985806, 0.05482805, 0.10704762, 0.05551782,\n",
       "        0.17233701, 0.06354733, 0.072993  , 0.09370023, 0.09891075],\n",
       "       [0.06353473, 0.06734794, 0.02843532, 0.05551782, 0.02879306,\n",
       "        0.08937869, 0.03295738, 0.03785617, 0.0485955 , 0.05129782],\n",
       "       [0.19722289, 0.20905977, 0.08826821, 0.17233701, 0.08937869,\n",
       "        0.27744706, 0.10230547, 0.11751216, 0.15084892, 0.15923738],\n",
       "       [0.07272371, 0.07708843, 0.03254791, 0.06354733, 0.03295738,\n",
       "        0.10230547, 0.03772398, 0.04333128, 0.05562384, 0.05871699],\n",
       "       [0.08353337, 0.08854685, 0.03738583, 0.072993  , 0.03785617,\n",
       "        0.11751216, 0.04333128, 0.04977204, 0.06389177, 0.06744468],\n",
       "       [0.10723077, 0.11366652, 0.04799173, 0.09370023, 0.0485955 ,\n",
       "        0.15084892, 0.05562384, 0.06389177, 0.08201708, 0.08657792],\n",
       "       [0.1131937 , 0.11998733, 0.05066047, 0.09891075, 0.05129782,\n",
       "        0.15923738, 0.05871699, 0.06744468, 0.08657792, 0.09139237]])"
      ]
     },
     "execution_count": 16,
     "metadata": {},
     "output_type": "execute_result"
    }
   ],
   "source": [
    "P = X @ np.linalg.inv(X.T @ X) @ X.T\n",
    "P"
   ]
  },
  {
   "cell_type": "code",
   "execution_count": 17,
   "metadata": {},
   "outputs": [
    {
     "data": {
      "text/plain": [
       "array([[12.85744153],\n",
       "       [13.62911612],\n",
       "       [ 5.75442009],\n",
       "       [11.23507026],\n",
       "       [ 5.82681481],\n",
       "       [18.08745032],\n",
       "       [ 6.66954294],\n",
       "       [ 7.66090404],\n",
       "       [ 9.83420936],\n",
       "       [10.38107348]])"
      ]
     },
     "execution_count": 17,
     "metadata": {},
     "output_type": "execute_result"
    }
   ],
   "source": [
    "p = P@y\n",
    "p"
   ]
  },
  {
   "cell_type": "code",
   "execution_count": 18,
   "metadata": {},
   "outputs": [
    {
     "data": {
      "text/html": [
       "<div>\n",
       "<style scoped>\n",
       "    .dataframe tbody tr th:only-of-type {\n",
       "        vertical-align: middle;\n",
       "    }\n",
       "\n",
       "    .dataframe tbody tr th {\n",
       "        vertical-align: top;\n",
       "    }\n",
       "\n",
       "    .dataframe thead th {\n",
       "        text-align: right;\n",
       "    }\n",
       "</style>\n",
       "<table border=\"1\" class=\"dataframe\">\n",
       "  <thead>\n",
       "    <tr style=\"text-align: right;\">\n",
       "      <th></th>\n",
       "      <th>x</th>\n",
       "      <th>y</th>\n",
       "      <th>p</th>\n",
       "    </tr>\n",
       "  </thead>\n",
       "  <tbody>\n",
       "    <tr>\n",
       "      <th>0</th>\n",
       "      <td>6.486749</td>\n",
       "      <td>13.632088</td>\n",
       "      <td>12.857442</td>\n",
       "    </tr>\n",
       "    <tr>\n",
       "      <th>1</th>\n",
       "      <td>6.876069</td>\n",
       "      <td>12.139412</td>\n",
       "      <td>13.629116</td>\n",
       "    </tr>\n",
       "    <tr>\n",
       "      <th>2</th>\n",
       "      <td>2.903181</td>\n",
       "      <td>6.782462</td>\n",
       "      <td>5.754420</td>\n",
       "    </tr>\n",
       "    <tr>\n",
       "      <th>3</th>\n",
       "      <td>5.668241</td>\n",
       "      <td>10.642197</td>\n",
       "      <td>11.235070</td>\n",
       "    </tr>\n",
       "    <tr>\n",
       "      <th>4</th>\n",
       "      <td>2.939705</td>\n",
       "      <td>5.185055</td>\n",
       "      <td>5.826815</td>\n",
       "    </tr>\n",
       "    <tr>\n",
       "      <th>5</th>\n",
       "      <td>9.125357</td>\n",
       "      <td>18.660454</td>\n",
       "      <td>18.087450</td>\n",
       "    </tr>\n",
       "    <tr>\n",
       "      <th>6</th>\n",
       "      <td>3.364872</td>\n",
       "      <td>5.357871</td>\n",
       "      <td>6.669543</td>\n",
       "    </tr>\n",
       "    <tr>\n",
       "      <th>7</th>\n",
       "      <td>3.865027</td>\n",
       "      <td>9.452862</td>\n",
       "      <td>7.660904</td>\n",
       "    </tr>\n",
       "    <tr>\n",
       "      <th>8</th>\n",
       "      <td>4.961488</td>\n",
       "      <td>10.032396</td>\n",
       "      <td>9.834209</td>\n",
       "    </tr>\n",
       "    <tr>\n",
       "      <th>9</th>\n",
       "      <td>5.237388</td>\n",
       "      <td>10.143625</td>\n",
       "      <td>10.381073</td>\n",
       "    </tr>\n",
       "  </tbody>\n",
       "</table>\n",
       "</div>"
      ],
      "text/plain": [
       "          x          y          p\n",
       "0  6.486749  13.632088  12.857442\n",
       "1  6.876069  12.139412  13.629116\n",
       "2  2.903181   6.782462   5.754420\n",
       "3  5.668241  10.642197  11.235070\n",
       "4  2.939705   5.185055   5.826815\n",
       "5  9.125357  18.660454  18.087450\n",
       "6  3.364872   5.357871   6.669543\n",
       "7  3.865027   9.452862   7.660904\n",
       "8  4.961488  10.032396   9.834209\n",
       "9  5.237388  10.143625  10.381073"
      ]
     },
     "execution_count": 18,
     "metadata": {},
     "output_type": "execute_result"
    }
   ],
   "source": [
    "df[\"p\"] = p\n",
    "df"
   ]
  },
  {
   "cell_type": "code",
   "execution_count": 19,
   "metadata": {},
   "outputs": [
    {
     "data": {
      "text/plain": [
       "0    1.982109\n",
       "1    1.982109\n",
       "2    1.982109\n",
       "3    1.982109\n",
       "4    1.982109\n",
       "5    1.982109\n",
       "6    1.982109\n",
       "7    1.982109\n",
       "8    1.982109\n",
       "9    1.982109\n",
       "dtype: float64"
      ]
     },
     "execution_count": 19,
     "metadata": {},
     "output_type": "execute_result"
    }
   ],
   "source": [
    "df[\"p\"] / df[\"x\"]"
   ]
  },
  {
   "cell_type": "code",
   "execution_count": 20,
   "metadata": {},
   "outputs": [
    {
     "data": {
      "text/plain": [
       "<AxesSubplot:xlabel='x', ylabel='p'>"
      ]
     },
     "execution_count": 20,
     "metadata": {},
     "output_type": "execute_result"
    },
    {
     "data": {
      "image/png": "[encoded data removed]",
      "text/plain": [
       "<Figure size 432x288 with 1 Axes>"
      ]
     },
     "metadata": {
      "needs_background": "light"
     },
     "output_type": "display_data"
    }
   ],
   "source": [
    "ax = df.plot.scatter(x=\"x\", y=\"y\")\n",
    "df.plot.scatter(x=\"x\", y=\"p\", ax=ax, color=\"red\")"
   ]
  },
  {
   "cell_type": "markdown",
   "metadata": {},
   "source": [
    "# Euclidean Distance Between Columns"
   ]
  },
  {
   "cell_type": "code",
   "execution_count": 21,
   "metadata": {},
   "outputs": [
    {
     "data": {
      "text/html": [
       "<div>\n",
       "<style scoped>\n",
       "    .dataframe tbody tr th:only-of-type {\n",
       "        vertical-align: middle;\n",
       "    }\n",
       "\n",
       "    .dataframe tbody tr th {\n",
       "        vertical-align: top;\n",
       "    }\n",
       "\n",
       "    .dataframe thead th {\n",
       "        text-align: right;\n",
       "    }\n",
       "</style>\n",
       "<table border=\"1\" class=\"dataframe\">\n",
       "  <thead>\n",
       "    <tr style=\"text-align: right;\">\n",
       "      <th></th>\n",
       "      <th>v1</th>\n",
       "      <th>v2</th>\n",
       "    </tr>\n",
       "  </thead>\n",
       "  <tbody>\n",
       "    <tr>\n",
       "      <th>x</th>\n",
       "      <td>1</td>\n",
       "      <td>4</td>\n",
       "    </tr>\n",
       "    <tr>\n",
       "      <th>y</th>\n",
       "      <td>8</td>\n",
       "      <td>12</td>\n",
       "    </tr>\n",
       "  </tbody>\n",
       "</table>\n",
       "</div>"
      ],
      "text/plain": [
       "   v1  v2\n",
       "x   1   4\n",
       "y   8  12"
      ]
     },
     "execution_count": 21,
     "metadata": {},
     "output_type": "execute_result"
    }
   ],
   "source": [
    "df2 = pd.DataFrame({\n",
    "    \"v1\": [1, 8],\n",
    "    \"v2\": [4, 12],\n",
    "}, index=[\"x\", \"y\"])\n",
    "df2"
   ]
  },
  {
   "cell_type": "code",
   "execution_count": 22,
   "metadata": {},
   "outputs": [
    {
     "data": {
      "text/plain": [
       "5.0"
      ]
     },
     "execution_count": 22,
     "metadata": {},
     "output_type": "execute_result"
    }
   ],
   "source": [
    "((df2[\"v2\"] - df2[\"v1\"]) ** 2).sum() ** 0.5"
   ]
  },
  {
   "cell_type": "code",
   "execution_count": 26,
   "metadata": {},
   "outputs": [
    {
     "data": {
      "text/plain": [
       "3.161504066577767"
      ]
     },
     "execution_count": 26,
     "metadata": {},
     "output_type": "execute_result"
    }
   ],
   "source": [
    "((df[\"y\"] - df[\"p\"]) ** 2).sum() ** 0.5"
   ]
  },
  {
   "cell_type": "code",
   "execution_count": 24,
   "metadata": {},
   "outputs": [
    {
     "data": {
      "text/html": [
       "<div>\n",
       "<style scoped>\n",
       "    .dataframe tbody tr th:only-of-type {\n",
       "        vertical-align: middle;\n",
       "    }\n",
       "\n",
       "    .dataframe tbody tr th {\n",
       "        vertical-align: top;\n",
       "    }\n",
       "\n",
       "    .dataframe thead th {\n",
       "        text-align: right;\n",
       "    }\n",
       "</style>\n",
       "<table border=\"1\" class=\"dataframe\">\n",
       "  <thead>\n",
       "    <tr style=\"text-align: right;\">\n",
       "      <th></th>\n",
       "      <th>x</th>\n",
       "      <th>y</th>\n",
       "      <th>p</th>\n",
       "    </tr>\n",
       "  </thead>\n",
       "  <tbody>\n",
       "    <tr>\n",
       "      <th>0</th>\n",
       "      <td>6.486749</td>\n",
       "      <td>13.632088</td>\n",
       "      <td>12.857442</td>\n",
       "    </tr>\n",
       "    <tr>\n",
       "      <th>1</th>\n",
       "      <td>6.876069</td>\n",
       "      <td>12.139412</td>\n",
       "      <td>13.629116</td>\n",
       "    </tr>\n",
       "    <tr>\n",
       "      <th>2</th>\n",
       "      <td>2.903181</td>\n",
       "      <td>6.782462</td>\n",
       "      <td>5.754420</td>\n",
       "    </tr>\n",
       "    <tr>\n",
       "      <th>3</th>\n",
       "      <td>5.668241</td>\n",
       "      <td>10.642197</td>\n",
       "      <td>11.235070</td>\n",
       "    </tr>\n",
       "    <tr>\n",
       "      <th>4</th>\n",
       "      <td>2.939705</td>\n",
       "      <td>5.185055</td>\n",
       "      <td>5.826815</td>\n",
       "    </tr>\n",
       "  </tbody>\n",
       "</table>\n",
       "</div>"
      ],
      "text/plain": [
       "          x          y          p\n",
       "0  6.486749  13.632088  12.857442\n",
       "1  6.876069  12.139412  13.629116\n",
       "2  2.903181   6.782462   5.754420\n",
       "3  5.668241  10.642197  11.235070\n",
       "4  2.939705   5.185055   5.826815"
      ]
     },
     "execution_count": 24,
     "metadata": {},
     "output_type": "execute_result"
    }
   ],
   "source": [
    "df.head()"
   ]
  }
 ],
 "metadata": {
  "kernelspec": {
   "display_name": "Python 3 (ipykernel)",
   "language": "python",
   "name": "python3"
  },
  "language_info": {
   "codemirror_mode": {
    "name": "ipython",
    "version": 3
   },
   "file_extension": ".py",
   "mimetype": "text/x-python",
   "name": "python",
   "nbconvert_exporter": "python",
   "pygments_lexer": "ipython3",
   "version": "3.8.10"
  }
 },
 "nbformat": 4,
 "nbformat_minor": 4
}
