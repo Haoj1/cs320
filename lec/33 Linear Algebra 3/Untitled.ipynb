{
 "cells": [
  {
   "cell_type": "markdown",
   "id": "b579c8aa",
   "metadata": {},
   "source": [
    "Say X and y are known, but we can't solve for c because X has more rows than columns:\n",
    "\n",
    "### <font color='red'>$Xc = y$</font>\n",
    "\n",
    "We can, however, usually (unless there are multiple equally good solutions) solve the following, which we get by multiplying both sides by $X^T$:\n",
    "\n",
    "### <font color='red'>$X^TXc = X^Ty$</font>\n",
    "\n",
    "If we can find a c to make the above true, we can multiple both sides by $(X^TX)^{-1}$ (which generally exists unless X columns are redundant) to get this equation:\n",
    "\n",
    "$(X^TX)^{-1}X^TXc = (X^TX)^{-1}X^Ty$\n",
    "\n",
    "Simplify:\n",
    "\n",
    "$c = (X^TX)^{-1}X^Ty$\n",
    "\n",
    "Multiply both sides by X:\n",
    "\n",
    "### <font color='red'>$Xc = X(X^TX)^{-1}X^Ty$</font>\n",
    "\n",
    "## Note we started with an unsolveable $Xc = ????$ problem but multiplied $y$ by something to get a different $Xc = ????$ that is solveable.\n",
    "\n",
    "Define <font color=\"red\">$P = X(X^TX)^{-1}X^T$</font>.  This is a **projection matrix**.  If you multiply a vector by $P$, you get back another vector of the same size, with two properties:\n",
    "\n",
    "1. it will be in the column space of $X$\n",
    "2. the new vector will be as \"close as possible\" to the original vector"
   ]
  },
  {
   "cell_type": "code",
   "execution_count": null,
   "id": "4307b2f8",
   "metadata": {},
   "outputs": [],
   "source": []
  }
 ],
 "metadata": {
  "kernelspec": {
   "display_name": "Python 3 (ipykernel)",
   "language": "python",
   "name": "python3"
  },
  "language_info": {
   "codemirror_mode": {
    "name": "ipython",
    "version": 3
   },
   "file_extension": ".py",
   "mimetype": "text/x-python",
   "name": "python",
   "nbconvert_exporter": "python",
   "pygments_lexer": "ipython3",
   "version": "3.8.10"
  }
 },
 "nbformat": 4,
 "nbformat_minor": 5
}
