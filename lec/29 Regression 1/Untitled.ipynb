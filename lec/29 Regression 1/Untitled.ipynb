{
 "cells": [
  {
   "cell_type": "code",
   "execution_count": 7,
   "id": "53ba1757",
   "metadata": {},
   "outputs": [
    {
     "data": {
      "text/html": [
       "<div>\n",
       "<style scoped>\n",
       "    .dataframe tbody tr th:only-of-type {\n",
       "        vertical-align: middle;\n",
       "    }\n",
       "\n",
       "    .dataframe tbody tr th {\n",
       "        vertical-align: top;\n",
       "    }\n",
       "\n",
       "    .dataframe thead th {\n",
       "        text-align: right;\n",
       "    }\n",
       "</style>\n",
       "<table border=\"1\" class=\"dataframe\">\n",
       "  <thead>\n",
       "    <tr style=\"text-align: right;\">\n",
       "      <th></th>\n",
       "      <th>RptDt</th>\n",
       "      <th>GEOID</th>\n",
       "      <th>GEOName</th>\n",
       "      <th>POS_CUM_CP</th>\n",
       "      <th>POS_NEW_CP</th>\n",
       "      <th>POS_7DAYAVG_CP</th>\n",
       "      <th>DTH_CUM_CP</th>\n",
       "      <th>DTH_NEW_CP</th>\n",
       "      <th>DTH_7DAYAVG_CP</th>\n",
       "      <th>DTH_OVER_30DAYS_CP</th>\n",
       "      <th>...</th>\n",
       "      <th>HOSP_NO_CP</th>\n",
       "      <th>HOSP_UNK_CP</th>\n",
       "      <th>Date</th>\n",
       "      <th>POP</th>\n",
       "      <th>POP_MOE</th>\n",
       "      <th>OBJECTID</th>\n",
       "      <th>GEO</th>\n",
       "      <th>ShapeSTArea</th>\n",
       "      <th>ShapeSTLength</th>\n",
       "      <th>geometry</th>\n",
       "    </tr>\n",
       "  </thead>\n",
       "  <tbody>\n",
       "    <tr>\n",
       "      <th>0</th>\n",
       "      <td>2022-04-07T19:00:00+00:00</td>\n",
       "      <td>55079000101</td>\n",
       "      <td>None</td>\n",
       "      <td>1158</td>\n",
       "      <td>0</td>\n",
       "      <td>0.14</td>\n",
       "      <td>24</td>\n",
       "      <td>0</td>\n",
       "      <td>0.0</td>\n",
       "      <td>0</td>\n",
       "      <td>...</td>\n",
       "      <td>511</td>\n",
       "      <td>568</td>\n",
       "      <td>2022-04-06T06:00:00+00:00</td>\n",
       "      <td>4476</td>\n",
       "      <td>437.0</td>\n",
       "      <td>260</td>\n",
       "      <td>Census tract</td>\n",
       "      <td>7.500609e+06</td>\n",
       "      <td>11159.571995</td>\n",
       "      <td>POLYGON ((-87.99418 43.19256, -87.99429 43.192...</td>\n",
       "    </tr>\n",
       "    <tr>\n",
       "      <th>1</th>\n",
       "      <td>2022-04-07T19:00:00+00:00</td>\n",
       "      <td>55079000102</td>\n",
       "      <td>None</td>\n",
       "      <td>1159</td>\n",
       "      <td>1</td>\n",
       "      <td>0.43</td>\n",
       "      <td>19</td>\n",
       "      <td>0</td>\n",
       "      <td>0.0</td>\n",
       "      <td>0</td>\n",
       "      <td>...</td>\n",
       "      <td>561</td>\n",
       "      <td>508</td>\n",
       "      <td>2022-04-06T06:00:00+00:00</td>\n",
       "      <td>3468</td>\n",
       "      <td>404.0</td>\n",
       "      <td>261</td>\n",
       "      <td>Census tract</td>\n",
       "      <td>1.224474e+07</td>\n",
       "      <td>15500.211793</td>\n",
       "      <td>POLYGON ((-87.99449 43.17769, -87.99512 43.177...</td>\n",
       "    </tr>\n",
       "    <tr>\n",
       "      <th>2</th>\n",
       "      <td>2022-04-07T19:00:00+00:00</td>\n",
       "      <td>55079000201</td>\n",
       "      <td>None</td>\n",
       "      <td>1410</td>\n",
       "      <td>0</td>\n",
       "      <td>0.29</td>\n",
       "      <td>10</td>\n",
       "      <td>0</td>\n",
       "      <td>0.0</td>\n",
       "      <td>0</td>\n",
       "      <td>...</td>\n",
       "      <td>722</td>\n",
       "      <td>609</td>\n",
       "      <td>2022-04-06T06:00:00+00:00</td>\n",
       "      <td>5561</td>\n",
       "      <td>699.0</td>\n",
       "      <td>262</td>\n",
       "      <td>Census tract</td>\n",
       "      <td>1.488298e+07</td>\n",
       "      <td>17849.912522</td>\n",
       "      <td>POLYGON ((-88.02435 43.17761, -88.02434 43.177...</td>\n",
       "    </tr>\n",
       "    <tr>\n",
       "      <th>3</th>\n",
       "      <td>2022-04-07T19:00:00+00:00</td>\n",
       "      <td>55079000202</td>\n",
       "      <td>None</td>\n",
       "      <td>1728</td>\n",
       "      <td>0</td>\n",
       "      <td>0.71</td>\n",
       "      <td>11</td>\n",
       "      <td>0</td>\n",
       "      <td>0.0</td>\n",
       "      <td>0</td>\n",
       "      <td>...</td>\n",
       "      <td>913</td>\n",
       "      <td>738</td>\n",
       "      <td>2022-04-06T06:00:00+00:00</td>\n",
       "      <td>6439</td>\n",
       "      <td>621.0</td>\n",
       "      <td>263</td>\n",
       "      <td>Census tract</td>\n",
       "      <td>1.480524e+07</td>\n",
       "      <td>17742.064041</td>\n",
       "      <td>POLYGON ((-88.02435 43.17761, -88.02518 43.177...</td>\n",
       "    </tr>\n",
       "    <tr>\n",
       "      <th>4</th>\n",
       "      <td>2022-04-07T19:00:00+00:00</td>\n",
       "      <td>55079000301</td>\n",
       "      <td>None</td>\n",
       "      <td>411</td>\n",
       "      <td>1</td>\n",
       "      <td>0.14</td>\n",
       "      <td>4</td>\n",
       "      <td>0</td>\n",
       "      <td>0.0</td>\n",
       "      <td>0</td>\n",
       "      <td>...</td>\n",
       "      <td>218</td>\n",
       "      <td>172</td>\n",
       "      <td>2022-04-06T06:00:00+00:00</td>\n",
       "      <td>1485</td>\n",
       "      <td>92.0</td>\n",
       "      <td>264</td>\n",
       "      <td>Census tract</td>\n",
       "      <td>3.733793e+06</td>\n",
       "      <td>9142.114479</td>\n",
       "      <td>POLYGON ((-88.05488 43.14699, -88.05511 43.146...</td>\n",
       "    </tr>\n",
       "  </tbody>\n",
       "</table>\n",
       "<p>5 rows × 90 columns</p>\n",
       "</div>"
      ],
      "text/plain": [
       "                       RptDt        GEOID GEOName  POS_CUM_CP  POS_NEW_CP  \\\n",
       "0  2022-04-07T19:00:00+00:00  55079000101    None        1158           0   \n",
       "1  2022-04-07T19:00:00+00:00  55079000102    None        1159           1   \n",
       "2  2022-04-07T19:00:00+00:00  55079000201    None        1410           0   \n",
       "3  2022-04-07T19:00:00+00:00  55079000202    None        1728           0   \n",
       "4  2022-04-07T19:00:00+00:00  55079000301    None         411           1   \n",
       "\n",
       "   POS_7DAYAVG_CP  DTH_CUM_CP  DTH_NEW_CP  DTH_7DAYAVG_CP  DTH_OVER_30DAYS_CP  \\\n",
       "0            0.14          24           0             0.0                   0   \n",
       "1            0.43          19           0             0.0                   0   \n",
       "2            0.29          10           0             0.0                   0   \n",
       "3            0.71          11           0             0.0                   0   \n",
       "4            0.14           4           0             0.0                   0   \n",
       "\n",
       "   ...  HOSP_NO_CP HOSP_UNK_CP                       Date   POP POP_MOE  \\\n",
       "0  ...         511         568  2022-04-06T06:00:00+00:00  4476   437.0   \n",
       "1  ...         561         508  2022-04-06T06:00:00+00:00  3468   404.0   \n",
       "2  ...         722         609  2022-04-06T06:00:00+00:00  5561   699.0   \n",
       "3  ...         913         738  2022-04-06T06:00:00+00:00  6439   621.0   \n",
       "4  ...         218         172  2022-04-06T06:00:00+00:00  1485    92.0   \n",
       "\n",
       "   OBJECTID           GEO   ShapeSTArea  ShapeSTLength  \\\n",
       "0       260  Census tract  7.500609e+06   11159.571995   \n",
       "1       261  Census tract  1.224474e+07   15500.211793   \n",
       "2       262  Census tract  1.488298e+07   17849.912522   \n",
       "3       263  Census tract  1.480524e+07   17742.064041   \n",
       "4       264  Census tract  3.733793e+06    9142.114479   \n",
       "\n",
       "                                            geometry  \n",
       "0  POLYGON ((-87.99418 43.19256, -87.99429 43.192...  \n",
       "1  POLYGON ((-87.99449 43.17769, -87.99512 43.177...  \n",
       "2  POLYGON ((-88.02435 43.17761, -88.02434 43.177...  \n",
       "3  POLYGON ((-88.02435 43.17761, -88.02518 43.177...  \n",
       "4  POLYGON ((-88.05488 43.14699, -88.05511 43.146...  \n",
       "\n",
       "[5 rows x 90 columns]"
      ]
     },
     "execution_count": 7,
     "metadata": {},
     "output_type": "execute_result"
    }
   ],
   "source": [
    "import os\n",
    "import geopandas as gpd\n",
    " \n",
    "if not os.path.exists(\"covid.geojson\"):\n",
    "    print(\"download\")\n",
    "    df = gpd.read_file(\"https://opendata.arcgis.com/datasets/559d482bad0643f69cbe1538243e0baa_9.geojson\")\n",
    "    df.to_file(\"covid.geojson\", index=False)\n",
    "df = gpd.read_file(\"covid.geojson\")\n",
    "df.head() # df.plot()"
   ]
  },
  {
   "cell_type": "code",
   "execution_count": 8,
   "id": "415b3bde",
   "metadata": {},
   "outputs": [],
   "source": [
    "df.replace(-999, 2, inplace=True) # based on docs"
   ]
  },
  {
   "cell_type": "code",
   "execution_count": 10,
   "id": "cb3acfae",
   "metadata": {},
   "outputs": [],
   "source": [
    "df = df[df[\"GEOID\"].str.fullmatch(r\"\\d+\")]"
   ]
  },
  {
   "cell_type": "code",
   "execution_count": 6,
   "id": "21e05b5a",
   "metadata": {},
   "outputs": [
    {
     "data": {
      "text/plain": [
       "<AxesSubplot:>"
      ]
     },
     "execution_count": 6,
     "metadata": {},
     "output_type": "execute_result"
    },
    {
     "data": {
      "image/png": "[encoded data removed]",
      "text/plain": [
       "<Figure size 432x288 with 1 Axes>"
      ]
     },
     "metadata": {
      "needs_background": "light"
     },
     "output_type": "display_data"
    }
   ],
   "source": [
    "df.plot()"
   ]
  },
  {
   "cell_type": "code",
   "execution_count": 11,
   "id": "9fa4c543",
   "metadata": {},
   "outputs": [
    {
     "data": {
      "text/plain": [
       "1548846"
      ]
     },
     "execution_count": 11,
     "metadata": {},
     "output_type": "execute_result"
    }
   ],
   "source": [
    "df[\"POS_CUM_CP\"].sum()"
   ]
  },
  {
   "cell_type": "code",
   "execution_count": 12,
   "id": "4db4b940",
   "metadata": {},
   "outputs": [
    {
     "data": {
      "text/plain": [
       "13934"
      ]
     },
     "execution_count": 12,
     "metadata": {},
     "output_type": "execute_result"
    }
   ],
   "source": [
    "df[\"DTH_CUM_CP\"].sum()\n"
   ]
  },
  {
   "cell_type": "code",
   "execution_count": 13,
   "id": "cd17b69f",
   "metadata": {},
   "outputs": [
    {
     "data": {
      "text/plain": [
       "0.008996375365917592"
      ]
     },
     "execution_count": 13,
     "metadata": {},
     "output_type": "execute_result"
    }
   ],
   "source": [
    "df[\"DTH_CUM_CP\"].sum() / df[\"POS_CUM_CP\"].sum()"
   ]
  },
  {
   "cell_type": "code",
   "execution_count": 15,
   "id": "abebd391",
   "metadata": {},
   "outputs": [
    {
     "data": {
      "text/plain": [
       "0    24\n",
       "1    19\n",
       "2    10\n",
       "3    11\n",
       "4     4\n",
       "Name: DTH_CUM_CP, dtype: int64"
      ]
     },
     "execution_count": 15,
     "metadata": {},
     "output_type": "execute_result"
    }
   ],
   "source": [
    "xcols = [\"POP\"]\n",
    "df[xcols].head()\n",
    "ycol = \"DTH_CUM_CP\"\n",
    "df[ycol].head()"
   ]
  },
  {
   "cell_type": "code",
   "execution_count": 17,
   "id": "62629f7e",
   "metadata": {},
   "outputs": [
    {
     "data": {
      "text/html": [
       "<div>\n",
       "<style scoped>\n",
       "    .dataframe tbody tr th:only-of-type {\n",
       "        vertical-align: middle;\n",
       "    }\n",
       "\n",
       "    .dataframe tbody tr th {\n",
       "        vertical-align: top;\n",
       "    }\n",
       "\n",
       "    .dataframe thead th {\n",
       "        text-align: right;\n",
       "    }\n",
       "</style>\n",
       "<table border=\"1\" class=\"dataframe\">\n",
       "  <thead>\n",
       "    <tr style=\"text-align: right;\">\n",
       "      <th></th>\n",
       "      <th>POP</th>\n",
       "      <th>y</th>\n",
       "    </tr>\n",
       "  </thead>\n",
       "  <tbody>\n",
       "    <tr>\n",
       "      <th>0</th>\n",
       "      <td>1000</td>\n",
       "      <td>3.627988</td>\n",
       "    </tr>\n",
       "    <tr>\n",
       "      <th>1</th>\n",
       "      <td>2000</td>\n",
       "      <td>5.653305</td>\n",
       "    </tr>\n",
       "  </tbody>\n",
       "</table>\n",
       "</div>"
      ],
      "text/plain": [
       "    POP         y\n",
       "0  1000  3.627988\n",
       "1  2000  5.653305"
      ]
     },
     "execution_count": 17,
     "metadata": {},
     "output_type": "execute_result"
    }
   ],
   "source": [
    "import pandas as pd\n",
    "from sklearn.linear_model import LinearRegression\n",
    "\n",
    "model = LinearRegression()\n",
    "model.fit(df[xcols], df[ycol])\n",
    "predictions = pd.DataFrame({\"POP\": [1000, 2000]})\n",
    "predictions[\"y\"] = model.predict(predictions[xcols])\n",
    "predictions\n"
   ]
  },
  {
   "cell_type": "code",
   "execution_count": 18,
   "id": "a433640a",
   "metadata": {},
   "outputs": [
    {
     "data": {
      "text/plain": [
       "<AxesSubplot:xlabel='POP', ylabel='DTH_CUM_CP'>"
      ]
     },
     "execution_count": 18,
     "metadata": {},
     "output_type": "execute_result"
    },
    {
     "data": {
      "image/png": "[encoded data removed]",
      "text/plain": [
       "<Figure size 432x288 with 1 Axes>"
      ]
     },
     "metadata": {
      "needs_background": "light"
     },
     "output_type": "display_data"
    }
   ],
   "source": [
    "predictions = pd.DataFrame({\"POP\": range(0, 18000)})\n",
    "predictions[\"y\"] = model.predict(predictions[xcols])\n",
    "ax = predictions.plot.line(x=\"POP\", y=\"y\", color=\"red\")\n",
    "df.plot.scatter(x=\"POP\", y=\"DTH_CUM_CP\", ax=ax)"
   ]
  },
  {
   "cell_type": "code",
   "execution_count": 19,
   "id": "746922e9",
   "metadata": {},
   "outputs": [
    {
     "data": {
      "text/plain": [
       "'deaths = 0.00202531765994764 * population + 1.6026699609658888'"
      ]
     },
     "execution_count": 19,
     "metadata": {},
     "output_type": "execute_result"
    }
   ],
   "source": [
    "f\"deaths = {model.coef_[0]} * population + {model.intercept_}\""
   ]
  },
  {
   "cell_type": "code",
   "execution_count": 26,
   "id": "59c69968",
   "metadata": {},
   "outputs": [
    {
     "data": {
      "text/plain": [
       "64.45856160704695"
      ]
     },
     "execution_count": 26,
     "metadata": {},
     "output_type": "execute_result"
    }
   ],
   "source": [
    "before = df[\"DTH_CUM_CP\"].var()\n",
    "before"
   ]
  },
  {
   "cell_type": "code",
   "execution_count": 27,
   "id": "6985c50e",
   "metadata": {},
   "outputs": [
    {
     "data": {
      "text/plain": [
       "51.94852682334216"
      ]
     },
     "execution_count": 27,
     "metadata": {},
     "output_type": "execute_result"
    }
   ],
   "source": [
    "after = (df[\"DTH_CUM_CP\"] - model.predict(df[xcols])).var()\n",
    "after"
   ]
  },
  {
   "cell_type": "code",
   "execution_count": 28,
   "id": "0a3d0624",
   "metadata": {},
   "outputs": [
    {
     "data": {
      "text/plain": [
       "12.510034783704782"
      ]
     },
     "execution_count": 28,
     "metadata": {},
     "output_type": "execute_result"
    }
   ],
   "source": [
    "reduction = before - after\n",
    "reduction"
   ]
  },
  {
   "cell_type": "code",
   "execution_count": 29,
   "id": "76f0771b",
   "metadata": {},
   "outputs": [
    {
     "data": {
      "text/plain": [
       "0.19407871463171342"
      ]
     },
     "execution_count": 29,
     "metadata": {},
     "output_type": "execute_result"
    }
   ],
   "source": [
    "reduction / before"
   ]
  },
  {
   "cell_type": "code",
   "execution_count": 30,
   "id": "d5ddf956",
   "metadata": {},
   "outputs": [
    {
     "data": {
      "text/plain": [
       "0.19407871463171344"
      ]
     },
     "execution_count": 30,
     "metadata": {},
     "output_type": "execute_result"
    }
   ],
   "source": [
    "model.score(df[xcols], df[ycol])"
   ]
  },
  {
   "cell_type": "code",
   "execution_count": 32,
   "id": "d0dac9de",
   "metadata": {},
   "outputs": [
    {
     "data": {
      "text/plain": [
       "0.17161195182490563"
      ]
     },
     "execution_count": 32,
     "metadata": {},
     "output_type": "execute_result"
    }
   ],
   "source": [
    "train = df[:len(df)//2]\n",
    "test = df[len(df)//2:]\n",
    "\n",
    "model.fit(train[xcols], train[ycol])\n",
    "model.score(test[xcols], test[ycol])"
   ]
  },
  {
   "cell_type": "code",
   "execution_count": 39,
   "id": "64f142a7",
   "metadata": {},
   "outputs": [
    {
     "data": {
      "text/plain": [
       "0.18147364564695156"
      ]
     },
     "execution_count": 39,
     "metadata": {},
     "output_type": "execute_result"
    }
   ],
   "source": [
    "from sklearn.model_selection import train_test_split, cross_val_score\n",
    "train, test = train_test_split(df)\n",
    "\n",
    "model.fit(train[xcols], train[ycol])\n",
    "model.score(test[xcols], test[ycol])"
   ]
  },
  {
   "cell_type": "code",
   "execution_count": 44,
   "id": "7199a222",
   "metadata": {},
   "outputs": [
    {
     "data": {
      "text/plain": [
       "array([ 0.22222033,  0.25025762,  0.11647802, -0.0226187 ,  0.25480978])"
      ]
     },
     "execution_count": 44,
     "metadata": {},
     "output_type": "execute_result"
    }
   ],
   "source": [
    "pop_model_scores = cross_val_score(model, train[xcols], train[ycol])\n",
    "pop_model_scores"
   ]
  },
  {
   "cell_type": "code",
   "execution_count": 46,
   "id": "7373a23f",
   "metadata": {},
   "outputs": [
    {
     "data": {
      "text/plain": [
       "Index(['RptDt', 'GEOID', 'GEOName', 'POS_CUM_CP', 'POS_NEW_CP',\n",
       "       'POS_7DAYAVG_CP', 'DTH_CUM_CP', 'DTH_NEW_CP', 'DTH_7DAYAVG_CP',\n",
       "       'DTH_OVER_30DAYS_CP', 'DTH_CP_Daily', 'TESTS_POS_CONF',\n",
       "       'TESTS_POS_CONF_NEW', 'TESTS_POS_CONF_7DAYAVG', 'PercentNAATPos',\n",
       "       'TESTS_CUM', 'TESTS_NEW', 'TESTS_7DAYAVG', 'POS_CUM_CONF',\n",
       "       'POS_NEW_CONF', 'POS_7DAYAVG_CONF', 'POS_CUM_PROB', 'POS_NEW_PROB',\n",
       "       'POS_7DAYAVG_PROB', 'DTH_CUM_CONF', 'DTH_NEW_CONF', 'DTH_7DAYAVG_CONF',\n",
       "       'DTH_CONF_Daily', 'DTH_CUM_PROB', 'DTH_NEW_PROB', 'DTH_7DAYAVG_PROB',\n",
       "       'DTH_PROB_Daily', 'POS_MALE_CP', 'POS_FEM_CP', 'POS_OTH_CP',\n",
       "       'POS_0_9_CP', 'POS_10_19_CP', 'POS_20_29_CP', 'POS_30_39_CP',\n",
       "       'POS_40_49_CP', 'POS_50_59_CP', 'POS_60_69_CP', 'POS_70_79_CP',\n",
       "       'POS_80_89_CP', 'POS_90_CP', 'DTHS_FEM_CP', 'DTHS_MALE_CP',\n",
       "       'DTHS_OTH_CP', 'DTHS_0_9_CP', 'DTHS_10_19_CP', 'DTHS_20_29_CP',\n",
       "       'DTHS_30_39_CP', 'DTHS_40_49_CP', 'DTHS_50_59_CP', 'DTHS_60_69_CP',\n",
       "       'DTHS_70_79_CP', 'DTHS_80_89_CP', 'DTHS_90_CP', 'POS_AIAN_CP',\n",
       "       'POS_ASN_CP', 'POS_BLK_CP', 'POS_WHT_CP', 'POS_MLTOTH_CP', 'POS_UNK_CP',\n",
       "       'POS_E_HSP_CP', 'POS_E_NHSP_CP', 'POS_E_UNK_CP', 'DTH_AIAN_CP',\n",
       "       'DTH_ASN_CP', 'DTH_BLK_CP', 'DTH_WHT_CP', 'DTH_MLTOTH_CP', 'DTH_UNK_CP',\n",
       "       'DTH_E_HSP_CP', 'DTH_E_NHSP_CP', 'DTH_E_UNK_CP', 'POS_HC_Y_CP',\n",
       "       'POS_HC_N_CP', 'POS_HC_UNK_CP', 'HOSP_YES_CP', 'HOSP_NO_CP',\n",
       "       'HOSP_UNK_CP', 'Date', 'POP', 'POP_MOE', 'OBJECTID', 'GEO',\n",
       "       'ShapeSTArea', 'ShapeSTLength', 'geometry'],\n",
       "      dtype='object')"
      ]
     },
     "execution_count": 46,
     "metadata": {},
     "output_type": "execute_result"
    }
   ],
   "source": [
    "df.columns"
   ]
  },
  {
   "cell_type": "code",
   "execution_count": 47,
   "id": "115c12f5",
   "metadata": {},
   "outputs": [
    {
     "data": {
      "text/plain": [
       "array([0.2736876 , 0.2919447 , 0.11989205, 0.1418976 , 0.34284083])"
      ]
     },
     "execution_count": 47,
     "metadata": {},
     "output_type": "execute_result"
    }
   ],
   "source": [
    "xcols = [\"POS_CUM_CP\"]\n",
    "ycol = \"DTH_CUM_CP\"\n",
    "model2 = LinearRegression()\n",
    "cases_model_scores = cross_val_score(model2, df[xcols], df[ycol])\n",
    "cases_model_scores"
   ]
  },
  {
   "cell_type": "code",
   "execution_count": 52,
   "id": "4f98c48c",
   "metadata": {},
   "outputs": [
    {
     "data": {
      "text/plain": [
       "<AxesSubplot:>"
      ]
     },
     "execution_count": 52,
     "metadata": {},
     "output_type": "execute_result"
    },
    {
     "data": {
      "image/png": "[encoded data removed]",
      "text/plain": [
       "<Figure size 432x288 with 1 Axes>"
      ]
     },
     "metadata": {
      "needs_background": "light"
     },
     "output_type": "display_data"
    }
   ],
   "source": [
    "scores = pd.Series({\"population model\": pop_model_scores.mean(),\n",
    "                    \"cases model\": cases_model_scores.mean()})\n",
    "dev = pd.Series({\"population model\": pop_model_scores.std(),\n",
    "                  \"cases model\": cases_model_scores.std()})\n",
    "\n",
    "scores.plot.bar(yerr=dev)"
   ]
  },
  {
   "cell_type": "code",
   "execution_count": 54,
   "id": "3586db45",
   "metadata": {},
   "outputs": [
    {
     "data": {
      "text/plain": [
       "0.22569500099053608"
      ]
     },
     "execution_count": 54,
     "metadata": {},
     "output_type": "execute_result"
    }
   ],
   "source": [
    "model2.fit(test[xcols], test[ycol])\n",
    "model2.score(test[xcols], test[ycol])"
   ]
  },
  {
   "cell_type": "code",
   "execution_count": 55,
   "id": "0890d5fb",
   "metadata": {},
   "outputs": [
    {
     "data": {
      "text/plain": [
       "Index(['RptDt', 'GEOID', 'GEOName', 'POS_CUM_CP', 'POS_NEW_CP',\n",
       "       'POS_7DAYAVG_CP', 'DTH_CUM_CP', 'DTH_NEW_CP', 'DTH_7DAYAVG_CP',\n",
       "       'DTH_OVER_30DAYS_CP', 'DTH_CP_Daily', 'TESTS_POS_CONF',\n",
       "       'TESTS_POS_CONF_NEW', 'TESTS_POS_CONF_7DAYAVG', 'PercentNAATPos',\n",
       "       'TESTS_CUM', 'TESTS_NEW', 'TESTS_7DAYAVG', 'POS_CUM_CONF',\n",
       "       'POS_NEW_CONF', 'POS_7DAYAVG_CONF', 'POS_CUM_PROB', 'POS_NEW_PROB',\n",
       "       'POS_7DAYAVG_PROB', 'DTH_CUM_CONF', 'DTH_NEW_CONF', 'DTH_7DAYAVG_CONF',\n",
       "       'DTH_CONF_Daily', 'DTH_CUM_PROB', 'DTH_NEW_PROB', 'DTH_7DAYAVG_PROB',\n",
       "       'DTH_PROB_Daily', 'POS_MALE_CP', 'POS_FEM_CP', 'POS_OTH_CP',\n",
       "       'POS_0_9_CP', 'POS_10_19_CP', 'POS_20_29_CP', 'POS_30_39_CP',\n",
       "       'POS_40_49_CP', 'POS_50_59_CP', 'POS_60_69_CP', 'POS_70_79_CP',\n",
       "       'POS_80_89_CP', 'POS_90_CP', 'DTHS_FEM_CP', 'DTHS_MALE_CP',\n",
       "       'DTHS_OTH_CP', 'DTHS_0_9_CP', 'DTHS_10_19_CP', 'DTHS_20_29_CP',\n",
       "       'DTHS_30_39_CP', 'DTHS_40_49_CP', 'DTHS_50_59_CP', 'DTHS_60_69_CP',\n",
       "       'DTHS_70_79_CP', 'DTHS_80_89_CP', 'DTHS_90_CP', 'POS_AIAN_CP',\n",
       "       'POS_ASN_CP', 'POS_BLK_CP', 'POS_WHT_CP', 'POS_MLTOTH_CP', 'POS_UNK_CP',\n",
       "       'POS_E_HSP_CP', 'POS_E_NHSP_CP', 'POS_E_UNK_CP', 'DTH_AIAN_CP',\n",
       "       'DTH_ASN_CP', 'DTH_BLK_CP', 'DTH_WHT_CP', 'DTH_MLTOTH_CP', 'DTH_UNK_CP',\n",
       "       'DTH_E_HSP_CP', 'DTH_E_NHSP_CP', 'DTH_E_UNK_CP', 'POS_HC_Y_CP',\n",
       "       'POS_HC_N_CP', 'POS_HC_UNK_CP', 'HOSP_YES_CP', 'HOSP_NO_CP',\n",
       "       'HOSP_UNK_CP', 'Date', 'POP', 'POP_MOE', 'OBJECTID', 'GEO',\n",
       "       'ShapeSTArea', 'ShapeSTLength', 'geometry'],\n",
       "      dtype='object')"
      ]
     },
     "execution_count": 55,
     "metadata": {},
     "output_type": "execute_result"
    }
   ],
   "source": [
    "df.columns"
   ]
  },
  {
   "cell_type": "code",
   "execution_count": 57,
   "id": "fdb31ea2",
   "metadata": {},
   "outputs": [
    {
     "data": {
      "text/plain": [
       "array([0.70563998, 0.69202626, 0.68904396, 0.57292001, 0.75496672])"
      ]
     },
     "execution_count": 57,
     "metadata": {},
     "output_type": "execute_result"
    }
   ],
   "source": [
    "xcols = ['POS_0_9_CP', 'POS_10_19_CP', 'POS_20_29_CP', 'POS_30_39_CP',\n",
    "       'POS_40_49_CP', 'POS_50_59_CP', 'POS_60_69_CP', 'POS_70_79_CP',\n",
    "       'POS_80_89_CP', 'POS_90_CP']\n",
    "model = LinearRegression()\n",
    "cross_val_score(model, train[xcols], train[ycol])"
   ]
  },
  {
   "cell_type": "code",
   "execution_count": 59,
   "id": "843e5f71",
   "metadata": {},
   "outputs": [
    {
     "data": {
      "text/plain": [
       "array([-0.02885867,  0.00034528, -0.00077734,  0.01706248,  0.00860453,\n",
       "       -0.00663749,  0.00789109,  0.02340222,  0.16720632,  0.31577997])"
      ]
     },
     "execution_count": 59,
     "metadata": {},
     "output_type": "execute_result"
    }
   ],
   "source": [
    "model.fit(train[xcols], train[ycol])\n",
    "model.coef_"
   ]
  },
  {
   "cell_type": "code",
   "execution_count": 60,
   "id": "0dd78077",
   "metadata": {},
   "outputs": [
    {
     "data": {
      "text/plain": [
       "<AxesSubplot:>"
      ]
     },
     "execution_count": 60,
     "metadata": {},
     "output_type": "execute_result"
    },
    {
     "data": {
      "image/png": "[encoded data removed]",
      "text/plain": [
       "<Figure size 432x288 with 1 Axes>"
      ]
     },
     "metadata": {
      "needs_background": "light"
     },
     "output_type": "display_data"
    }
   ],
   "source": [
    "pd.Series(model.coef_, index=xcols).plot.bar()"
   ]
  },
  {
   "cell_type": "code",
   "execution_count": 61,
   "id": "01e648db",
   "metadata": {},
   "outputs": [
    {
     "data": {
      "text/plain": [
       "0.7234300315679647"
      ]
     },
     "execution_count": 61,
     "metadata": {},
     "output_type": "execute_result"
    }
   ],
   "source": [
    "model.intercept_"
   ]
  },
  {
   "cell_type": "code",
   "execution_count": 62,
   "id": "90e97303",
   "metadata": {},
   "outputs": [
    {
     "data": {
      "text/plain": [
       "Index(['RptDt', 'GEOID', 'GEOName', 'POS_CUM_CP', 'POS_NEW_CP',\n",
       "       'POS_7DAYAVG_CP', 'DTH_CUM_CP', 'DTH_NEW_CP', 'DTH_7DAYAVG_CP',\n",
       "       'DTH_OVER_30DAYS_CP', 'DTH_CP_Daily', 'TESTS_POS_CONF',\n",
       "       'TESTS_POS_CONF_NEW', 'TESTS_POS_CONF_7DAYAVG', 'PercentNAATPos',\n",
       "       'TESTS_CUM', 'TESTS_NEW', 'TESTS_7DAYAVG', 'POS_CUM_CONF',\n",
       "       'POS_NEW_CONF', 'POS_7DAYAVG_CONF', 'POS_CUM_PROB', 'POS_NEW_PROB',\n",
       "       'POS_7DAYAVG_PROB', 'DTH_CUM_CONF', 'DTH_NEW_CONF', 'DTH_7DAYAVG_CONF',\n",
       "       'DTH_CONF_Daily', 'DTH_CUM_PROB', 'DTH_NEW_PROB', 'DTH_7DAYAVG_PROB',\n",
       "       'DTH_PROB_Daily', 'POS_MALE_CP', 'POS_FEM_CP', 'POS_OTH_CP',\n",
       "       'POS_0_9_CP', 'POS_10_19_CP', 'POS_20_29_CP', 'POS_30_39_CP',\n",
       "       'POS_40_49_CP', 'POS_50_59_CP', 'POS_60_69_CP', 'POS_70_79_CP',\n",
       "       'POS_80_89_CP', 'POS_90_CP', 'DTHS_FEM_CP', 'DTHS_MALE_CP',\n",
       "       'DTHS_OTH_CP', 'DTHS_0_9_CP', 'DTHS_10_19_CP', 'DTHS_20_29_CP',\n",
       "       'DTHS_30_39_CP', 'DTHS_40_49_CP', 'DTHS_50_59_CP', 'DTHS_60_69_CP',\n",
       "       'DTHS_70_79_CP', 'DTHS_80_89_CP', 'DTHS_90_CP', 'POS_AIAN_CP',\n",
       "       'POS_ASN_CP', 'POS_BLK_CP', 'POS_WHT_CP', 'POS_MLTOTH_CP', 'POS_UNK_CP',\n",
       "       'POS_E_HSP_CP', 'POS_E_NHSP_CP', 'POS_E_UNK_CP', 'DTH_AIAN_CP',\n",
       "       'DTH_ASN_CP', 'DTH_BLK_CP', 'DTH_WHT_CP', 'DTH_MLTOTH_CP', 'DTH_UNK_CP',\n",
       "       'DTH_E_HSP_CP', 'DTH_E_NHSP_CP', 'DTH_E_UNK_CP', 'POS_HC_Y_CP',\n",
       "       'POS_HC_N_CP', 'POS_HC_UNK_CP', 'HOSP_YES_CP', 'HOSP_NO_CP',\n",
       "       'HOSP_UNK_CP', 'Date', 'POP', 'POP_MOE', 'OBJECTID', 'GEO',\n",
       "       'ShapeSTArea', 'ShapeSTLength', 'geometry'],\n",
       "      dtype='object')"
      ]
     },
     "execution_count": 62,
     "metadata": {},
     "output_type": "execute_result"
    }
   ],
   "source": [
    "df.columns"
   ]
  },
  {
   "cell_type": "code",
   "execution_count": 65,
   "id": "a35f21f4",
   "metadata": {},
   "outputs": [
    {
     "name": "stderr",
     "output_type": "stream",
     "text": [
      "/tmp/ipykernel_82485/2704296042.py:1: UserWarning: Geometry is in a geographic CRS. Results from 'area' are likely incorrect. Use 'GeoSeries.to_crs()' to re-project geometries to a projected CRS before this operation.\n",
      "\n",
      "  df.area\n"
     ]
    },
    {
     "data": {
      "text/plain": [
       "0       0.000441\n",
       "1       0.000721\n",
       "2       0.000876\n",
       "3       0.000871\n",
       "4       0.000220\n",
       "          ...   \n",
       "1388    0.062779\n",
       "1389    0.030203\n",
       "1390    0.020349\n",
       "1391    0.030825\n",
       "1392    0.030934\n",
       "Length: 1392, dtype: float64"
      ]
     },
     "execution_count": 65,
     "metadata": {},
     "output_type": "execute_result"
    }
   ],
   "source": [
    "df.area"
   ]
  },
  {
   "cell_type": "code",
   "execution_count": 66,
   "id": "b1f310b1",
   "metadata": {},
   "outputs": [
    {
     "data": {
      "text/html": [
       "<div>\n",
       "<style scoped>\n",
       "    .dataframe tbody tr th:only-of-type {\n",
       "        vertical-align: middle;\n",
       "    }\n",
       "\n",
       "    .dataframe tbody tr th {\n",
       "        vertical-align: top;\n",
       "    }\n",
       "\n",
       "    .dataframe thead th {\n",
       "        text-align: right;\n",
       "    }\n",
       "</style>\n",
       "<table border=\"1\" class=\"dataframe\">\n",
       "  <thead>\n",
       "    <tr style=\"text-align: right;\">\n",
       "      <th></th>\n",
       "      <th>RptDt</th>\n",
       "      <th>GEOName</th>\n",
       "      <th>POS_CUM_CP</th>\n",
       "      <th>POS_NEW_CP</th>\n",
       "      <th>POS_7DAYAVG_CP</th>\n",
       "      <th>DTH_CUM_CP</th>\n",
       "      <th>DTH_NEW_CP</th>\n",
       "      <th>DTH_7DAYAVG_CP</th>\n",
       "      <th>DTH_OVER_30DAYS_CP</th>\n",
       "      <th>DTH_CP_Daily</th>\n",
       "      <th>...</th>\n",
       "      <th>HOSP_NO_CP</th>\n",
       "      <th>HOSP_UNK_CP</th>\n",
       "      <th>Date</th>\n",
       "      <th>POP</th>\n",
       "      <th>POP_MOE</th>\n",
       "      <th>OBJECTID</th>\n",
       "      <th>GEO</th>\n",
       "      <th>ShapeSTArea</th>\n",
       "      <th>ShapeSTLength</th>\n",
       "      <th>geometry</th>\n",
       "    </tr>\n",
       "    <tr>\n",
       "      <th>GEOID</th>\n",
       "      <th></th>\n",
       "      <th></th>\n",
       "      <th></th>\n",
       "      <th></th>\n",
       "      <th></th>\n",
       "      <th></th>\n",
       "      <th></th>\n",
       "      <th></th>\n",
       "      <th></th>\n",
       "      <th></th>\n",
       "      <th></th>\n",
       "      <th></th>\n",
       "      <th></th>\n",
       "      <th></th>\n",
       "      <th></th>\n",
       "      <th></th>\n",
       "      <th></th>\n",
       "      <th></th>\n",
       "      <th></th>\n",
       "      <th></th>\n",
       "      <th></th>\n",
       "    </tr>\n",
       "  </thead>\n",
       "  <tbody>\n",
       "    <tr>\n",
       "      <th>55079000101</th>\n",
       "      <td>2022-04-07T19:00:00+00:00</td>\n",
       "      <td>None</td>\n",
       "      <td>1158</td>\n",
       "      <td>0</td>\n",
       "      <td>0.14</td>\n",
       "      <td>24</td>\n",
       "      <td>0</td>\n",
       "      <td>0.0</td>\n",
       "      <td>0</td>\n",
       "      <td>0</td>\n",
       "      <td>...</td>\n",
       "      <td>511</td>\n",
       "      <td>568</td>\n",
       "      <td>2022-04-06T06:00:00+00:00</td>\n",
       "      <td>4476</td>\n",
       "      <td>437.0</td>\n",
       "      <td>260</td>\n",
       "      <td>Census tract</td>\n",
       "      <td>7.500609e+06</td>\n",
       "      <td>11159.571995</td>\n",
       "      <td>POLYGON ((-87.99418 43.19256, -87.99429 43.192...</td>\n",
       "    </tr>\n",
       "    <tr>\n",
       "      <th>55079000102</th>\n",
       "      <td>2022-04-07T19:00:00+00:00</td>\n",
       "      <td>None</td>\n",
       "      <td>1159</td>\n",
       "      <td>1</td>\n",
       "      <td>0.43</td>\n",
       "      <td>19</td>\n",
       "      <td>0</td>\n",
       "      <td>0.0</td>\n",
       "      <td>0</td>\n",
       "      <td>0</td>\n",
       "      <td>...</td>\n",
       "      <td>561</td>\n",
       "      <td>508</td>\n",
       "      <td>2022-04-06T06:00:00+00:00</td>\n",
       "      <td>3468</td>\n",
       "      <td>404.0</td>\n",
       "      <td>261</td>\n",
       "      <td>Census tract</td>\n",
       "      <td>1.224474e+07</td>\n",
       "      <td>15500.211793</td>\n",
       "      <td>POLYGON ((-87.99449 43.17769, -87.99512 43.177...</td>\n",
       "    </tr>\n",
       "    <tr>\n",
       "      <th>55079000201</th>\n",
       "      <td>2022-04-07T19:00:00+00:00</td>\n",
       "      <td>None</td>\n",
       "      <td>1410</td>\n",
       "      <td>0</td>\n",
       "      <td>0.29</td>\n",
       "      <td>10</td>\n",
       "      <td>0</td>\n",
       "      <td>0.0</td>\n",
       "      <td>0</td>\n",
       "      <td>0</td>\n",
       "      <td>...</td>\n",
       "      <td>722</td>\n",
       "      <td>609</td>\n",
       "      <td>2022-04-06T06:00:00+00:00</td>\n",
       "      <td>5561</td>\n",
       "      <td>699.0</td>\n",
       "      <td>262</td>\n",
       "      <td>Census tract</td>\n",
       "      <td>1.488298e+07</td>\n",
       "      <td>17849.912522</td>\n",
       "      <td>POLYGON ((-88.02435 43.17761, -88.02434 43.177...</td>\n",
       "    </tr>\n",
       "    <tr>\n",
       "      <th>55079000202</th>\n",
       "      <td>2022-04-07T19:00:00+00:00</td>\n",
       "      <td>None</td>\n",
       "      <td>1728</td>\n",
       "      <td>0</td>\n",
       "      <td>0.71</td>\n",
       "      <td>11</td>\n",
       "      <td>0</td>\n",
       "      <td>0.0</td>\n",
       "      <td>0</td>\n",
       "      <td>0</td>\n",
       "      <td>...</td>\n",
       "      <td>913</td>\n",
       "      <td>738</td>\n",
       "      <td>2022-04-06T06:00:00+00:00</td>\n",
       "      <td>6439</td>\n",
       "      <td>621.0</td>\n",
       "      <td>263</td>\n",
       "      <td>Census tract</td>\n",
       "      <td>1.480524e+07</td>\n",
       "      <td>17742.064041</td>\n",
       "      <td>POLYGON ((-88.02435 43.17761, -88.02518 43.177...</td>\n",
       "    </tr>\n",
       "    <tr>\n",
       "      <th>55079000301</th>\n",
       "      <td>2022-04-07T19:00:00+00:00</td>\n",
       "      <td>None</td>\n",
       "      <td>411</td>\n",
       "      <td>1</td>\n",
       "      <td>0.14</td>\n",
       "      <td>4</td>\n",
       "      <td>0</td>\n",
       "      <td>0.0</td>\n",
       "      <td>0</td>\n",
       "      <td>0</td>\n",
       "      <td>...</td>\n",
       "      <td>218</td>\n",
       "      <td>172</td>\n",
       "      <td>2022-04-06T06:00:00+00:00</td>\n",
       "      <td>1485</td>\n",
       "      <td>92.0</td>\n",
       "      <td>264</td>\n",
       "      <td>Census tract</td>\n",
       "      <td>3.733793e+06</td>\n",
       "      <td>9142.114479</td>\n",
       "      <td>POLYGON ((-88.05488 43.14699, -88.05511 43.146...</td>\n",
       "    </tr>\n",
       "  </tbody>\n",
       "</table>\n",
       "<p>5 rows × 89 columns</p>\n",
       "</div>"
      ],
      "text/plain": [
       "                                 RptDt GEOName  POS_CUM_CP  POS_NEW_CP  \\\n",
       "GEOID                                                                    \n",
       "55079000101  2022-04-07T19:00:00+00:00    None        1158           0   \n",
       "55079000102  2022-04-07T19:00:00+00:00    None        1159           1   \n",
       "55079000201  2022-04-07T19:00:00+00:00    None        1410           0   \n",
       "55079000202  2022-04-07T19:00:00+00:00    None        1728           0   \n",
       "55079000301  2022-04-07T19:00:00+00:00    None         411           1   \n",
       "\n",
       "             POS_7DAYAVG_CP  DTH_CUM_CP  DTH_NEW_CP  DTH_7DAYAVG_CP  \\\n",
       "GEOID                                                                 \n",
       "55079000101            0.14          24           0             0.0   \n",
       "55079000102            0.43          19           0             0.0   \n",
       "55079000201            0.29          10           0             0.0   \n",
       "55079000202            0.71          11           0             0.0   \n",
       "55079000301            0.14           4           0             0.0   \n",
       "\n",
       "             DTH_OVER_30DAYS_CP  DTH_CP_Daily  ... HOSP_NO_CP HOSP_UNK_CP  \\\n",
       "GEOID                                          ...                          \n",
       "55079000101                   0             0  ...        511         568   \n",
       "55079000102                   0             0  ...        561         508   \n",
       "55079000201                   0             0  ...        722         609   \n",
       "55079000202                   0             0  ...        913         738   \n",
       "55079000301                   0             0  ...        218         172   \n",
       "\n",
       "                                  Date   POP  POP_MOE  OBJECTID           GEO  \\\n",
       "GEOID                                                                           \n",
       "55079000101  2022-04-06T06:00:00+00:00  4476    437.0       260  Census tract   \n",
       "55079000102  2022-04-06T06:00:00+00:00  3468    404.0       261  Census tract   \n",
       "55079000201  2022-04-06T06:00:00+00:00  5561    699.0       262  Census tract   \n",
       "55079000202  2022-04-06T06:00:00+00:00  6439    621.0       263  Census tract   \n",
       "55079000301  2022-04-06T06:00:00+00:00  1485     92.0       264  Census tract   \n",
       "\n",
       "              ShapeSTArea  ShapeSTLength  \\\n",
       "GEOID                                      \n",
       "55079000101  7.500609e+06   11159.571995   \n",
       "55079000102  1.224474e+07   15500.211793   \n",
       "55079000201  1.488298e+07   17849.912522   \n",
       "55079000202  1.480524e+07   17742.064041   \n",
       "55079000301  3.733793e+06    9142.114479   \n",
       "\n",
       "                                                      geometry  \n",
       "GEOID                                                           \n",
       "55079000101  POLYGON ((-87.99418 43.19256, -87.99429 43.192...  \n",
       "55079000102  POLYGON ((-87.99449 43.17769, -87.99512 43.177...  \n",
       "55079000201  POLYGON ((-88.02435 43.17761, -88.02434 43.177...  \n",
       "55079000202  POLYGON ((-88.02435 43.17761, -88.02518 43.177...  \n",
       "55079000301  POLYGON ((-88.05488 43.14699, -88.05511 43.146...  \n",
       "\n",
       "[5 rows x 89 columns]"
      ]
     },
     "execution_count": 66,
     "metadata": {},
     "output_type": "execute_result"
    }
   ],
   "source": [
    "df.set_index(\"GEOID\", inplace=True)\n",
    "df.head()"
   ]
  },
  {
   "cell_type": "code",
   "execution_count": 68,
   "id": "d79347b1",
   "metadata": {},
   "outputs": [
    {
     "ename": "DriverError",
     "evalue": "'/vsimem/4686a1b549cb463888a8920a0864b0a4' not recognized as a supported file format.",
     "output_type": "error",
     "traceback": [
      "\u001b[0;31m---------------------------------------------------------------------------\u001b[0m",
      "\u001b[0;31mCPLE_OpenFailedError\u001b[0m                      Traceback (most recent call last)",
      "\u001b[0;32mfiona/_shim.pyx\u001b[0m in \u001b[0;36mfiona._shim.gdal_open_vector\u001b[0;34m()\u001b[0m\n",
      "\u001b[0;32mfiona/_err.pyx\u001b[0m in \u001b[0;36mfiona._err.exc_wrap_pointer\u001b[0;34m()\u001b[0m\n",
      "\u001b[0;31mCPLE_OpenFailedError\u001b[0m: '/vsimem/4686a1b549cb463888a8920a0864b0a4' not recognized as a supported file format.",
      "\nDuring handling of the above exception, another exception occurred:\n",
      "\u001b[0;31mDriverError\u001b[0m                               Traceback (most recent call last)",
      "\u001b[0;32m/tmp/ipykernel_82485/2809947113.py\u001b[0m in \u001b[0;36m<module>\u001b[0;34m\u001b[0m\n\u001b[0;32m----> 1\u001b[0;31m \u001b[0mvac\u001b[0m \u001b[0;34m=\u001b[0m \u001b[0mgpd\u001b[0m\u001b[0;34m.\u001b[0m\u001b[0mread_file\u001b[0m\u001b[0;34m(\u001b[0m\u001b[0;34m\"https://opendata.arcgis.com/datasets/d1900c4a817d4b49940373f7ad934822_2.geojson\"\u001b[0m\u001b[0;34m)\u001b[0m\u001b[0;34m\u001b[0m\u001b[0;34m\u001b[0m\u001b[0m\n\u001b[0m\u001b[1;32m      2\u001b[0m \u001b[0mvac\u001b[0m\u001b[0;34m.\u001b[0m\u001b[0mhead\u001b[0m\u001b[0;34m(\u001b[0m\u001b[0;34m)\u001b[0m\u001b[0;34m\u001b[0m\u001b[0;34m\u001b[0m\u001b[0m\n",
      "\u001b[0;32m~/.local/lib/python3.8/site-packages/geopandas/io/file.py\u001b[0m in \u001b[0;36m_read_file\u001b[0;34m(filename, bbox, mask, rows, **kwargs)\u001b[0m\n\u001b[1;32m    199\u001b[0m \u001b[0;34m\u001b[0m\u001b[0m\n\u001b[1;32m    200\u001b[0m     \u001b[0;32mwith\u001b[0m \u001b[0mfiona_env\u001b[0m\u001b[0;34m(\u001b[0m\u001b[0;34m)\u001b[0m\u001b[0;34m:\u001b[0m\u001b[0;34m\u001b[0m\u001b[0;34m\u001b[0m\u001b[0m\n\u001b[0;32m--> 201\u001b[0;31m         \u001b[0;32mwith\u001b[0m \u001b[0mreader\u001b[0m\u001b[0;34m(\u001b[0m\u001b[0mpath_or_bytes\u001b[0m\u001b[0;34m,\u001b[0m \u001b[0;34m**\u001b[0m\u001b[0mkwargs\u001b[0m\u001b[0;34m)\u001b[0m \u001b[0;32mas\u001b[0m \u001b[0mfeatures\u001b[0m\u001b[0;34m:\u001b[0m\u001b[0;34m\u001b[0m\u001b[0;34m\u001b[0m\u001b[0m\n\u001b[0m\u001b[1;32m    202\u001b[0m \u001b[0;34m\u001b[0m\u001b[0m\n\u001b[1;32m    203\u001b[0m             \u001b[0;31m# In a future Fiona release the crs attribute of features will\u001b[0m\u001b[0;34m\u001b[0m\u001b[0;34m\u001b[0m\u001b[0;34m\u001b[0m\u001b[0m\n",
      "\u001b[0;32m~/.local/lib/python3.8/site-packages/fiona/collection.py\u001b[0m in \u001b[0;36m__init__\u001b[0;34m(self, bytesbuf, **kwds)\u001b[0m\n\u001b[1;32m    553\u001b[0m \u001b[0;34m\u001b[0m\u001b[0m\n\u001b[1;32m    554\u001b[0m         \u001b[0;31m# Instantiate the parent class.\u001b[0m\u001b[0;34m\u001b[0m\u001b[0;34m\u001b[0m\u001b[0;34m\u001b[0m\u001b[0m\n\u001b[0;32m--> 555\u001b[0;31m         \u001b[0msuper\u001b[0m\u001b[0;34m(\u001b[0m\u001b[0mBytesCollection\u001b[0m\u001b[0;34m,\u001b[0m \u001b[0mself\u001b[0m\u001b[0;34m)\u001b[0m\u001b[0;34m.\u001b[0m\u001b[0m__init__\u001b[0m\u001b[0;34m(\u001b[0m\u001b[0mself\u001b[0m\u001b[0;34m.\u001b[0m\u001b[0mvirtual_file\u001b[0m\u001b[0;34m,\u001b[0m \u001b[0mvsi\u001b[0m\u001b[0;34m=\u001b[0m\u001b[0mfiletype\u001b[0m\u001b[0;34m,\u001b[0m \u001b[0;34m**\u001b[0m\u001b[0mkwds\u001b[0m\u001b[0;34m)\u001b[0m\u001b[0;34m\u001b[0m\u001b[0;34m\u001b[0m\u001b[0m\n\u001b[0m\u001b[1;32m    556\u001b[0m \u001b[0;34m\u001b[0m\u001b[0m\n\u001b[1;32m    557\u001b[0m     \u001b[0;32mdef\u001b[0m \u001b[0mclose\u001b[0m\u001b[0;34m(\u001b[0m\u001b[0mself\u001b[0m\u001b[0;34m)\u001b[0m\u001b[0;34m:\u001b[0m\u001b[0;34m\u001b[0m\u001b[0;34m\u001b[0m\u001b[0m\n",
      "\u001b[0;32m~/.local/lib/python3.8/site-packages/fiona/collection.py\u001b[0m in \u001b[0;36m__init__\u001b[0;34m(self, path, mode, driver, schema, crs, encoding, layer, vsi, archive, enabled_drivers, crs_wkt, ignore_fields, ignore_geometry, **kwargs)\u001b[0m\n\u001b[1;32m    160\u001b[0m             \u001b[0;32mif\u001b[0m \u001b[0mself\u001b[0m\u001b[0;34m.\u001b[0m\u001b[0mmode\u001b[0m \u001b[0;34m==\u001b[0m \u001b[0;34m'r'\u001b[0m\u001b[0;34m:\u001b[0m\u001b[0;34m\u001b[0m\u001b[0;34m\u001b[0m\u001b[0m\n\u001b[1;32m    161\u001b[0m                 \u001b[0mself\u001b[0m\u001b[0;34m.\u001b[0m\u001b[0msession\u001b[0m \u001b[0;34m=\u001b[0m \u001b[0mSession\u001b[0m\u001b[0;34m(\u001b[0m\u001b[0;34m)\u001b[0m\u001b[0;34m\u001b[0m\u001b[0;34m\u001b[0m\u001b[0m\n\u001b[0;32m--> 162\u001b[0;31m                 \u001b[0mself\u001b[0m\u001b[0;34m.\u001b[0m\u001b[0msession\u001b[0m\u001b[0;34m.\u001b[0m\u001b[0mstart\u001b[0m\u001b[0;34m(\u001b[0m\u001b[0mself\u001b[0m\u001b[0;34m,\u001b[0m \u001b[0;34m**\u001b[0m\u001b[0mkwargs\u001b[0m\u001b[0;34m)\u001b[0m\u001b[0;34m\u001b[0m\u001b[0;34m\u001b[0m\u001b[0m\n\u001b[0m\u001b[1;32m    163\u001b[0m             \u001b[0;32melif\u001b[0m \u001b[0mself\u001b[0m\u001b[0;34m.\u001b[0m\u001b[0mmode\u001b[0m \u001b[0;32min\u001b[0m \u001b[0;34m(\u001b[0m\u001b[0;34m'a'\u001b[0m\u001b[0;34m,\u001b[0m \u001b[0;34m'w'\u001b[0m\u001b[0;34m)\u001b[0m\u001b[0;34m:\u001b[0m\u001b[0;34m\u001b[0m\u001b[0;34m\u001b[0m\u001b[0m\n\u001b[1;32m    164\u001b[0m                 \u001b[0mself\u001b[0m\u001b[0;34m.\u001b[0m\u001b[0msession\u001b[0m \u001b[0;34m=\u001b[0m \u001b[0mWritingSession\u001b[0m\u001b[0;34m(\u001b[0m\u001b[0;34m)\u001b[0m\u001b[0;34m\u001b[0m\u001b[0;34m\u001b[0m\u001b[0m\n",
      "\u001b[0;32mfiona/ogrext.pyx\u001b[0m in \u001b[0;36mfiona.ogrext.Session.start\u001b[0;34m()\u001b[0m\n",
      "\u001b[0;32mfiona/_shim.pyx\u001b[0m in \u001b[0;36mfiona._shim.gdal_open_vector\u001b[0;34m()\u001b[0m\n",
      "\u001b[0;31mDriverError\u001b[0m: '/vsimem/4686a1b549cb463888a8920a0864b0a4' not recognized as a supported file format."
     ]
    }
   ],
   "source": [
    "vac = gpd.read_file(\"https://opendata.arcgis.com/datasets/d1900c4a817d4b49940373f7ad934822_2.geojson\")\n",
    "vac.head()"
   ]
  }
 ],
 "metadata": {
  "kernelspec": {
   "display_name": "Python 3 (ipykernel)",
   "language": "python",
   "name": "python3"
  },
  "language_info": {
   "codemirror_mode": {
    "name": "ipython",
    "version": 3
   },
   "file_extension": ".py",
   "mimetype": "text/x-python",
   "name": "python",
   "nbconvert_exporter": "python",
   "pygments_lexer": "ipython3",
   "version": "3.8.10"
  }
 },
 "nbformat": 4,
 "nbformat_minor": 5
}
