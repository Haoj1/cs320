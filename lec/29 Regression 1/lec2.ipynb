{
 "cells": [
  {
   "cell_type": "code",
   "execution_count": 1,
   "id": "e6f3cba8",
   "metadata": {},
   "outputs": [],
   "source": [
    "import geopandas as gpd\n",
    "\n",
    "# ONCE\n",
    "#df = gpd.read_file(\"https://opendata.arcgis.com/datasets/559d482bad0643f69cbe1538243e0baa_9.geojson\")\n",
    "#df.to_file(\"lec2covid.geojson\")"
   ]
  },
  {
   "cell_type": "code",
   "execution_count": 2,
   "id": "7c10f12b",
   "metadata": {},
   "outputs": [
    {
     "data": {
      "text/html": [
       "<div>\n",
       "<style scoped>\n",
       "    .dataframe tbody tr th:only-of-type {\n",
       "        vertical-align: middle;\n",
       "    }\n",
       "\n",
       "    .dataframe tbody tr th {\n",
       "        vertical-align: top;\n",
       "    }\n",
       "\n",
       "    .dataframe thead th {\n",
       "        text-align: right;\n",
       "    }\n",
       "</style>\n",
       "<table border=\"1\" class=\"dataframe\">\n",
       "  <thead>\n",
       "    <tr style=\"text-align: right;\">\n",
       "      <th></th>\n",
       "      <th>RptDt</th>\n",
       "      <th>GEOID</th>\n",
       "      <th>GEOName</th>\n",
       "      <th>POS_CUM_CP</th>\n",
       "      <th>POS_NEW_CP</th>\n",
       "      <th>POS_7DAYAVG_CP</th>\n",
       "      <th>DTH_CUM_CP</th>\n",
       "      <th>DTH_NEW_CP</th>\n",
       "      <th>DTH_7DAYAVG_CP</th>\n",
       "      <th>DTH_OVER_30DAYS_CP</th>\n",
       "      <th>...</th>\n",
       "      <th>HOSP_NO_CP</th>\n",
       "      <th>HOSP_UNK_CP</th>\n",
       "      <th>Date</th>\n",
       "      <th>POP</th>\n",
       "      <th>POP_MOE</th>\n",
       "      <th>OBJECTID</th>\n",
       "      <th>GEO</th>\n",
       "      <th>ShapeSTArea</th>\n",
       "      <th>ShapeSTLength</th>\n",
       "      <th>geometry</th>\n",
       "    </tr>\n",
       "  </thead>\n",
       "  <tbody>\n",
       "    <tr>\n",
       "      <th>0</th>\n",
       "      <td>2022-04-07T19:00:00+00:00</td>\n",
       "      <td>55079000101</td>\n",
       "      <td>None</td>\n",
       "      <td>1158</td>\n",
       "      <td>0</td>\n",
       "      <td>0.14</td>\n",
       "      <td>24</td>\n",
       "      <td>0</td>\n",
       "      <td>0.0</td>\n",
       "      <td>0</td>\n",
       "      <td>...</td>\n",
       "      <td>511</td>\n",
       "      <td>568</td>\n",
       "      <td>2022-04-06T06:00:00+00:00</td>\n",
       "      <td>4476</td>\n",
       "      <td>437.0</td>\n",
       "      <td>260</td>\n",
       "      <td>Census tract</td>\n",
       "      <td>7.500609e+06</td>\n",
       "      <td>11159.571995</td>\n",
       "      <td>POLYGON ((-87.99418 43.19256, -87.99429 43.192...</td>\n",
       "    </tr>\n",
       "    <tr>\n",
       "      <th>1</th>\n",
       "      <td>2022-04-07T19:00:00+00:00</td>\n",
       "      <td>55079000102</td>\n",
       "      <td>None</td>\n",
       "      <td>1159</td>\n",
       "      <td>1</td>\n",
       "      <td>0.43</td>\n",
       "      <td>19</td>\n",
       "      <td>0</td>\n",
       "      <td>0.0</td>\n",
       "      <td>0</td>\n",
       "      <td>...</td>\n",
       "      <td>561</td>\n",
       "      <td>508</td>\n",
       "      <td>2022-04-06T06:00:00+00:00</td>\n",
       "      <td>3468</td>\n",
       "      <td>404.0</td>\n",
       "      <td>261</td>\n",
       "      <td>Census tract</td>\n",
       "      <td>1.224474e+07</td>\n",
       "      <td>15500.211793</td>\n",
       "      <td>POLYGON ((-87.99449 43.17769, -87.99512 43.177...</td>\n",
       "    </tr>\n",
       "    <tr>\n",
       "      <th>2</th>\n",
       "      <td>2022-04-07T19:00:00+00:00</td>\n",
       "      <td>55079000201</td>\n",
       "      <td>None</td>\n",
       "      <td>1410</td>\n",
       "      <td>0</td>\n",
       "      <td>0.29</td>\n",
       "      <td>10</td>\n",
       "      <td>0</td>\n",
       "      <td>0.0</td>\n",
       "      <td>0</td>\n",
       "      <td>...</td>\n",
       "      <td>722</td>\n",
       "      <td>609</td>\n",
       "      <td>2022-04-06T06:00:00+00:00</td>\n",
       "      <td>5561</td>\n",
       "      <td>699.0</td>\n",
       "      <td>262</td>\n",
       "      <td>Census tract</td>\n",
       "      <td>1.488298e+07</td>\n",
       "      <td>17849.912522</td>\n",
       "      <td>POLYGON ((-88.02435 43.17761, -88.02434 43.177...</td>\n",
       "    </tr>\n",
       "    <tr>\n",
       "      <th>3</th>\n",
       "      <td>2022-04-07T19:00:00+00:00</td>\n",
       "      <td>55079000202</td>\n",
       "      <td>None</td>\n",
       "      <td>1728</td>\n",
       "      <td>0</td>\n",
       "      <td>0.71</td>\n",
       "      <td>11</td>\n",
       "      <td>0</td>\n",
       "      <td>0.0</td>\n",
       "      <td>0</td>\n",
       "      <td>...</td>\n",
       "      <td>913</td>\n",
       "      <td>738</td>\n",
       "      <td>2022-04-06T06:00:00+00:00</td>\n",
       "      <td>6439</td>\n",
       "      <td>621.0</td>\n",
       "      <td>263</td>\n",
       "      <td>Census tract</td>\n",
       "      <td>1.480524e+07</td>\n",
       "      <td>17742.064041</td>\n",
       "      <td>POLYGON ((-88.02435 43.17761, -88.02518 43.177...</td>\n",
       "    </tr>\n",
       "    <tr>\n",
       "      <th>4</th>\n",
       "      <td>2022-04-07T19:00:00+00:00</td>\n",
       "      <td>55079000301</td>\n",
       "      <td>None</td>\n",
       "      <td>411</td>\n",
       "      <td>1</td>\n",
       "      <td>0.14</td>\n",
       "      <td>4</td>\n",
       "      <td>0</td>\n",
       "      <td>0.0</td>\n",
       "      <td>0</td>\n",
       "      <td>...</td>\n",
       "      <td>218</td>\n",
       "      <td>172</td>\n",
       "      <td>2022-04-06T06:00:00+00:00</td>\n",
       "      <td>1485</td>\n",
       "      <td>92.0</td>\n",
       "      <td>264</td>\n",
       "      <td>Census tract</td>\n",
       "      <td>3.733793e+06</td>\n",
       "      <td>9142.114479</td>\n",
       "      <td>POLYGON ((-88.05488 43.14699, -88.05511 43.146...</td>\n",
       "    </tr>\n",
       "  </tbody>\n",
       "</table>\n",
       "<p>5 rows × 90 columns</p>\n",
       "</div>"
      ],
      "text/plain": [
       "                       RptDt        GEOID GEOName  POS_CUM_CP  POS_NEW_CP  \\\n",
       "0  2022-04-07T19:00:00+00:00  55079000101    None        1158           0   \n",
       "1  2022-04-07T19:00:00+00:00  55079000102    None        1159           1   \n",
       "2  2022-04-07T19:00:00+00:00  55079000201    None        1410           0   \n",
       "3  2022-04-07T19:00:00+00:00  55079000202    None        1728           0   \n",
       "4  2022-04-07T19:00:00+00:00  55079000301    None         411           1   \n",
       "\n",
       "   POS_7DAYAVG_CP  DTH_CUM_CP  DTH_NEW_CP  DTH_7DAYAVG_CP  DTH_OVER_30DAYS_CP  \\\n",
       "0            0.14          24           0             0.0                   0   \n",
       "1            0.43          19           0             0.0                   0   \n",
       "2            0.29          10           0             0.0                   0   \n",
       "3            0.71          11           0             0.0                   0   \n",
       "4            0.14           4           0             0.0                   0   \n",
       "\n",
       "   ...  HOSP_NO_CP HOSP_UNK_CP                       Date   POP POP_MOE  \\\n",
       "0  ...         511         568  2022-04-06T06:00:00+00:00  4476   437.0   \n",
       "1  ...         561         508  2022-04-06T06:00:00+00:00  3468   404.0   \n",
       "2  ...         722         609  2022-04-06T06:00:00+00:00  5561   699.0   \n",
       "3  ...         913         738  2022-04-06T06:00:00+00:00  6439   621.0   \n",
       "4  ...         218         172  2022-04-06T06:00:00+00:00  1485    92.0   \n",
       "\n",
       "   OBJECTID           GEO   ShapeSTArea  ShapeSTLength  \\\n",
       "0       260  Census tract  7.500609e+06   11159.571995   \n",
       "1       261  Census tract  1.224474e+07   15500.211793   \n",
       "2       262  Census tract  1.488298e+07   17849.912522   \n",
       "3       263  Census tract  1.480524e+07   17742.064041   \n",
       "4       264  Census tract  3.733793e+06    9142.114479   \n",
       "\n",
       "                                            geometry  \n",
       "0  POLYGON ((-87.99418 43.19256, -87.99429 43.192...  \n",
       "1  POLYGON ((-87.99449 43.17769, -87.99512 43.177...  \n",
       "2  POLYGON ((-88.02435 43.17761, -88.02434 43.177...  \n",
       "3  POLYGON ((-88.02435 43.17761, -88.02518 43.177...  \n",
       "4  POLYGON ((-88.05488 43.14699, -88.05511 43.146...  \n",
       "\n",
       "[5 rows x 90 columns]"
      ]
     },
     "execution_count": 2,
     "metadata": {},
     "output_type": "execute_result"
    }
   ],
   "source": [
    "df = gpd.read_file(\"lec2download.geojson\")\n",
    "df.head()"
   ]
  },
  {
   "cell_type": "code",
   "execution_count": 3,
   "id": "98e47429",
   "metadata": {},
   "outputs": [
    {
     "data": {
      "text/plain": [
       "Index(['RptDt', 'GEOID', 'GEOName', 'POS_CUM_CP', 'POS_NEW_CP',\n",
       "       'POS_7DAYAVG_CP', 'DTH_CUM_CP', 'DTH_NEW_CP', 'DTH_7DAYAVG_CP',\n",
       "       'DTH_OVER_30DAYS_CP', 'DTH_CP_Daily', 'TESTS_POS_CONF',\n",
       "       'TESTS_POS_CONF_NEW', 'TESTS_POS_CONF_7DAYAVG', 'PercentNAATPos',\n",
       "       'TESTS_CUM', 'TESTS_NEW', 'TESTS_7DAYAVG', 'POS_CUM_CONF',\n",
       "       'POS_NEW_CONF', 'POS_7DAYAVG_CONF', 'POS_CUM_PROB', 'POS_NEW_PROB',\n",
       "       'POS_7DAYAVG_PROB', 'DTH_CUM_CONF', 'DTH_NEW_CONF', 'DTH_7DAYAVG_CONF',\n",
       "       'DTH_CONF_Daily', 'DTH_CUM_PROB', 'DTH_NEW_PROB', 'DTH_7DAYAVG_PROB',\n",
       "       'DTH_PROB_Daily', 'POS_MALE_CP', 'POS_FEM_CP', 'POS_OTH_CP',\n",
       "       'POS_0_9_CP', 'POS_10_19_CP', 'POS_20_29_CP', 'POS_30_39_CP',\n",
       "       'POS_40_49_CP', 'POS_50_59_CP', 'POS_60_69_CP', 'POS_70_79_CP',\n",
       "       'POS_80_89_CP', 'POS_90_CP', 'DTHS_FEM_CP', 'DTHS_MALE_CP',\n",
       "       'DTHS_OTH_CP', 'DTHS_0_9_CP', 'DTHS_10_19_CP', 'DTHS_20_29_CP',\n",
       "       'DTHS_30_39_CP', 'DTHS_40_49_CP', 'DTHS_50_59_CP', 'DTHS_60_69_CP',\n",
       "       'DTHS_70_79_CP', 'DTHS_80_89_CP', 'DTHS_90_CP', 'POS_AIAN_CP',\n",
       "       'POS_ASN_CP', 'POS_BLK_CP', 'POS_WHT_CP', 'POS_MLTOTH_CP', 'POS_UNK_CP',\n",
       "       'POS_E_HSP_CP', 'POS_E_NHSP_CP', 'POS_E_UNK_CP', 'DTH_AIAN_CP',\n",
       "       'DTH_ASN_CP', 'DTH_BLK_CP', 'DTH_WHT_CP', 'DTH_MLTOTH_CP', 'DTH_UNK_CP',\n",
       "       'DTH_E_HSP_CP', 'DTH_E_NHSP_CP', 'DTH_E_UNK_CP', 'POS_HC_Y_CP',\n",
       "       'POS_HC_N_CP', 'POS_HC_UNK_CP', 'HOSP_YES_CP', 'HOSP_NO_CP',\n",
       "       'HOSP_UNK_CP', 'Date', 'POP', 'POP_MOE', 'OBJECTID', 'GEO',\n",
       "       'ShapeSTArea', 'ShapeSTLength', 'geometry'],\n",
       "      dtype='object')"
      ]
     },
     "execution_count": 3,
     "metadata": {},
     "output_type": "execute_result"
    }
   ],
   "source": [
    "# POP, POS_CUM_CP, POS_????_CP, DTH_CUM_CP\n",
    "df.columns"
   ]
  },
  {
   "cell_type": "code",
   "execution_count": 4,
   "id": "d6ff3b88",
   "metadata": {},
   "outputs": [
    {
     "data": {
      "text/plain": [
       "<AxesSubplot:>"
      ]
     },
     "execution_count": 4,
     "metadata": {},
     "output_type": "execute_result"
    },
    {
     "data": {
      "image/png": "[encoded data removed]",
      "text/plain": [
       "<Figure size 432x288 with 1 Axes>"
      ]
     },
     "metadata": {
      "needs_background": "light"
     },
     "output_type": "display_data"
    }
   ],
   "source": [
    "df.plot()"
   ]
  },
  {
   "cell_type": "code",
   "execution_count": 5,
   "id": "ef336e9a",
   "metadata": {},
   "outputs": [],
   "source": [
    "# How can we get a clean dataset of COVID deaths in WI?"
   ]
  },
  {
   "cell_type": "code",
   "execution_count": 6,
   "id": "2a151364",
   "metadata": {},
   "outputs": [],
   "source": [
    "# cleanup based on reading documentation\n",
    "# TODO: in final presentation, quantify how many rows this applied to\n",
    "df = df.replace(-999, 2) # -999 means it was between 0 and 4"
   ]
  },
  {
   "cell_type": "code",
   "execution_count": 7,
   "id": "54be358f",
   "metadata": {},
   "outputs": [],
   "source": [
    "# cleanup based on looking for weird patterns in the data"
   ]
  },
  {
   "cell_type": "code",
   "execution_count": 8,
   "id": "d6bd1530",
   "metadata": {},
   "outputs": [
    {
     "data": {
      "text/plain": [
       "<AxesSubplot:xlabel='POP', ylabel='DTH_CUM_CP'>"
      ]
     },
     "execution_count": 8,
     "metadata": {},
     "output_type": "execute_result"
    },
    {
     "data": {
      "image/png": "[encoded data removed]",
      "text/plain": [
       "<Figure size 432x288 with 1 Axes>"
      ]
     },
     "metadata": {
      "needs_background": "light"
     },
     "output_type": "display_data"
    }
   ],
   "source": [
    "df.plot.scatter(x=\"POP\", y=\"DTH_CUM_CP\")"
   ]
  },
  {
   "cell_type": "code",
   "execution_count": 9,
   "id": "270b3e36",
   "metadata": {},
   "outputs": [
    {
     "data": {
      "text/html": [
       "<div>\n",
       "<style scoped>\n",
       "    .dataframe tbody tr th:only-of-type {\n",
       "        vertical-align: middle;\n",
       "    }\n",
       "\n",
       "    .dataframe tbody tr th {\n",
       "        vertical-align: top;\n",
       "    }\n",
       "\n",
       "    .dataframe thead th {\n",
       "        text-align: right;\n",
       "    }\n",
       "</style>\n",
       "<table border=\"1\" class=\"dataframe\">\n",
       "  <thead>\n",
       "    <tr style=\"text-align: right;\">\n",
       "      <th></th>\n",
       "      <th>RptDt</th>\n",
       "      <th>GEOID</th>\n",
       "      <th>GEOName</th>\n",
       "      <th>POS_CUM_CP</th>\n",
       "      <th>POS_NEW_CP</th>\n",
       "      <th>POS_7DAYAVG_CP</th>\n",
       "      <th>DTH_CUM_CP</th>\n",
       "      <th>DTH_NEW_CP</th>\n",
       "      <th>DTH_7DAYAVG_CP</th>\n",
       "      <th>DTH_OVER_30DAYS_CP</th>\n",
       "      <th>...</th>\n",
       "      <th>HOSP_NO_CP</th>\n",
       "      <th>HOSP_UNK_CP</th>\n",
       "      <th>Date</th>\n",
       "      <th>POP</th>\n",
       "      <th>POP_MOE</th>\n",
       "      <th>OBJECTID</th>\n",
       "      <th>GEO</th>\n",
       "      <th>ShapeSTArea</th>\n",
       "      <th>ShapeSTLength</th>\n",
       "      <th>geometry</th>\n",
       "    </tr>\n",
       "  </thead>\n",
       "  <tbody>\n",
       "    <tr>\n",
       "      <th>916</th>\n",
       "      <td>2022-04-07T19:00:00+00:00</td>\n",
       "      <td>TRACT N/A</td>\n",
       "      <td>None</td>\n",
       "      <td>39838</td>\n",
       "      <td>21</td>\n",
       "      <td>12.43</td>\n",
       "      <td>406</td>\n",
       "      <td>0</td>\n",
       "      <td>0.0</td>\n",
       "      <td>0</td>\n",
       "      <td>...</td>\n",
       "      <td>17979</td>\n",
       "      <td>20213</td>\n",
       "      <td>2022-04-06T06:00:00+00:00</td>\n",
       "      <td>0</td>\n",
       "      <td>NaN</td>\n",
       "      <td>2668</td>\n",
       "      <td>Census tract</td>\n",
       "      <td>4.661914e+02</td>\n",
       "      <td>80.071546</td>\n",
       "      <td>POLYGON ((-87.04159 44.13490, -87.04161 44.134...</td>\n",
       "    </tr>\n",
       "    <tr>\n",
       "      <th>767</th>\n",
       "      <td>2022-04-07T19:00:00+00:00</td>\n",
       "      <td>55059000602</td>\n",
       "      <td>None</td>\n",
       "      <td>2260</td>\n",
       "      <td>2</td>\n",
       "      <td>0.86</td>\n",
       "      <td>60</td>\n",
       "      <td>0</td>\n",
       "      <td>0.0</td>\n",
       "      <td>0</td>\n",
       "      <td>...</td>\n",
       "      <td>720</td>\n",
       "      <td>1427</td>\n",
       "      <td>2022-04-06T06:00:00+00:00</td>\n",
       "      <td>7708</td>\n",
       "      <td>532.0</td>\n",
       "      <td>2519</td>\n",
       "      <td>Census tract</td>\n",
       "      <td>1.468191e+07</td>\n",
       "      <td>18208.599197</td>\n",
       "      <td>POLYGON ((-87.84582 42.63908, -87.84604 42.639...</td>\n",
       "    </tr>\n",
       "    <tr>\n",
       "      <th>677</th>\n",
       "      <td>2022-04-07T19:00:00+00:00</td>\n",
       "      <td>55059002602</td>\n",
       "      <td>None</td>\n",
       "      <td>2663</td>\n",
       "      <td>7</td>\n",
       "      <td>2.00</td>\n",
       "      <td>52</td>\n",
       "      <td>0</td>\n",
       "      <td>0.0</td>\n",
       "      <td>0</td>\n",
       "      <td>...</td>\n",
       "      <td>811</td>\n",
       "      <td>1743</td>\n",
       "      <td>2022-04-06T06:00:00+00:00</td>\n",
       "      <td>9367</td>\n",
       "      <td>486.0</td>\n",
       "      <td>2400</td>\n",
       "      <td>Census tract</td>\n",
       "      <td>1.025553e+08</td>\n",
       "      <td>44773.579669</td>\n",
       "      <td>POLYGON ((-87.88752 42.56687, -87.88789 42.566...</td>\n",
       "    </tr>\n",
       "    <tr>\n",
       "      <th>879</th>\n",
       "      <td>2022-04-07T19:00:00+00:00</td>\n",
       "      <td>55135100600</td>\n",
       "      <td>None</td>\n",
       "      <td>1448</td>\n",
       "      <td>0</td>\n",
       "      <td>0.14</td>\n",
       "      <td>50</td>\n",
       "      <td>0</td>\n",
       "      <td>0.0</td>\n",
       "      <td>0</td>\n",
       "      <td>...</td>\n",
       "      <td>714</td>\n",
       "      <td>669</td>\n",
       "      <td>2022-04-06T06:00:00+00:00</td>\n",
       "      <td>5071</td>\n",
       "      <td>238.0</td>\n",
       "      <td>2631</td>\n",
       "      <td>Census tract</td>\n",
       "      <td>3.632761e+08</td>\n",
       "      <td>100622.628105</td>\n",
       "      <td>POLYGON ((-89.06994 44.33802, -89.07060 44.338...</td>\n",
       "    </tr>\n",
       "    <tr>\n",
       "      <th>287</th>\n",
       "      <td>2022-04-07T19:00:00+00:00</td>\n",
       "      <td>55101001502</td>\n",
       "      <td>None</td>\n",
       "      <td>1897</td>\n",
       "      <td>1</td>\n",
       "      <td>0.71</td>\n",
       "      <td>50</td>\n",
       "      <td>0</td>\n",
       "      <td>0.0</td>\n",
       "      <td>0</td>\n",
       "      <td>...</td>\n",
       "      <td>1690</td>\n",
       "      <td>89</td>\n",
       "      <td>2022-04-06T06:00:00+00:00</td>\n",
       "      <td>6891</td>\n",
       "      <td>368.0</td>\n",
       "      <td>1247</td>\n",
       "      <td>Census tract</td>\n",
       "      <td>2.466766e+07</td>\n",
       "      <td>24613.421935</td>\n",
       "      <td>POLYGON ((-87.79587 42.80634, -87.79851 42.806...</td>\n",
       "    </tr>\n",
       "    <tr>\n",
       "      <th>...</th>\n",
       "      <td>...</td>\n",
       "      <td>...</td>\n",
       "      <td>...</td>\n",
       "      <td>...</td>\n",
       "      <td>...</td>\n",
       "      <td>...</td>\n",
       "      <td>...</td>\n",
       "      <td>...</td>\n",
       "      <td>...</td>\n",
       "      <td>...</td>\n",
       "      <td>...</td>\n",
       "      <td>...</td>\n",
       "      <td>...</td>\n",
       "      <td>...</td>\n",
       "      <td>...</td>\n",
       "      <td>...</td>\n",
       "      <td>...</td>\n",
       "      <td>...</td>\n",
       "      <td>...</td>\n",
       "      <td>...</td>\n",
       "      <td>...</td>\n",
       "    </tr>\n",
       "    <tr>\n",
       "      <th>9</th>\n",
       "      <td>2022-04-07T19:00:00+00:00</td>\n",
       "      <td>55079007400</td>\n",
       "      <td>None</td>\n",
       "      <td>654</td>\n",
       "      <td>1</td>\n",
       "      <td>0.71</td>\n",
       "      <td>0</td>\n",
       "      <td>0</td>\n",
       "      <td>0.0</td>\n",
       "      <td>0</td>\n",
       "      <td>...</td>\n",
       "      <td>365</td>\n",
       "      <td>284</td>\n",
       "      <td>2022-04-06T06:00:00+00:00</td>\n",
       "      <td>4073</td>\n",
       "      <td>251.0</td>\n",
       "      <td>269</td>\n",
       "      <td>Census tract</td>\n",
       "      <td>1.713244e+06</td>\n",
       "      <td>5429.884788</td>\n",
       "      <td>POLYGON ((-87.87063 43.08195, -87.87063 43.081...</td>\n",
       "    </tr>\n",
       "    <tr>\n",
       "      <th>57</th>\n",
       "      <td>2022-04-07T19:00:00+00:00</td>\n",
       "      <td>55117010100</td>\n",
       "      <td>None</td>\n",
       "      <td>309</td>\n",
       "      <td>1</td>\n",
       "      <td>0.14</td>\n",
       "      <td>0</td>\n",
       "      <td>0</td>\n",
       "      <td>0.0</td>\n",
       "      <td>0</td>\n",
       "      <td>...</td>\n",
       "      <td>162</td>\n",
       "      <td>139</td>\n",
       "      <td>2022-04-06T06:00:00+00:00</td>\n",
       "      <td>1463</td>\n",
       "      <td>92.0</td>\n",
       "      <td>318</td>\n",
       "      <td>Census tract</td>\n",
       "      <td>1.959128e+08</td>\n",
       "      <td>70441.577713</td>\n",
       "      <td>POLYGON ((-87.73177 43.89219, -87.73329 43.892...</td>\n",
       "    </tr>\n",
       "    <tr>\n",
       "      <th>1101</th>\n",
       "      <td>2022-04-07T19:00:00+00:00</td>\n",
       "      <td>55087011300</td>\n",
       "      <td>None</td>\n",
       "      <td>851</td>\n",
       "      <td>0</td>\n",
       "      <td>0.00</td>\n",
       "      <td>0</td>\n",
       "      <td>0</td>\n",
       "      <td>0.0</td>\n",
       "      <td>0</td>\n",
       "      <td>...</td>\n",
       "      <td>455</td>\n",
       "      <td>381</td>\n",
       "      <td>2022-04-06T06:00:00+00:00</td>\n",
       "      <td>3033</td>\n",
       "      <td>184.0</td>\n",
       "      <td>2855</td>\n",
       "      <td>Census tract</td>\n",
       "      <td>2.613983e+06</td>\n",
       "      <td>6866.939222</td>\n",
       "      <td>POLYGON ((-88.39564 44.28019, -88.39692 44.280...</td>\n",
       "    </tr>\n",
       "    <tr>\n",
       "      <th>260</th>\n",
       "      <td>2022-04-07T19:00:00+00:00</td>\n",
       "      <td>55023960500</td>\n",
       "      <td>None</td>\n",
       "      <td>448</td>\n",
       "      <td>0</td>\n",
       "      <td>0.00</td>\n",
       "      <td>0</td>\n",
       "      <td>0</td>\n",
       "      <td>0.0</td>\n",
       "      <td>0</td>\n",
       "      <td>...</td>\n",
       "      <td>219</td>\n",
       "      <td>212</td>\n",
       "      <td>2022-04-06T06:00:00+00:00</td>\n",
       "      <td>2057</td>\n",
       "      <td>145.0</td>\n",
       "      <td>1220</td>\n",
       "      <td>Census tract</td>\n",
       "      <td>4.496619e+06</td>\n",
       "      <td>12906.142005</td>\n",
       "      <td>POLYGON ((-91.13825 43.05209, -91.13961 43.052...</td>\n",
       "    </tr>\n",
       "    <tr>\n",
       "      <th>749</th>\n",
       "      <td>2022-04-07T19:00:00+00:00</td>\n",
       "      <td>55025001606</td>\n",
       "      <td>None</td>\n",
       "      <td>2428</td>\n",
       "      <td>0</td>\n",
       "      <td>0.43</td>\n",
       "      <td>0</td>\n",
       "      <td>0</td>\n",
       "      <td>0.0</td>\n",
       "      <td>0</td>\n",
       "      <td>...</td>\n",
       "      <td>1330</td>\n",
       "      <td>1095</td>\n",
       "      <td>2022-04-06T06:00:00+00:00</td>\n",
       "      <td>7259</td>\n",
       "      <td>537.0</td>\n",
       "      <td>2501</td>\n",
       "      <td>Census tract</td>\n",
       "      <td>7.905441e+05</td>\n",
       "      <td>3854.171689</td>\n",
       "      <td>POLYGON ((-89.38888 43.07137, -89.38906 43.071...</td>\n",
       "    </tr>\n",
       "  </tbody>\n",
       "</table>\n",
       "<p>1393 rows × 90 columns</p>\n",
       "</div>"
      ],
      "text/plain": [
       "                          RptDt        GEOID GEOName  POS_CUM_CP  POS_NEW_CP  \\\n",
       "916   2022-04-07T19:00:00+00:00    TRACT N/A    None       39838          21   \n",
       "767   2022-04-07T19:00:00+00:00  55059000602    None        2260           2   \n",
       "677   2022-04-07T19:00:00+00:00  55059002602    None        2663           7   \n",
       "879   2022-04-07T19:00:00+00:00  55135100600    None        1448           0   \n",
       "287   2022-04-07T19:00:00+00:00  55101001502    None        1897           1   \n",
       "...                         ...          ...     ...         ...         ...   \n",
       "9     2022-04-07T19:00:00+00:00  55079007400    None         654           1   \n",
       "57    2022-04-07T19:00:00+00:00  55117010100    None         309           1   \n",
       "1101  2022-04-07T19:00:00+00:00  55087011300    None         851           0   \n",
       "260   2022-04-07T19:00:00+00:00  55023960500    None         448           0   \n",
       "749   2022-04-07T19:00:00+00:00  55025001606    None        2428           0   \n",
       "\n",
       "      POS_7DAYAVG_CP  DTH_CUM_CP  DTH_NEW_CP  DTH_7DAYAVG_CP  \\\n",
       "916            12.43         406           0             0.0   \n",
       "767             0.86          60           0             0.0   \n",
       "677             2.00          52           0             0.0   \n",
       "879             0.14          50           0             0.0   \n",
       "287             0.71          50           0             0.0   \n",
       "...              ...         ...         ...             ...   \n",
       "9               0.71           0           0             0.0   \n",
       "57              0.14           0           0             0.0   \n",
       "1101            0.00           0           0             0.0   \n",
       "260             0.00           0           0             0.0   \n",
       "749             0.43           0           0             0.0   \n",
       "\n",
       "      DTH_OVER_30DAYS_CP  ...  HOSP_NO_CP HOSP_UNK_CP  \\\n",
       "916                    0  ...       17979       20213   \n",
       "767                    0  ...         720        1427   \n",
       "677                    0  ...         811        1743   \n",
       "879                    0  ...         714         669   \n",
       "287                    0  ...        1690          89   \n",
       "...                  ...  ...         ...         ...   \n",
       "9                      0  ...         365         284   \n",
       "57                     0  ...         162         139   \n",
       "1101                   0  ...         455         381   \n",
       "260                    0  ...         219         212   \n",
       "749                    0  ...        1330        1095   \n",
       "\n",
       "                           Date   POP POP_MOE  OBJECTID           GEO  \\\n",
       "916   2022-04-06T06:00:00+00:00     0     NaN      2668  Census tract   \n",
       "767   2022-04-06T06:00:00+00:00  7708   532.0      2519  Census tract   \n",
       "677   2022-04-06T06:00:00+00:00  9367   486.0      2400  Census tract   \n",
       "879   2022-04-06T06:00:00+00:00  5071   238.0      2631  Census tract   \n",
       "287   2022-04-06T06:00:00+00:00  6891   368.0      1247  Census tract   \n",
       "...                         ...   ...     ...       ...           ...   \n",
       "9     2022-04-06T06:00:00+00:00  4073   251.0       269  Census tract   \n",
       "57    2022-04-06T06:00:00+00:00  1463    92.0       318  Census tract   \n",
       "1101  2022-04-06T06:00:00+00:00  3033   184.0      2855  Census tract   \n",
       "260   2022-04-06T06:00:00+00:00  2057   145.0      1220  Census tract   \n",
       "749   2022-04-06T06:00:00+00:00  7259   537.0      2501  Census tract   \n",
       "\n",
       "       ShapeSTArea  ShapeSTLength  \\\n",
       "916   4.661914e+02      80.071546   \n",
       "767   1.468191e+07   18208.599197   \n",
       "677   1.025553e+08   44773.579669   \n",
       "879   3.632761e+08  100622.628105   \n",
       "287   2.466766e+07   24613.421935   \n",
       "...            ...            ...   \n",
       "9     1.713244e+06    5429.884788   \n",
       "57    1.959128e+08   70441.577713   \n",
       "1101  2.613983e+06    6866.939222   \n",
       "260   4.496619e+06   12906.142005   \n",
       "749   7.905441e+05    3854.171689   \n",
       "\n",
       "                                               geometry  \n",
       "916   POLYGON ((-87.04159 44.13490, -87.04161 44.134...  \n",
       "767   POLYGON ((-87.84582 42.63908, -87.84604 42.639...  \n",
       "677   POLYGON ((-87.88752 42.56687, -87.88789 42.566...  \n",
       "879   POLYGON ((-89.06994 44.33802, -89.07060 44.338...  \n",
       "287   POLYGON ((-87.79587 42.80634, -87.79851 42.806...  \n",
       "...                                                 ...  \n",
       "9     POLYGON ((-87.87063 43.08195, -87.87063 43.081...  \n",
       "57    POLYGON ((-87.73177 43.89219, -87.73329 43.892...  \n",
       "1101  POLYGON ((-88.39564 44.28019, -88.39692 44.280...  \n",
       "260   POLYGON ((-91.13825 43.05209, -91.13961 43.052...  \n",
       "749   POLYGON ((-89.38888 43.07137, -89.38906 43.071...  \n",
       "\n",
       "[1393 rows x 90 columns]"
      ]
     },
     "execution_count": 9,
     "metadata": {},
     "output_type": "execute_result"
    }
   ],
   "source": [
    "df.sort_values(by=\"DTH_CUM_CP\", ascending=False)"
   ]
  },
  {
   "cell_type": "code",
   "execution_count": 10,
   "id": "4decdbda",
   "metadata": {},
   "outputs": [
    {
     "data": {
      "text/plain": [
       "True     1392\n",
       "False       1\n",
       "Name: GEOID, dtype: int64"
      ]
     },
     "execution_count": 10,
     "metadata": {},
     "output_type": "execute_result"
    }
   ],
   "source": [
    "df[\"GEOID\"].str.fullmatch(r\"\\d+\").value_counts()"
   ]
  },
  {
   "cell_type": "code",
   "execution_count": 11,
   "id": "92bccac6",
   "metadata": {},
   "outputs": [
    {
     "data": {
      "text/plain": [
       "<AxesSubplot:xlabel='POP', ylabel='DTH_CUM_CP'>"
      ]
     },
     "execution_count": 11,
     "metadata": {},
     "output_type": "execute_result"
    },
    {
     "data": {
      "image/png": "[encoded data removed]",
      "text/plain": [
       "<Figure size 432x288 with 1 Axes>"
      ]
     },
     "metadata": {
      "needs_background": "light"
     },
     "output_type": "display_data"
    }
   ],
   "source": [
    "# TODO: in presentation, quantify how many deaths were excluded because of unknown geo\n",
    "df = df[df[\"GEOID\"].str.fullmatch(r\"\\d+\")]\n",
    "df.plot.scatter(x=\"POP\", y=\"DTH_CUM_CP\")"
   ]
  },
  {
   "cell_type": "code",
   "execution_count": 12,
   "id": "15a7dac3",
   "metadata": {},
   "outputs": [],
   "source": [
    "# How can we train/fit models to known data to predict unknowns?\n",
    "# Population => Deaths, Cases => Deaths, Cases by Age => Deaths"
   ]
  },
  {
   "cell_type": "code",
   "execution_count": 13,
   "id": "27bd92c7",
   "metadata": {},
   "outputs": [],
   "source": [
    "# USE THIS PATTERN\n",
    "\n",
    "# model = ????\n",
    "# model.fit(X, y)\n",
    "# y2 = model.predict(X2)"
   ]
  },
  {
   "cell_type": "code",
   "execution_count": 14,
   "id": "7d4e4399",
   "metadata": {},
   "outputs": [],
   "source": [
    "# for X values, sklearn wants a DataFrame (or something like it)\n",
    "# df[[\"POP\"]] # for X values\n",
    "\n",
    "# for y values, sklearn wants a Series (or something like it)\n",
    "# df[\"DTH_CUM_CP\"] # for y values"
   ]
  },
  {
   "cell_type": "code",
   "execution_count": 15,
   "id": "6725c895",
   "metadata": {},
   "outputs": [
    {
     "data": {
      "text/html": [
       "<div>\n",
       "<style scoped>\n",
       "    .dataframe tbody tr th:only-of-type {\n",
       "        vertical-align: middle;\n",
       "    }\n",
       "\n",
       "    .dataframe tbody tr th {\n",
       "        vertical-align: top;\n",
       "    }\n",
       "\n",
       "    .dataframe thead th {\n",
       "        text-align: right;\n",
       "    }\n",
       "</style>\n",
       "<table border=\"1\" class=\"dataframe\">\n",
       "  <thead>\n",
       "    <tr style=\"text-align: right;\">\n",
       "      <th></th>\n",
       "      <th>POP</th>\n",
       "      <th>predicted_y</th>\n",
       "    </tr>\n",
       "  </thead>\n",
       "  <tbody>\n",
       "    <tr>\n",
       "      <th>0</th>\n",
       "      <td>1000</td>\n",
       "      <td>3.627988</td>\n",
       "    </tr>\n",
       "    <tr>\n",
       "      <th>1</th>\n",
       "      <td>2000</td>\n",
       "      <td>5.653305</td>\n",
       "    </tr>\n",
       "    <tr>\n",
       "      <th>2</th>\n",
       "      <td>3000</td>\n",
       "      <td>7.678623</td>\n",
       "    </tr>\n",
       "  </tbody>\n",
       "</table>\n",
       "</div>"
      ],
      "text/plain": [
       "    POP  predicted_y\n",
       "0  1000     3.627988\n",
       "1  2000     5.653305\n",
       "2  3000     7.678623"
      ]
     },
     "execution_count": 15,
     "metadata": {},
     "output_type": "execute_result"
    }
   ],
   "source": [
    "import pandas as pd\n",
    "from sklearn.linear_model import LinearRegression\n",
    "\n",
    "model = LinearRegression()\n",
    "model.fit(df[[\"POP\"]], df[\"DTH_CUM_CP\"]) # training\n",
    "\n",
    "predict_df = pd.DataFrame({\"POP\": [1000, 2000, 3000]}) # making prediction for new situations\n",
    "predict_df[\"predicted_y\"] = model.predict(predict_df)\n",
    "predict_df"
   ]
  },
  {
   "cell_type": "code",
   "execution_count": 16,
   "id": "988011cc",
   "metadata": {},
   "outputs": [
    {
     "data": {
      "text/html": [
       "<div>\n",
       "<style scoped>\n",
       "    .dataframe tbody tr th:only-of-type {\n",
       "        vertical-align: middle;\n",
       "    }\n",
       "\n",
       "    .dataframe tbody tr th {\n",
       "        vertical-align: top;\n",
       "    }\n",
       "\n",
       "    .dataframe thead th {\n",
       "        text-align: right;\n",
       "    }\n",
       "</style>\n",
       "<table border=\"1\" class=\"dataframe\">\n",
       "  <thead>\n",
       "    <tr style=\"text-align: right;\">\n",
       "      <th></th>\n",
       "      <th>POP</th>\n",
       "      <th>predicted_y</th>\n",
       "    </tr>\n",
       "  </thead>\n",
       "  <tbody>\n",
       "    <tr>\n",
       "      <th>0</th>\n",
       "      <td>1</td>\n",
       "      <td>1.604695</td>\n",
       "    </tr>\n",
       "    <tr>\n",
       "      <th>1</th>\n",
       "      <td>2</td>\n",
       "      <td>1.606721</td>\n",
       "    </tr>\n",
       "    <tr>\n",
       "      <th>2</th>\n",
       "      <td>3</td>\n",
       "      <td>1.608746</td>\n",
       "    </tr>\n",
       "    <tr>\n",
       "      <th>3</th>\n",
       "      <td>4</td>\n",
       "      <td>1.610771</td>\n",
       "    </tr>\n",
       "    <tr>\n",
       "      <th>4</th>\n",
       "      <td>5</td>\n",
       "      <td>1.612797</td>\n",
       "    </tr>\n",
       "  </tbody>\n",
       "</table>\n",
       "</div>"
      ],
      "text/plain": [
       "   POP  predicted_y\n",
       "0    1     1.604695\n",
       "1    2     1.606721\n",
       "2    3     1.608746\n",
       "3    4     1.610771\n",
       "4    5     1.612797"
      ]
     },
     "execution_count": 16,
     "metadata": {},
     "output_type": "execute_result"
    }
   ],
   "source": [
    "# How can we visualize model predictions?\n",
    "predict_df = pd.DataFrame({\"POP\": range(1, 20000)})\n",
    "predict_df[\"predicted_y\"] = model.predict(predict_df)\n",
    "predict_df.head()"
   ]
  },
  {
   "cell_type": "code",
   "execution_count": 17,
   "id": "656372b5",
   "metadata": {},
   "outputs": [
    {
     "data": {
      "text/plain": [
       "<AxesSubplot:xlabel='POP', ylabel='DTH_CUM_CP'>"
      ]
     },
     "execution_count": 17,
     "metadata": {},
     "output_type": "execute_result"
    },
    {
     "data": {
      "image/png": "[encoded data removed]",
      "text/plain": [
       "<Figure size 432x288 with 1 Axes>"
      ]
     },
     "metadata": {
      "needs_background": "light"
     },
     "output_type": "display_data"
    }
   ],
   "source": [
    "ax = predict_df.plot.line(x=\"POP\", y=\"predicted_y\", color=\"red\")\n",
    "df.plot.scatter(x=\"POP\", y=\"DTH_CUM_CP\", ax=ax, color=\"black\", alpha=0.05)"
   ]
  },
  {
   "cell_type": "code",
   "execution_count": 18,
   "id": "72b87f5a",
   "metadata": {},
   "outputs": [],
   "source": [
    "# How can we get a formula for the relationship?"
   ]
  },
  {
   "cell_type": "code",
   "execution_count": 19,
   "id": "5e459128",
   "metadata": {},
   "outputs": [
    {
     "data": {
      "text/plain": [
       "1.6026699609658888"
      ]
     },
     "execution_count": 19,
     "metadata": {},
     "output_type": "execute_result"
    }
   ],
   "source": [
    "model.intercept_ # y intercept"
   ]
  },
  {
   "cell_type": "code",
   "execution_count": 20,
   "id": "f6130186",
   "metadata": {},
   "outputs": [
    {
     "data": {
      "text/plain": [
       "array([0.00202532])"
      ]
     },
     "execution_count": 20,
     "metadata": {},
     "output_type": "execute_result"
    }
   ],
   "source": [
    "model.coef_"
   ]
  },
  {
   "cell_type": "code",
   "execution_count": 21,
   "id": "79f910a6",
   "metadata": {},
   "outputs": [
    {
     "data": {
      "text/plain": [
       "0.00202531765994764"
      ]
     },
     "execution_count": 21,
     "metadata": {},
     "output_type": "execute_result"
    }
   ],
   "source": [
    "model.coef_[0] # slope of the line"
   ]
  },
  {
   "cell_type": "code",
   "execution_count": 22,
   "id": "975e7ec9",
   "metadata": {},
   "outputs": [
    {
     "data": {
      "text/plain": [
       "'deaths ~= 0.002025 * population + 1.6'"
      ]
     },
     "execution_count": 22,
     "metadata": {},
     "output_type": "execute_result"
    }
   ],
   "source": [
    "f\"deaths ~= {round(model.coef_[0], 6)} * population + {round(model.intercept_, 2)}\""
   ]
  },
  {
   "cell_type": "code",
   "execution_count": 23,
   "id": "ff38b351",
   "metadata": {},
   "outputs": [],
   "source": [
    "# How well does our model fit the data?\n",
    "# r^2 score (explained variance)"
   ]
  },
  {
   "cell_type": "code",
   "execution_count": 24,
   "id": "77690ce2",
   "metadata": {},
   "outputs": [
    {
     "data": {
      "text/plain": [
       "64.45856160704695"
      ]
     },
     "execution_count": 24,
     "metadata": {},
     "output_type": "execute_result"
    }
   ],
   "source": [
    "before_variance = df[\"DTH_CUM_CP\"].var()\n",
    "before_variance"
   ]
  },
  {
   "cell_type": "code",
   "execution_count": 25,
   "id": "1db83437",
   "metadata": {},
   "outputs": [
    {
     "data": {
      "text/plain": [
       "51.94852682334216"
      ]
     },
     "execution_count": 25,
     "metadata": {},
     "output_type": "execute_result"
    }
   ],
   "source": [
    "after_variance = (df[\"DTH_CUM_CP\"] - model.predict(df[[\"POP\"]])).var()\n",
    "after_variance"
   ]
  },
  {
   "cell_type": "code",
   "execution_count": 26,
   "id": "cbb3a192",
   "metadata": {},
   "outputs": [
    {
     "data": {
      "text/plain": [
       "12.510034783704782"
      ]
     },
     "execution_count": 26,
     "metadata": {},
     "output_type": "execute_result"
    }
   ],
   "source": [
    "improvement = before_variance - after_variance\n",
    "improvement"
   ]
  },
  {
   "cell_type": "code",
   "execution_count": 27,
   "id": "b37a8f86",
   "metadata": {},
   "outputs": [
    {
     "data": {
      "text/plain": [
       "0.19407871463171342"
      ]
     },
     "execution_count": 27,
     "metadata": {},
     "output_type": "execute_result"
    }
   ],
   "source": [
    "improvement / before_variance # r^2 score (explained variance)"
   ]
  },
  {
   "cell_type": "code",
   "execution_count": 28,
   "id": "fbd0ecb4",
   "metadata": {},
   "outputs": [
    {
     "data": {
      "text/plain": [
       "0.19407871463171344"
      ]
     },
     "execution_count": 28,
     "metadata": {},
     "output_type": "execute_result"
    }
   ],
   "source": [
    "model.score(df[[\"POP\"]], df[\"DTH_CUM_CP\"])  # score will call predict for me on the x value"
   ]
  },
  {
   "cell_type": "code",
   "execution_count": 29,
   "id": "1636aa32",
   "metadata": {},
   "outputs": [],
   "source": [
    "# Did our model learn, or just memorize (that is, \"overfit\")?"
   ]
  },
  {
   "cell_type": "code",
   "execution_count": 30,
   "id": "17a7d0b8",
   "metadata": {},
   "outputs": [],
   "source": [
    "from sklearn.model_selection import train_test_split, cross_val_score"
   ]
  },
  {
   "cell_type": "code",
   "execution_count": 31,
   "id": "41ea1172",
   "metadata": {},
   "outputs": [],
   "source": [
    "# ERROR PRONE WAY\n",
    "# X1, y1, X2, y2, test = train_test_split(X, y)"
   ]
  },
  {
   "cell_type": "code",
   "execution_count": 32,
   "id": "5ecbd628",
   "metadata": {},
   "outputs": [
    {
     "data": {
      "text/plain": [
       "(1044, 348)"
      ]
     },
     "execution_count": 32,
     "metadata": {},
     "output_type": "execute_result"
    }
   ],
   "source": [
    "train, test = train_test_split(df)\n",
    "len(train), len(test)"
   ]
  },
  {
   "cell_type": "code",
   "execution_count": 33,
   "id": "fe4c5510",
   "metadata": {},
   "outputs": [
    {
     "data": {
      "text/plain": [
       "0.23419764352552264"
      ]
     },
     "execution_count": 33,
     "metadata": {},
     "output_type": "execute_result"
    }
   ],
   "source": [
    "model = LinearRegression()\n",
    "model.fit(train[[\"POP\"]], train[\"DTH_CUM_CP\"])\n",
    "model.score(test[[\"POP\"]], test[\"DTH_CUM_CP\"])"
   ]
  },
  {
   "cell_type": "code",
   "execution_count": 34,
   "id": "c3ff4204",
   "metadata": {},
   "outputs": [
    {
     "data": {
      "text/plain": [
       "array([0.16011167, 0.195638  , 0.14246416, 0.15770199, 0.14945313])"
      ]
     },
     "execution_count": 34,
     "metadata": {},
     "output_type": "execute_result"
    }
   ],
   "source": [
    "# How can we minimize noise due to random train/test splits?\n",
    "scores = cross_val_score(model, train[[\"POP\"]], train[\"DTH_CUM_CP\"])\n",
    "scores"
   ]
  },
  {
   "cell_type": "code",
   "execution_count": 35,
   "id": "be2ffb79",
   "metadata": {},
   "outputs": [
    {
     "data": {
      "text/plain": [
       "0.1610737907182081"
      ]
     },
     "execution_count": 35,
     "metadata": {},
     "output_type": "execute_result"
    }
   ],
   "source": [
    "scores.mean()"
   ]
  },
  {
   "cell_type": "code",
   "execution_count": 36,
   "id": "e19e195c",
   "metadata": {},
   "outputs": [
    {
     "data": {
      "text/plain": [
       "0.018375728264234087"
      ]
     },
     "execution_count": 36,
     "metadata": {},
     "output_type": "execute_result"
    }
   ],
   "source": [
    "scores.std()"
   ]
  },
  {
   "cell_type": "code",
   "execution_count": 37,
   "id": "d0dd2503",
   "metadata": {},
   "outputs": [],
   "source": [
    "# How can we compare models?\n",
    "model1 = LinearRegression()\n",
    "model2 = LinearRegression()\n",
    "\n",
    "scores1 = cross_val_score(model1, train[[\"POP\"]], train[\"DTH_CUM_CP\"])\n",
    "scores2 = cross_val_score(model2, train[[\"POS_CUM_CP\"]], train[\"DTH_CUM_CP\"])"
   ]
  },
  {
   "cell_type": "code",
   "execution_count": 38,
   "id": "59ed6079",
   "metadata": {},
   "outputs": [
    {
     "data": {
      "text/plain": [
       "Text(0, 0.5, 'R^2 Score')"
      ]
     },
     "execution_count": 38,
     "metadata": {},
     "output_type": "execute_result"
    },
    {
     "data": {
      "image/png": "[encoded data removed]",
      "text/plain": [
       "<Figure size 432x288 with 1 Axes>"
      ]
     },
     "metadata": {
      "needs_background": "light"
     },
     "output_type": "display_data"
    }
   ],
   "source": [
    "avg = pd.Series({\"pop model\": scores1.mean(), \"cases model\": scores2.mean()})\n",
    "std = pd.Series({\"pop model\": scores1.std(), \"cases model\": scores2.std()})\n",
    "ax = avg.plot.bar(yerr=std)\n",
    "ax.set_ylabel(\"R^2 Score\")"
   ]
  },
  {
   "cell_type": "code",
   "execution_count": 39,
   "id": "371ad181",
   "metadata": {},
   "outputs": [
    {
     "data": {
      "text/plain": [
       "Index(['RptDt', 'GEOID', 'GEOName', 'POS_CUM_CP', 'POS_NEW_CP',\n",
       "       'POS_7DAYAVG_CP', 'DTH_CUM_CP', 'DTH_NEW_CP', 'DTH_7DAYAVG_CP',\n",
       "       'DTH_OVER_30DAYS_CP', 'DTH_CP_Daily', 'TESTS_POS_CONF',\n",
       "       'TESTS_POS_CONF_NEW', 'TESTS_POS_CONF_7DAYAVG', 'PercentNAATPos',\n",
       "       'TESTS_CUM', 'TESTS_NEW', 'TESTS_7DAYAVG', 'POS_CUM_CONF',\n",
       "       'POS_NEW_CONF', 'POS_7DAYAVG_CONF', 'POS_CUM_PROB', 'POS_NEW_PROB',\n",
       "       'POS_7DAYAVG_PROB', 'DTH_CUM_CONF', 'DTH_NEW_CONF', 'DTH_7DAYAVG_CONF',\n",
       "       'DTH_CONF_Daily', 'DTH_CUM_PROB', 'DTH_NEW_PROB', 'DTH_7DAYAVG_PROB',\n",
       "       'DTH_PROB_Daily', 'POS_MALE_CP', 'POS_FEM_CP', 'POS_OTH_CP',\n",
       "       'POS_0_9_CP', 'POS_10_19_CP', 'POS_20_29_CP', 'POS_30_39_CP',\n",
       "       'POS_40_49_CP', 'POS_50_59_CP', 'POS_60_69_CP', 'POS_70_79_CP',\n",
       "       'POS_80_89_CP', 'POS_90_CP', 'DTHS_FEM_CP', 'DTHS_MALE_CP',\n",
       "       'DTHS_OTH_CP', 'DTHS_0_9_CP', 'DTHS_10_19_CP', 'DTHS_20_29_CP',\n",
       "       'DTHS_30_39_CP', 'DTHS_40_49_CP', 'DTHS_50_59_CP', 'DTHS_60_69_CP',\n",
       "       'DTHS_70_79_CP', 'DTHS_80_89_CP', 'DTHS_90_CP', 'POS_AIAN_CP',\n",
       "       'POS_ASN_CP', 'POS_BLK_CP', 'POS_WHT_CP', 'POS_MLTOTH_CP', 'POS_UNK_CP',\n",
       "       'POS_E_HSP_CP', 'POS_E_NHSP_CP', 'POS_E_UNK_CP', 'DTH_AIAN_CP',\n",
       "       'DTH_ASN_CP', 'DTH_BLK_CP', 'DTH_WHT_CP', 'DTH_MLTOTH_CP', 'DTH_UNK_CP',\n",
       "       'DTH_E_HSP_CP', 'DTH_E_NHSP_CP', 'DTH_E_UNK_CP', 'POS_HC_Y_CP',\n",
       "       'POS_HC_N_CP', 'POS_HC_UNK_CP', 'HOSP_YES_CP', 'HOSP_NO_CP',\n",
       "       'HOSP_UNK_CP', 'Date', 'POP', 'POP_MOE', 'OBJECTID', 'GEO',\n",
       "       'ShapeSTArea', 'ShapeSTLength', 'geometry'],\n",
       "      dtype='object')"
      ]
     },
     "execution_count": 39,
     "metadata": {},
     "output_type": "execute_result"
    }
   ],
   "source": [
    "df.columns"
   ]
  },
  {
   "cell_type": "code",
   "execution_count": 40,
   "id": "7b618468",
   "metadata": {},
   "outputs": [
    {
     "data": {
      "text/plain": [
       "0.700307690547201"
      ]
     },
     "execution_count": 40,
     "metadata": {},
     "output_type": "execute_result"
    }
   ],
   "source": [
    "# How can we use multiple x variables (multiple regression)?\n",
    "# case by age => deaths\n",
    "xcols = ['POS_0_9_CP', 'POS_10_19_CP', 'POS_20_29_CP', 'POS_30_39_CP',\n",
    "       'POS_40_49_CP', 'POS_50_59_CP', 'POS_60_69_CP', 'POS_70_79_CP',\n",
    "       'POS_80_89_CP', 'POS_90_CP']\n",
    "\n",
    "model = LinearRegression()\n",
    "model.fit(train[xcols], train[\"DTH_CUM_CP\"])\n",
    "model.score(test[xcols], test[\"DTH_CUM_CP\"])"
   ]
  },
  {
   "cell_type": "code",
   "execution_count": 42,
   "id": "e44f3470",
   "metadata": {},
   "outputs": [
    {
     "data": {
      "text/plain": [
       "Index(['RptDt', 'GEOID', 'GEOName', 'POS_CUM_CP', 'POS_NEW_CP',\n",
       "       'POS_7DAYAVG_CP', 'DTH_CUM_CP', 'DTH_NEW_CP', 'DTH_7DAYAVG_CP',\n",
       "       'DTH_OVER_30DAYS_CP', 'DTH_CP_Daily', 'TESTS_POS_CONF',\n",
       "       'TESTS_POS_CONF_NEW', 'TESTS_POS_CONF_7DAYAVG', 'PercentNAATPos',\n",
       "       'TESTS_CUM', 'TESTS_NEW', 'TESTS_7DAYAVG', 'POS_CUM_CONF',\n",
       "       'POS_NEW_CONF', 'POS_7DAYAVG_CONF', 'POS_CUM_PROB', 'POS_NEW_PROB',\n",
       "       'POS_7DAYAVG_PROB', 'DTH_CUM_CONF', 'DTH_NEW_CONF', 'DTH_7DAYAVG_CONF',\n",
       "       'DTH_CONF_Daily', 'DTH_CUM_PROB', 'DTH_NEW_PROB', 'DTH_7DAYAVG_PROB',\n",
       "       'DTH_PROB_Daily', 'POS_MALE_CP', 'POS_FEM_CP', 'POS_OTH_CP',\n",
       "       'POS_0_9_CP', 'POS_10_19_CP', 'POS_20_29_CP', 'POS_30_39_CP',\n",
       "       'POS_40_49_CP', 'POS_50_59_CP', 'POS_60_69_CP', 'POS_70_79_CP',\n",
       "       'POS_80_89_CP', 'POS_90_CP', 'DTHS_FEM_CP', 'DTHS_MALE_CP',\n",
       "       'DTHS_OTH_CP', 'DTHS_0_9_CP', 'DTHS_10_19_CP', 'DTHS_20_29_CP',\n",
       "       'DTHS_30_39_CP', 'DTHS_40_49_CP', 'DTHS_50_59_CP', 'DTHS_60_69_CP',\n",
       "       'DTHS_70_79_CP', 'DTHS_80_89_CP', 'DTHS_90_CP', 'POS_AIAN_CP',\n",
       "       'POS_ASN_CP', 'POS_BLK_CP', 'POS_WHT_CP', 'POS_MLTOTH_CP', 'POS_UNK_CP',\n",
       "       'POS_E_HSP_CP', 'POS_E_NHSP_CP', 'POS_E_UNK_CP', 'DTH_AIAN_CP',\n",
       "       'DTH_ASN_CP', 'DTH_BLK_CP', 'DTH_WHT_CP', 'DTH_MLTOTH_CP', 'DTH_UNK_CP',\n",
       "       'DTH_E_HSP_CP', 'DTH_E_NHSP_CP', 'DTH_E_UNK_CP', 'POS_HC_Y_CP',\n",
       "       'POS_HC_N_CP', 'POS_HC_UNK_CP', 'HOSP_YES_CP', 'HOSP_NO_CP',\n",
       "       'HOSP_UNK_CP', 'Date', 'POP', 'POP_MOE', 'OBJECTID', 'GEO',\n",
       "       'ShapeSTArea', 'ShapeSTLength', 'geometry'],\n",
       "      dtype='object')"
      ]
     },
     "execution_count": 42,
     "metadata": {},
     "output_type": "execute_result"
    }
   ],
   "source": [
    "train.columns"
   ]
  },
  {
   "cell_type": "code",
   "execution_count": 43,
   "id": "366c52c5",
   "metadata": {},
   "outputs": [
    {
     "data": {
      "text/plain": [
       "LinearRegression()"
      ]
     },
     "execution_count": 43,
     "metadata": {},
     "output_type": "execute_result"
    }
   ],
   "source": [
    "# How can we interpret what features the model is relying on?\n",
    "model"
   ]
  },
  {
   "cell_type": "code",
   "execution_count": 44,
   "id": "9af168ba",
   "metadata": {},
   "outputs": [
    {
     "data": {
      "text/plain": [
       "array([-2.52180561e-02, -9.22208706e-04, -1.90933310e-04,  1.39575468e-02,\n",
       "        1.18092624e-02, -1.05933889e-02,  1.00641430e-02,  2.02483048e-02,\n",
       "        1.89034225e-01,  2.77898615e-01])"
      ]
     },
     "execution_count": 44,
     "metadata": {},
     "output_type": "execute_result"
    }
   ],
   "source": [
    "model.coef_"
   ]
  },
  {
   "cell_type": "code",
   "execution_count": 45,
   "id": "caa3ce65",
   "metadata": {},
   "outputs": [
    {
     "data": {
      "text/plain": [
       "['POS_0_9_CP',\n",
       " 'POS_10_19_CP',\n",
       " 'POS_20_29_CP',\n",
       " 'POS_30_39_CP',\n",
       " 'POS_40_49_CP',\n",
       " 'POS_50_59_CP',\n",
       " 'POS_60_69_CP',\n",
       " 'POS_70_79_CP',\n",
       " 'POS_80_89_CP',\n",
       " 'POS_90_CP']"
      ]
     },
     "execution_count": 45,
     "metadata": {},
     "output_type": "execute_result"
    }
   ],
   "source": [
    "xcols"
   ]
  },
  {
   "cell_type": "code",
   "execution_count": 46,
   "id": "156921e1",
   "metadata": {},
   "outputs": [
    {
     "data": {
      "text/plain": [
       "<AxesSubplot:>"
      ]
     },
     "execution_count": 46,
     "metadata": {},
     "output_type": "execute_result"
    },
    {
     "data": {
      "image/png": "[encoded data removed]",
      "text/plain": [
       "<Figure size 432x288 with 1 Axes>"
      ]
     },
     "metadata": {
      "needs_background": "light"
     },
     "output_type": "display_data"
    }
   ],
   "source": [
    "pd.Series(model.coef_, index=xcols).plot.bar()"
   ]
  }
 ],
 "metadata": {
  "kernelspec": {
   "display_name": "Python 3 (ipykernel)",
   "language": "python",
   "name": "python3"
  },
  "language_info": {
   "codemirror_mode": {
    "name": "ipython",
    "version": 3
   },
   "file_extension": ".py",
   "mimetype": "text/x-python",
   "name": "python",
   "nbconvert_exporter": "python",
   "pygments_lexer": "ipython3",
   "version": "3.8.10"
  }
 },
 "nbformat": 4,
 "nbformat_minor": 5
}
