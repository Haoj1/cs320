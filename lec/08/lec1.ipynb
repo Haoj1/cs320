{
 "cells": [
  {
   "cell_type": "markdown",
   "id": "ac2b5e6c",
   "metadata": {},
   "source": [
    "# https://tinyurl.com/2p82uuvz"
   ]
  },
  {
   "cell_type": "code",
   "execution_count": 1,
   "id": "ba64ee93",
   "metadata": {},
   "outputs": [
    {
     "data": {
      "text/plain": [
       "'9.32 miles SE of Waynoka, Oklahoma'"
      ]
     },
     "execution_count": 1,
     "metadata": {},
     "output_type": "execute_result"
    }
   ],
   "source": [
    "quake_dicts = [{'place': 'southeast of the Loyalty Islands',\n",
    "  'time': 1637538745422,\n",
    "  'mag': 4.5,\n",
    "  'loc': {'lat': -22.7976, 'lon': 171.963}},\n",
    " {'place': '5km ESE of Walker, CA',\n",
    "  'time': 1637537593330,\n",
    "  'mag': 1.19,\n",
    "  'loc': {'lat': 38.504, 'lon': -119.429}},\n",
    " {'place': '19 km W of Cheyenne Wells, Colorado',\n",
    "  'time': 1637537565440,\n",
    "  'mag': 1.9,\n",
    "  'loc': {'lat': 38.8551, 'lon': -102.5692}},\n",
    " {'place': '4 km NW of Point MacKenzie, Alaska',\n",
    "  'time': 1637537529410,\n",
    "  'mag': 1.7,\n",
    "  'loc': {'lat': 61.3898, 'lon': -150.0462}},\n",
    " {'place': '15 km SE of Waynoka, Oklahoma',\n",
    "  'time': 1637537486109,\n",
    "  'mag': 1.51,\n",
    "  'loc': {'lat': 36.473, 'lon': -98.7745}}]\n",
    "\n",
    "def place_miles(quake):\n",
    "    place = quake[\"place\"]\n",
    "    km_idx = place.find(\"km\")\n",
    "    if km_idx < 0:\n",
    "        return place\n",
    "    num = place[:km_idx].strip()\n",
    "    if not num.isdigit():\n",
    "        return place\n",
    "    miles = round(float(num) * 0.621371, 2)\n",
    "    return f\"{miles} miles{place[km_idx+2:]}\"\n",
    "\n",
    "place_miles(quake_dicts[4])\n"
   ]
  },
  {
   "cell_type": "code",
   "execution_count": 2,
   "id": "76a45e36",
   "metadata": {},
   "outputs": [],
   "source": [
    "import math\n",
    "\n",
    "class Location:\n",
    "    def __init__(self, lat, lon):\n",
    "        self.lat = lat\n",
    "        self.lon = lon\n",
    "        \n",
    "    def __str__(self): # for non-programmers\n",
    "        return f\"Location: lat={self.lat}, lon={self.lon}\"\n",
    "        \n",
    "    def __repr__(self): # for programmers\n",
    "        return f\"Location({self.lat}, {self.lon})\"\n",
    "    \n",
    "    def __eq__(self, other):\n",
    "        #return self.lat == other.lat and self.lon == other.lon\n",
    "        return math.isclose(self.lat, other.lat) and math.isclose(self.lon, other.lon)\n",
    "#         if self.lat == other.lat and self.lon == other.lon:\n",
    "#             return True\n",
    "#         else:\n",
    "#             return False\n",
    "\n",
    "class Earthquake:\n",
    "    def __init__(self, values):\n",
    "        self.place = values[\"place\"]\n",
    "        self.time = values[\"time\"]\n",
    "        self.mag = values[\"mag\"]\n",
    "        self.loc = Location(values[\"loc\"][\"lat\"], values[\"loc\"][\"lon\"])\n",
    "        \n",
    "    def _repr_html_(self):\n",
    "        size = max(5 - int(self.mag), 1)\n",
    "        return f\"<h{size}>Mag {self.mag} earthquake at {self.place}</h{size}>\"\n",
    "    \n",
    "    def __repr__(self):\n",
    "        return f\"Mag {self.mag} earthquake at {self.place}\"\n",
    "\n",
    "    # less than\n",
    "    def __lt__(self, other):\n",
    "        return self.mag < other.mag"
   ]
  },
  {
   "cell_type": "code",
   "execution_count": 3,
   "id": "94805c74",
   "metadata": {},
   "outputs": [
    {
     "data": {
      "text/plain": [
       "[Mag 4.5 earthquake at southeast of the Loyalty Islands,\n",
       " Mag 1.19 earthquake at 5km ESE of Walker, CA,\n",
       " Mag 1.9 earthquake at 19 km W of Cheyenne Wells, Colorado,\n",
       " Mag 1.7 earthquake at 4 km NW of Point MacKenzie, Alaska,\n",
       " Mag 1.51 earthquake at 15 km SE of Waynoka, Oklahoma]"
      ]
     },
     "execution_count": 3,
     "metadata": {},
     "output_type": "execute_result"
    }
   ],
   "source": [
    "# earthquakes = []\n",
    "# for q in quake_dicts:\n",
    "#     earthquakes.append(Earthquake(q))\n",
    "\n",
    "earthquakes = [Earthquake(q) for q in quake_dicts]\n",
    "earthquakes"
   ]
  },
  {
   "cell_type": "code",
   "execution_count": 4,
   "id": "390d80a5",
   "metadata": {},
   "outputs": [
    {
     "data": {
      "text/plain": [
       "False"
      ]
     },
     "execution_count": 4,
     "metadata": {},
     "output_type": "execute_result"
    }
   ],
   "source": [
    "earthquakes[0] < earthquakes[1] # calls earthquakes[0].__lt__(earthquakes[1])"
   ]
  },
  {
   "cell_type": "code",
   "execution_count": 5,
   "id": "7e7c00ff",
   "metadata": {},
   "outputs": [
    {
     "data": {
      "text/plain": [
       "[Mag 1.19 earthquake at 5km ESE of Walker, CA,\n",
       " Mag 1.51 earthquake at 15 km SE of Waynoka, Oklahoma,\n",
       " Mag 1.7 earthquake at 4 km NW of Point MacKenzie, Alaska,\n",
       " Mag 1.9 earthquake at 19 km W of Cheyenne Wells, Colorado,\n",
       " Mag 4.5 earthquake at southeast of the Loyalty Islands]"
      ]
     },
     "execution_count": 5,
     "metadata": {},
     "output_type": "execute_result"
    }
   ],
   "source": [
    "new_list = sorted(earthquakes) # makes a new list\n",
    "# earthquakes.sort() -- modifies existing list (shuffle items around)\n",
    "new_list"
   ]
  },
  {
   "cell_type": "code",
   "execution_count": 6,
   "id": "c618fd2f",
   "metadata": {},
   "outputs": [
    {
     "data": {
      "text/html": [
       "<h4>Mag 1.19 earthquake at 5km ESE of Walker, CA</h4>"
      ],
      "text/plain": [
       "Mag 1.19 earthquake at 5km ESE of Walker, CA"
      ]
     },
     "execution_count": 6,
     "metadata": {},
     "output_type": "execute_result"
    }
   ],
   "source": [
    "Earthquake(quake_dicts[1])"
   ]
  },
  {
   "cell_type": "code",
   "execution_count": 7,
   "id": "1024233f",
   "metadata": {},
   "outputs": [
    {
     "data": {
      "text/html": [
       "<h4>Mag 1.51 earthquake at 15 km SE of Waynoka, Oklahoma</h4>"
      ],
      "text/plain": [
       "Mag 1.51 earthquake at 15 km SE of Waynoka, Oklahoma"
      ]
     },
     "execution_count": 7,
     "metadata": {},
     "output_type": "execute_result"
    }
   ],
   "source": [
    "Earthquake(quake_dicts[4])"
   ]
  },
  {
   "cell_type": "code",
   "execution_count": 8,
   "id": "e5cc662d",
   "metadata": {},
   "outputs": [
    {
     "data": {
      "text/html": [
       "<h1>Mag 4.5 earthquake at southeast of the Loyalty Islands</h1>"
      ],
      "text/plain": [
       "Mag 4.5 earthquake at southeast of the Loyalty Islands"
      ]
     },
     "execution_count": 8,
     "metadata": {},
     "output_type": "execute_result"
    }
   ],
   "source": [
    "Earthquake(quake_dicts[0])"
   ]
  },
  {
   "cell_type": "code",
   "execution_count": 9,
   "id": "b118a1b2",
   "metadata": {},
   "outputs": [
    {
     "name": "stdout",
     "output_type": "stream",
     "text": [
      "Location: lat=36.473, lon=-98.7745\n"
     ]
    },
    {
     "data": {
      "text/plain": [
       "Location(36.473, -98.7745)"
      ]
     },
     "execution_count": 9,
     "metadata": {},
     "output_type": "execute_result"
    }
   ],
   "source": [
    "point1 = Location(36.473, -98.7745)\n",
    "print(point1)   # calls str(obj), which calls obj.__str__()\n",
    "point1          # calls repr(obj), which calls obj.__repr__()"
   ]
  },
  {
   "cell_type": "code",
   "execution_count": 10,
   "id": "0c8d144c",
   "metadata": {},
   "outputs": [
    {
     "data": {
      "text/plain": [
       "Location(36.473, -98.7745000001)"
      ]
     },
     "execution_count": 10,
     "metadata": {},
     "output_type": "execute_result"
    }
   ],
   "source": [
    "point2 = Location(36.473, -98.7745000001)\n",
    "point2"
   ]
  },
  {
   "cell_type": "code",
   "execution_count": 11,
   "id": "830d096c",
   "metadata": {},
   "outputs": [
    {
     "data": {
      "text/plain": [
       "True"
      ]
     },
     "execution_count": 11,
     "metadata": {},
     "output_type": "execute_result"
    }
   ],
   "source": [
    "point1 == point2 # calls point1.__eq__(point2)"
   ]
  },
  {
   "cell_type": "code",
   "execution_count": 12,
   "id": "0f209372",
   "metadata": {},
   "outputs": [
    {
     "data": {
      "text/html": [
       "<div>\n",
       "<style scoped>\n",
       "    .dataframe tbody tr th:only-of-type {\n",
       "        vertical-align: middle;\n",
       "    }\n",
       "\n",
       "    .dataframe tbody tr th {\n",
       "        vertical-align: top;\n",
       "    }\n",
       "\n",
       "    .dataframe thead th {\n",
       "        text-align: right;\n",
       "    }\n",
       "</style>\n",
       "<table border=\"1\" class=\"dataframe\">\n",
       "  <thead>\n",
       "    <tr style=\"text-align: right;\">\n",
       "      <th></th>\n",
       "      <th>0</th>\n",
       "      <th>1</th>\n",
       "    </tr>\n",
       "  </thead>\n",
       "  <tbody>\n",
       "    <tr>\n",
       "      <th>0</th>\n",
       "      <td>1</td>\n",
       "      <td>2</td>\n",
       "    </tr>\n",
       "    <tr>\n",
       "      <th>1</th>\n",
       "      <td>3</td>\n",
       "      <td>4</td>\n",
       "    </tr>\n",
       "  </tbody>\n",
       "</table>\n",
       "</div>"
      ],
      "text/plain": [
       "   0  1\n",
       "0  1  2\n",
       "1  3  4"
      ]
     },
     "execution_count": 12,
     "metadata": {},
     "output_type": "execute_result"
    }
   ],
   "source": [
    "import pandas as pd\n",
    "pd.DataFrame([[1,2], [3,4]])"
   ]
  },
  {
   "cell_type": "code",
   "execution_count": 13,
   "id": "0beb185c",
   "metadata": {},
   "outputs": [
    {
     "data": {
      "text/plain": [
       "'<div>\\n<style scoped>\\n    .dataframe tbody tr th:only-of-type {\\n        vertical-align: middle;\\n    }\\n\\n    .dataframe tbody tr th {\\n        vertical-align: top;\\n    }\\n\\n    .dataframe thead th {\\n        text-align: right;\\n    }\\n</style>\\n<table border=\"1\" class=\"dataframe\">\\n  <thead>\\n    <tr style=\"text-align: right;\">\\n      <th></th>\\n      <th>0</th>\\n      <th>1</th>\\n    </tr>\\n  </thead>\\n  <tbody>\\n    <tr>\\n      <th>0</th>\\n      <td>1</td>\\n      <td>2</td>\\n    </tr>\\n    <tr>\\n      <th>1</th>\\n      <td>3</td>\\n      <td>4</td>\\n    </tr>\\n  </tbody>\\n</table>\\n</div>'"
      ]
     },
     "execution_count": 13,
     "metadata": {},
     "output_type": "execute_result"
    }
   ],
   "source": [
    "pd.DataFrame([[1,2], [3,4]])._repr_html_()"
   ]
  },
  {
   "cell_type": "code",
   "execution_count": 14,
   "id": "254118ad",
   "metadata": {},
   "outputs": [
    {
     "name": "stdout",
     "output_type": "stream",
     "text": [
      "AB\n",
      "C\n"
     ]
    },
    {
     "data": {
      "text/plain": [
       "'AB\\nC'"
      ]
     },
     "execution_count": 14,
     "metadata": {},
     "output_type": "execute_result"
    }
   ],
   "source": [
    "s = \"AB\\nC\"\n",
    "print(s)\n",
    "s"
   ]
  },
  {
   "cell_type": "markdown",
   "id": "5280dbb6",
   "metadata": {},
   "source": [
    "# Range example"
   ]
  },
  {
   "cell_type": "code",
   "execution_count": 15,
   "id": "d5d7a182",
   "metadata": {},
   "outputs": [
    {
     "data": {
      "text/plain": [
       "range(0, 5)"
      ]
     },
     "execution_count": 15,
     "metadata": {},
     "output_type": "execute_result"
    }
   ],
   "source": [
    "range(5)"
   ]
  },
  {
   "cell_type": "code",
   "execution_count": 57,
   "id": "653156bc",
   "metadata": {},
   "outputs": [
    {
     "data": {
      "text/plain": [
       "<__main__.Range at 0x7f86ecb0a130>"
      ]
     },
     "execution_count": 57,
     "metadata": {},
     "output_type": "execute_result"
    }
   ],
   "source": [
    "class Range:\n",
    "    def __init__(self, v1, v2=None):\n",
    "        if v2 == None:\n",
    "            self.lower = 0\n",
    "            self.upper = v1\n",
    "        else:\n",
    "            self.lower = v1\n",
    "            self.upper = v2\n",
    "            \n",
    "    def __getitem__(self, lookup):\n",
    "        #print(\"LOOKUP\", lookup)\n",
    "        if not isinstance(lookup, int):\n",
    "            raise NotImplementedError(\"only int indexing supported\")\n",
    "        if lookup < 0:\n",
    "            raise NotImplementedError(\"neg idx not supported\")\n",
    "        if lookup >= (self.upper-self.lower):\n",
    "            raise IndexError()\n",
    "        return self.lower + lookup\n",
    "    \n",
    "    def __len__(self):\n",
    "        return self.upper-self.lower\n",
    "\n",
    "r = Range(3, 8)\n",
    "r"
   ]
  },
  {
   "cell_type": "code",
   "execution_count": 58,
   "id": "138531be",
   "metadata": {},
   "outputs": [
    {
     "data": {
      "text/plain": [
       "5"
      ]
     },
     "execution_count": 58,
     "metadata": {},
     "output_type": "execute_result"
    }
   ],
   "source": [
    "len(r)"
   ]
  },
  {
   "cell_type": "code",
   "execution_count": 52,
   "id": "fb16df30",
   "metadata": {},
   "outputs": [
    {
     "data": {
      "text/plain": [
       "4"
      ]
     },
     "execution_count": 52,
     "metadata": {},
     "output_type": "execute_result"
    }
   ],
   "source": [
    "# r[1] => r.__getitem__(1)\n",
    "r[1]  # subscriptable => brackets are usable"
   ]
  },
  {
   "cell_type": "code",
   "execution_count": 53,
   "id": "fba59db1",
   "metadata": {},
   "outputs": [],
   "source": [
    "# r[\"2:4\"] -- not supported yet"
   ]
  },
  {
   "cell_type": "code",
   "execution_count": 54,
   "id": "f80bfd73",
   "metadata": {},
   "outputs": [
    {
     "name": "stdout",
     "output_type": "stream",
     "text": [
      "3\n",
      "4\n",
      "5\n",
      "6\n",
      "7\n"
     ]
    }
   ],
   "source": [
    "for x in r:\n",
    "    print(x)"
   ]
  },
  {
   "cell_type": "code",
   "execution_count": 55,
   "id": "767f7440",
   "metadata": {},
   "outputs": [
    {
     "data": {
      "text/plain": [
       "[3, 4, 5, 6, 7]"
      ]
     },
     "execution_count": 55,
     "metadata": {},
     "output_type": "execute_result"
    }
   ],
   "source": [
    "list(r)"
   ]
  },
  {
   "cell_type": "code",
   "execution_count": 59,
   "id": "74d06519",
   "metadata": {},
   "outputs": [
    {
     "data": {
      "text/plain": [
       "5"
      ]
     },
     "execution_count": 59,
     "metadata": {},
     "output_type": "execute_result"
    }
   ],
   "source": [
    "len(r) # len(r) calls r.__len__() calls Range.__len__(r)"
   ]
  },
  {
   "cell_type": "markdown",
   "id": "98161a6f",
   "metadata": {},
   "source": [
    "# with statement"
   ]
  },
  {
   "cell_type": "code",
   "execution_count": 62,
   "id": "f8fb2bf0",
   "metadata": {},
   "outputs": [
    {
     "ename": "AssertionError",
     "evalue": "",
     "output_type": "error",
     "traceback": [
      "\u001b[0;31m---------------------------------------------------------------------------\u001b[0m",
      "\u001b[0;31mAssertionError\u001b[0m                            Traceback (most recent call last)",
      "\u001b[0;32m/tmp/ipykernel_113524/451600315.py\u001b[0m in \u001b[0;36m<module>\u001b[0;34m\u001b[0m\n\u001b[1;32m      2\u001b[0m \u001b[0mf\u001b[0m\u001b[0;34m.\u001b[0m\u001b[0mwrite\u001b[0m\u001b[0;34m(\u001b[0m\u001b[0;34m\"hello\"\u001b[0m\u001b[0;34m)\u001b[0m\u001b[0;34m\u001b[0m\u001b[0;34m\u001b[0m\u001b[0m\n\u001b[1;32m      3\u001b[0m \u001b[0;31m# what if we crash here?\u001b[0m\u001b[0;34m\u001b[0m\u001b[0;34m\u001b[0m\u001b[0;34m\u001b[0m\u001b[0m\n\u001b[0;32m----> 4\u001b[0;31m \u001b[0;32massert\u001b[0m \u001b[0;36m1\u001b[0m \u001b[0;34m==\u001b[0m \u001b[0;36m2\u001b[0m\u001b[0;34m\u001b[0m\u001b[0;34m\u001b[0m\u001b[0m\n\u001b[0m\u001b[1;32m      5\u001b[0m \u001b[0mf\u001b[0m\u001b[0;34m.\u001b[0m\u001b[0mwrite\u001b[0m\u001b[0;34m(\u001b[0m\u001b[0;34m\"world\"\u001b[0m\u001b[0;34m)\u001b[0m\u001b[0;34m\u001b[0m\u001b[0;34m\u001b[0m\u001b[0m\n\u001b[1;32m      6\u001b[0m \u001b[0mf\u001b[0m\u001b[0;34m.\u001b[0m\u001b[0mclose\u001b[0m\u001b[0;34m(\u001b[0m\u001b[0;34m)\u001b[0m\u001b[0;34m\u001b[0m\u001b[0;34m\u001b[0m\u001b[0m\n",
      "\u001b[0;31mAssertionError\u001b[0m: "
     ]
    }
   ],
   "source": [
    "f = open(\"test.txt\", \"w\")\n",
    "f.write(\"hello\")\n",
    "# what if we crash here?\n",
    "assert 1 == 2\n",
    "f.write(\"world\")\n",
    "f.close()"
   ]
  },
  {
   "cell_type": "code",
   "execution_count": 63,
   "id": "1f0f77de",
   "metadata": {},
   "outputs": [
    {
     "ename": "AssertionError",
     "evalue": "",
     "output_type": "error",
     "traceback": [
      "\u001b[0;31m---------------------------------------------------------------------------\u001b[0m",
      "\u001b[0;31mAssertionError\u001b[0m                            Traceback (most recent call last)",
      "\u001b[0;32m/tmp/ipykernel_113524/2069667083.py\u001b[0m in \u001b[0;36m<module>\u001b[0;34m\u001b[0m\n\u001b[1;32m      3\u001b[0m \u001b[0;32mwith\u001b[0m \u001b[0mopen\u001b[0m\u001b[0;34m(\u001b[0m\u001b[0;34m\"test.txt\"\u001b[0m\u001b[0;34m,\u001b[0m \u001b[0;34m\"w\"\u001b[0m\u001b[0;34m)\u001b[0m \u001b[0;32mas\u001b[0m \u001b[0mf\u001b[0m\u001b[0;34m:\u001b[0m\u001b[0;34m\u001b[0m\u001b[0;34m\u001b[0m\u001b[0m\n\u001b[1;32m      4\u001b[0m     \u001b[0mf\u001b[0m\u001b[0;34m.\u001b[0m\u001b[0mwrite\u001b[0m\u001b[0;34m(\u001b[0m\u001b[0;34m\"hello\"\u001b[0m\u001b[0;34m)\u001b[0m\u001b[0;34m\u001b[0m\u001b[0;34m\u001b[0m\u001b[0m\n\u001b[0;32m----> 5\u001b[0;31m     \u001b[0;32massert\u001b[0m \u001b[0;36m1\u001b[0m \u001b[0;34m==\u001b[0m \u001b[0;36m2\u001b[0m\u001b[0;34m\u001b[0m\u001b[0;34m\u001b[0m\u001b[0m\n\u001b[0m\u001b[1;32m      6\u001b[0m     \u001b[0mf\u001b[0m\u001b[0;34m.\u001b[0m\u001b[0mwrite\u001b[0m\u001b[0;34m(\u001b[0m\u001b[0;34m\"world\"\u001b[0m\u001b[0;34m)\u001b[0m\u001b[0;34m\u001b[0m\u001b[0;34m\u001b[0m\u001b[0m\n\u001b[1;32m      7\u001b[0m \u001b[0;34m\u001b[0m\u001b[0m\n",
      "\u001b[0;31mAssertionError\u001b[0m: "
     ]
    }
   ],
   "source": [
    "# with (instead of Java's finally)\n",
    "\n",
    "with open(\"test.txt\", \"w\") as f:\n",
    "    f.write(\"hello\")\n",
    "    assert 1 == 2\n",
    "    f.write(\"world\")\n",
    "\n",
    "# f.close()  -- happens automatically"
   ]
  },
  {
   "cell_type": "code",
   "execution_count": 65,
   "id": "c8143ccd",
   "metadata": {},
   "outputs": [
    {
     "name": "stdout",
     "output_type": "stream",
     "text": [
      "create object\n",
      "start with block\n",
      "A\n",
      "exit with block\n"
     ]
    },
    {
     "ename": "AssertionError",
     "evalue": "",
     "output_type": "error",
     "traceback": [
      "\u001b[0;31m---------------------------------------------------------------------------\u001b[0m",
      "\u001b[0;31mAssertionError\u001b[0m                            Traceback (most recent call last)",
      "\u001b[0;32m/tmp/ipykernel_113524/1548881871.py\u001b[0m in \u001b[0;36m<module>\u001b[0;34m\u001b[0m\n\u001b[1;32m     12\u001b[0m \u001b[0;32mwith\u001b[0m \u001b[0mExample\u001b[0m\u001b[0;34m(\u001b[0m\u001b[0;34m)\u001b[0m \u001b[0;32mas\u001b[0m \u001b[0mobj\u001b[0m\u001b[0;34m:\u001b[0m\u001b[0;34m\u001b[0m\u001b[0;34m\u001b[0m\u001b[0m\n\u001b[1;32m     13\u001b[0m     \u001b[0mprint\u001b[0m\u001b[0;34m(\u001b[0m\u001b[0;34m\"A\"\u001b[0m\u001b[0;34m)\u001b[0m\u001b[0;34m\u001b[0m\u001b[0;34m\u001b[0m\u001b[0m\n\u001b[0;32m---> 14\u001b[0;31m     \u001b[0;32massert\u001b[0m \u001b[0;36m1\u001b[0m \u001b[0;34m==\u001b[0m \u001b[0;36m2\u001b[0m\u001b[0;34m\u001b[0m\u001b[0;34m\u001b[0m\u001b[0m\n\u001b[0m\u001b[1;32m     15\u001b[0m     \u001b[0mprint\u001b[0m\u001b[0;34m(\u001b[0m\u001b[0;34m\"B\"\u001b[0m\u001b[0;34m)\u001b[0m\u001b[0;34m\u001b[0m\u001b[0;34m\u001b[0m\u001b[0m\n",
      "\u001b[0;31mAssertionError\u001b[0m: "
     ]
    }
   ],
   "source": [
    "class Example:\n",
    "    def __init__(self):\n",
    "        print(\"create object\")\n",
    "        \n",
    "    def __enter__(self):\n",
    "        print(\"start with block\")\n",
    "\n",
    "    def __exit__(self, exc_type, exc_value, traceback):\n",
    "        print(\"exit with block\")\n",
    "        \n",
    "\n",
    "with Example() as obj:\n",
    "    print(\"A\")\n",
    "    assert 1 == 2\n",
    "    print(\"B\")"
   ]
  },
  {
   "cell_type": "code",
   "execution_count": 69,
   "id": "e536b5fc",
   "metadata": {},
   "outputs": [
    {
     "data": {
      "text/plain": [
       "(<Figure size 432x288 with 1 Axes>, <AxesSubplot:>)"
      ]
     },
     "execution_count": 69,
     "metadata": {},
     "output_type": "execute_result"
    },
    {
     "data": {
      "image/png": "[encoded data removed]",
      "text/plain": [
       "<Figure size 432x288 with 1 Axes>"
      ]
     },
     "metadata": {
      "needs_background": "light"
     },
     "output_type": "display_data"
    }
   ],
   "source": [
    "import matplotlib.pyplot as plt\n",
    "plt.rcParams[\"font.size\"] = 10\n",
    "plt.subplots()"
   ]
  },
  {
   "cell_type": "code",
   "execution_count": 79,
   "id": "86120d6b",
   "metadata": {},
   "outputs": [
    {
     "data": {
      "text/plain": [
       "(<Figure size 432x288 with 1 Axes>, <AxesSubplot:>)"
      ]
     },
     "execution_count": 79,
     "metadata": {},
     "output_type": "execute_result"
    },
    {
     "data": {
      "image/png": "[encoded data removed]",
      "text/plain": [
       "<Figure size 432x288 with 1 Axes>"
      ]
     },
     "metadata": {
      "needs_background": "light"
     },
     "output_type": "display_data"
    },
    {
     "data": {
      "image/png": "[encoded data removed]",
      "text/plain": [
       "<Figure size 432x288 with 1 Axes>"
      ]
     },
     "metadata": {
      "needs_background": "light"
     },
     "output_type": "display_data"
    },
    {
     "data": {
      "image/png": "[encoded data removed]",
      "text/plain": [
       "<Figure size 432x288 with 1 Axes>"
      ]
     },
     "metadata": {
      "needs_background": "light"
     },
     "output_type": "display_data"
    }
   ],
   "source": [
    "class MultFont:\n",
    "    def __init__(self, mult=2):\n",
    "        self.mult = mult\n",
    "    \n",
    "    def __enter__(self):\n",
    "        plt.rcParams[\"font.size\"] *= self.mult\n",
    "        \n",
    "    def __exit__(self, exc_type, exc_value, traceback):\n",
    "        plt.rcParams[\"font.size\"] /= self.mult\n",
    "\n",
    "with MultFont(2):\n",
    "    plt.subplots() # should be larger\n",
    "    with MultFont(3):\n",
    "        plt.subplots() # should be 6x larger than normal\n",
    "    \n",
    "plt.subplots() # should be regular size"
   ]
  },
  {
   "cell_type": "code",
   "execution_count": null,
   "id": "784ff0df",
   "metadata": {},
   "outputs": [],
   "source": [
    "    "
   ]
  }
 ],
 "metadata": {
  "kernelspec": {
   "display_name": "Python 3 (ipykernel)",
   "language": "python",
   "name": "python3"
  },
  "language_info": {
   "codemirror_mode": {
    "name": "ipython",
    "version": 3
   },
   "file_extension": ".py",
   "mimetype": "text/x-python",
   "name": "python",
   "nbconvert_exporter": "python",
   "pygments_lexer": "ipython3",
   "version": "3.8.10"
  }
 },
 "nbformat": 4,
 "nbformat_minor": 5
}
