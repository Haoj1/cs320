{
 "cells": [
  {
   "cell_type": "markdown",
   "id": "2d6df25a",
   "metadata": {},
   "source": [
    "# https://tinyurl.com/2p82uuvz"
   ]
  },
  {
   "cell_type": "code",
   "execution_count": 129,
   "id": "e60b8e8d",
   "metadata": {},
   "outputs": [],
   "source": [
    "import math\n",
    "\n",
    "quake_dicts = [{'place': 'southeast of the Loyalty Islands',\n",
    "  'time': 1637538745422,\n",
    "  'mag': 4.5,\n",
    "  'loc': {'lat': -22.7976, 'lon': 171.963}},\n",
    " {'place': '5km ESE of Walker, CA',\n",
    "  'time': 1637537593330,\n",
    "  'mag': 1.19,\n",
    "  'loc': {'lat': 38.504, 'lon': -119.429}},\n",
    " {'place': '19 km W of Cheyenne Wells, Colorado',\n",
    "  'time': 1637537565440,\n",
    "  'mag': 1.9,\n",
    "  'loc': {'lat': 38.8551, 'lon': -102.5692}},\n",
    " {'place': '4 km NW of Point MacKenzie, Alaska',\n",
    "  'time': 1637537529410,\n",
    "  'mag': 1.7,\n",
    "  'loc': {'lat': 61.3898, 'lon': -150.0462}},\n",
    " {'place': '15 km SE of Waynoka, Oklahoma',\n",
    "  'time': 1637537486109,\n",
    "  'mag': 1.51,\n",
    "  'loc': {'lat': 36.473, 'lon': -98.7745}}]\n",
    "        \n",
    "class Location:\n",
    "    def __init__(self, lat, lon):\n",
    "        self.lat = lat\n",
    "        self.lon = lon\n",
    "        \n",
    "    def __str__(self):\n",
    "        return f\"Location: latitude={self.lat}, longitude={self.lon}\"\n",
    "\n",
    "    def __repr__(self):\n",
    "        return f\"Location({self.lat}, {self.lon})\"\n",
    "    \n",
    "    def __eq__(self, other):\n",
    "        #return self.lat == other.lat and self.lon == other.lon\n",
    "        return math.isclose(self.lat, other.lat) and math.isclose(self.lon, other.lon)\n",
    "        \n",
    "class Earthquake:\n",
    "    def __init__(self, values):\n",
    "        self.place = values[\"place\"]\n",
    "        self.time = values[\"time\"]\n",
    "        self.mag = values[\"mag\"]\n",
    "        self.loc = Location(values[\"loc\"][\"lat\"], values[\"loc\"][\"lon\"])\n",
    "\n",
    "    def place_miles(self):\n",
    "        place = self.place\n",
    "        km_idx = place.find(\"km\")\n",
    "        if km_idx < 0:\n",
    "            return place\n",
    "        num = place[:km_idx].strip()\n",
    "        if not num.isdigit():\n",
    "            return place\n",
    "        miles = round(float(num) * 0.621371, 2)\n",
    "        return f\"{miles} miles{place[km_idx+2:]}\"\n",
    "    \n",
    "    def _repr_html_(self):\n",
    "        size = max(5 - int(round(self.mag)), 1)\n",
    "        return f\"<h{size}>Mag {self.mag} Earthquake at {self.place}</h{size}>\"\n",
    "    \n",
    "    def __repr__(self):\n",
    "        return f\"Mag {self.mag} Earthquake at {self.place}\"\n",
    "    \n",
    "    # lt = \"less than\", ge = \"greater or equal\"\n",
    "    def __lt__(self, obj2):\n",
    "        return self.mag < obj2.mag"
   ]
  },
  {
   "cell_type": "code",
   "execution_count": 130,
   "id": "d017405d",
   "metadata": {},
   "outputs": [
    {
     "data": {
      "text/plain": [
       "[Mag 4.5 Earthquake at southeast of the Loyalty Islands,\n",
       " Mag 1.19 Earthquake at 5km ESE of Walker, CA,\n",
       " Mag 1.9 Earthquake at 19 km W of Cheyenne Wells, Colorado,\n",
       " Mag 1.7 Earthquake at 4 km NW of Point MacKenzie, Alaska,\n",
       " Mag 1.51 Earthquake at 15 km SE of Waynoka, Oklahoma]"
      ]
     },
     "execution_count": 130,
     "metadata": {},
     "output_type": "execute_result"
    }
   ],
   "source": [
    "# earthquakes = []\n",
    "# for q in quake_dicts:\n",
    "#     earthquakes.append(Earthquake(q))\n",
    "\n",
    "earthquakes = [Earthquake(q) for q in quake_dicts]\n",
    "earthquakes"
   ]
  },
  {
   "cell_type": "code",
   "execution_count": 131,
   "id": "04315208",
   "metadata": {},
   "outputs": [
    {
     "data": {
      "text/plain": [
       "False"
      ]
     },
     "execution_count": 131,
     "metadata": {},
     "output_type": "execute_result"
    }
   ],
   "source": [
    "earthquakes[0] < earthquakes[1] # calls earthquakes[0].__lt__(earthquakes[1])"
   ]
  },
  {
   "cell_type": "code",
   "execution_count": 132,
   "id": "deadc0cb",
   "metadata": {},
   "outputs": [],
   "source": [
    "# new_list = earthquakes.sort() # BAD!\n",
    "# new_list"
   ]
  },
  {
   "cell_type": "code",
   "execution_count": 133,
   "id": "1c3e5f70",
   "metadata": {},
   "outputs": [
    {
     "data": {
      "text/plain": [
       "[Mag 1.19 Earthquake at 5km ESE of Walker, CA,\n",
       " Mag 1.51 Earthquake at 15 km SE of Waynoka, Oklahoma,\n",
       " Mag 1.7 Earthquake at 4 km NW of Point MacKenzie, Alaska,\n",
       " Mag 1.9 Earthquake at 19 km W of Cheyenne Wells, Colorado,\n",
       " Mag 4.5 Earthquake at southeast of the Loyalty Islands]"
      ]
     },
     "execution_count": 133,
     "metadata": {},
     "output_type": "execute_result"
    }
   ],
   "source": [
    "# earthquakes.sort()  -- modifies the list to be in order, without creating a new one\n",
    "new_list = sorted(earthquakes) # doesn't change original list, creates new one\n",
    "new_list"
   ]
  },
  {
   "cell_type": "code",
   "execution_count": 134,
   "id": "09ad1119",
   "metadata": {},
   "outputs": [
    {
     "data": {
      "text/html": [
       "<h4>Mag 1.19 Earthquake at 5km ESE of Walker, CA</h4>"
      ],
      "text/plain": [
       "Mag 1.19 Earthquake at 5km ESE of Walker, CA"
      ]
     },
     "execution_count": 134,
     "metadata": {},
     "output_type": "execute_result"
    }
   ],
   "source": [
    "Earthquake(quake_dicts[1])"
   ]
  },
  {
   "cell_type": "code",
   "execution_count": 135,
   "id": "8cecdc77",
   "metadata": {},
   "outputs": [
    {
     "data": {
      "text/html": [
       "<h3>Mag 1.9 Earthquake at 19 km W of Cheyenne Wells, Colorado</h3>"
      ],
      "text/plain": [
       "Mag 1.9 Earthquake at 19 km W of Cheyenne Wells, Colorado"
      ]
     },
     "execution_count": 135,
     "metadata": {},
     "output_type": "execute_result"
    }
   ],
   "source": [
    "Earthquake(quake_dicts[2])"
   ]
  },
  {
   "cell_type": "code",
   "execution_count": 136,
   "id": "c11e3e9f",
   "metadata": {},
   "outputs": [
    {
     "data": {
      "text/html": [
       "<h1>Mag 4.5 Earthquake at southeast of the Loyalty Islands</h1>"
      ],
      "text/plain": [
       "Mag 4.5 Earthquake at southeast of the Loyalty Islands"
      ]
     },
     "execution_count": 136,
     "metadata": {},
     "output_type": "execute_result"
    }
   ],
   "source": [
    "Earthquake(quake_dicts[0])"
   ]
  },
  {
   "cell_type": "code",
   "execution_count": 137,
   "id": "677a5ada",
   "metadata": {},
   "outputs": [
    {
     "name": "stdout",
     "output_type": "stream",
     "text": [
      "Location: latitude=36.473, longitude=-98.7745\n"
     ]
    },
    {
     "data": {
      "text/plain": [
       "Location(36.473, -98.7745)"
      ]
     },
     "execution_count": 137,
     "metadata": {},
     "output_type": "execute_result"
    }
   ],
   "source": [
    "point1 = Location(36.473, -98.7745)\n",
    "print(point1)    # call str(point1), which calls point1.__str__()\n",
    "point1           # calls repr(point1), which calls point1.__repr__()"
   ]
  },
  {
   "cell_type": "code",
   "execution_count": 138,
   "id": "bd201053",
   "metadata": {},
   "outputs": [
    {
     "data": {
      "text/plain": [
       "Location(36.473, -98.77450000001)"
      ]
     },
     "execution_count": 138,
     "metadata": {},
     "output_type": "execute_result"
    }
   ],
   "source": [
    "point2 = Location(36.473, -98.77450000001)\n",
    "point2"
   ]
  },
  {
   "cell_type": "code",
   "execution_count": 139,
   "id": "50545f1f",
   "metadata": {},
   "outputs": [
    {
     "data": {
      "text/plain": [
       "True"
      ]
     },
     "execution_count": 139,
     "metadata": {},
     "output_type": "execute_result"
    }
   ],
   "source": [
    "point1 == point2 # calls point1.__eq__(point2)"
   ]
  },
  {
   "cell_type": "code",
   "execution_count": 140,
   "id": "74a52bbf",
   "metadata": {},
   "outputs": [
    {
     "data": {
      "text/html": [
       "<div>\n",
       "<style scoped>\n",
       "    .dataframe tbody tr th:only-of-type {\n",
       "        vertical-align: middle;\n",
       "    }\n",
       "\n",
       "    .dataframe tbody tr th {\n",
       "        vertical-align: top;\n",
       "    }\n",
       "\n",
       "    .dataframe thead th {\n",
       "        text-align: right;\n",
       "    }\n",
       "</style>\n",
       "<table border=\"1\" class=\"dataframe\">\n",
       "  <thead>\n",
       "    <tr style=\"text-align: right;\">\n",
       "      <th></th>\n",
       "      <th>0</th>\n",
       "      <th>1</th>\n",
       "    </tr>\n",
       "  </thead>\n",
       "  <tbody>\n",
       "    <tr>\n",
       "      <th>0</th>\n",
       "      <td>1</td>\n",
       "      <td>2</td>\n",
       "    </tr>\n",
       "    <tr>\n",
       "      <th>1</th>\n",
       "      <td>3</td>\n",
       "      <td>4</td>\n",
       "    </tr>\n",
       "  </tbody>\n",
       "</table>\n",
       "</div>"
      ],
      "text/plain": [
       "   0  1\n",
       "0  1  2\n",
       "1  3  4"
      ]
     },
     "execution_count": 140,
     "metadata": {},
     "output_type": "execute_result"
    }
   ],
   "source": [
    "import pandas as pd\n",
    "pd.DataFrame([[1,2],[3,4]])"
   ]
  },
  {
   "cell_type": "code",
   "execution_count": 141,
   "id": "67daf4f0",
   "metadata": {},
   "outputs": [
    {
     "data": {
      "text/plain": [
       "'<div>\\n<style scoped>\\n    .dataframe tbody tr th:only-of-type {\\n        vertical-align: middle;\\n    }\\n\\n    .dataframe tbody tr th {\\n        vertical-align: top;\\n    }\\n\\n    .dataframe thead th {\\n        text-align: right;\\n    }\\n</style>\\n<table border=\"1\" class=\"dataframe\">\\n  <thead>\\n    <tr style=\"text-align: right;\">\\n      <th></th>\\n      <th>0</th>\\n      <th>1</th>\\n    </tr>\\n  </thead>\\n  <tbody>\\n    <tr>\\n      <th>0</th>\\n      <td>1</td>\\n      <td>2</td>\\n    </tr>\\n    <tr>\\n      <th>1</th>\\n      <td>3</td>\\n      <td>4</td>\\n    </tr>\\n  </tbody>\\n</table>\\n</div>'"
      ]
     },
     "execution_count": 141,
     "metadata": {},
     "output_type": "execute_result"
    }
   ],
   "source": [
    "pd.DataFrame([[1,2],[3,4]])._repr_html_()"
   ]
  },
  {
   "cell_type": "code",
   "execution_count": 142,
   "id": "c22ed933",
   "metadata": {},
   "outputs": [
    {
     "name": "stdout",
     "output_type": "stream",
     "text": [
      "AB\n",
      "CD\n"
     ]
    },
    {
     "data": {
      "text/plain": [
       "'AB\\nCD'"
      ]
     },
     "execution_count": 142,
     "metadata": {},
     "output_type": "execute_result"
    }
   ],
   "source": [
    "s = \"AB\\nCD\"\n",
    "print(s)    # for non-programmers\n",
    "s           # for programmers"
   ]
  },
  {
   "cell_type": "markdown",
   "id": "a1138569",
   "metadata": {},
   "source": [
    "# range sequence"
   ]
  },
  {
   "cell_type": "code",
   "execution_count": 143,
   "id": "6e972d68",
   "metadata": {},
   "outputs": [
    {
     "data": {
      "text/plain": [
       "range(0, 5)"
      ]
     },
     "execution_count": 143,
     "metadata": {},
     "output_type": "execute_result"
    }
   ],
   "source": [
    "range(5)"
   ]
  },
  {
   "cell_type": "code",
   "execution_count": 189,
   "id": "648d8e06",
   "metadata": {},
   "outputs": [
    {
     "data": {
      "text/plain": [
       "<__main__.Range at 0x7ffa3aa65a90>"
      ]
     },
     "execution_count": 189,
     "metadata": {},
     "output_type": "execute_result"
    }
   ],
   "source": [
    "class Range:\n",
    "    def __init__(self, v1, v2):\n",
    "        self.lower = v1\n",
    "        self.upper = v2\n",
    "        \n",
    "    def __getitem__(self, lookup):        \n",
    "        if not isinstance(lookup, int):\n",
    "            raise TypeError(\"only int lookup supported\")\n",
    "        if lookup >= (self.upper - self.lower):\n",
    "            raise IndexError()\n",
    "        if lookup < 0:\n",
    "            raise NotImplementedError(\"neg idx not supported (yet)\")\n",
    "        return self.lower + lookup\n",
    "    \n",
    "    def __len__(self):\n",
    "        return self.upper - self.lower\n",
    "\n",
    "r = Range(3, 8)\n",
    "r"
   ]
  },
  {
   "cell_type": "code",
   "execution_count": 190,
   "id": "f324a5f3",
   "metadata": {},
   "outputs": [
    {
     "data": {
      "text/plain": [
       "5"
      ]
     },
     "execution_count": 190,
     "metadata": {},
     "output_type": "execute_result"
    }
   ],
   "source": [
    "len(r)"
   ]
  },
  {
   "cell_type": "code",
   "execution_count": 186,
   "id": "491c4f99",
   "metadata": {},
   "outputs": [
    {
     "name": "stdout",
     "output_type": "stream",
     "text": [
      "3\n",
      "4\n",
      "5\n",
      "6\n",
      "7\n"
     ]
    }
   ],
   "source": [
    "for x in r:\n",
    "    print(x)"
   ]
  },
  {
   "cell_type": "code",
   "execution_count": 174,
   "id": "88ae8036",
   "metadata": {},
   "outputs": [
    {
     "name": "stdout",
     "output_type": "stream",
     "text": [
      "0\n",
      "<class 'int'>\n"
     ]
    },
    {
     "data": {
      "text/plain": [
       "3"
      ]
     },
     "execution_count": 174,
     "metadata": {},
     "output_type": "execute_result"
    }
   ],
   "source": [
    "r.__getitem__(0)"
   ]
  },
  {
   "cell_type": "code",
   "execution_count": 177,
   "id": "8565e02d",
   "metadata": {},
   "outputs": [
    {
     "data": {
      "text/plain": [
       "5"
      ]
     },
     "execution_count": 177,
     "metadata": {},
     "output_type": "execute_result"
    }
   ],
   "source": [
    "r[2] # r.__getitem__(???)"
   ]
  },
  {
   "cell_type": "code",
   "execution_count": 178,
   "id": "e45e8c2d",
   "metadata": {},
   "outputs": [],
   "source": [
    "#r[-1]"
   ]
  },
  {
   "cell_type": "code",
   "execution_count": 187,
   "id": "58f0990e",
   "metadata": {},
   "outputs": [
    {
     "data": {
      "text/plain": [
       "[3, 4, 5, 6, 7]"
      ]
     },
     "execution_count": 187,
     "metadata": {},
     "output_type": "execute_result"
    }
   ],
   "source": [
    "list(r)"
   ]
  },
  {
   "cell_type": "code",
   "execution_count": 191,
   "id": "b9004b21",
   "metadata": {},
   "outputs": [
    {
     "data": {
      "text/plain": [
       "5"
      ]
     },
     "execution_count": 191,
     "metadata": {},
     "output_type": "execute_result"
    }
   ],
   "source": [
    "len(r) # len(r) calls r.__len__() calls Range.__len__(r)"
   ]
  },
  {
   "cell_type": "markdown",
   "id": "62a5463f",
   "metadata": {},
   "source": [
    "# with statement"
   ]
  },
  {
   "cell_type": "code",
   "execution_count": 194,
   "id": "b9bedb74",
   "metadata": {},
   "outputs": [
    {
     "ename": "AssertionError",
     "evalue": "",
     "output_type": "error",
     "traceback": [
      "\u001b[0;31m---------------------------------------------------------------------------\u001b[0m",
      "\u001b[0;31mAssertionError\u001b[0m                            Traceback (most recent call last)",
      "\u001b[0;32m/tmp/ipykernel_90351/863702850.py\u001b[0m in \u001b[0;36m<module>\u001b[0;34m\u001b[0m\n\u001b[1;32m      2\u001b[0m \u001b[0mf\u001b[0m\u001b[0;34m.\u001b[0m\u001b[0mwrite\u001b[0m\u001b[0;34m(\u001b[0m\u001b[0;34m\"hello\"\u001b[0m\u001b[0;34m)\u001b[0m\u001b[0;34m\u001b[0m\u001b[0;34m\u001b[0m\u001b[0m\n\u001b[1;32m      3\u001b[0m \u001b[0;31m# what if I crash here?\u001b[0m\u001b[0;34m\u001b[0m\u001b[0;34m\u001b[0m\u001b[0;34m\u001b[0m\u001b[0m\n\u001b[0;32m----> 4\u001b[0;31m \u001b[0;32massert\u001b[0m \u001b[0;36m1\u001b[0m\u001b[0;34m==\u001b[0m\u001b[0;36m2\u001b[0m\u001b[0;34m\u001b[0m\u001b[0;34m\u001b[0m\u001b[0m\n\u001b[0m\u001b[1;32m      5\u001b[0m \u001b[0mf\u001b[0m\u001b[0;34m.\u001b[0m\u001b[0mwrite\u001b[0m\u001b[0;34m(\u001b[0m\u001b[0;34m\"world\"\u001b[0m\u001b[0;34m)\u001b[0m\u001b[0;34m\u001b[0m\u001b[0;34m\u001b[0m\u001b[0m\n\u001b[1;32m      6\u001b[0m \u001b[0mf\u001b[0m\u001b[0;34m.\u001b[0m\u001b[0mclose\u001b[0m\u001b[0;34m(\u001b[0m\u001b[0;34m)\u001b[0m\u001b[0;34m\u001b[0m\u001b[0;34m\u001b[0m\u001b[0m\n",
      "\u001b[0;31mAssertionError\u001b[0m: "
     ]
    }
   ],
   "source": [
    "f = open(\"test.txt\", \"w\")\n",
    "f.write(\"hello\")\n",
    "# what if I crash here?\n",
    "assert 1==2\n",
    "f.write(\"world\")\n",
    "f.close()"
   ]
  },
  {
   "cell_type": "code",
   "execution_count": 195,
   "id": "e7505e41",
   "metadata": {},
   "outputs": [
    {
     "ename": "AssertionError",
     "evalue": "",
     "output_type": "error",
     "traceback": [
      "\u001b[0;31m---------------------------------------------------------------------------\u001b[0m",
      "\u001b[0;31mAssertionError\u001b[0m                            Traceback (most recent call last)",
      "\u001b[0;32m/tmp/ipykernel_90351/173832898.py\u001b[0m in \u001b[0;36m<module>\u001b[0;34m\u001b[0m\n\u001b[1;32m      2\u001b[0m     \u001b[0mf\u001b[0m\u001b[0;34m.\u001b[0m\u001b[0mwrite\u001b[0m\u001b[0;34m(\u001b[0m\u001b[0;34m\"hello\"\u001b[0m\u001b[0;34m)\u001b[0m\u001b[0;34m\u001b[0m\u001b[0;34m\u001b[0m\u001b[0m\n\u001b[1;32m      3\u001b[0m     \u001b[0;31m# what if I crash here?\u001b[0m\u001b[0;34m\u001b[0m\u001b[0;34m\u001b[0m\u001b[0;34m\u001b[0m\u001b[0m\n\u001b[0;32m----> 4\u001b[0;31m     \u001b[0;32massert\u001b[0m \u001b[0;36m1\u001b[0m\u001b[0;34m==\u001b[0m\u001b[0;36m2\u001b[0m\u001b[0;34m\u001b[0m\u001b[0;34m\u001b[0m\u001b[0m\n\u001b[0m\u001b[1;32m      5\u001b[0m     \u001b[0mf\u001b[0m\u001b[0;34m.\u001b[0m\u001b[0mwrite\u001b[0m\u001b[0;34m(\u001b[0m\u001b[0;34m\"world\"\u001b[0m\u001b[0;34m)\u001b[0m\u001b[0;34m\u001b[0m\u001b[0;34m\u001b[0m\u001b[0m\n\u001b[1;32m      6\u001b[0m \u001b[0;34m\u001b[0m\u001b[0m\n",
      "\u001b[0;31mAssertionError\u001b[0m: "
     ]
    }
   ],
   "source": [
    "with open(\"test.txt\", \"w\") as f:\n",
    "    f.write(\"hello\")\n",
    "    # what if I crash here?\n",
    "    assert 1==2\n",
    "    f.write(\"world\")\n",
    "\n",
    "# f.close()  -- cleanup happens automatically with \"with\""
   ]
  },
  {
   "cell_type": "code",
   "execution_count": 198,
   "id": "2408dc8b",
   "metadata": {},
   "outputs": [
    {
     "name": "stdout",
     "output_type": "stream",
     "text": [
      "create context manager\n",
      "start with block\n",
      "A\n",
      "exit with block\n"
     ]
    },
    {
     "ename": "AssertionError",
     "evalue": "",
     "output_type": "error",
     "traceback": [
      "\u001b[0;31m---------------------------------------------------------------------------\u001b[0m",
      "\u001b[0;31mAssertionError\u001b[0m                            Traceback (most recent call last)",
      "\u001b[0;32m/tmp/ipykernel_90351/2973444720.py\u001b[0m in \u001b[0;36m<module>\u001b[0;34m\u001b[0m\n\u001b[1;32m     12\u001b[0m \u001b[0;32mwith\u001b[0m \u001b[0mExample\u001b[0m\u001b[0;34m(\u001b[0m\u001b[0;34m)\u001b[0m \u001b[0;32mas\u001b[0m \u001b[0mobj\u001b[0m\u001b[0;34m:\u001b[0m \u001b[0;31m# any obj used with \"with\" is called a \"context manager\"\u001b[0m\u001b[0;34m\u001b[0m\u001b[0;34m\u001b[0m\u001b[0m\n\u001b[1;32m     13\u001b[0m     \u001b[0mprint\u001b[0m\u001b[0;34m(\u001b[0m\u001b[0;34m\"A\"\u001b[0m\u001b[0;34m)\u001b[0m\u001b[0;34m\u001b[0m\u001b[0;34m\u001b[0m\u001b[0m\n\u001b[0;32m---> 14\u001b[0;31m     \u001b[0;32massert\u001b[0m \u001b[0;36m1\u001b[0m\u001b[0;34m==\u001b[0m\u001b[0;36m2\u001b[0m \u001b[0;31m# crash!\u001b[0m\u001b[0;34m\u001b[0m\u001b[0;34m\u001b[0m\u001b[0m\n\u001b[0m\u001b[1;32m     15\u001b[0m     \u001b[0mprint\u001b[0m\u001b[0;34m(\u001b[0m\u001b[0;34m\"B\"\u001b[0m\u001b[0;34m)\u001b[0m\u001b[0;34m\u001b[0m\u001b[0;34m\u001b[0m\u001b[0m\n",
      "\u001b[0;31mAssertionError\u001b[0m: "
     ]
    }
   ],
   "source": [
    "class Example:\n",
    "    def __init__(self):\n",
    "        print(\"create context manager\")\n",
    "    \n",
    "    def __enter__(self):\n",
    "        print(\"start with block\")\n",
    "        \n",
    "    def __exit__(self, exc_type, exc_value, traceback):\n",
    "        print(\"exit with block\")\n",
    "    \n",
    "\n",
    "with Example() as obj: # any obj used with \"with\" is called a \"context manager\"\n",
    "    print(\"A\")\n",
    "    assert 1==2 # crash!\n",
    "    print(\"B\")"
   ]
  },
  {
   "cell_type": "code",
   "execution_count": 200,
   "id": "8d6d5963",
   "metadata": {},
   "outputs": [],
   "source": [
    "import matplotlib.pyplot as plt"
   ]
  },
  {
   "cell_type": "code",
   "execution_count": 203,
   "id": "4bdcf7cf",
   "metadata": {},
   "outputs": [
    {
     "data": {
      "text/plain": [
       "(<Figure size 432x288 with 1 Axes>, <AxesSubplot:>)"
      ]
     },
     "execution_count": 203,
     "metadata": {},
     "output_type": "execute_result"
    },
    {
     "data": {
      "image/png": "[encoded data removed]",
      "text/plain": [
       "<Figure size 432x288 with 1 Axes>"
      ]
     },
     "metadata": {
      "needs_background": "light"
     },
     "output_type": "display_data"
    }
   ],
   "source": [
    "plt.rcParams[\"font.size\"] = 10\n",
    "plt.subplots()"
   ]
  },
  {
   "cell_type": "code",
   "execution_count": 209,
   "id": "606df661",
   "metadata": {},
   "outputs": [
    {
     "data": {
      "text/plain": [
       "(<Figure size 432x288 with 1 Axes>, <AxesSubplot:>)"
      ]
     },
     "execution_count": 209,
     "metadata": {},
     "output_type": "execute_result"
    },
    {
     "data": {
      "image/png": "[encoded data removed]",
      "text/plain": [
       "<Figure size 432x288 with 1 Axes>"
      ]
     },
     "metadata": {
      "needs_background": "light"
     },
     "output_type": "display_data"
    },
    {
     "data": {
      "image/png": "[encoded data removed]",
      "text/plain": [
       "<Figure size 432x288 with 1 Axes>"
      ]
     },
     "metadata": {
      "needs_background": "light"
     },
     "output_type": "display_data"
    },
    {
     "data": {
      "image/png": "[encoded data removed]",
      "text/plain": [
       "<Figure size 432x288 with 1 Axes>"
      ]
     },
     "metadata": {
      "needs_background": "light"
     },
     "output_type": "display_data"
    }
   ],
   "source": [
    "class FontMult:\n",
    "    def __init__(self, mult):\n",
    "        self.mult = mult\n",
    "        \n",
    "    def __enter__(self):\n",
    "        plt.rcParams[\"font.size\"] *= self.mult\n",
    "        \n",
    "    def __exit__(self, exc_type, exc_value, traceback):\n",
    "        plt.rcParams[\"font.size\"] /= self.mult\n",
    "\n",
    "with FontMult(2):\n",
    "    plt.subplots() # should be double size\n",
    "    with FontMult(3):\n",
    "        plt.subplots() # should be 6x size\n",
    "\n",
    "plt.subplots() # should be normal size again"
   ]
  },
  {
   "cell_type": "code",
   "execution_count": null,
   "id": "6558e034",
   "metadata": {},
   "outputs": [],
   "source": []
  }
 ],
 "metadata": {
  "kernelspec": {
   "display_name": "Python 3 (ipykernel)",
   "language": "python",
   "name": "python3"
  },
  "language_info": {
   "codemirror_mode": {
    "name": "ipython",
    "version": 3
   },
   "file_extension": ".py",
   "mimetype": "text/x-python",
   "name": "python",
   "nbconvert_exporter": "python",
   "pygments_lexer": "ipython3",
   "version": "3.8.10"
  }
 },
 "nbformat": 4,
 "nbformat_minor": 5
}
