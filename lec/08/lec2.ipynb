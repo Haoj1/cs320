{
 "cells": [
  {
   "cell_type": "markdown",
   "id": "2d6df25a",
   "metadata": {},
   "source": [
    "# https://tinyurl.com/2p82uuvz"
   ]
  },
  {
   "cell_type": "code",
   "execution_count": 99,
   "id": "e60b8e8d",
   "metadata": {},
   "outputs": [],
   "source": [
    "import math\n",
    "\n",
    "quake_dicts = [{'place': 'southeast of the Loyalty Islands',\n",
    "  'time': 1637538745422,\n",
    "  'mag': 4.5,\n",
    "  'loc': {'lat': -22.7976, 'lon': 171.963}},\n",
    " {'place': '5km ESE of Walker, CA',\n",
    "  'time': 1637537593330,\n",
    "  'mag': 1.19,\n",
    "  'loc': {'lat': 38.504, 'lon': -119.429}},\n",
    " {'place': '19 km W of Cheyenne Wells, Colorado',\n",
    "  'time': 1637537565440,\n",
    "  'mag': 1.9,\n",
    "  'loc': {'lat': 38.8551, 'lon': -102.5692}},\n",
    " {'place': '4 km NW of Point MacKenzie, Alaska',\n",
    "  'time': 1637537529410,\n",
    "  'mag': 1.7,\n",
    "  'loc': {'lat': 61.3898, 'lon': -150.0462}},\n",
    " {'place': '15 km SE of Waynoka, Oklahoma',\n",
    "  'time': 1637537486109,\n",
    "  'mag': 1.51,\n",
    "  'loc': {'lat': 36.473, 'lon': -98.7745}}]\n",
    "        \n",
    "class Location:\n",
    "    def __init__(self, lat, lon):\n",
    "        self.lat = lat\n",
    "        self.lon = lon\n",
    "        \n",
    "    def __str__(self):\n",
    "        return f\"Location: latitude={self.lat}, longitude={self.lon}\"\n",
    "\n",
    "    def __repr__(self):\n",
    "        return f\"Location({self.lat}, {self.lon})\"\n",
    "    \n",
    "    def __eq__(self, other):\n",
    "        #return self.lat == other.lat and self.lon == other.lon\n",
    "        return math.isclose(self.lat, other.lat) and math.isclose(self.lon, other.lon)\n",
    "        \n",
    "class Earthquake:\n",
    "    def __init__(self, values):\n",
    "        self.place = values[\"place\"]\n",
    "        self.time = values[\"time\"]\n",
    "        self.mag = values[\"mag\"]\n",
    "        self.loc = Location(values[\"loc\"][\"lat\"], values[\"loc\"][\"lon\"])\n",
    "\n",
    "    def place_miles(self):\n",
    "        place = self.place\n",
    "        km_idx = place.find(\"km\")\n",
    "        if km_idx < 0:\n",
    "            return place\n",
    "        num = place[:km_idx].strip()\n",
    "        if not num.isdigit():\n",
    "            return place\n",
    "        miles = round(float(num) * 0.621371, 2)\n",
    "        return f\"{miles} miles{place[km_idx+2:]}\"\n",
    "    \n",
    "    def _repr_html_(self):\n",
    "        size = max(5 - int(round(self.mag)), 1)\n",
    "        return f\"<h{size}>Mag {self.mag} Earthquake at {self.place}</h{size}>\"\n",
    "    \n",
    "    def __repr__(self):\n",
    "        return f\"Mag {self.mag} Earthquake at {self.place}\"\n",
    "    \n",
    "    # lt = \"less than\", ge = \"greater or equal\"\n",
    "    def __lt__(self, obj2):\n",
    "        return self.mag < obj2.mag"
   ]
  },
  {
   "cell_type": "code",
   "execution_count": 100,
   "id": "d017405d",
   "metadata": {},
   "outputs": [
    {
     "data": {
      "text/plain": [
       "[Mag 4.5 Earthquake at southeast of the Loyalty Islands,\n",
       " Mag 1.19 Earthquake at 5km ESE of Walker, CA,\n",
       " Mag 1.9 Earthquake at 19 km W of Cheyenne Wells, Colorado,\n",
       " Mag 1.7 Earthquake at 4 km NW of Point MacKenzie, Alaska,\n",
       " Mag 1.51 Earthquake at 15 km SE of Waynoka, Oklahoma]"
      ]
     },
     "execution_count": 100,
     "metadata": {},
     "output_type": "execute_result"
    }
   ],
   "source": [
    "# earthquakes = []\n",
    "# for q in quake_dicts:\n",
    "#     earthquakes.append(Earthquake(q))\n",
    "\n",
    "earthquakes = [Earthquake(q) for q in quake_dicts]\n",
    "earthquakes"
   ]
  },
  {
   "cell_type": "code",
   "execution_count": 101,
   "id": "04315208",
   "metadata": {},
   "outputs": [
    {
     "data": {
      "text/plain": [
       "False"
      ]
     },
     "execution_count": 101,
     "metadata": {},
     "output_type": "execute_result"
    }
   ],
   "source": [
    "earthquakes[0] < earthquakes[1] # calls earthquakes[0].__lt__(earthquakes[1])"
   ]
  },
  {
   "cell_type": "code",
   "execution_count": 102,
   "id": "deadc0cb",
   "metadata": {},
   "outputs": [],
   "source": [
    "# new_list = earthquakes.sort() # BAD!\n",
    "# new_list"
   ]
  },
  {
   "cell_type": "code",
   "execution_count": 103,
   "id": "1c3e5f70",
   "metadata": {},
   "outputs": [
    {
     "data": {
      "text/plain": [
       "[Mag 1.19 Earthquake at 5km ESE of Walker, CA,\n",
       " Mag 1.51 Earthquake at 15 km SE of Waynoka, Oklahoma,\n",
       " Mag 1.7 Earthquake at 4 km NW of Point MacKenzie, Alaska,\n",
       " Mag 1.9 Earthquake at 19 km W of Cheyenne Wells, Colorado,\n",
       " Mag 4.5 Earthquake at southeast of the Loyalty Islands]"
      ]
     },
     "execution_count": 103,
     "metadata": {},
     "output_type": "execute_result"
    }
   ],
   "source": [
    "# earthquakes.sort()  -- modifies the list to be in order, without creating a new one\n",
    "new_list = sorted(earthquakes) # doesn't change original list, creates new one\n",
    "new_list"
   ]
  },
  {
   "cell_type": "code",
   "execution_count": 104,
   "id": "09ad1119",
   "metadata": {},
   "outputs": [
    {
     "data": {
      "text/html": [
       "<h4>Mag 1.19 Earthquake at 5km ESE of Walker, CA</h4>"
      ],
      "text/plain": [
       "Mag 1.19 Earthquake at 5km ESE of Walker, CA"
      ]
     },
     "execution_count": 104,
     "metadata": {},
     "output_type": "execute_result"
    }
   ],
   "source": [
    "Earthquake(quake_dicts[1])"
   ]
  },
  {
   "cell_type": "code",
   "execution_count": 105,
   "id": "8cecdc77",
   "metadata": {},
   "outputs": [
    {
     "data": {
      "text/html": [
       "<h3>Mag 1.9 Earthquake at 19 km W of Cheyenne Wells, Colorado</h3>"
      ],
      "text/plain": [
       "Mag 1.9 Earthquake at 19 km W of Cheyenne Wells, Colorado"
      ]
     },
     "execution_count": 105,
     "metadata": {},
     "output_type": "execute_result"
    }
   ],
   "source": [
    "Earthquake(quake_dicts[2])"
   ]
  },
  {
   "cell_type": "code",
   "execution_count": 106,
   "id": "c11e3e9f",
   "metadata": {},
   "outputs": [
    {
     "data": {
      "text/html": [
       "<h1>Mag 4.5 Earthquake at southeast of the Loyalty Islands</h1>"
      ],
      "text/plain": [
       "Mag 4.5 Earthquake at southeast of the Loyalty Islands"
      ]
     },
     "execution_count": 106,
     "metadata": {},
     "output_type": "execute_result"
    }
   ],
   "source": [
    "Earthquake(quake_dicts[0])"
   ]
  },
  {
   "cell_type": "code",
   "execution_count": 107,
   "id": "677a5ada",
   "metadata": {},
   "outputs": [
    {
     "name": "stdout",
     "output_type": "stream",
     "text": [
      "Location: latitude=36.473, longitude=-98.7745\n"
     ]
    },
    {
     "data": {
      "text/plain": [
       "Location(36.473, -98.7745)"
      ]
     },
     "execution_count": 107,
     "metadata": {},
     "output_type": "execute_result"
    }
   ],
   "source": [
    "point1 = Location(36.473, -98.7745)\n",
    "print(point1)    # call str(point1), which calls point1.__str__()\n",
    "point1           # calls repr(point1), which calls point1.__repr__()"
   ]
  },
  {
   "cell_type": "code",
   "execution_count": 114,
   "id": "bd201053",
   "metadata": {},
   "outputs": [
    {
     "data": {
      "text/plain": [
       "Location(36.473, -98.77450000001)"
      ]
     },
     "execution_count": 114,
     "metadata": {},
     "output_type": "execute_result"
    }
   ],
   "source": [
    "point2 = Location(36.473, -98.77450000001)\n",
    "point2"
   ]
  },
  {
   "cell_type": "code",
   "execution_count": 115,
   "id": "50545f1f",
   "metadata": {},
   "outputs": [
    {
     "data": {
      "text/plain": [
       "True"
      ]
     },
     "execution_count": 115,
     "metadata": {},
     "output_type": "execute_result"
    }
   ],
   "source": [
    "point1 == point2 # calls point1.__eq__(point2)"
   ]
  },
  {
   "cell_type": "code",
   "execution_count": 28,
   "id": "74a52bbf",
   "metadata": {},
   "outputs": [
    {
     "data": {
      "text/html": [
       "<div>\n",
       "<style scoped>\n",
       "    .dataframe tbody tr th:only-of-type {\n",
       "        vertical-align: middle;\n",
       "    }\n",
       "\n",
       "    .dataframe tbody tr th {\n",
       "        vertical-align: top;\n",
       "    }\n",
       "\n",
       "    .dataframe thead th {\n",
       "        text-align: right;\n",
       "    }\n",
       "</style>\n",
       "<table border=\"1\" class=\"dataframe\">\n",
       "  <thead>\n",
       "    <tr style=\"text-align: right;\">\n",
       "      <th></th>\n",
       "      <th>0</th>\n",
       "      <th>1</th>\n",
       "    </tr>\n",
       "  </thead>\n",
       "  <tbody>\n",
       "    <tr>\n",
       "      <th>0</th>\n",
       "      <td>1</td>\n",
       "      <td>2</td>\n",
       "    </tr>\n",
       "    <tr>\n",
       "      <th>1</th>\n",
       "      <td>3</td>\n",
       "      <td>4</td>\n",
       "    </tr>\n",
       "  </tbody>\n",
       "</table>\n",
       "</div>"
      ],
      "text/plain": [
       "   0  1\n",
       "0  1  2\n",
       "1  3  4"
      ]
     },
     "execution_count": 28,
     "metadata": {},
     "output_type": "execute_result"
    }
   ],
   "source": [
    "import pandas as pd\n",
    "pd.DataFrame([[1,2],[3,4]])"
   ]
  },
  {
   "cell_type": "code",
   "execution_count": 29,
   "id": "67daf4f0",
   "metadata": {},
   "outputs": [
    {
     "data": {
      "text/plain": [
       "'<div>\\n<style scoped>\\n    .dataframe tbody tr th:only-of-type {\\n        vertical-align: middle;\\n    }\\n\\n    .dataframe tbody tr th {\\n        vertical-align: top;\\n    }\\n\\n    .dataframe thead th {\\n        text-align: right;\\n    }\\n</style>\\n<table border=\"1\" class=\"dataframe\">\\n  <thead>\\n    <tr style=\"text-align: right;\">\\n      <th></th>\\n      <th>0</th>\\n      <th>1</th>\\n    </tr>\\n  </thead>\\n  <tbody>\\n    <tr>\\n      <th>0</th>\\n      <td>1</td>\\n      <td>2</td>\\n    </tr>\\n    <tr>\\n      <th>1</th>\\n      <td>3</td>\\n      <td>4</td>\\n    </tr>\\n  </tbody>\\n</table>\\n</div>'"
      ]
     },
     "execution_count": 29,
     "metadata": {},
     "output_type": "execute_result"
    }
   ],
   "source": [
    "pd.DataFrame([[1,2],[3,4]])._repr_html_()"
   ]
  },
  {
   "cell_type": "code",
   "execution_count": 16,
   "id": "c22ed933",
   "metadata": {},
   "outputs": [
    {
     "name": "stdout",
     "output_type": "stream",
     "text": [
      "AB\n",
      "CD\n"
     ]
    },
    {
     "data": {
      "text/plain": [
       "'AB\\nCD'"
      ]
     },
     "execution_count": 16,
     "metadata": {},
     "output_type": "execute_result"
    }
   ],
   "source": [
    "s = \"AB\\nCD\"\n",
    "print(s)    # for non-programmers\n",
    "s           # for programmers"
   ]
  },
  {
   "cell_type": "markdown",
   "id": "a1138569",
   "metadata": {},
   "source": [
    "# range sequence"
   ]
  },
  {
   "cell_type": "code",
   "execution_count": 116,
   "id": "6e972d68",
   "metadata": {},
   "outputs": [
    {
     "data": {
      "text/plain": [
       "range(0, 5)"
      ]
     },
     "execution_count": 116,
     "metadata": {},
     "output_type": "execute_result"
    }
   ],
   "source": [
    "range(5)"
   ]
  },
  {
   "cell_type": "code",
   "execution_count": 127,
   "id": "648d8e06",
   "metadata": {},
   "outputs": [
    {
     "data": {
      "text/plain": [
       "<__main__.Range at 0x7ffa3a8a0610>"
      ]
     },
     "execution_count": 127,
     "metadata": {},
     "output_type": "execute_result"
    }
   ],
   "source": [
    "class Range:\n",
    "    def __init__(self, v1, v2):\n",
    "        self.lower = v1\n",
    "        self.upper = v2\n",
    "        \n",
    "    TODO: write __getitem__f\n",
    "\n",
    "r = Range(3, 8)\n",
    "r"
   ]
  },
  {
   "cell_type": "code",
   "execution_count": 128,
   "id": "8565e02d",
   "metadata": {},
   "outputs": [
    {
     "ename": "TypeError",
     "evalue": "'Range' object is not subscriptable",
     "output_type": "error",
     "traceback": [
      "\u001b[0;31m---------------------------------------------------------------------------\u001b[0m",
      "\u001b[0;31mTypeError\u001b[0m                                 Traceback (most recent call last)",
      "\u001b[0;32m/tmp/ipykernel_90351/416971969.py\u001b[0m in \u001b[0;36m<module>\u001b[0;34m\u001b[0m\n\u001b[0;32m----> 1\u001b[0;31m \u001b[0mr\u001b[0m\u001b[0;34m[\u001b[0m\u001b[0;36m0\u001b[0m\u001b[0;34m]\u001b[0m\u001b[0;34m\u001b[0m\u001b[0;34m\u001b[0m\u001b[0m\n\u001b[0m",
      "\u001b[0;31mTypeError\u001b[0m: 'Range' object is not subscriptable"
     ]
    }
   ],
   "source": [
    "r[0] # r.__getitem__(0)"
   ]
  },
  {
   "cell_type": "code",
   "execution_count": 120,
   "id": "e45e8c2d",
   "metadata": {},
   "outputs": [
    {
     "data": {
      "text/plain": [
       "7"
      ]
     },
     "execution_count": 120,
     "metadata": {},
     "output_type": "execute_result"
    }
   ],
   "source": [
    "r[-1]"
   ]
  },
  {
   "cell_type": "code",
   "execution_count": 125,
   "id": "c4f0d7d5",
   "metadata": {},
   "outputs": [
    {
     "name": "stdout",
     "output_type": "stream",
     "text": [
      "3\n",
      "4\n",
      "5\n",
      "6\n",
      "7\n"
     ]
    }
   ],
   "source": [
    "for x in r:\n",
    "    print(x)"
   ]
  },
  {
   "cell_type": "code",
   "execution_count": 124,
   "id": "58f0990e",
   "metadata": {},
   "outputs": [
    {
     "data": {
      "text/plain": [
       "[3, 4, 5, 6, 7]"
      ]
     },
     "execution_count": 124,
     "metadata": {},
     "output_type": "execute_result"
    }
   ],
   "source": [
    "list(r)"
   ]
  },
  {
   "cell_type": "code",
   "execution_count": 123,
   "id": "b9004b21",
   "metadata": {},
   "outputs": [
    {
     "data": {
      "text/plain": [
       "5"
      ]
     },
     "execution_count": 123,
     "metadata": {},
     "output_type": "execute_result"
    }
   ],
   "source": [
    "len(r)"
   ]
  },
  {
   "cell_type": "code",
   "execution_count": 122,
   "id": "042c9689",
   "metadata": {},
   "outputs": [
    {
     "data": {
      "text/plain": [
       "range(6, 8)"
      ]
     },
     "execution_count": 122,
     "metadata": {},
     "output_type": "execute_result"
    }
   ],
   "source": [
    "r[-2:]"
   ]
  }
 ],
 "metadata": {
  "kernelspec": {
   "display_name": "Python 3 (ipykernel)",
   "language": "python",
   "name": "python3"
  },
  "language_info": {
   "codemirror_mode": {
    "name": "ipython",
    "version": 3
   },
   "file_extension": ".py",
   "mimetype": "text/x-python",
   "name": "python",
   "nbconvert_exporter": "python",
   "pygments_lexer": "ipython3",
   "version": "3.8.10"
  }
 },
 "nbformat": 4,
 "nbformat_minor": 5
}
