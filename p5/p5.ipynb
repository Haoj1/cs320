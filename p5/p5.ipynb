{
 "cells": [
  {
   "cell_type": "code",
   "execution_count": 1,
   "metadata": {},
   "outputs": [],
   "source": [
    "# project: p5\n",
    "# submitter: hbian8\n",
    "# partner: none\n",
    "# hours: 13"
   ]
  },
  {
   "cell_type": "code",
   "execution_count": 2,
   "metadata": {},
   "outputs": [],
   "source": [
    "%load_ext autoreload\n",
    "%autoreload 2"
   ]
  },
  {
   "cell_type": "code",
   "execution_count": 3,
   "metadata": {},
   "outputs": [],
   "source": [
    "import pandas as pd\n",
    "import zipfile\n",
    "import edgar_utils\n",
    "from edgar_utils import lookup_region\n",
    "import re"
   ]
  },
  {
   "cell_type": "code",
   "execution_count": 4,
   "metadata": {},
   "outputs": [],
   "source": [
    "zip_file = zipfile.ZipFile(\"server_log.zip\")\n",
    "df = pd.read_csv(zip_file.open('rows.csv'))"
   ]
  },
  {
   "cell_type": "code",
   "execution_count": 5,
   "metadata": {},
   "outputs": [
    {
     "data": {
      "text/plain": [
       "24801002666"
      ]
     },
     "execution_count": 5,
     "metadata": {},
     "output_type": "execute_result"
    }
   ],
   "source": [
    "#q1\n",
    "df_size = df['size']\n",
    "total = int(sum(df_size))\n",
    "total"
   ]
  },
  {
   "cell_type": "code",
   "execution_count": 6,
   "metadata": {},
   "outputs": [
    {
     "data": {
      "text/plain": [
       "{'54.152.17.ccg': 12562,\n",
       " '183.195.251.hah': 6524,\n",
       " '52.45.218.ihf': 5562,\n",
       " '68.180.231.abf': 5493,\n",
       " '204.212.175.bch': 4708,\n",
       " '103.238.106.gif': 4428,\n",
       " '208.77.215.jeh': 3903,\n",
       " '208.77.214.jeh': 3806,\n",
       " '217.174.255.dgd': 3551,\n",
       " '82.13.163.caf': 3527}"
      ]
     },
     "execution_count": 6,
     "metadata": {},
     "output_type": "execute_result"
    }
   ],
   "source": [
    "#q2\n",
    "IP_addr = {}\n",
    "for IP in df['ip']:\n",
    "    if IP not in IP_addr:\n",
    "        IP_addr[IP] = 1;\n",
    "    else:\n",
    "        IP_addr[IP] += 1\n",
    "ip_df = pd.Series(IP_addr)       \n",
    "ip_df = ip_df.sort_values(ascending=False)\n",
    "ip_df[0:10].to_dict()\n"
   ]
  },
  {
   "cell_type": "code",
   "execution_count": 7,
   "metadata": {},
   "outputs": [
    {
     "data": {
      "text/plain": [
       "0.03466852724527611"
      ]
     },
     "execution_count": 7,
     "metadata": {},
     "output_type": "execute_result"
    }
   ],
   "source": [
    "#q3\n",
    "counts = len([code for code in df['code'] if code > 400])\n",
    "total = len(df[\"code\"])\n",
    "fraction = counts/total\n",
    "fraction"
   ]
  },
  {
   "cell_type": "code",
   "execution_count": 8,
   "metadata": {},
   "outputs": [
    {
     "data": {
      "text/plain": [
       "'1627631/0001627631-15-000004/.txt'"
      ]
     },
     "execution_count": 8,
     "metadata": {},
     "output_type": "execute_result"
    }
   ],
   "source": [
    "#q4\n",
    "filename = ''\n",
    "files = {}\n",
    "for index in range(len(df)):\n",
    "    filename = str(int(df['cik'][index])) + '/' + str(df['accession'][index]) + '/' + str(df['extention'][index])\n",
    "    if filename not in files:\n",
    "        files[filename] = 1\n",
    "    else:\n",
    "        files[filename] += 1\n",
    "files_df = pd.Series(files)       \n",
    "files_df = files_df.sort_values(ascending=False)\n",
    "str(files_df[:1].index[0])\n"
   ]
  },
  {
   "cell_type": "code",
   "execution_count": 9,
   "metadata": {},
   "outputs": [
    {
     "data": {
      "text/plain": [
       "971"
      ]
     },
     "execution_count": 9,
     "metadata": {},
     "output_type": "execute_result"
    }
   ],
   "source": [
    "#q5\n",
    "count = len([crawler for crawler in df['crawler']  if crawler != 0.0])\n",
    "count"
   ]
  },
  {
   "cell_type": "code",
   "execution_count": 10,
   "metadata": {},
   "outputs": [
    {
     "data": {
      "text/plain": [
       "'United States of America'"
      ]
     },
     "execution_count": 10,
     "metadata": {},
     "output_type": "execute_result"
    }
   ],
   "source": [
    "#q6\n",
    "regions = {}\n",
    "for ip in df['ip']:\n",
    "    country = lookup_region(ip)\n",
    "    if country not in regions:\n",
    "        regions[country] = 1\n",
    "    else:\n",
    "        regions[country] += 1\n",
    "regions_df = pd.Series(regions)\n",
    "regions_df.sort_values(ascending=False)\n",
    "str(regions_df[:1].index[0])"
   ]
  },
  {
   "cell_type": "code",
   "execution_count": 11,
   "metadata": {},
   "outputs": [
    {
     "data": {
      "text/plain": [
       "{'United States of America': 0.019862490450725745,\n",
       " 'China': 0.006864988558352402,\n",
       " 'Hong Kong': 0.0,\n",
       " 'Ireland': 0.3125,\n",
       " 'Canada': 0.017857142857142856,\n",
       " 'United Kingdom of Great Britain and Northern Ireland': 0.06666666666666667,\n",
       " 'Czechia': 0.0,\n",
       " 'Germany': 0.0,\n",
       " 'Bulgaria': 0.3333333333333333,\n",
       " 'France': 0.0036900369003690036,\n",
       " 'India': 0.058823529411764705,\n",
       " 'Korea (Republic of)': 0.2,\n",
       " 'Australia': 0.07692307692307693,\n",
       " 'Spain': 0.0,\n",
       " 'Netherlands': 0.0,\n",
       " 'Sweden': 0.0,\n",
       " 'Sudan': 0.0,\n",
       " 'Estonia': 0.0,\n",
       " 'Russian Federation': 0.0,\n",
       " 'Tanzania, United Republic of': 0.0,\n",
       " 'Yemen': 0.0,\n",
       " 'Algeria': 0.0,\n",
       " 'Ukraine': 0.0,\n",
       " 'Slovakia': 0.0,\n",
       " 'Viet Nam': 0.0,\n",
       " 'Denmark': 0.0,\n",
       " 'Singapore': 0.0,\n",
       " 'Switzerland': 0.0,\n",
       " 'Thailand': 0.0,\n",
       " 'South Africa': 0.0,\n",
       " 'Italy': 0.0,\n",
       " 'Poland': 0.0,\n",
       " 'Taiwan (Province of China)': 0.0,\n",
       " 'Brazil': 0.0,\n",
       " 'Morocco': 0.0,\n",
       " 'Malaysia': 0.0,\n",
       " 'Hungary': 0.0,\n",
       " 'Japan': 0.0,\n",
       " 'Luxembourg': 0.0,\n",
       " 'Romania': 0.0,\n",
       " 'Liberia': 0.0,\n",
       " 'Israel': 0.0,\n",
       " 'Bangladesh': 0.0,\n",
       " 'Austria': 0.0,\n",
       " 'Indonesia': 0.0,\n",
       " 'Saudi Arabia': 0.0,\n",
       " 'Armenia': 0.0,\n",
       " 'Philippines': 0.0,\n",
       " 'Egypt': 0.0,\n",
       " 'Iraq': 0.0,\n",
       " 'North Macedonia': 0.0,\n",
       " 'Slovenia': 0.0,\n",
       " 'Finland': 0.0,\n",
       " '-': 0.0,\n",
       " 'Croatia': 0.0,\n",
       " 'Portugal': 0.0,\n",
       " 'Latvia': 0.0,\n",
       " 'Syrian Arab Republic': 0.0,\n",
       " 'Lebanon': 0.0,\n",
       " 'Mongolia': 0.0,\n",
       " 'Cyprus': 0.0,\n",
       " 'Virgin Islands (British)': 0.0,\n",
       " 'Pakistan': 0.0,\n",
       " 'Greece': 0.0,\n",
       " 'Honduras': 0.0,\n",
       " 'Turkey': 0.0,\n",
       " 'Nigeria': 0.0,\n",
       " 'Jordan': 0.0,\n",
       " 'Angola': 0.0,\n",
       " 'Mexico': 0.0,\n",
       " 'Jersey': 0.0,\n",
       " 'Venezuela (Bolivarian Republic of)': 0.0}"
      ]
     },
     "execution_count": 11,
     "metadata": {},
     "output_type": "execute_result"
    }
   ],
   "source": [
    "#q7\n",
    "region_ip = {}\n",
    "regions_high_volume = {}\n",
    "for ip in IP_addr:\n",
    "    region = lookup_region(ip)\n",
    "    if region not in region_ip:\n",
    "        region_ip[region] = 1\n",
    "    else:\n",
    "        region_ip[region] += 1\n",
    "    if region not in regions_high_volume:\n",
    "            regions_high_volume[region] = 0\n",
    "    if IP_addr[ip] > 1000:\n",
    "        regions_high_volume[region] += 1\n",
    "for region in regions_high_volume:\n",
    "    regions_high_volume[region] = regions_high_volume[region] / region_ip[region]\n",
    "regions_high_volume\n"
   ]
  },
  {
   "cell_type": "code",
   "execution_count": 12,
   "metadata": {},
   "outputs": [
    {
     "data": {
      "text/plain": [
       "['2007-07-25', '2007-07-25', '2007-07-23']"
      ]
     },
     "execution_count": 12,
     "metadata": {},
     "output_type": "execute_result"
    }
   ],
   "source": [
    "#q8\n",
    "filing_dict = {}\n",
    "with zipfile.ZipFile('docs.zip') as docs_zip:\n",
    "    for file in docs_zip.namelist():\n",
    "        if re.search(r'htm', file) or re.search(r'html', file):\n",
    "            html_file = docs_zip.read(file)\n",
    "            filing_dict[file] = edgar_utils.Filing(str(html_file))\n",
    "filing_dict['850693/0000850693-07-000159/-index.htm'].dates"
   ]
  },
  {
   "cell_type": "code",
   "execution_count": 13,
   "metadata": {},
   "outputs": [
    {
     "data": {
      "text/plain": [
       "{'CA': 91,\n",
       " 'NY': 83,\n",
       " 'TX': 64,\n",
       " 'MA': 30,\n",
       " 'PA': 25,\n",
       " 'IL': 25,\n",
       " 'CO': 25,\n",
       " 'NJ': 23,\n",
       " 'FL': 21,\n",
       " 'MN': 15,\n",
       " 'VA': 15,\n",
       " 'CT': 14,\n",
       " 'MD': 13,\n",
       " 'MI': 11,\n",
       " 'OH': 10,\n",
       " 'DE': 10,\n",
       " 'WI': 9,\n",
       " 'NC': 9,\n",
       " 'GA': 8,\n",
       " 'OK': 7,\n",
       " 'NV': 6,\n",
       " 'IA': 6,\n",
       " 'OX': 6,\n",
       " 'AZ': 5,\n",
       " 'KS': 5,\n",
       " 'UT': 5,\n",
       " 'TN': 4,\n",
       " 'MO': 4,\n",
       " 'IN': 4,\n",
       " 'WA': 3,\n",
       " 'WV': 2,\n",
       " 'OR': 2,\n",
       " 'LA': 2,\n",
       " 'NE': 2,\n",
       " 'KY': 2,\n",
       " 'AL': 1,\n",
       " 'SD': 1,\n",
       " 'MS': 1,\n",
       " 'VT': 1,\n",
       " 'ID': 1,\n",
       " 'AR': 1,\n",
       " 'NM': 1,\n",
       " 'DC': 1,\n",
       " 'ME': 1}"
      ]
     },
     "execution_count": 13,
     "metadata": {},
     "output_type": "execute_result"
    }
   ],
   "source": [
    "#q9\n",
    "states = {}\n",
    "for filing in filing_dict:\n",
    "    state = filing_dict[filing].state()\n",
    "    if state != None:\n",
    "        if state not in states:\n",
    "            states[state] = 1\n",
    "        else:\n",
    "            states[state] += 1\n",
    "states_df = pd.Series(states)\n",
    "states_df = states_df.sort_values(ascending=False)\n",
    "states_df.to_dict()"
   ]
  },
  {
   "cell_type": "code",
   "execution_count": 14,
   "metadata": {},
   "outputs": [
    {
     "data": {
      "text/plain": [
       "{2834: 40,\n",
       " 6022: 20,\n",
       " 1311: 20,\n",
       " 6189: 17,\n",
       " 6211: 17,\n",
       " 8731: 2,\n",
       " 1389: 19,\n",
       " 7370: 7,\n",
       " 3571: 1,\n",
       " 7361: 1,\n",
       " 3674: 5,\n",
       " 4931: 5,\n",
       " 1040: 2,\n",
       " 2810: 2,\n",
       " 7389: 11,\n",
       " 3140: 1,\n",
       " 7374: 4,\n",
       " 6200: 1,\n",
       " 7381: 1,\n",
       " 3620: 3,\n",
       " 3841: 6,\n",
       " 4941: 1,\n",
       " 5621: 1,\n",
       " 7330: 1,\n",
       " 6199: 8,\n",
       " 6798: 20,\n",
       " 2510: 4,\n",
       " 3990: 2,\n",
       " 1700: 5,\n",
       " 7371: 6,\n",
       " 5940: 2,\n",
       " 4522: 5,\n",
       " 1731: 2,\n",
       " 6311: 2,\n",
       " 8082: 2,\n",
       " 2836: 13,\n",
       " 6021: 20,\n",
       " 1000: 11,\n",
       " 4911: 8,\n",
       " 6324: 2,\n",
       " 8051: 1,\n",
       " 6035: 4,\n",
       " 3550: 1,\n",
       " 4813: 4,\n",
       " 6321: 2,\n",
       " 2890: 1,\n",
       " 3845: 2,\n",
       " 2860: 8,\n",
       " 1221: 2,\n",
       " 3669: 2,\n",
       " 6411: 1,\n",
       " 5900: 2,\n",
       " 2320: 1,\n",
       " 6221: 3,\n",
       " 6331: 10,\n",
       " 2070: 1,\n",
       " 8742: 5,\n",
       " 3829: 3,\n",
       " 900: 5,\n",
       " 5500: 2,\n",
       " 7372: 11,\n",
       " 6770: 1,\n",
       " 4841: 2,\n",
       " 4833: 1,\n",
       " 7384: 1,\n",
       " 6799: 3,\n",
       " 3826: 5,\n",
       " 8711: 2,\n",
       " 5160: 1,\n",
       " 5944: 1,\n",
       " 3420: 3,\n",
       " 3510: 3,\n",
       " 5960: 1,\n",
       " 3842: 4,\n",
       " 8062: 3,\n",
       " 6029: 11,\n",
       " 7320: 1,\n",
       " 5172: 2,\n",
       " 1382: 2,\n",
       " 3663: 4,\n",
       " 1400: 3,\n",
       " 7822: 1,\n",
       " 2024: 1,\n",
       " 2080: 1,\n",
       " 7812: 2,\n",
       " 4922: 2,\n",
       " 2030: 1,\n",
       " 3576: 3,\n",
       " 2711: 1,\n",
       " 3578: 1,\n",
       " 3679: 2,\n",
       " 2842: 1,\n",
       " 4899: 1,\n",
       " 100: 1,\n",
       " 3541: 1,\n",
       " 7311: 1,\n",
       " 3317: 1,\n",
       " 2033: 1,\n",
       " 3721: 1,\n",
       " 3621: 2,\n",
       " 3730: 1,\n",
       " 5122: 2,\n",
       " 3585: 1,\n",
       " 3944: 1,\n",
       " 5812: 4,\n",
       " 3661: 2,\n",
       " 3577: 2,\n",
       " 3711: 1,\n",
       " 2800: 3,\n",
       " 3490: 1,\n",
       " 4924: 1,\n",
       " 3537: 1,\n",
       " 8093: 1,\n",
       " 6141: 2,\n",
       " 4412: 1,\n",
       " 3272: 2,\n",
       " 2911: 1,\n",
       " 7200: 3,\n",
       " 3695: 2,\n",
       " 6282: 8,\n",
       " 6513: 1,\n",
       " 6099: 1,\n",
       " 7373: 3,\n",
       " 3559: 2,\n",
       " 7350: 1,\n",
       " 3690: 2,\n",
       " 3714: 1,\n",
       " 7363: 1,\n",
       " 2111: 2,\n",
       " 3825: 2,\n",
       " 8200: 1,\n",
       " 5990: 1,\n",
       " 3630: 1,\n",
       " 1531: 2,\n",
       " 1381: 1,\n",
       " 5961: 1,\n",
       " 2870: 2,\n",
       " 5030: 1,\n",
       " 5731: 1,\n",
       " 2780: 1,\n",
       " 2820: 1,\n",
       " 2670: 1,\n",
       " 3312: 1,\n",
       " 3590: 1,\n",
       " 4812: 2,\n",
       " 5065: 2,\n",
       " 6036: 1,\n",
       " 7900: 2,\n",
       " 5661: 2,\n",
       " 2790: 1,\n",
       " 7340: 1,\n",
       " 5651: 1,\n",
       " 3442: 1,\n",
       " 6500: 1,\n",
       " 4512: 2,\n",
       " 7841: 1,\n",
       " 8090: 1,\n",
       " 4955: 1,\n",
       " 5311: 1,\n",
       " 2750: 1,\n",
       " 7830: 2,\n",
       " 4213: 1,\n",
       " 3672: 1,\n",
       " 5531: 1,\n",
       " 2430: 1,\n",
       " 6111: 1,\n",
       " 5945: 1,\n",
       " 3678: 1,\n",
       " 6792: 1,\n",
       " 3827: 1,\n",
       " 3443: 1,\n",
       " 7990: 1,\n",
       " 2273: 1,\n",
       " 1623: 1}"
      ]
     },
     "execution_count": 14,
     "metadata": {},
     "output_type": "execute_result"
    }
   ],
   "source": [
    "#q10\n",
    "sics = {}\n",
    "for filing in filing_dict:\n",
    "    sic = filing_dict[filing].sic\n",
    "    if sic != None:\n",
    "        if sic not in sics:\n",
    "            sics[sic] = 1\n",
    "        else:\n",
    "            sics[sic] += 1\n",
    "sics"
   ]
  },
  {
   "cell_type": "code",
   "execution_count": 15,
   "metadata": {},
   "outputs": [
    {
     "data": {
      "text/plain": [
       "{2834: 984,\n",
       " 1389: 656,\n",
       " 1311: 550,\n",
       " 2836: 429,\n",
       " 6022: 379,\n",
       " 1000: 273,\n",
       " 6211: 237,\n",
       " 7371: 229,\n",
       " 2860: 226,\n",
       " 6021: 204,\n",
       " 2510: 171,\n",
       " 6282: 171,\n",
       " 3825: 164,\n",
       " 4841: 108,\n",
       " 5621: 99,\n",
       " 7200: 94,\n",
       " 7374: 94,\n",
       " 6331: 91,\n",
       " 5311: 90,\n",
       " 6798: 90,\n",
       " 3842: 87,\n",
       " 6221: 85,\n",
       " 6029: 83,\n",
       " 3272: 81,\n",
       " 3829: 73,\n",
       " 4931: 70,\n",
       " 3510: 66,\n",
       " 7830: 62,\n",
       " 3826: 56,\n",
       " 3695: 55,\n",
       " 3620: 50,\n",
       " 7373: 48,\n",
       " 6799: 46,\n",
       " 4412: 43,\n",
       " 4512: 42,\n",
       " 7340: 40,\n",
       " 900: 39,\n",
       " 7370: 39,\n",
       " 3621: 38,\n",
       " 6513: 38,\n",
       " 5172: 36,\n",
       " 4213: 35,\n",
       " 5900: 35,\n",
       " 3990: 34,\n",
       " 5122: 34,\n",
       " 2070: 33,\n",
       " 5944: 33,\n",
       " 8090: 32,\n",
       " 1700: 31,\n",
       " 4922: 31,\n",
       " 3312: 31,\n",
       " 1381: 31,\n",
       " 6324: 30,\n",
       " 8742: 27,\n",
       " 7389: 26,\n",
       " 8731: 25,\n",
       " 7812: 25,\n",
       " 3590: 24,\n",
       " 3663: 23,\n",
       " 4955: 23,\n",
       " 4522: 22,\n",
       " 6321: 21,\n",
       " 3559: 20,\n",
       " 6792: 19,\n",
       " 5812: 19,\n",
       " 6189: 18,\n",
       " 7372: 16,\n",
       " 3841: 14,\n",
       " 6199: 11,\n",
       " 1731: 11,\n",
       " 4911: 8,\n",
       " 6035: 7,\n",
       " 4833: 7,\n",
       " 2430: 6,\n",
       " 3571: 6,\n",
       " 3674: 5,\n",
       " 3679: 5,\n",
       " 4813: 4,\n",
       " 4812: 4,\n",
       " 3678: 4,\n",
       " 5500: 4,\n",
       " 1531: 4,\n",
       " 6411: 3,\n",
       " 3576: 3,\n",
       " 8062: 3,\n",
       " 2800: 3,\n",
       " 3420: 3,\n",
       " 1400: 3,\n",
       " 2111: 2,\n",
       " 7900: 2,\n",
       " 5661: 2,\n",
       " 6141: 2,\n",
       " 5940: 2,\n",
       " 1221: 2,\n",
       " 8082: 2,\n",
       " 3661: 2,\n",
       " 1040: 2,\n",
       " 6770: 2,\n",
       " 3690: 2,\n",
       " 5065: 2,\n",
       " 3577: 2,\n",
       " 2870: 2,\n",
       " 8711: 2,\n",
       " 3669: 2,\n",
       " 1382: 2,\n",
       " 2810: 2,\n",
       " 2890: 2,\n",
       " 3845: 2,\n",
       " 6311: 2,\n",
       " 6111: 1,\n",
       " 2780: 1,\n",
       " 2033: 1,\n",
       " 2790: 1,\n",
       " 5030: 1,\n",
       " 3537: 1,\n",
       " 3630: 1,\n",
       " 2024: 1,\n",
       " 7381: 1,\n",
       " 100: 1,\n",
       " 3443: 1,\n",
       " 7363: 1,\n",
       " 5160: 1,\n",
       " 3730: 1,\n",
       " 6200: 1,\n",
       " 3585: 1,\n",
       " 1623: 1,\n",
       " 3550: 1,\n",
       " 4924: 1,\n",
       " 6036: 1,\n",
       " 3711: 1,\n",
       " 4899: 1,\n",
       " 2273: 1,\n",
       " 3827: 1,\n",
       " 2820: 1,\n",
       " 7384: 1,\n",
       " 6099: 1,\n",
       " 7320: 1,\n",
       " 2842: 1,\n",
       " 2750: 1,\n",
       " 7311: 1,\n",
       " 5990: 1,\n",
       " 8093: 1,\n",
       " 3578: 1,\n",
       " 3714: 1,\n",
       " 2030: 1,\n",
       " 5531: 1,\n",
       " 5731: 1,\n",
       " 3721: 1,\n",
       " 2670: 1,\n",
       " 2911: 1,\n",
       " 7990: 1,\n",
       " 7350: 1,\n",
       " 2711: 1,\n",
       " 3541: 1,\n",
       " 2080: 1,\n",
       " 8200: 1,\n",
       " 2320: 1,\n",
       " 5651: 1,\n",
       " 3672: 1,\n",
       " 5945: 1,\n",
       " 6500: 1,\n",
       " 7361: 1,\n",
       " 4941: 1,\n",
       " 7330: 1,\n",
       " 3442: 1,\n",
       " 3490: 1,\n",
       " 5961: 1,\n",
       " 7841: 1,\n",
       " 3140: 1,\n",
       " 7822: 1,\n",
       " 5960: 1,\n",
       " 3944: 1,\n",
       " 8051: 1,\n",
       " 3317: 1}"
      ]
     },
     "execution_count": 15,
     "metadata": {},
     "output_type": "execute_result"
    }
   ],
   "source": [
    "#q11\n",
    "sics_num = {}\n",
    "for index in range(len(df)):\n",
    "    filename = str(int(df['cik'][index])) + '/' + str(df['accession'][index]) + '/' + str(df['extention'][index])\n",
    "    if filename in filing_dict:\n",
    "        sic = filing_dict[filename].sic\n",
    "        if sic != None:\n",
    "            if sic not in sics_num:\n",
    "                sics_num[sic] = 1\n",
    "            else:\n",
    "                sics_num[sic] += 1\n",
    "sics_num_df = pd.Series(sics_num)\n",
    "sics_num_df = sics_num_df.sort_values(ascending=False)\n",
    "sics_num_df.to_dict()"
   ]
  },
  {
   "cell_type": "code",
   "execution_count": 16,
   "metadata": {},
   "outputs": [
    {
     "data": {
      "text/plain": [
       "{0: 8305,\n",
       " 1: 8242,\n",
       " 2: 8550,\n",
       " 3: 8850,\n",
       " 4: 8343,\n",
       " 5: 9783,\n",
       " 6: 7761,\n",
       " 7: 8213,\n",
       " 8: 8292,\n",
       " 9: 11033,\n",
       " 10: 6377,\n",
       " 11: 6435,\n",
       " 12: 6155,\n",
       " 13: 6006,\n",
       " 14: 6654,\n",
       " 15: 6512,\n",
       " 16: 5680,\n",
       " 17: 6487,\n",
       " 18: 6356,\n",
       " 19: 6211,\n",
       " 20: 6066,\n",
       " 21: 6164,\n",
       " 22: 6098,\n",
       " 23: 6283}"
      ]
     },
     "execution_count": 16,
     "metadata": {},
     "output_type": "execute_result"
    }
   ],
   "source": [
    "#q12\n",
    "hours = {}\n",
    "time_df = df['time']\n",
    "date = pd.to_datetime(time_df)\n",
    "for hour in date.dt.hour:\n",
    "    if hour not in hours:\n",
    "        hours[hour] = 1\n",
    "    else:\n",
    "        hours[hour] += 1\n",
    "hours\n"
   ]
  },
  {
   "cell_type": "code",
   "execution_count": 17,
   "metadata": {},
   "outputs": [
    {
     "data": {
      "image/svg+xml": "<?xml version=\"1.0\" encoding=\"UTF-8\" standalone=\"no\"?>\n<!DOCTYPE svg PUBLIC \"-//W3C//DTD SVG 1.1//EN\"\n \"http://www.w3.org/Graphics/SVG/1.1/DTD/svg11.dtd\">\n<!-- Generated by graphviz version 2.43.0 (0)\n -->\n<!-- Title: %3 Pages: 1 -->\n<svg width=\"358pt\" height=\"116pt\"\n viewBox=\"0.00 0.00 357.59 116.00\" xmlns=\"http://www.w3.org/2000/svg\" xmlns:xlink=\"http://www.w3.org/1999/xlink\">\n<g id=\"graph0\" class=\"graph\" transform=\"scale(1 1) rotate(0) translate(4 112)\">\n<title>%3</title>\n<polygon fill=\"white\" stroke=\"transparent\" points=\"-4,4 -4,-112 353.59,-112 353.59,4 -4,4\"/>\n<!-- Australia -->\n<g id=\"node1\" class=\"node\">\n<title>Australia</title>\n<ellipse fill=\"none\" stroke=\"black\" cx=\"52.65\" cy=\"-90\" rx=\"52.79\" ry=\"18\"/>\n<text text-anchor=\"middle\" x=\"52.65\" y=\"-86.3\" font-family=\"Times,serif\" font-size=\"14.00\">Australia</text>\n</g>\n<!-- NY -->\n<g id=\"node4\" class=\"node\">\n<title>NY</title>\n<ellipse fill=\"none\" stroke=\"black\" cx=\"52.65\" cy=\"-18\" rx=\"27\" ry=\"18\"/>\n<text text-anchor=\"middle\" x=\"52.65\" y=\"-14.3\" font-family=\"Times,serif\" font-size=\"14.00\">NY</text>\n</g>\n<!-- Australia&#45;&gt;NY -->\n<g id=\"edge1\" class=\"edge\">\n<title>Australia&#45;&gt;NY</title>\n<path fill=\"none\" stroke=\"black\" d=\"M52.65,-71.7C52.65,-63.98 52.65,-54.71 52.65,-46.11\"/>\n<polygon fill=\"black\" stroke=\"black\" points=\"56.15,-46.1 52.65,-36.1 49.15,-46.1 56.15,-46.1\"/>\n</g>\n<!-- France -->\n<g id=\"node2\" class=\"node\">\n<title>France</title>\n<ellipse fill=\"none\" stroke=\"black\" cx=\"166.65\" cy=\"-90\" rx=\"42.79\" ry=\"18\"/>\n<text text-anchor=\"middle\" x=\"166.65\" y=\"-86.3\" font-family=\"Times,serif\" font-size=\"14.00\">France</text>\n</g>\n<!-- NJ -->\n<g id=\"node5\" class=\"node\">\n<title>NJ</title>\n<ellipse fill=\"none\" stroke=\"black\" cx=\"158.65\" cy=\"-18\" rx=\"27\" ry=\"18\"/>\n<text text-anchor=\"middle\" x=\"158.65\" y=\"-14.3\" font-family=\"Times,serif\" font-size=\"14.00\">NJ</text>\n</g>\n<!-- France&#45;&gt;NJ -->\n<g id=\"edge2\" class=\"edge\">\n<title>France&#45;&gt;NJ</title>\n<path fill=\"none\" stroke=\"black\" d=\"M164.67,-71.7C163.79,-63.98 162.73,-54.71 161.74,-46.11\"/>\n<polygon fill=\"black\" stroke=\"black\" points=\"165.21,-45.64 160.6,-36.1 158.26,-46.44 165.21,-45.64\"/>\n</g>\n<!-- CA -->\n<g id=\"node6\" class=\"node\">\n<title>CA</title>\n<ellipse fill=\"none\" stroke=\"black\" cx=\"230.65\" cy=\"-18\" rx=\"27\" ry=\"18\"/>\n<text text-anchor=\"middle\" x=\"230.65\" y=\"-14.3\" font-family=\"Times,serif\" font-size=\"14.00\">CA</text>\n</g>\n<!-- France&#45;&gt;CA -->\n<g id=\"edge3\" class=\"edge\">\n<title>France&#45;&gt;CA</title>\n<path fill=\"none\" stroke=\"black\" d=\"M181.49,-72.76C190.08,-63.37 201.02,-51.41 210.39,-41.15\"/>\n<polygon fill=\"black\" stroke=\"black\" points=\"213.03,-43.46 217.19,-33.72 207.86,-38.74 213.03,-43.46\"/>\n</g>\n<!-- Viet Nam -->\n<g id=\"node3\" class=\"node\">\n<title>Viet Nam</title>\n<ellipse fill=\"none\" stroke=\"black\" cx=\"295.65\" cy=\"-90\" rx=\"53.89\" ry=\"18\"/>\n<text text-anchor=\"middle\" x=\"295.65\" y=\"-86.3\" font-family=\"Times,serif\" font-size=\"14.00\">Viet Nam</text>\n</g>\n<!-- Viet Nam&#45;&gt;CA -->\n<g id=\"edge4\" class=\"edge\">\n<title>Viet Nam&#45;&gt;CA</title>\n<path fill=\"none\" stroke=\"black\" d=\"M280.24,-72.41C271.71,-63.22 260.98,-51.67 251.69,-41.66\"/>\n<polygon fill=\"black\" stroke=\"black\" points=\"253.98,-38.98 244.61,-34.04 248.85,-43.75 253.98,-38.98\"/>\n</g>\n<!-- VA -->\n<g id=\"node7\" class=\"node\">\n<title>VA</title>\n<ellipse fill=\"none\" stroke=\"black\" cx=\"302.65\" cy=\"-18\" rx=\"27\" ry=\"18\"/>\n<text text-anchor=\"middle\" x=\"302.65\" y=\"-14.3\" font-family=\"Times,serif\" font-size=\"14.00\">VA</text>\n</g>\n<!-- Viet Nam&#45;&gt;VA -->\n<g id=\"edge5\" class=\"edge\">\n<title>Viet Nam&#45;&gt;VA</title>\n<path fill=\"none\" stroke=\"black\" d=\"M297.38,-71.7C298.15,-63.98 299.07,-54.71 299.93,-46.11\"/>\n<polygon fill=\"black\" stroke=\"black\" points=\"303.42,-46.4 300.93,-36.1 296.46,-45.71 303.42,-46.4\"/>\n</g>\n</g>\n</svg>\n",
      "text/plain": [
       "<graphviz.graphs.Digraph at 0x7f740a6a72e0>"
      ]
     },
     "execution_count": 17,
     "metadata": {},
     "output_type": "execute_result"
    }
   ],
   "source": [
    "#q13\n",
    "from graphviz import Graph, Digraph\n",
    "digraph = Digraph()\n",
    "digraph.node('Australia')\n",
    "digraph.node('France')\n",
    "digraph.node('Viet Nam')\n",
    "Australia = []\n",
    "France = []\n",
    "Viet_Nam = []\n",
    "for index in range(len(df)):\n",
    "    ip = df['ip'][index]\n",
    "    region = lookup_region(ip)\n",
    "    if region == 'Australia':\n",
    "        filename = str(int(df['cik'][index])) + '/' + str(df['accession'][index]) + '/' + str(df['extention'][index])\n",
    "        if filename in filing_dict:\n",
    "            Australia.append(filing_dict[filename].state())\n",
    "    elif region == 'France':\n",
    "        filename = str(int(df['cik'][index])) + '/' + str(df['accession'][index]) + '/' + str(df['extention'][index])\n",
    "        if filename in filing_dict:\n",
    "            France.append(filing_dict[filename].state())\n",
    "    elif region == 'Viet Nam':\n",
    "    # filename = str(int(df['cik'][index])) + '/' + str(df['accession'][index]) + '/' + str(df['extention'][index])\n",
    "        filename = str(int(df['cik'][index])) + '/' + str(df['accession'][index]) + '/' + str(df['extention'][index])\n",
    "        if filename in filing_dict:\n",
    "            Viet_Nam.append(filing_dict[filename].state())\n",
    "state_visited = {'Australia': [], 'France':[], 'Viet Nam': []}\n",
    "for state in Australia:\n",
    "    if state not in state_visited['Australia']:\n",
    "        digraph.node(state)\n",
    "        digraph.edge('Australia', state)\n",
    "        state_visited['Australia'].append(state)\n",
    "for state in France:\n",
    "    if state not in state_visited['France']:\n",
    "        digraph.node(state)\n",
    "        digraph.edge('France', state)\n",
    "        state_visited['France'].append(state)\n",
    "for state in Viet_Nam:\n",
    "    if state not in state_visited['Viet Nam']:\n",
    "        digraph.node(state)\n",
    "        digraph.edge('Viet Nam', state)\n",
    "        state_visited['Viet Nam'].append(state)\n",
    "digraph\n",
    "\n"
   ]
  },
  {
   "cell_type": "code",
   "execution_count": 18,
   "metadata": {},
   "outputs": [
    {
     "data": {
      "text/plain": [
       "{'801 CHERRY STREET\\nSUITE 2100\\nFORT WORTH TX 76102': 720,\n",
       " '801 CHERRY STREET\\nSUITE 2100\\nFORT WORTH TX 76102\\n817-334-4100': 464,\n",
       " '1114 AVENUE OF THE AMERICAS\\n29TH FLOOR\\nNEW YORK NY 10036': 356,\n",
       " '1 SANSOME ST\\n30TH FL\\nSAN FRANCISCO CA 94104': 305,\n",
       " '10119 W. LARIAT LANE\\nPEORIA AZ 85383': 289,\n",
       " '10119 W. LARIAT LANE\\nPEORIA AZ 85383\\n425-442-0931': 289,\n",
       " '1881 GROVE AVENUE\\nRADFORD VA 24141': 277,\n",
       " '1 SANSOME ST\\n30TH FL\\nSAN FRANCISCO CA 94104\\n3125066500': 264,\n",
       " '1251 AVENUE OF THE AMERICAS\\nNEW YORK NY 10020': 225,\n",
       " '1251 AVENUE OF THE AMERICAS\\nNEW YORK NY 10020\\n212-956-2221': 225,\n",
       " '1177 WEST HASTINGS STREET\\nSUITE 2300\\nVANCOUVER A1 V6E 2K3': 225,\n",
       " '1177 WEST HASTINGS STREET\\nSUITE 2300\\nVANCOUVER A1 V6E 2K3\\n604-683-6332': 225}"
      ]
     },
     "execution_count": 18,
     "metadata": {},
     "output_type": "execute_result"
    }
   ],
   "source": [
    "#q14\n",
    "addresses = {}\n",
    "addr_dict = {}\n",
    "filenames = []\n",
    "for index in range(len(df)):\n",
    "    filename = str(int(df['cik'][index])) + '/' + str(df['accession'][index]) + '/' + str(df['extention'][index])\n",
    "    if filename in filing_dict:\n",
    "        filenames.append(filename)\n",
    "for filename in filenames:\n",
    "    addr_list  = filing_dict[filename].addresses\n",
    "    for addr in addr_list:\n",
    "        addr = addr.replace('\\\\n', '')\n",
    "        if addr not in addresses:\n",
    "            addresses[addr] = 1\n",
    "        else:\n",
    "            addresses[addr] += 1\n",
    "for addr in addresses:\n",
    "    if addresses[addr] >= 225:\n",
    "        addr_dict[addr] = addresses[addr]\n",
    "addr_df = pd.Series(addr_dict)  \n",
    "addr_df = addr_df.sort_values(ascending=False)\n",
    "addr_df.to_dict()\n"
   ]
  },
  {
   "cell_type": "code",
   "execution_count": 19,
   "metadata": {},
   "outputs": [
    {
     "data": {
      "text/plain": [
       "<AxesSubplot:>"
      ]
     },
     "execution_count": 19,
     "metadata": {},
     "output_type": "execute_result"
    },
    {
     "data": {
      "image/png": "[encoded data removed]",
      "text/plain": [
       "<Figure size 864x432 with 2 Axes>"
      ]
     },
     "metadata": {
      "needs_background": "light"
     },
     "output_type": "display_data"
    }
   ],
   "source": [
    "#q15\n",
    "%matplotlib inline\n",
    "import geopandas\n",
    "import matplotlib.pyplot as plt\n",
    "from shapely.geometry import box\n",
    "df = geopandas.read_file('shapes/cb_2018_us_state_20m.shp')\n",
    "window = box(-130, 20, -55, 50)\n",
    "usa = df.intersection(window)\n",
    "\n",
    "figure, ax = plt.subplots(figsize=(12,6))\n",
    "\n",
    "addrs_dict = addr_df.to_dict()\n",
    "locations = geopandas.read_file('locations.geojson')\n",
    "locations = locations[locations.intersects(window)]\n",
    "usa = usa.to_crs(\"epsg:3395\")\n",
    "locations = locations.to_crs(usa.crs)\n",
    "# window = window.to_crs(usa.crs)\n",
    "usa.plot(ax=ax, color = 'lightgray')\n",
    "# locations.plot(ax=ax)\n",
    "# print(locations.iloc(1))\n",
    "location_dict = locations.to_dict()\n",
    "count = 0\n",
    "addresses_dict = {'address': [], 'geometry': [], 'clk': []}\n",
    "for addr in location_dict['address']:\n",
    "    if location_dict['address'][addr] in addresses:\n",
    "        #     count += 1\n",
    "        addresses_dict['address'].append(location_dict['address'][addr])\n",
    "        addresses_dict['geometry'].append(location_dict['geometry'][addr])\n",
    "        addresses_dict['clk'].append(addresses[location_dict['address'][addr]])\n",
    "addresses_df = geopandas.GeoDataFrame(addresses_dict, crs = usa.crs)\n",
    "# addresses_df = addresses_df.to_crs(usa.crs)\n",
    "addresses_df.plot(ax = ax, column = 'clk', cmap = \"plasma\", legend=True)\n",
    "        "
   ]
  }
 ],
 "metadata": {
  "interpreter": {
   "hash": "31f2aee4e71d21fbe5cf8b01ff0e069b9275f58929596ceb00d14d90e3e16cd6"
  },
  "kernelspec": {
   "display_name": "Python 3.8.10 64-bit",
   "language": "python",
   "name": "python3"
  },
  "language_info": {
   "codemirror_mode": {
    "name": "ipython",
    "version": 3
   },
   "file_extension": ".py",
   "mimetype": "text/x-python",
   "name": "python",
   "nbconvert_exporter": "python",
   "pygments_lexer": "ipython3",
   "version": "3.8.10"
  },
  "orig_nbformat": 4
 },
 "nbformat": 4,
 "nbformat_minor": 2
}
